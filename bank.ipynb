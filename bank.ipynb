{
  "cells": [
    {
      "cell_type": "markdown",
      "metadata": {
        "id": "view-in-github",
        "colab_type": "text"
      },
      "source": [
        "<a href=\"https://colab.research.google.com/github/Konstantin-Solomin/Yandex-Practicum-Data-Science/blob/main/bank.ipynb\" target=\"_parent\"><img src=\"https://colab.research.google.com/assets/colab-badge.svg\" alt=\"Open In Colab\"/></a>"
      ]
    },
    {
      "cell_type": "markdown",
      "id": "3491f9f8",
      "metadata": {
        "deletable": false,
        "editable": false,
        "id": "3491f9f8"
      },
      "source": [
        "# Исследование надежности заемщиков\n"
      ]
    },
    {
      "cell_type": "code",
      "execution_count": null,
      "id": "28ffe82e",
      "metadata": {
        "deletable": false,
        "id": "28ffe82e"
      },
      "outputs": [],
      "source": [
        "import pandas as pd\n",
        "\n",
        "try:\n",
        "    data = pd.read_csv('/datasets/data.csv')\n",
        "except:\n",
        "    data = pd.read_csv('https://code.s3.yandex.net/datasets/data.csv')"
      ]
    },
    {
      "cell_type": "code",
      "execution_count": null,
      "id": "eb9ffa2d",
      "metadata": {
        "deletable": false,
        "id": "eb9ffa2d",
        "outputId": "1a8f3ef2-d323-4ec2-ddf7-89670b5944c4"
      },
      "outputs": [
        {
          "data": {
            "text/html": [
              "<div>\n",
              "<style scoped>\n",
              "    .dataframe tbody tr th:only-of-type {\n",
              "        vertical-align: middle;\n",
              "    }\n",
              "\n",
              "    .dataframe tbody tr th {\n",
              "        vertical-align: top;\n",
              "    }\n",
              "\n",
              "    .dataframe thead th {\n",
              "        text-align: right;\n",
              "    }\n",
              "</style>\n",
              "<table border=\"1\" class=\"dataframe\">\n",
              "  <thead>\n",
              "    <tr style=\"text-align: right;\">\n",
              "      <th></th>\n",
              "      <th>children</th>\n",
              "      <th>days_employed</th>\n",
              "      <th>dob_years</th>\n",
              "      <th>education</th>\n",
              "      <th>education_id</th>\n",
              "      <th>family_status</th>\n",
              "      <th>family_status_id</th>\n",
              "      <th>gender</th>\n",
              "      <th>income_type</th>\n",
              "      <th>debt</th>\n",
              "      <th>total_income</th>\n",
              "      <th>purpose</th>\n",
              "    </tr>\n",
              "  </thead>\n",
              "  <tbody>\n",
              "    <tr>\n",
              "      <th>0</th>\n",
              "      <td>1</td>\n",
              "      <td>-8437.673028</td>\n",
              "      <td>42</td>\n",
              "      <td>высшее</td>\n",
              "      <td>0</td>\n",
              "      <td>женат / замужем</td>\n",
              "      <td>0</td>\n",
              "      <td>F</td>\n",
              "      <td>сотрудник</td>\n",
              "      <td>0</td>\n",
              "      <td>253875.639453</td>\n",
              "      <td>покупка жилья</td>\n",
              "    </tr>\n",
              "    <tr>\n",
              "      <th>1</th>\n",
              "      <td>1</td>\n",
              "      <td>-4024.803754</td>\n",
              "      <td>36</td>\n",
              "      <td>среднее</td>\n",
              "      <td>1</td>\n",
              "      <td>женат / замужем</td>\n",
              "      <td>0</td>\n",
              "      <td>F</td>\n",
              "      <td>сотрудник</td>\n",
              "      <td>0</td>\n",
              "      <td>112080.014102</td>\n",
              "      <td>приобретение автомобиля</td>\n",
              "    </tr>\n",
              "    <tr>\n",
              "      <th>2</th>\n",
              "      <td>0</td>\n",
              "      <td>-5623.422610</td>\n",
              "      <td>33</td>\n",
              "      <td>Среднее</td>\n",
              "      <td>1</td>\n",
              "      <td>женат / замужем</td>\n",
              "      <td>0</td>\n",
              "      <td>M</td>\n",
              "      <td>сотрудник</td>\n",
              "      <td>0</td>\n",
              "      <td>145885.952297</td>\n",
              "      <td>покупка жилья</td>\n",
              "    </tr>\n",
              "    <tr>\n",
              "      <th>3</th>\n",
              "      <td>3</td>\n",
              "      <td>-4124.747207</td>\n",
              "      <td>32</td>\n",
              "      <td>среднее</td>\n",
              "      <td>1</td>\n",
              "      <td>женат / замужем</td>\n",
              "      <td>0</td>\n",
              "      <td>M</td>\n",
              "      <td>сотрудник</td>\n",
              "      <td>0</td>\n",
              "      <td>267628.550329</td>\n",
              "      <td>дополнительное образование</td>\n",
              "    </tr>\n",
              "    <tr>\n",
              "      <th>4</th>\n",
              "      <td>0</td>\n",
              "      <td>340266.072047</td>\n",
              "      <td>53</td>\n",
              "      <td>среднее</td>\n",
              "      <td>1</td>\n",
              "      <td>гражданский брак</td>\n",
              "      <td>1</td>\n",
              "      <td>F</td>\n",
              "      <td>пенсионер</td>\n",
              "      <td>0</td>\n",
              "      <td>158616.077870</td>\n",
              "      <td>сыграть свадьбу</td>\n",
              "    </tr>\n",
              "    <tr>\n",
              "      <th>5</th>\n",
              "      <td>0</td>\n",
              "      <td>-926.185831</td>\n",
              "      <td>27</td>\n",
              "      <td>высшее</td>\n",
              "      <td>0</td>\n",
              "      <td>гражданский брак</td>\n",
              "      <td>1</td>\n",
              "      <td>M</td>\n",
              "      <td>компаньон</td>\n",
              "      <td>0</td>\n",
              "      <td>255763.565419</td>\n",
              "      <td>покупка жилья</td>\n",
              "    </tr>\n",
              "    <tr>\n",
              "      <th>6</th>\n",
              "      <td>0</td>\n",
              "      <td>-2879.202052</td>\n",
              "      <td>43</td>\n",
              "      <td>высшее</td>\n",
              "      <td>0</td>\n",
              "      <td>женат / замужем</td>\n",
              "      <td>0</td>\n",
              "      <td>F</td>\n",
              "      <td>компаньон</td>\n",
              "      <td>0</td>\n",
              "      <td>240525.971920</td>\n",
              "      <td>операции с жильем</td>\n",
              "    </tr>\n",
              "    <tr>\n",
              "      <th>7</th>\n",
              "      <td>0</td>\n",
              "      <td>-152.779569</td>\n",
              "      <td>50</td>\n",
              "      <td>СРЕДНЕЕ</td>\n",
              "      <td>1</td>\n",
              "      <td>женат / замужем</td>\n",
              "      <td>0</td>\n",
              "      <td>M</td>\n",
              "      <td>сотрудник</td>\n",
              "      <td>0</td>\n",
              "      <td>135823.934197</td>\n",
              "      <td>образование</td>\n",
              "    </tr>\n",
              "    <tr>\n",
              "      <th>8</th>\n",
              "      <td>2</td>\n",
              "      <td>-6929.865299</td>\n",
              "      <td>35</td>\n",
              "      <td>ВЫСШЕЕ</td>\n",
              "      <td>0</td>\n",
              "      <td>гражданский брак</td>\n",
              "      <td>1</td>\n",
              "      <td>F</td>\n",
              "      <td>сотрудник</td>\n",
              "      <td>0</td>\n",
              "      <td>95856.832424</td>\n",
              "      <td>на проведение свадьбы</td>\n",
              "    </tr>\n",
              "    <tr>\n",
              "      <th>9</th>\n",
              "      <td>0</td>\n",
              "      <td>-2188.756445</td>\n",
              "      <td>41</td>\n",
              "      <td>среднее</td>\n",
              "      <td>1</td>\n",
              "      <td>женат / замужем</td>\n",
              "      <td>0</td>\n",
              "      <td>M</td>\n",
              "      <td>сотрудник</td>\n",
              "      <td>0</td>\n",
              "      <td>144425.938277</td>\n",
              "      <td>покупка жилья для семьи</td>\n",
              "    </tr>\n",
              "    <tr>\n",
              "      <th>10</th>\n",
              "      <td>2</td>\n",
              "      <td>-4171.483647</td>\n",
              "      <td>36</td>\n",
              "      <td>высшее</td>\n",
              "      <td>0</td>\n",
              "      <td>женат / замужем</td>\n",
              "      <td>0</td>\n",
              "      <td>M</td>\n",
              "      <td>компаньон</td>\n",
              "      <td>0</td>\n",
              "      <td>113943.491460</td>\n",
              "      <td>покупка недвижимости</td>\n",
              "    </tr>\n",
              "    <tr>\n",
              "      <th>11</th>\n",
              "      <td>0</td>\n",
              "      <td>-792.701887</td>\n",
              "      <td>40</td>\n",
              "      <td>среднее</td>\n",
              "      <td>1</td>\n",
              "      <td>женат / замужем</td>\n",
              "      <td>0</td>\n",
              "      <td>F</td>\n",
              "      <td>сотрудник</td>\n",
              "      <td>0</td>\n",
              "      <td>77069.234271</td>\n",
              "      <td>покупка коммерческой недвижимости</td>\n",
              "    </tr>\n",
              "    <tr>\n",
              "      <th>12</th>\n",
              "      <td>0</td>\n",
              "      <td>NaN</td>\n",
              "      <td>65</td>\n",
              "      <td>среднее</td>\n",
              "      <td>1</td>\n",
              "      <td>гражданский брак</td>\n",
              "      <td>1</td>\n",
              "      <td>M</td>\n",
              "      <td>пенсионер</td>\n",
              "      <td>0</td>\n",
              "      <td>NaN</td>\n",
              "      <td>сыграть свадьбу</td>\n",
              "    </tr>\n",
              "    <tr>\n",
              "      <th>13</th>\n",
              "      <td>0</td>\n",
              "      <td>-1846.641941</td>\n",
              "      <td>54</td>\n",
              "      <td>неоконченное высшее</td>\n",
              "      <td>2</td>\n",
              "      <td>женат / замужем</td>\n",
              "      <td>0</td>\n",
              "      <td>F</td>\n",
              "      <td>сотрудник</td>\n",
              "      <td>0</td>\n",
              "      <td>130458.228857</td>\n",
              "      <td>приобретение автомобиля</td>\n",
              "    </tr>\n",
              "    <tr>\n",
              "      <th>14</th>\n",
              "      <td>0</td>\n",
              "      <td>-1844.956182</td>\n",
              "      <td>56</td>\n",
              "      <td>высшее</td>\n",
              "      <td>0</td>\n",
              "      <td>гражданский брак</td>\n",
              "      <td>1</td>\n",
              "      <td>F</td>\n",
              "      <td>компаньон</td>\n",
              "      <td>1</td>\n",
              "      <td>165127.911772</td>\n",
              "      <td>покупка жилой недвижимости</td>\n",
              "    </tr>\n",
              "    <tr>\n",
              "      <th>15</th>\n",
              "      <td>1</td>\n",
              "      <td>-972.364419</td>\n",
              "      <td>26</td>\n",
              "      <td>среднее</td>\n",
              "      <td>1</td>\n",
              "      <td>женат / замужем</td>\n",
              "      <td>0</td>\n",
              "      <td>F</td>\n",
              "      <td>сотрудник</td>\n",
              "      <td>0</td>\n",
              "      <td>116820.904450</td>\n",
              "      <td>строительство собственной недвижимости</td>\n",
              "    </tr>\n",
              "    <tr>\n",
              "      <th>16</th>\n",
              "      <td>0</td>\n",
              "      <td>-1719.934226</td>\n",
              "      <td>35</td>\n",
              "      <td>среднее</td>\n",
              "      <td>1</td>\n",
              "      <td>женат / замужем</td>\n",
              "      <td>0</td>\n",
              "      <td>F</td>\n",
              "      <td>сотрудник</td>\n",
              "      <td>0</td>\n",
              "      <td>289202.704229</td>\n",
              "      <td>недвижимость</td>\n",
              "    </tr>\n",
              "    <tr>\n",
              "      <th>17</th>\n",
              "      <td>0</td>\n",
              "      <td>-2369.999720</td>\n",
              "      <td>33</td>\n",
              "      <td>высшее</td>\n",
              "      <td>0</td>\n",
              "      <td>гражданский брак</td>\n",
              "      <td>1</td>\n",
              "      <td>M</td>\n",
              "      <td>сотрудник</td>\n",
              "      <td>0</td>\n",
              "      <td>90410.586745</td>\n",
              "      <td>строительство недвижимости</td>\n",
              "    </tr>\n",
              "    <tr>\n",
              "      <th>18</th>\n",
              "      <td>0</td>\n",
              "      <td>400281.136913</td>\n",
              "      <td>53</td>\n",
              "      <td>среднее</td>\n",
              "      <td>1</td>\n",
              "      <td>вдовец / вдова</td>\n",
              "      <td>2</td>\n",
              "      <td>F</td>\n",
              "      <td>пенсионер</td>\n",
              "      <td>0</td>\n",
              "      <td>56823.777243</td>\n",
              "      <td>на покупку подержанного автомобиля</td>\n",
              "    </tr>\n",
              "    <tr>\n",
              "      <th>19</th>\n",
              "      <td>0</td>\n",
              "      <td>-10038.818549</td>\n",
              "      <td>48</td>\n",
              "      <td>СРЕДНЕЕ</td>\n",
              "      <td>1</td>\n",
              "      <td>в разводе</td>\n",
              "      <td>3</td>\n",
              "      <td>F</td>\n",
              "      <td>сотрудник</td>\n",
              "      <td>0</td>\n",
              "      <td>242831.107982</td>\n",
              "      <td>на покупку своего автомобиля</td>\n",
              "    </tr>\n",
              "  </tbody>\n",
              "</table>\n",
              "</div>"
            ],
            "text/plain": [
              "    children  days_employed  dob_years            education  education_id  \\\n",
              "0          1   -8437.673028         42               высшее             0   \n",
              "1          1   -4024.803754         36              среднее             1   \n",
              "2          0   -5623.422610         33              Среднее             1   \n",
              "3          3   -4124.747207         32              среднее             1   \n",
              "4          0  340266.072047         53              среднее             1   \n",
              "5          0    -926.185831         27               высшее             0   \n",
              "6          0   -2879.202052         43               высшее             0   \n",
              "7          0    -152.779569         50              СРЕДНЕЕ             1   \n",
              "8          2   -6929.865299         35               ВЫСШЕЕ             0   \n",
              "9          0   -2188.756445         41              среднее             1   \n",
              "10         2   -4171.483647         36               высшее             0   \n",
              "11         0    -792.701887         40              среднее             1   \n",
              "12         0            NaN         65              среднее             1   \n",
              "13         0   -1846.641941         54  неоконченное высшее             2   \n",
              "14         0   -1844.956182         56               высшее             0   \n",
              "15         1    -972.364419         26              среднее             1   \n",
              "16         0   -1719.934226         35              среднее             1   \n",
              "17         0   -2369.999720         33               высшее             0   \n",
              "18         0  400281.136913         53              среднее             1   \n",
              "19         0  -10038.818549         48              СРЕДНЕЕ             1   \n",
              "\n",
              "       family_status  family_status_id gender income_type  debt  \\\n",
              "0    женат / замужем                 0      F   сотрудник     0   \n",
              "1    женат / замужем                 0      F   сотрудник     0   \n",
              "2    женат / замужем                 0      M   сотрудник     0   \n",
              "3    женат / замужем                 0      M   сотрудник     0   \n",
              "4   гражданский брак                 1      F   пенсионер     0   \n",
              "5   гражданский брак                 1      M   компаньон     0   \n",
              "6    женат / замужем                 0      F   компаньон     0   \n",
              "7    женат / замужем                 0      M   сотрудник     0   \n",
              "8   гражданский брак                 1      F   сотрудник     0   \n",
              "9    женат / замужем                 0      M   сотрудник     0   \n",
              "10   женат / замужем                 0      M   компаньон     0   \n",
              "11   женат / замужем                 0      F   сотрудник     0   \n",
              "12  гражданский брак                 1      M   пенсионер     0   \n",
              "13   женат / замужем                 0      F   сотрудник     0   \n",
              "14  гражданский брак                 1      F   компаньон     1   \n",
              "15   женат / замужем                 0      F   сотрудник     0   \n",
              "16   женат / замужем                 0      F   сотрудник     0   \n",
              "17  гражданский брак                 1      M   сотрудник     0   \n",
              "18    вдовец / вдова                 2      F   пенсионер     0   \n",
              "19         в разводе                 3      F   сотрудник     0   \n",
              "\n",
              "     total_income                                 purpose  \n",
              "0   253875.639453                           покупка жилья  \n",
              "1   112080.014102                 приобретение автомобиля  \n",
              "2   145885.952297                           покупка жилья  \n",
              "3   267628.550329              дополнительное образование  \n",
              "4   158616.077870                         сыграть свадьбу  \n",
              "5   255763.565419                           покупка жилья  \n",
              "6   240525.971920                       операции с жильем  \n",
              "7   135823.934197                             образование  \n",
              "8    95856.832424                   на проведение свадьбы  \n",
              "9   144425.938277                 покупка жилья для семьи  \n",
              "10  113943.491460                    покупка недвижимости  \n",
              "11   77069.234271       покупка коммерческой недвижимости  \n",
              "12            NaN                         сыграть свадьбу  \n",
              "13  130458.228857                 приобретение автомобиля  \n",
              "14  165127.911772              покупка жилой недвижимости  \n",
              "15  116820.904450  строительство собственной недвижимости  \n",
              "16  289202.704229                            недвижимость  \n",
              "17   90410.586745              строительство недвижимости  \n",
              "18   56823.777243      на покупку подержанного автомобиля  \n",
              "19  242831.107982            на покупку своего автомобиля  "
            ]
          },
          "execution_count": 2,
          "metadata": {},
          "output_type": "execute_result"
        }
      ],
      "source": [
        "data.head(20)"
      ]
    },
    {
      "cell_type": "code",
      "execution_count": null,
      "id": "4fbdb8f6",
      "metadata": {
        "deletable": false,
        "id": "4fbdb8f6",
        "outputId": "15376089-8dad-46c9-b520-c05248d43158"
      },
      "outputs": [
        {
          "name": "stdout",
          "output_type": "stream",
          "text": [
            "<class 'pandas.core.frame.DataFrame'>\n",
            "RangeIndex: 21525 entries, 0 to 21524\n",
            "Data columns (total 12 columns):\n",
            " #   Column            Non-Null Count  Dtype  \n",
            "---  ------            --------------  -----  \n",
            " 0   children          21525 non-null  int64  \n",
            " 1   days_employed     19351 non-null  float64\n",
            " 2   dob_years         21525 non-null  int64  \n",
            " 3   education         21525 non-null  object \n",
            " 4   education_id      21525 non-null  int64  \n",
            " 5   family_status     21525 non-null  object \n",
            " 6   family_status_id  21525 non-null  int64  \n",
            " 7   gender            21525 non-null  object \n",
            " 8   income_type       21525 non-null  object \n",
            " 9   debt              21525 non-null  int64  \n",
            " 10  total_income      19351 non-null  float64\n",
            " 11  purpose           21525 non-null  object \n",
            "dtypes: float64(2), int64(5), object(5)\n",
            "memory usage: 2.0+ MB\n"
          ]
        }
      ],
      "source": [
        "data.info()"
      ]
    },
    {
      "cell_type": "markdown",
      "id": "2a2d0b94",
      "metadata": {
        "deletable": false,
        "editable": false,
        "id": "2a2d0b94"
      },
      "source": [
        "## Предобработка данных"
      ]
    },
    {
      "cell_type": "markdown",
      "id": "e78da877",
      "metadata": {
        "deletable": false,
        "editable": false,
        "id": "e78da877"
      },
      "source": [
        "### Удаление пропусков"
      ]
    },
    {
      "cell_type": "code",
      "execution_count": null,
      "id": "04ac5377",
      "metadata": {
        "deletable": false,
        "id": "04ac5377",
        "outputId": "81f4d817-781c-465c-ed15-91ce4446810d",
        "scrolled": true
      },
      "outputs": [
        {
          "data": {
            "text/plain": [
              "children               0\n",
              "days_employed       2174\n",
              "dob_years              0\n",
              "education              0\n",
              "education_id           0\n",
              "family_status          0\n",
              "family_status_id       0\n",
              "gender                 0\n",
              "income_type            0\n",
              "debt                   0\n",
              "total_income        2174\n",
              "purpose                0\n",
              "dtype: int64"
            ]
          },
          "execution_count": 4,
          "metadata": {},
          "output_type": "execute_result"
        }
      ],
      "source": [
        "data.isna().sum()"
      ]
    },
    {
      "cell_type": "code",
      "execution_count": null,
      "id": "ba3d0199",
      "metadata": {
        "deletable": false,
        "id": "ba3d0199"
      },
      "outputs": [],
      "source": [
        "for t in data['income_type'].unique():\n",
        "    data.loc[(data['income_type'] == t) & (data['total_income'].isna()), 'total_income'] = \\\n",
        "    data.loc[(data['income_type'] == t), 'total_income'].median()"
      ]
    },
    {
      "cell_type": "markdown",
      "id": "054563b6",
      "metadata": {
        "deletable": false,
        "editable": false,
        "id": "054563b6"
      },
      "source": [
        "### Обработка аномальных значений"
      ]
    },
    {
      "cell_type": "code",
      "execution_count": null,
      "id": "60d3a778",
      "metadata": {
        "deletable": false,
        "id": "60d3a778"
      },
      "outputs": [],
      "source": [
        "data['days_employed'] = data['days_employed'].abs()"
      ]
    },
    {
      "cell_type": "code",
      "execution_count": null,
      "id": "6a400f73",
      "metadata": {
        "deletable": false,
        "id": "6a400f73",
        "outputId": "801ef80e-522b-4668-f34e-565af7432bcf"
      },
      "outputs": [
        {
          "data": {
            "text/plain": [
              "income_type\n",
              "безработный        366413.652744\n",
              "в декрете            3296.759962\n",
              "госслужащий          2689.368353\n",
              "компаньон            1547.382223\n",
              "пенсионер          365213.306266\n",
              "предприниматель       520.848083\n",
              "сотрудник            1574.202821\n",
              "студент               578.751554\n",
              "Name: days_employed, dtype: float64"
            ]
          },
          "execution_count": 7,
          "metadata": {},
          "output_type": "execute_result"
        }
      ],
      "source": [
        "data.groupby('income_type')['days_employed'].agg('median')"
      ]
    },
    {
      "cell_type": "code",
      "execution_count": null,
      "id": "905cd950",
      "metadata": {
        "deletable": false,
        "id": "905cd950",
        "outputId": "6975b15c-7f95-4697-d16d-a0c79b657b03"
      },
      "outputs": [
        {
          "data": {
            "text/plain": [
              "array([ 1,  0,  3,  2, -1,  4, 20,  5])"
            ]
          },
          "execution_count": 8,
          "metadata": {},
          "output_type": "execute_result"
        }
      ],
      "source": [
        "data['children'].unique()"
      ]
    },
    {
      "cell_type": "code",
      "execution_count": null,
      "id": "e6159da1",
      "metadata": {
        "deletable": false,
        "id": "e6159da1"
      },
      "outputs": [],
      "source": [
        "data = data[(data['children'] != -1) & (data['children'] != 20)]"
      ]
    },
    {
      "cell_type": "code",
      "execution_count": null,
      "id": "260d6083",
      "metadata": {
        "deletable": false,
        "id": "260d6083",
        "outputId": "b2097101-d49d-44d9-901b-32a65c9463d1"
      },
      "outputs": [
        {
          "data": {
            "text/plain": [
              "array([1, 0, 3, 2, 4, 5])"
            ]
          },
          "execution_count": 10,
          "metadata": {},
          "output_type": "execute_result"
        }
      ],
      "source": [
        "data['children'].unique()"
      ]
    },
    {
      "cell_type": "markdown",
      "id": "9651a160",
      "metadata": {
        "deletable": false,
        "editable": false,
        "id": "9651a160"
      },
      "source": [
        "### Удаление пропусков (продолжение)"
      ]
    },
    {
      "cell_type": "code",
      "execution_count": null,
      "id": "c38a1038",
      "metadata": {
        "deletable": false,
        "id": "c38a1038"
      },
      "outputs": [],
      "source": [
        "for t in data['income_type'].unique():\n",
        "    data.loc[(data['income_type'] == t) & (data['days_employed'].isna()), 'days_employed'] = \\\n",
        "    data.loc[(data['income_type'] == t), 'days_employed'].median()"
      ]
    },
    {
      "cell_type": "code",
      "execution_count": null,
      "id": "140c1aa2",
      "metadata": {
        "deletable": false,
        "id": "140c1aa2",
        "outputId": "8da1e4e1-358e-4e87-98c9-f261bce0a7b2"
      },
      "outputs": [
        {
          "data": {
            "text/plain": [
              "children            0\n",
              "days_employed       0\n",
              "dob_years           0\n",
              "education           0\n",
              "education_id        0\n",
              "family_status       0\n",
              "family_status_id    0\n",
              "gender              0\n",
              "income_type         0\n",
              "debt                0\n",
              "total_income        0\n",
              "purpose             0\n",
              "dtype: int64"
            ]
          },
          "execution_count": 12,
          "metadata": {},
          "output_type": "execute_result"
        }
      ],
      "source": [
        "data.isna().sum()"
      ]
    },
    {
      "cell_type": "markdown",
      "id": "8981562e",
      "metadata": {
        "deletable": false,
        "editable": false,
        "id": "8981562e"
      },
      "source": [
        "### Изменение типов данных"
      ]
    },
    {
      "cell_type": "code",
      "execution_count": null,
      "id": "cb90e9f3",
      "metadata": {
        "deletable": false,
        "id": "cb90e9f3"
      },
      "outputs": [],
      "source": [
        "data['total_income'] = data['total_income'].astype(int)"
      ]
    },
    {
      "cell_type": "markdown",
      "id": "106f1886",
      "metadata": {
        "deletable": false,
        "editable": false,
        "id": "106f1886"
      },
      "source": [
        "### Обработка дубликатов"
      ]
    },
    {
      "cell_type": "code",
      "execution_count": null,
      "id": "3dcfe443",
      "metadata": {
        "deletable": false,
        "id": "3dcfe443"
      },
      "outputs": [],
      "source": [
        "data['education'] = data['education'].str.lower()"
      ]
    },
    {
      "cell_type": "code",
      "execution_count": null,
      "id": "bcf7453e",
      "metadata": {
        "deletable": false,
        "id": "bcf7453e",
        "outputId": "9684deba-1934-42d1-99e1-cda61740f822"
      },
      "outputs": [
        {
          "data": {
            "text/plain": [
              "71"
            ]
          },
          "execution_count": 15,
          "metadata": {},
          "output_type": "execute_result"
        }
      ],
      "source": [
        "data.duplicated().sum()"
      ]
    },
    {
      "cell_type": "code",
      "execution_count": null,
      "id": "c23e9388",
      "metadata": {
        "deletable": false,
        "id": "c23e9388"
      },
      "outputs": [],
      "source": [
        "data = data.drop_duplicates()"
      ]
    },
    {
      "cell_type": "markdown",
      "id": "e136d485",
      "metadata": {
        "deletable": false,
        "editable": false,
        "id": "e136d485"
      },
      "source": [
        "### Категоризация данных"
      ]
    },
    {
      "cell_type": "code",
      "execution_count": null,
      "id": "559c34ba",
      "metadata": {
        "deletable": false,
        "id": "559c34ba"
      },
      "outputs": [],
      "source": [
        "def categorize_income(income):\n",
        "    try:\n",
        "        if 0 <= income <= 30000:\n",
        "            return 'E'\n",
        "        elif 30001 <= income <= 50000:\n",
        "            return 'D'\n",
        "        elif 50001 <= income <= 200000:\n",
        "            return 'C'\n",
        "        elif 200001 <= income <= 1000000:\n",
        "            return 'B'\n",
        "        elif income >= 1000001:\n",
        "            return 'A'\n",
        "    except:\n",
        "        pass"
      ]
    },
    {
      "cell_type": "code",
      "execution_count": null,
      "id": "44992ad6",
      "metadata": {
        "deletable": false,
        "id": "44992ad6"
      },
      "outputs": [],
      "source": [
        "data['total_income_category'] = data['total_income'].apply(categorize_income)"
      ]
    },
    {
      "cell_type": "code",
      "execution_count": null,
      "id": "6adeaebd",
      "metadata": {
        "deletable": false,
        "id": "6adeaebd",
        "outputId": "673c12d9-7d7e-4ae0-9812-c622c89dd244"
      },
      "outputs": [
        {
          "data": {
            "text/plain": [
              "array(['покупка жилья', 'приобретение автомобиля',\n",
              "       'дополнительное образование', 'сыграть свадьбу',\n",
              "       'операции с жильем', 'образование', 'на проведение свадьбы',\n",
              "       'покупка жилья для семьи', 'покупка недвижимости',\n",
              "       'покупка коммерческой недвижимости', 'покупка жилой недвижимости',\n",
              "       'строительство собственной недвижимости', 'недвижимость',\n",
              "       'строительство недвижимости', 'на покупку подержанного автомобиля',\n",
              "       'на покупку своего автомобиля',\n",
              "       'операции с коммерческой недвижимостью',\n",
              "       'строительство жилой недвижимости', 'жилье',\n",
              "       'операции со своей недвижимостью', 'автомобили',\n",
              "       'заняться образованием', 'сделка с подержанным автомобилем',\n",
              "       'получение образования', 'автомобиль', 'свадьба',\n",
              "       'получение дополнительного образования', 'покупка своего жилья',\n",
              "       'операции с недвижимостью', 'получение высшего образования',\n",
              "       'свой автомобиль', 'сделка с автомобилем',\n",
              "       'профильное образование', 'высшее образование',\n",
              "       'покупка жилья для сдачи', 'на покупку автомобиля', 'ремонт жилью',\n",
              "       'заняться высшим образованием'], dtype=object)"
            ]
          },
          "execution_count": 19,
          "metadata": {},
          "output_type": "execute_result"
        }
      ],
      "source": [
        "data['purpose'].unique()"
      ]
    },
    {
      "cell_type": "code",
      "execution_count": null,
      "id": "1b48a0e0",
      "metadata": {
        "deletable": false,
        "id": "1b48a0e0"
      },
      "outputs": [],
      "source": [
        "def categorize_purpose(row):\n",
        "    try:\n",
        "        if 'автом' in row:\n",
        "            return 'операции с автомобилем'\n",
        "        elif 'жил' in row or 'недвиж' in row:\n",
        "            return 'операции с недвижимостью'\n",
        "        elif 'свад' in row:\n",
        "            return 'проведение свадьбы'\n",
        "        elif 'образов' in row:\n",
        "            return 'получение образования'\n",
        "    except:\n",
        "        return 'нет категории'"
      ]
    },
    {
      "cell_type": "code",
      "execution_count": null,
      "id": "f3f8d9a5",
      "metadata": {
        "deletable": false,
        "id": "f3f8d9a5"
      },
      "outputs": [],
      "source": [
        "data['purpose_category'] = data['purpose'].apply(categorize_purpose)"
      ]
    },
    {
      "cell_type": "markdown",
      "id": "608428d8",
      "metadata": {
        "deletable": false,
        "editable": false,
        "id": "608428d8"
      },
      "source": [
        "#### 3.1 Есть ли зависимость между количеством детей и возвратом кредита в срок?"
      ]
    },
    {
      "cell_type": "code",
      "execution_count": null,
      "id": "450741bd",
      "metadata": {
        "deletable": false,
        "id": "450741bd",
        "scrolled": true,
        "outputId": "c4f97055-1f36-4980-ea0d-11e273944512"
      },
      "outputs": [
        {
          "data": {
            "text/plain": [
              "Index(['children', 'days_employed', 'dob_years', 'education', 'education_id',\n",
              "       'family_status', 'family_status_id', 'gender', 'income_type', 'debt',\n",
              "       'total_income', 'purpose', 'total_income_category', 'purpose_category'],\n",
              "      dtype='object')"
            ]
          },
          "execution_count": 22,
          "metadata": {},
          "output_type": "execute_result"
        }
      ],
      "source": [
        "data.columns"
      ]
    },
    {
      "cell_type": "code",
      "execution_count": null,
      "id": "b84a186b",
      "metadata": {
        "id": "b84a186b",
        "outputId": "6eea86c5-9996-4d00-d8f7-9b4c4c431adb"
      },
      "outputs": [
        {
          "data": {
            "text/plain": [
              "children\n",
              "0    14091\n",
              "1     4808\n",
              "2     2052\n",
              "3      330\n",
              "4       41\n",
              "5        9\n",
              "Name: children, dtype: int64"
            ]
          },
          "execution_count": 23,
          "metadata": {},
          "output_type": "execute_result"
        }
      ],
      "source": [
        "data.groupby('children')['children'].count() "
      ]
    },
    {
      "cell_type": "code",
      "execution_count": null,
      "id": "af13dbe9",
      "metadata": {
        "id": "af13dbe9",
        "outputId": "d9000067-7de5-46a1-afed-3de54992bc66"
      },
      "outputs": [
        {
          "data": {
            "text/plain": [
              "children\n",
              "0    1063\n",
              "1     444\n",
              "2     194\n",
              "3      27\n",
              "4       4\n",
              "5       0\n",
              "Name: debt, dtype: int64"
            ]
          },
          "execution_count": 24,
          "metadata": {},
          "output_type": "execute_result"
        }
      ],
      "source": [
        "data.groupby('children')['debt'].sum() "
      ]
    },
    {
      "cell_type": "code",
      "execution_count": null,
      "id": "462970a8",
      "metadata": {
        "id": "462970a8",
        "outputId": "eb39146d-7b66-4b63-fe18-8b883ba21b2a"
      },
      "outputs": [
        {
          "data": {
            "text/plain": [
              "children\n",
              "0    7.543822\n",
              "3    8.181818\n",
              "1    9.234609\n",
              "2    9.454191\n",
              "4    9.756098\n",
              "dtype: float64"
            ]
          },
          "execution_count": 25,
          "metadata": {},
          "output_type": "execute_result"
        }
      ],
      "source": [
        "data.groupby('children')['debt'].mean().sort_values().tail(5)"
      ]
    },
    {
      "cell_type": "code",
      "execution_count": null,
      "id": "1d87a918",
      "metadata": {
        "id": "1d87a918",
        "outputId": "5a038795-838c-4db6-d04d-e3fde19d8c61"
      },
      "outputs": [
        {
          "data": {
            "text/plain": [
              "children\n",
              "0    7.543822\n",
              "3    8.181818\n",
              "1    9.234609\n",
              "2    9.454191\n",
              "4    9.756098\n",
              "dtype: float64"
            ]
          },
          "execution_count": 27,
          "metadata": {},
          "output_type": "execute_result"
        }
      ],
      "source": [
        "t = (data.groupby('children')['debt'].sum() / data.groupby('children')['children'].count() * 100).sort_values().tail(5)\n",
        "\n",
        "t"
      ]
    },
    {
      "cell_type": "code",
      "execution_count": null,
      "id": "2e02dc99",
      "metadata": {
        "id": "2e02dc99",
        "outputId": "0bbe8ffc-2c50-4d1c-b84c-ad5faa9640bc"
      },
      "outputs": [
        {
          "data": {
            "text/plain": [
              "9.156678940239289"
            ]
          },
          "execution_count": 28,
          "metadata": {},
          "output_type": "execute_result"
        }
      ],
      "source": [
        "tmp.values[1:].sum() / 4"
      ]
    },
    {
      "cell_type": "markdown",
      "id": "27f48741",
      "metadata": {
        "deletable": false,
        "id": "27f48741"
      },
      "source": [
        "**Вывод:** Данные указывают на слабую зависимость между количеством детей и вероятностью возникновения задолженности у заемщика. Следует также учитывать значительную разницу в размерах оцениваемых групп. Таким образом следует признать, что количество детей не влияет на вероятность возникновения задолженности у заемщика. Но определенно влияет отсутствие детей, так как в исследуемой группе без детей, случаи задолженности возникали значительно реже."
      ]
    },
    {
      "cell_type": "markdown",
      "id": "841cdb86",
      "metadata": {
        "deletable": false,
        "editable": false,
        "id": "841cdb86"
      },
      "source": [
        "#### 3.2 Есть ли зависимость между семейным положением и возвратом кредита в срок?"
      ]
    },
    {
      "cell_type": "code",
      "execution_count": null,
      "id": "b9390b56",
      "metadata": {
        "deletable": false,
        "id": "b9390b56",
        "outputId": "370212d0-e0b4-4a0b-f411-39cd68f829a1"
      },
      "outputs": [
        {
          "data": {
            "text/plain": [
              "family_status\n",
              "Не женат / не замужем     2796\n",
              "в разводе                 1189\n",
              "вдовец / вдова             951\n",
              "гражданский брак          4134\n",
              "женат / замужем          12261\n",
              "Name: family_status, dtype: int64"
            ]
          },
          "execution_count": 29,
          "metadata": {},
          "output_type": "execute_result"
        }
      ],
      "source": [
        "data.groupby('family_status')['family_status'].count() "
      ]
    },
    {
      "cell_type": "code",
      "execution_count": null,
      "id": "c23c98cf",
      "metadata": {
        "id": "c23c98cf",
        "outputId": "13b73fe4-f1ef-4dd8-9fc0-e4d7b399f5ba"
      },
      "outputs": [
        {
          "data": {
            "text/plain": [
              "family_status\n",
              "Не женат / не замужем    273\n",
              "в разводе                 84\n",
              "вдовец / вдова            63\n",
              "гражданский брак         385\n",
              "женат / замужем          927\n",
              "Name: debt, dtype: int64"
            ]
          },
          "execution_count": 30,
          "metadata": {},
          "output_type": "execute_result"
        }
      ],
      "source": [
        "data.groupby('family_status')['debt'].sum() "
      ]
    },
    {
      "cell_type": "code",
      "execution_count": null,
      "id": "b0e8219a",
      "metadata": {
        "id": "b0e8219a",
        "outputId": "02cd323c-c1ad-4c20-a462-832a3920d348"
      },
      "outputs": [
        {
          "data": {
            "text/plain": [
              "family_status\n",
              "вдовец / вдова           6.624606\n",
              "в разводе                7.064760\n",
              "женат / замужем          7.560558\n",
              "гражданский брак         9.313014\n",
              "Не женат / не замужем    9.763948\n",
              "dtype: float64"
            ]
          },
          "execution_count": 31,
          "metadata": {},
          "output_type": "execute_result"
        }
      ],
      "source": [
        "(data.groupby('family_status')['debt'].sum() / data.groupby('family_status')['family_status'].count() * 100).sort_values()"
      ]
    },
    {
      "cell_type": "code",
      "execution_count": null,
      "id": "ff7cc5cc",
      "metadata": {
        "id": "ff7cc5cc",
        "outputId": "4fce049e-73e0-441d-9776-2ff5d293f74d"
      },
      "outputs": [
        {
          "data": {
            "text/plain": [
              "family_status\n",
              "вдовец / вдова           58\n",
              "в разводе                46\n",
              "женат / замужем          43\n",
              "гражданский брак         41\n",
              "Не женат / не замужем    36\n",
              "Name: dob_years, dtype: int64"
            ]
          },
          "execution_count": 32,
          "metadata": {},
          "output_type": "execute_result"
        }
      ],
      "source": [
        "data.groupby('family_status')['dob_years'].median().sort_values(ascending=False)"
      ]
    },
    {
      "cell_type": "markdown",
      "id": "666f8d2e",
      "metadata": {
        "deletable": false,
        "id": "666f8d2e"
      },
      "source": [
        "**Вывод:** Мы обнаружили, что вдовствующие люди чаще возвращают долг без задержек, а не бывавшие в браке чаще задерживают оплату(гражданский - браком не считается). В середине списка мы видим имеющих опыт проживания в браке то есть состоящих в браке или разведенных. К тому же мы видим аналогичную зависимость связанную с возрастом, что значит:  \n",
        "            **С возрастом и приобретенным опытом семейной жизни повышается личная ответственность индивида.**"
      ]
    },
    {
      "cell_type": "markdown",
      "id": "59220bc3",
      "metadata": {
        "deletable": false,
        "editable": false,
        "id": "59220bc3"
      },
      "source": [
        "#### 3.3 Есть ли зависимость между уровнем дохода и возвратом кредита в срок?"
      ]
    },
    {
      "cell_type": "code",
      "execution_count": null,
      "id": "331ab860",
      "metadata": {
        "deletable": false,
        "id": "331ab860",
        "outputId": "21f7ac6d-30f5-4710-da82-29acf58c78b4"
      },
      "outputs": [
        {
          "data": {
            "text/plain": [
              "total_income_category\n",
              "A       25\n",
              "B     5014\n",
              "C    15921\n",
              "D      349\n",
              "E       22\n",
              "Name: total_income_category, dtype: int64"
            ]
          },
          "execution_count": 33,
          "metadata": {},
          "output_type": "execute_result"
        }
      ],
      "source": [
        "data.groupby('total_income_category')['total_income_category'].count()"
      ]
    },
    {
      "cell_type": "code",
      "execution_count": null,
      "id": "54bb3cde",
      "metadata": {
        "id": "54bb3cde",
        "outputId": "268ead14-a3ec-4961-b070-2e7d5daf7e20"
      },
      "outputs": [
        {
          "data": {
            "text/plain": [
              "<pandas.core.groupby.generic.SeriesGroupBy object at 0x7fd60f84d880>"
            ]
          },
          "metadata": {},
          "output_type": "display_data"
        }
      ],
      "source": [
        "display(data.groupby([data['total_income_category'] == 'A'])['purpose_category'])"
      ]
    },
    {
      "cell_type": "code",
      "execution_count": null,
      "id": "da72caea",
      "metadata": {
        "id": "da72caea",
        "outputId": "cba3c4b6-daff-48ee-8c6d-122769fcb8e5"
      },
      "outputs": [
        {
          "data": {
            "text/plain": [
              "total_income_category\n",
              "A       2\n",
              "B     354\n",
              "C    1353\n",
              "D      21\n",
              "E       2\n",
              "Name: debt, dtype: int64"
            ]
          },
          "execution_count": 35,
          "metadata": {},
          "output_type": "execute_result"
        }
      ],
      "source": [
        "data.groupby('total_income_category')['debt'].sum()"
      ]
    },
    {
      "cell_type": "code",
      "execution_count": null,
      "id": "d2b7856b",
      "metadata": {
        "scrolled": true,
        "id": "d2b7856b",
        "outputId": "30ccab61-5062-4e58-cdba-e3fd868655e4"
      },
      "outputs": [
        {
          "data": {
            "text/plain": [
              "total_income_category\n",
              "A    8.000000\n",
              "B    7.060231\n",
              "C    8.498210\n",
              "D    6.017192\n",
              "E    9.090909\n",
              "dtype: float64"
            ]
          },
          "execution_count": 36,
          "metadata": {},
          "output_type": "execute_result"
        }
      ],
      "source": [
        "(data.groupby('total_income_category')['debt'].sum() / data.groupby('total_income_category')['total_income'].count() * 100)"
      ]
    },
    {
      "cell_type": "markdown",
      "id": "ba4cf536",
      "metadata": {
        "id": "ba4cf536"
      },
      "source": [
        "<div style=\"background: #B0E0E6; padding: 5px; border: 1px solid SteelBlue; border-radius: 5px;\">\n",
        "**Вывод:**  \n",
        "\n",
        "\n",
        "Исходя из проведенного исследования можно предположить что раз процентное соотношение невозврата кредита по группам с различным \n",
        "доходом невелико и нельзя выявить группу должников с большим отрывом от остальных исследуемых групп, то доход не является \n",
        "ключевым фактором влияющим на возврат кредита в срок, как и не является гарантом его возврата. Однако же, следует отметить что \n",
        "наименьший процент вернувших кредит в срок оказался именно в группе людей с наименьшим доходом. Отсюда следует простой\n",
        "вывод - чем ниже у человека доход, тем больше риск невозврата кредита в срок. С другой стороны следующая группа должников с наибольшим процентом просрочки оказалась людьми с наибольшим доходом. Отсюда логично предположить что и суммы кредита, взятые ими, были значительно больше чем у предыдущей группы заемщиков. "
      ]
    },
    {
      "cell_type": "markdown",
      "id": "a209b152",
      "metadata": {
        "deletable": false,
        "editable": false,
        "id": "a209b152"
      },
      "source": [
        "#### 3.4 Как разные цели кредита влияют на его возврат в срок?"
      ]
    },
    {
      "cell_type": "code",
      "execution_count": null,
      "id": "5b384664",
      "metadata": {
        "deletable": false,
        "id": "5b384664",
        "scrolled": true,
        "outputId": "3dd70369-791d-4541-e41c-56efecfc48bb"
      },
      "outputs": [
        {
          "data": {
            "text/plain": [
              "purpose_category\n",
              "проведение свадьбы           2313\n",
              "получение образования        3988\n",
              "операции с автомобилем       4279\n",
              "операции с недвижимостью    10751\n",
              "Name: purpose_category, dtype: int64"
            ]
          },
          "execution_count": 37,
          "metadata": {},
          "output_type": "execute_result"
        }
      ],
      "source": [
        "data.groupby('purpose_category')['purpose_category'].count().sort_values()"
      ]
    },
    {
      "cell_type": "code",
      "execution_count": null,
      "id": "33221fa3",
      "metadata": {
        "id": "33221fa3",
        "outputId": "d4195cfb-21b0-46ed-a762-8b14513db76d"
      },
      "outputs": [
        {
          "data": {
            "text/plain": [
              "purpose_category\n",
              "проведение свадьбы          183\n",
              "получение образования       369\n",
              "операции с автомобилем      400\n",
              "операции с недвижимостью    780\n",
              "Name: debt, dtype: int64"
            ]
          },
          "execution_count": 38,
          "metadata": {},
          "output_type": "execute_result"
        }
      ],
      "source": [
        "data.groupby('purpose_category')['debt'].sum().sort_values()"
      ]
    },
    {
      "cell_type": "code",
      "execution_count": null,
      "id": "480bace8",
      "metadata": {
        "id": "480bace8",
        "outputId": "461435e5-47a0-4d23-ef1f-a7fd7c8b9c54"
      },
      "outputs": [
        {
          "data": {
            "text/plain": [
              "purpose_category\n",
              "операции с недвижимостью    7.255139\n",
              "проведение свадьбы          7.911803\n",
              "получение образования       9.252758\n",
              "операции с автомобилем      9.347978\n",
              "dtype: float64"
            ]
          },
          "execution_count": 39,
          "metadata": {},
          "output_type": "execute_result"
        }
      ],
      "source": [
        "(data.groupby('purpose_category')['debt'].sum() / data.groupby('purpose_category')['purpose_category'].count() * 100).sort_values()"
      ]
    },
    {
      "cell_type": "markdown",
      "id": "9c1fecf0",
      "metadata": {
        "deletable": false,
        "id": "9c1fecf0"
      },
      "source": [
        "**Вывод:** Проведенное исследование дает нам четко понять, что люди берущие кредит для свадьбы или операций с недвижимостью чаще возвращают его в срок, чем люди берущие кредит для получения образования или операций с автомобилем. "
      ]
    },
    {
      "cell_type": "markdown",
      "id": "a8403261",
      "metadata": {
        "deletable": false,
        "editable": false,
        "id": "a8403261"
      },
      "source": [
        "#### 3.5 Приведите возможные причины появления пропусков в исходных данных."
      ]
    },
    {
      "cell_type": "markdown",
      "id": "6c44d77b",
      "metadata": {
        "id": "6c44d77b"
      },
      "source": [
        "Ниже проводим проверку для ответа на вопрос."
      ]
    },
    {
      "cell_type": "code",
      "execution_count": null,
      "id": "ee84aaba",
      "metadata": {
        "scrolled": false,
        "id": "ee84aaba",
        "outputId": "fe14496c-193b-4256-ce8d-379693e01bf2"
      },
      "outputs": [
        {
          "data": {
            "text/plain": [
              "children                 0\n",
              "days_employed            0\n",
              "dob_years                0\n",
              "education                0\n",
              "education_id             0\n",
              "family_status            0\n",
              "family_status_id         0\n",
              "gender                   0\n",
              "income_type              0\n",
              "debt                     0\n",
              "total_income             0\n",
              "purpose                  0\n",
              "total_income_category    0\n",
              "purpose_category         0\n",
              "dtype: int64"
            ]
          },
          "execution_count": 40,
          "metadata": {},
          "output_type": "execute_result"
        }
      ],
      "source": [
        "data[data['days_employed'].isna()].count()"
      ]
    },
    {
      "cell_type": "code",
      "execution_count": null,
      "id": "209e8218",
      "metadata": {
        "id": "209e8218",
        "outputId": "1fcdfe33-3f7d-468f-e152-57398a78a83c"
      },
      "outputs": [
        {
          "data": {
            "text/plain": [
              "Series([], Name: income_type, dtype: object)"
            ]
          },
          "execution_count": 41,
          "metadata": {},
          "output_type": "execute_result"
        }
      ],
      "source": [
        "data[data['days_employed'].isna()]['income_type']"
      ]
    },
    {
      "cell_type": "markdown",
      "id": "17756643",
      "metadata": {
        "deletable": false,
        "id": "17756643"
      },
      "source": [
        "*Ответ:* Считаю что пропуски в столбце total_income возникли из-за пропусков в столбце days_employed, так алгоритм не мог посчитать значения в total_income без days_employed. Установить причину пропусков в столбце days_employed считаю невозможным в текущих условиях(надо спрашивать того кто выгружал или составлял DataFrame)"
      ]
    },
    {
      "cell_type": "markdown",
      "id": "331498f4",
      "metadata": {
        "deletable": false,
        "editable": false,
        "id": "331498f4"
      },
      "source": [
        "#### 3.6 Объясните, почему заполнить пропуски медианным значением — лучшее решение для количественных переменных."
      ]
    },
    {
      "cell_type": "markdown",
      "id": "8bf14c66",
      "metadata": {
        "deletable": false,
        "id": "8bf14c66"
      },
      "source": [
        "*Ответ:* Среднее значение может быть завышенным или заниженным из-за присутствия в выборке аномально больших или маленьких значений."
      ]
    },
    {
      "cell_type": "markdown",
      "id": "2e9d99e1",
      "metadata": {
        "deletable": false,
        "editable": false,
        "id": "2e9d99e1"
      },
      "source": [
        "### Шаг 4: общий вывод."
      ]
    },
    {
      "cell_type": "markdown",
      "id": "7e45e044",
      "metadata": {
        "id": "7e45e044"
      },
      "source": [
        "<div style=\"background: #B0E0E6; padding: 5px; border: 1px solid SteelBlue; border-radius: 5px;\">\n",
        "\n",
        "    \n",
        "# Вывод\n",
        "\n",
        "## Предисловие\n",
        "\n",
        "1. В исходных данных было обнаруженно 2174 пропуска\n",
        "2. Разброс чисел в категориях заемщиков при анализе оказался очень большим\n",
        "\n",
        "\n",
        "Считаю эти 2 фактора могли повлиять на результаты исследования.  \n",
        "Рекомендация:\n",
        "1. Установить и исправить источник пропусков\n",
        "2. Провести повторное исследование с большим количеством данных.\n",
        "\n",
        "## Гипотезы\n",
        "\n",
        "В результате проведенного исследования были проверены выдвинутые гипотезы:\n",
        "   - Количество детей влияет на вероятность погашения кредита в срок (частично подтверждена)\n",
        "   - Семейное положение влияет на вероятность погашения кредита в срок (подтверждена)\n",
        "   - Уровень дохода влияет на вероятность погашения кредита в срок (требуется дополнительное исследование)\n",
        "   - Цели кредита влияют на вероятность погашения кредита в срок (подтверждена)\n",
        "    \n",
        "В результате первая гипотеза подтвердилась лишь частично. Было установлено, что колличество детей не имеет значительного влияния на вероятность возврата кредита в срок, но **наличие детей или же их отсутствие имеет более значительное влияние.**\n",
        "\n",
        "В ходе проверки второй гипозы была обнаружена прямая зависимость между семейным положением и возвратом кредита в срок, так был сделан вывод ,что вдовствующие люди чаще возвращают долг без задержек, а не бывавшие в браке чаще задерживают оплату. Средние позиции занимают люди имеющие опыт проживания в браке. К тому же мы видим аналогичную зависимость связанную с возрастом, что приводит нас к выводу:\n",
        "**С возрастом и приобретенным опытом семейной жизни повышается личная ответственность индивида.**\n",
        "\n",
        "Третья гипотеза не показала ожидаемых результатов, были выявлены похожие уровни просрочек как у людей с самым низким доходом, так и у людей с самым высоким уровнем дохода. В целом, разброс по категориям с разными уровнями доходы был сравнительно небольшим, что показывало малое влияние уровня дохода на вероятность просрочки или оплаты кредита вовремя.\n",
        "**Следует провести повторное исследование на большем количестве данных.**\n",
        "\n",
        "    \n",
        "Четвертое исследование показало, что люди берущие кредит для свадьбы или операций с недвижимостью чаще возвращают его в срок, чем люди берущие кредит для получения образования или операций с автомобилем. \n",
        "**Гипотеза полностью подтверждена**\n",
        "\n",
        "## Рекомендации\n",
        "\n",
        "1. При принятии решения об одобрении выдачи кредита обращать повышенное внимание на:\n",
        "- наличие/отсутствие детей\n",
        "- возраст\n",
        "- семейное положение\n",
        "- цели кредита\n",
        "\n",
        "2. Провести дополнительное исследование гипотезы \"Уровень дохода влияет на вероятность погашения кредита в срок\" на больших данных.\n",
        "\n",
        "\n",
        "3. Выявить и устранить причины появления пропусков в столбцах о количестве проработаных дней и доходах."
      ]
    }
  ],
  "metadata": {
    "ExecuteTimeLog": [
      {
        "duration": 427,
        "start_time": "2022-10-14T14:53:01.849Z"
      },
      {
        "duration": 59,
        "start_time": "2022-10-14T14:53:07.268Z"
      },
      {
        "duration": 54,
        "start_time": "2022-10-14T14:53:28.064Z"
      },
      {
        "duration": 15,
        "start_time": "2022-10-14T14:53:28.119Z"
      },
      {
        "duration": 14,
        "start_time": "2022-10-14T14:53:28.136Z"
      },
      {
        "duration": 7,
        "start_time": "2022-10-14T14:53:28.152Z"
      },
      {
        "duration": 56,
        "start_time": "2022-10-14T14:53:28.160Z"
      },
      {
        "duration": 2,
        "start_time": "2022-10-14T14:53:28.218Z"
      },
      {
        "duration": 13,
        "start_time": "2022-10-14T14:53:28.221Z"
      },
      {
        "duration": 4,
        "start_time": "2022-10-14T14:53:28.235Z"
      },
      {
        "duration": 8,
        "start_time": "2022-10-14T14:53:28.240Z"
      },
      {
        "duration": 12,
        "start_time": "2022-10-14T14:53:28.250Z"
      },
      {
        "duration": 50,
        "start_time": "2022-10-14T14:53:28.264Z"
      },
      {
        "duration": 8,
        "start_time": "2022-10-14T14:53:28.317Z"
      },
      {
        "duration": 33,
        "start_time": "2022-10-14T14:53:28.326Z"
      },
      {
        "duration": 14,
        "start_time": "2022-10-14T14:53:28.361Z"
      },
      {
        "duration": 40,
        "start_time": "2022-10-14T14:53:28.376Z"
      },
      {
        "duration": 17,
        "start_time": "2022-10-14T14:53:28.417Z"
      },
      {
        "duration": 3,
        "start_time": "2022-10-14T14:53:28.435Z"
      },
      {
        "duration": 10,
        "start_time": "2022-10-14T14:53:28.440Z"
      },
      {
        "duration": 5,
        "start_time": "2022-10-14T14:53:28.452Z"
      },
      {
        "duration": 7,
        "start_time": "2022-10-14T14:53:28.458Z"
      },
      {
        "duration": 10,
        "start_time": "2022-10-14T14:53:28.466Z"
      },
      {
        "duration": 36,
        "start_time": "2022-10-14T14:53:28.477Z"
      },
      {
        "duration": 2,
        "start_time": "2022-10-14T14:53:28.514Z"
      },
      {
        "duration": 6,
        "start_time": "2022-10-14T14:53:28.517Z"
      },
      {
        "duration": 6,
        "start_time": "2022-10-14T14:53:28.525Z"
      },
      {
        "duration": 4,
        "start_time": "2022-10-14T14:59:19.747Z"
      },
      {
        "duration": 7,
        "start_time": "2022-10-14T15:00:53.754Z"
      },
      {
        "duration": 7,
        "start_time": "2022-10-14T15:01:42.184Z"
      },
      {
        "duration": 6,
        "start_time": "2022-10-14T15:05:43.366Z"
      },
      {
        "duration": 8,
        "start_time": "2022-10-14T15:06:06.680Z"
      },
      {
        "duration": 6,
        "start_time": "2022-10-14T15:06:23.583Z"
      },
      {
        "duration": 7,
        "start_time": "2022-10-14T15:29:49.013Z"
      },
      {
        "duration": 8,
        "start_time": "2022-10-14T15:33:31.185Z"
      },
      {
        "duration": 8,
        "start_time": "2022-10-14T15:42:58.840Z"
      },
      {
        "duration": 9,
        "start_time": "2022-10-14T15:46:32.162Z"
      },
      {
        "duration": 5,
        "start_time": "2022-10-14T15:47:56.343Z"
      },
      {
        "duration": 5,
        "start_time": "2022-10-14T15:48:25.245Z"
      },
      {
        "duration": 5,
        "start_time": "2022-10-14T15:48:25.845Z"
      },
      {
        "duration": 7,
        "start_time": "2022-10-14T15:48:31.640Z"
      },
      {
        "duration": 6,
        "start_time": "2022-10-14T15:48:59.154Z"
      },
      {
        "duration": 11,
        "start_time": "2022-10-14T15:51:56.898Z"
      },
      {
        "duration": 3,
        "start_time": "2022-10-14T16:07:55.919Z"
      },
      {
        "duration": 3,
        "start_time": "2022-10-14T16:08:20.331Z"
      },
      {
        "duration": 9,
        "start_time": "2022-10-14T16:09:42.098Z"
      },
      {
        "duration": 9,
        "start_time": "2022-10-14T16:10:03.936Z"
      },
      {
        "duration": 9,
        "start_time": "2022-10-14T16:10:59.402Z"
      },
      {
        "duration": 8,
        "start_time": "2022-10-14T16:13:18.119Z"
      },
      {
        "duration": 7,
        "start_time": "2022-10-14T16:13:43.684Z"
      },
      {
        "duration": 10,
        "start_time": "2022-10-14T16:14:31.565Z"
      },
      {
        "duration": 10,
        "start_time": "2022-10-14T16:14:38.874Z"
      },
      {
        "duration": 7,
        "start_time": "2022-10-14T16:15:51.371Z"
      },
      {
        "duration": 7,
        "start_time": "2022-10-14T16:16:14.238Z"
      },
      {
        "duration": 8,
        "start_time": "2022-10-14T16:16:23.428Z"
      },
      {
        "duration": 8,
        "start_time": "2022-10-14T16:16:36.331Z"
      },
      {
        "duration": 11,
        "start_time": "2022-10-14T16:16:44.417Z"
      },
      {
        "duration": 10,
        "start_time": "2022-10-14T16:17:37.288Z"
      },
      {
        "duration": 9,
        "start_time": "2022-10-14T16:20:10.490Z"
      },
      {
        "duration": 4,
        "start_time": "2022-10-14T16:33:51.245Z"
      },
      {
        "duration": 49,
        "start_time": "2022-10-15T07:14:49.536Z"
      },
      {
        "duration": 8,
        "start_time": "2022-10-15T07:14:53.780Z"
      },
      {
        "duration": 7,
        "start_time": "2022-10-15T07:16:34.455Z"
      },
      {
        "duration": 7,
        "start_time": "2022-10-15T07:17:11.811Z"
      },
      {
        "duration": 510,
        "start_time": "2022-10-15T07:17:21.671Z"
      },
      {
        "duration": 19,
        "start_time": "2022-10-15T07:17:22.183Z"
      },
      {
        "duration": 15,
        "start_time": "2022-10-15T07:17:22.204Z"
      },
      {
        "duration": 10,
        "start_time": "2022-10-15T07:17:22.222Z"
      },
      {
        "duration": 36,
        "start_time": "2022-10-15T07:17:22.255Z"
      },
      {
        "duration": 4,
        "start_time": "2022-10-15T07:17:22.293Z"
      },
      {
        "duration": 33,
        "start_time": "2022-10-15T07:17:22.299Z"
      },
      {
        "duration": 9,
        "start_time": "2022-10-15T07:17:22.334Z"
      },
      {
        "duration": 14,
        "start_time": "2022-10-15T07:17:22.344Z"
      },
      {
        "duration": 5,
        "start_time": "2022-10-15T07:17:22.361Z"
      },
      {
        "duration": 51,
        "start_time": "2022-10-15T07:17:22.368Z"
      },
      {
        "duration": 10,
        "start_time": "2022-10-15T07:17:22.422Z"
      },
      {
        "duration": 4,
        "start_time": "2022-10-15T07:17:22.434Z"
      },
      {
        "duration": 23,
        "start_time": "2022-10-15T07:17:22.439Z"
      },
      {
        "duration": 20,
        "start_time": "2022-10-15T07:17:22.464Z"
      },
      {
        "duration": 18,
        "start_time": "2022-10-15T07:17:22.485Z"
      },
      {
        "duration": 4,
        "start_time": "2022-10-15T07:17:22.505Z"
      },
      {
        "duration": 24,
        "start_time": "2022-10-15T07:17:22.510Z"
      },
      {
        "duration": 55,
        "start_time": "2022-10-15T07:17:22.536Z"
      },
      {
        "duration": 13,
        "start_time": "2022-10-15T07:17:22.593Z"
      },
      {
        "duration": 19,
        "start_time": "2022-10-15T07:17:22.608Z"
      },
      {
        "duration": 10,
        "start_time": "2022-10-15T07:17:22.629Z"
      },
      {
        "duration": 10,
        "start_time": "2022-10-15T07:17:22.641Z"
      },
      {
        "duration": 8,
        "start_time": "2022-10-15T07:17:22.653Z"
      },
      {
        "duration": 15,
        "start_time": "2022-10-15T07:17:22.663Z"
      },
      {
        "duration": 16,
        "start_time": "2022-10-15T07:17:22.680Z"
      },
      {
        "duration": 41,
        "start_time": "2022-10-15T07:17:22.698Z"
      },
      {
        "duration": 0,
        "start_time": "2022-10-15T07:17:22.742Z"
      },
      {
        "duration": 0,
        "start_time": "2022-10-15T07:17:22.743Z"
      },
      {
        "duration": 0,
        "start_time": "2022-10-15T07:17:22.744Z"
      },
      {
        "duration": 0,
        "start_time": "2022-10-15T07:17:22.745Z"
      },
      {
        "duration": 0,
        "start_time": "2022-10-15T07:17:22.746Z"
      },
      {
        "duration": 8,
        "start_time": "2022-10-15T07:17:31.889Z"
      },
      {
        "duration": 7,
        "start_time": "2022-10-15T07:17:56.561Z"
      },
      {
        "duration": 10,
        "start_time": "2022-10-15T07:18:34.108Z"
      },
      {
        "duration": 9,
        "start_time": "2022-10-15T07:18:45.031Z"
      },
      {
        "duration": 9,
        "start_time": "2022-10-15T07:18:45.403Z"
      },
      {
        "duration": 15,
        "start_time": "2022-10-15T07:18:45.728Z"
      },
      {
        "duration": 9,
        "start_time": "2022-10-15T07:18:54.389Z"
      },
      {
        "duration": 11,
        "start_time": "2022-10-15T07:19:12.141Z"
      },
      {
        "duration": 8,
        "start_time": "2022-10-15T07:20:11.008Z"
      },
      {
        "duration": 9,
        "start_time": "2022-10-15T07:21:38.423Z"
      },
      {
        "duration": 5,
        "start_time": "2022-10-15T07:22:03.198Z"
      },
      {
        "duration": 7,
        "start_time": "2022-10-15T07:22:19.145Z"
      },
      {
        "duration": 9,
        "start_time": "2022-10-15T07:23:36.095Z"
      },
      {
        "duration": 7,
        "start_time": "2022-10-15T07:24:23.468Z"
      },
      {
        "duration": 12,
        "start_time": "2022-10-15T07:53:34.378Z"
      },
      {
        "duration": 12,
        "start_time": "2022-10-15T07:53:46.511Z"
      },
      {
        "duration": 744,
        "start_time": "2022-10-15T07:55:08.025Z"
      },
      {
        "duration": 11,
        "start_time": "2022-10-15T07:55:47.858Z"
      },
      {
        "duration": 9,
        "start_time": "2022-10-15T07:56:06.197Z"
      },
      {
        "duration": 16,
        "start_time": "2022-10-15T07:56:42.580Z"
      },
      {
        "duration": 15,
        "start_time": "2022-10-15T07:57:05.289Z"
      },
      {
        "duration": 8,
        "start_time": "2022-10-15T07:57:22.589Z"
      },
      {
        "duration": 10,
        "start_time": "2022-10-15T07:57:27.273Z"
      },
      {
        "duration": 12,
        "start_time": "2022-10-15T07:57:27.705Z"
      },
      {
        "duration": 12,
        "start_time": "2022-10-15T07:57:28.271Z"
      },
      {
        "duration": 9,
        "start_time": "2022-10-15T07:58:08.919Z"
      },
      {
        "duration": 13,
        "start_time": "2022-10-15T07:59:01.524Z"
      },
      {
        "duration": 15,
        "start_time": "2022-10-15T07:59:55.265Z"
      },
      {
        "duration": 13,
        "start_time": "2022-10-15T08:00:51.915Z"
      },
      {
        "duration": 11,
        "start_time": "2022-10-15T08:01:00.565Z"
      },
      {
        "duration": 11,
        "start_time": "2022-10-15T08:03:41.245Z"
      },
      {
        "duration": 11,
        "start_time": "2022-10-15T08:03:52.031Z"
      },
      {
        "duration": 15,
        "start_time": "2022-10-15T08:04:34.679Z"
      },
      {
        "duration": 10,
        "start_time": "2022-10-15T08:04:37.442Z"
      },
      {
        "duration": 12,
        "start_time": "2022-10-15T08:04:38.042Z"
      },
      {
        "duration": 20,
        "start_time": "2022-10-15T08:04:38.732Z"
      },
      {
        "duration": 13,
        "start_time": "2022-10-15T08:04:52.647Z"
      },
      {
        "duration": 13,
        "start_time": "2022-10-15T08:04:59.692Z"
      },
      {
        "duration": 7,
        "start_time": "2022-10-15T09:22:43.997Z"
      },
      {
        "duration": 13,
        "start_time": "2022-10-15T09:22:51.197Z"
      },
      {
        "duration": 9,
        "start_time": "2022-10-15T09:23:16.875Z"
      },
      {
        "duration": 6,
        "start_time": "2022-10-15T09:23:28.005Z"
      },
      {
        "duration": 7,
        "start_time": "2022-10-15T09:23:34.813Z"
      },
      {
        "duration": 10,
        "start_time": "2022-10-15T09:23:47.028Z"
      },
      {
        "duration": 8,
        "start_time": "2022-10-15T09:24:06.662Z"
      },
      {
        "duration": 8,
        "start_time": "2022-10-15T09:24:38.664Z"
      },
      {
        "duration": 6,
        "start_time": "2022-10-15T09:24:53.783Z"
      },
      {
        "duration": 6,
        "start_time": "2022-10-15T09:24:59.275Z"
      },
      {
        "duration": 7,
        "start_time": "2022-10-15T09:25:08.581Z"
      },
      {
        "duration": 61,
        "start_time": "2022-10-15T09:25:21.833Z"
      },
      {
        "duration": 19,
        "start_time": "2022-10-15T09:25:23.151Z"
      },
      {
        "duration": 15,
        "start_time": "2022-10-15T09:25:26.038Z"
      },
      {
        "duration": 10,
        "start_time": "2022-10-15T09:25:28.908Z"
      },
      {
        "duration": 9,
        "start_time": "2022-10-15T09:25:30.909Z"
      },
      {
        "duration": 62,
        "start_time": "2022-10-15T09:27:01.451Z"
      },
      {
        "duration": 8,
        "start_time": "2022-10-15T09:31:30.968Z"
      },
      {
        "duration": 8,
        "start_time": "2022-10-15T09:31:58.352Z"
      },
      {
        "duration": 8,
        "start_time": "2022-10-15T09:32:16.362Z"
      },
      {
        "duration": 64,
        "start_time": "2022-10-15T10:59:22.609Z"
      },
      {
        "duration": 487,
        "start_time": "2022-10-15T12:31:35.035Z"
      },
      {
        "duration": 21,
        "start_time": "2022-10-15T12:31:35.525Z"
      },
      {
        "duration": 21,
        "start_time": "2022-10-15T12:31:35.547Z"
      },
      {
        "duration": 10,
        "start_time": "2022-10-15T12:31:35.570Z"
      },
      {
        "duration": 58,
        "start_time": "2022-10-15T12:31:35.581Z"
      },
      {
        "duration": 3,
        "start_time": "2022-10-15T12:31:35.641Z"
      },
      {
        "duration": 10,
        "start_time": "2022-10-15T12:31:35.646Z"
      },
      {
        "duration": 5,
        "start_time": "2022-10-15T12:31:35.658Z"
      },
      {
        "duration": 10,
        "start_time": "2022-10-15T12:31:35.664Z"
      },
      {
        "duration": 4,
        "start_time": "2022-10-15T12:31:35.677Z"
      },
      {
        "duration": 68,
        "start_time": "2022-10-15T12:31:35.683Z"
      },
      {
        "duration": 9,
        "start_time": "2022-10-15T12:31:35.753Z"
      },
      {
        "duration": 7,
        "start_time": "2022-10-15T12:31:35.764Z"
      },
      {
        "duration": 13,
        "start_time": "2022-10-15T12:31:35.773Z"
      },
      {
        "duration": 23,
        "start_time": "2022-10-15T12:31:35.788Z"
      },
      {
        "duration": 19,
        "start_time": "2022-10-15T12:31:35.834Z"
      },
      {
        "duration": 3,
        "start_time": "2022-10-15T12:31:35.855Z"
      },
      {
        "duration": 17,
        "start_time": "2022-10-15T12:31:35.860Z"
      },
      {
        "duration": 11,
        "start_time": "2022-10-15T12:31:35.879Z"
      },
      {
        "duration": 13,
        "start_time": "2022-10-15T12:31:35.892Z"
      },
      {
        "duration": 15,
        "start_time": "2022-10-15T12:31:35.906Z"
      },
      {
        "duration": 11,
        "start_time": "2022-10-15T12:31:35.934Z"
      },
      {
        "duration": 11,
        "start_time": "2022-10-15T12:31:35.947Z"
      },
      {
        "duration": 15,
        "start_time": "2022-10-15T12:31:35.960Z"
      },
      {
        "duration": 9,
        "start_time": "2022-10-15T12:31:35.977Z"
      },
      {
        "duration": 5,
        "start_time": "2022-10-15T12:31:35.988Z"
      },
      {
        "duration": 14,
        "start_time": "2022-10-15T12:31:35.995Z"
      },
      {
        "duration": 26,
        "start_time": "2022-10-15T12:31:36.012Z"
      },
      {
        "duration": 12,
        "start_time": "2022-10-15T12:31:36.040Z"
      },
      {
        "duration": 7,
        "start_time": "2022-10-15T12:31:36.053Z"
      },
      {
        "duration": 10,
        "start_time": "2022-10-15T12:31:36.061Z"
      },
      {
        "duration": 9,
        "start_time": "2022-10-15T12:31:36.073Z"
      },
      {
        "duration": 13,
        "start_time": "2022-10-15T12:31:36.084Z"
      },
      {
        "duration": 12,
        "start_time": "2022-10-15T12:31:36.133Z"
      },
      {
        "duration": 11,
        "start_time": "2022-10-15T12:31:36.147Z"
      },
      {
        "duration": 30,
        "start_time": "2022-10-15T12:31:36.160Z"
      },
      {
        "duration": 39,
        "start_time": "2022-10-15T12:31:36.193Z"
      },
      {
        "duration": 15,
        "start_time": "2022-10-15T12:31:36.234Z"
      },
      {
        "duration": 50,
        "start_time": "2022-10-17T08:46:54.361Z"
      },
      {
        "duration": 509,
        "start_time": "2022-10-17T10:47:56.319Z"
      },
      {
        "duration": 23,
        "start_time": "2022-10-17T10:47:56.830Z"
      },
      {
        "duration": 19,
        "start_time": "2022-10-17T10:47:56.854Z"
      },
      {
        "duration": 12,
        "start_time": "2022-10-17T10:47:56.875Z"
      },
      {
        "duration": 49,
        "start_time": "2022-10-17T10:47:56.889Z"
      },
      {
        "duration": 4,
        "start_time": "2022-10-17T10:47:56.939Z"
      },
      {
        "duration": 17,
        "start_time": "2022-10-17T10:47:56.944Z"
      },
      {
        "duration": 7,
        "start_time": "2022-10-17T10:47:56.962Z"
      },
      {
        "duration": 14,
        "start_time": "2022-10-17T10:47:56.970Z"
      },
      {
        "duration": 6,
        "start_time": "2022-10-17T10:47:56.986Z"
      },
      {
        "duration": 42,
        "start_time": "2022-10-17T10:47:56.994Z"
      },
      {
        "duration": 8,
        "start_time": "2022-10-17T10:47:57.038Z"
      },
      {
        "duration": 14,
        "start_time": "2022-10-17T10:47:57.047Z"
      },
      {
        "duration": 14,
        "start_time": "2022-10-17T10:47:57.064Z"
      },
      {
        "duration": 30,
        "start_time": "2022-10-17T10:47:57.080Z"
      },
      {
        "duration": 18,
        "start_time": "2022-10-17T10:47:57.111Z"
      },
      {
        "duration": 5,
        "start_time": "2022-10-17T10:47:57.131Z"
      },
      {
        "duration": 14,
        "start_time": "2022-10-17T10:47:57.138Z"
      },
      {
        "duration": 18,
        "start_time": "2022-10-17T10:47:57.154Z"
      },
      {
        "duration": 29,
        "start_time": "2022-10-17T10:47:57.174Z"
      },
      {
        "duration": 27,
        "start_time": "2022-10-17T10:47:57.204Z"
      },
      {
        "duration": 14,
        "start_time": "2022-10-17T10:47:57.233Z"
      },
      {
        "duration": 25,
        "start_time": "2022-10-17T10:47:57.249Z"
      },
      {
        "duration": 20,
        "start_time": "2022-10-17T10:47:57.275Z"
      },
      {
        "duration": 12,
        "start_time": "2022-10-17T10:47:57.297Z"
      },
      {
        "duration": 13,
        "start_time": "2022-10-17T10:47:57.310Z"
      },
      {
        "duration": 24,
        "start_time": "2022-10-17T10:47:57.325Z"
      },
      {
        "duration": 18,
        "start_time": "2022-10-17T10:47:57.351Z"
      },
      {
        "duration": 40,
        "start_time": "2022-10-17T10:47:57.371Z"
      },
      {
        "duration": 11,
        "start_time": "2022-10-17T10:47:57.412Z"
      },
      {
        "duration": 20,
        "start_time": "2022-10-17T10:47:57.425Z"
      },
      {
        "duration": 31,
        "start_time": "2022-10-17T10:47:57.446Z"
      },
      {
        "duration": 16,
        "start_time": "2022-10-17T10:47:57.479Z"
      },
      {
        "duration": 20,
        "start_time": "2022-10-17T10:47:57.497Z"
      },
      {
        "duration": 15,
        "start_time": "2022-10-17T10:47:57.518Z"
      },
      {
        "duration": 29,
        "start_time": "2022-10-17T10:47:57.535Z"
      },
      {
        "duration": 21,
        "start_time": "2022-10-17T10:47:57.566Z"
      },
      {
        "duration": 24,
        "start_time": "2022-10-17T10:47:57.589Z"
      },
      {
        "duration": 72,
        "start_time": "2022-10-17T10:47:57.615Z"
      },
      {
        "duration": 33,
        "start_time": "2022-10-17T10:48:41.474Z"
      },
      {
        "duration": 737,
        "start_time": "2022-10-17T10:48:55.121Z"
      },
      {
        "duration": 9,
        "start_time": "2022-10-17T10:49:06.877Z"
      },
      {
        "duration": 7,
        "start_time": "2022-10-17T10:49:14.606Z"
      },
      {
        "duration": 6,
        "start_time": "2022-10-17T10:49:28.726Z"
      },
      {
        "duration": 87,
        "start_time": "2022-10-18T08:36:02.711Z"
      },
      {
        "duration": 604,
        "start_time": "2022-10-18T13:11:31.860Z"
      },
      {
        "duration": 25,
        "start_time": "2022-10-18T13:11:32.466Z"
      },
      {
        "duration": 26,
        "start_time": "2022-10-18T13:11:32.492Z"
      },
      {
        "duration": 19,
        "start_time": "2022-10-18T13:11:32.520Z"
      },
      {
        "duration": 40,
        "start_time": "2022-10-18T13:11:32.541Z"
      },
      {
        "duration": 4,
        "start_time": "2022-10-18T13:11:32.582Z"
      },
      {
        "duration": 16,
        "start_time": "2022-10-18T13:11:32.587Z"
      },
      {
        "duration": 5,
        "start_time": "2022-10-18T13:11:32.605Z"
      },
      {
        "duration": 25,
        "start_time": "2022-10-18T13:11:32.612Z"
      },
      {
        "duration": 5,
        "start_time": "2022-10-18T13:11:32.639Z"
      },
      {
        "duration": 41,
        "start_time": "2022-10-18T13:11:32.646Z"
      },
      {
        "duration": 9,
        "start_time": "2022-10-18T13:11:32.689Z"
      },
      {
        "duration": 3,
        "start_time": "2022-10-18T13:11:32.700Z"
      },
      {
        "duration": 34,
        "start_time": "2022-10-18T13:11:32.706Z"
      },
      {
        "duration": 19,
        "start_time": "2022-10-18T13:11:32.742Z"
      },
      {
        "duration": 15,
        "start_time": "2022-10-18T13:11:32.762Z"
      },
      {
        "duration": 3,
        "start_time": "2022-10-18T13:11:32.779Z"
      },
      {
        "duration": 14,
        "start_time": "2022-10-18T13:11:32.783Z"
      },
      {
        "duration": 5,
        "start_time": "2022-10-18T13:11:32.798Z"
      },
      {
        "duration": 30,
        "start_time": "2022-10-18T13:11:32.805Z"
      },
      {
        "duration": 14,
        "start_time": "2022-10-18T13:11:32.836Z"
      },
      {
        "duration": 4,
        "start_time": "2022-10-18T13:11:32.852Z"
      },
      {
        "duration": 8,
        "start_time": "2022-10-18T13:11:32.857Z"
      },
      {
        "duration": 6,
        "start_time": "2022-10-18T13:11:32.866Z"
      },
      {
        "duration": 8,
        "start_time": "2022-10-18T13:11:32.873Z"
      },
      {
        "duration": 3,
        "start_time": "2022-10-18T13:11:32.883Z"
      },
      {
        "duration": 10,
        "start_time": "2022-10-18T13:11:32.888Z"
      },
      {
        "duration": 91,
        "start_time": "2022-10-18T13:11:32.899Z"
      },
      {
        "duration": 4,
        "start_time": "2022-10-18T13:11:40.324Z"
      },
      {
        "duration": 4,
        "start_time": "2022-10-18T13:12:33.605Z"
      },
      {
        "duration": 458,
        "start_time": "2022-10-18T13:14:40.545Z"
      },
      {
        "duration": 21,
        "start_time": "2022-10-18T13:14:41.005Z"
      },
      {
        "duration": 15,
        "start_time": "2022-10-18T13:14:41.027Z"
      },
      {
        "duration": 9,
        "start_time": "2022-10-18T13:14:41.044Z"
      },
      {
        "duration": 37,
        "start_time": "2022-10-18T13:14:41.054Z"
      },
      {
        "duration": 3,
        "start_time": "2022-10-18T13:14:41.093Z"
      },
      {
        "duration": 12,
        "start_time": "2022-10-18T13:14:41.098Z"
      },
      {
        "duration": 7,
        "start_time": "2022-10-18T13:14:41.112Z"
      },
      {
        "duration": 20,
        "start_time": "2022-10-18T13:14:41.120Z"
      },
      {
        "duration": 4,
        "start_time": "2022-10-18T13:14:41.142Z"
      },
      {
        "duration": 35,
        "start_time": "2022-10-18T13:14:41.148Z"
      },
      {
        "duration": 11,
        "start_time": "2022-10-18T13:14:41.184Z"
      },
      {
        "duration": 5,
        "start_time": "2022-10-18T13:14:41.196Z"
      },
      {
        "duration": 31,
        "start_time": "2022-10-18T13:14:41.203Z"
      },
      {
        "duration": 19,
        "start_time": "2022-10-18T13:14:41.236Z"
      },
      {
        "duration": 16,
        "start_time": "2022-10-18T13:14:41.257Z"
      },
      {
        "duration": 4,
        "start_time": "2022-10-18T13:14:41.274Z"
      },
      {
        "duration": 13,
        "start_time": "2022-10-18T13:14:41.280Z"
      },
      {
        "duration": 5,
        "start_time": "2022-10-18T13:14:41.295Z"
      },
      {
        "duration": 3,
        "start_time": "2022-10-18T13:14:41.301Z"
      },
      {
        "duration": 8,
        "start_time": "2022-10-18T13:14:41.334Z"
      },
      {
        "duration": 6,
        "start_time": "2022-10-18T13:14:41.344Z"
      },
      {
        "duration": 9,
        "start_time": "2022-10-18T13:14:41.352Z"
      },
      {
        "duration": 8,
        "start_time": "2022-10-18T13:14:41.363Z"
      },
      {
        "duration": 8,
        "start_time": "2022-10-18T13:14:41.372Z"
      },
      {
        "duration": 3,
        "start_time": "2022-10-18T13:14:41.382Z"
      },
      {
        "duration": 11,
        "start_time": "2022-10-18T13:14:41.387Z"
      },
      {
        "duration": 4,
        "start_time": "2022-10-18T13:14:41.433Z"
      },
      {
        "duration": 10,
        "start_time": "2022-10-18T13:14:41.438Z"
      },
      {
        "duration": 7,
        "start_time": "2022-10-18T13:14:41.449Z"
      },
      {
        "duration": 11,
        "start_time": "2022-10-18T13:14:41.457Z"
      },
      {
        "duration": 7,
        "start_time": "2022-10-18T13:14:41.470Z"
      },
      {
        "duration": 7,
        "start_time": "2022-10-18T13:14:41.478Z"
      },
      {
        "duration": 6,
        "start_time": "2022-10-18T13:14:41.486Z"
      },
      {
        "duration": 7,
        "start_time": "2022-10-18T13:14:41.534Z"
      },
      {
        "duration": 19,
        "start_time": "2022-10-18T13:14:41.543Z"
      },
      {
        "duration": 7,
        "start_time": "2022-10-18T13:14:41.564Z"
      },
      {
        "duration": 8,
        "start_time": "2022-10-18T13:14:41.573Z"
      },
      {
        "duration": 12,
        "start_time": "2022-10-18T13:14:41.583Z"
      },
      {
        "duration": 9,
        "start_time": "2022-10-18T13:14:41.597Z"
      },
      {
        "duration": 5,
        "start_time": "2022-10-18T13:14:41.634Z"
      }
    ],
    "colab": {
      "provenance": [],
      "include_colab_link": true
    },
    "kernelspec": {
      "display_name": "Python 3 (ipykernel)",
      "language": "python",
      "name": "python3"
    },
    "language_info": {
      "codemirror_mode": {
        "name": "ipython",
        "version": 3
      },
      "file_extension": ".py",
      "mimetype": "text/x-python",
      "name": "python",
      "nbconvert_exporter": "python",
      "pygments_lexer": "ipython3",
      "version": "3.9.5"
    },
    "toc": {
      "base_numbering": 1,
      "nav_menu": {},
      "number_sections": true,
      "sideBar": true,
      "skip_h1_title": true,
      "title_cell": "Table of Contents",
      "title_sidebar": "Contents",
      "toc_cell": false,
      "toc_position": {},
      "toc_section_display": true,
      "toc_window_display": true
    }
  },
  "nbformat": 4,
  "nbformat_minor": 5
}