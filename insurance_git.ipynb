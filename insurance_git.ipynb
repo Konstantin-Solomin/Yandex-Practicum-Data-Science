{
  "cells": [
    {
      "cell_type": "markdown",
      "metadata": {
        "toc": true,
        "id": "iVjPocpnyf_G"
      },
      "source": [
        "<h1>Содержание<span class=\"tocSkip\"></span></h1>\n",
        "<div class=\"toc\"><ul class=\"toc-item\"><li><span><a href=\"#Загрузка-данных\" data-toc-modified-id=\"Загрузка-данных-1\"><span class=\"toc-item-num\">1&nbsp;&nbsp;</span>Загрузка данных</a></span></li><li><span><a href=\"#Умножение-матриц\" data-toc-modified-id=\"Умножение-матриц-2\"><span class=\"toc-item-num\">2&nbsp;&nbsp;</span>Умножение матриц</a></span></li><li><span><a href=\"#Алгоритм-преобразования\" data-toc-modified-id=\"Алгоритм-преобразования-3\"><span class=\"toc-item-num\">3&nbsp;&nbsp;</span>Алгоритм преобразования</a></span></li><li><span><a href=\"#Проверка-алгоритма\" data-toc-modified-id=\"Проверка-алгоритма-4\"><span class=\"toc-item-num\">4&nbsp;&nbsp;</span>Проверка алгоритма</a></span></li><li><span><a href=\"#Вывод\" data-toc-modified-id=\"Вывод-5\"><span class=\"toc-item-num\">5&nbsp;&nbsp;</span>Вывод</a></span></li><li><span><a href=\"#Чек-лист-проверки\" data-toc-modified-id=\"Чек-лист-проверки-6\"><span class=\"toc-item-num\">6&nbsp;&nbsp;</span>Чек-лист проверки</a></span></li></ul></div>"
      ]
    },
    {
      "cell_type": "markdown",
      "metadata": {
        "id": "FL77buwZyf_G"
      },
      "source": [
        "# Защита персональных данных клиентов"
      ]
    },
    {
      "cell_type": "markdown",
      "metadata": {
        "id": "BZ4m-wgjyf_H"
      },
      "source": [
        "Вам нужно защитить данные клиентов страховой компании «Хоть потоп». Разработайте такой метод преобразования данных, чтобы по ним было сложно восстановить персональную информацию. Обоснуйте корректность его работы.\n",
        "\n",
        "Нужно защитить данные, чтобы при преобразовании качество моделей машинного обучения не ухудшилось. Подбирать наилучшую модель не требуется."
      ]
    },
    {
      "cell_type": "markdown",
      "metadata": {
        "id": "-5k2dZzdyf_H"
      },
      "source": [
        "# Инструкция по выполнению проекта"
      ]
    },
    {
      "cell_type": "markdown",
      "metadata": {
        "id": "jTRyxRUlyf_H"
      },
      "source": [
        "Загрузите и изучите данные.  \n",
        "Ответьте на вопрос и обоснуйте решение.   \n",
        " Признаки умножают на обратимую матрицу. Изменится ли качество линейной регрессии? (Её можно обучить заново.)  \n",
        " a. Изменится. Приведите примеры матриц.  \n",
        " b. Не изменится. Укажите, как связаны параметры линейной регрессии в исходной задаче и в преобразованной.  \n",
        "Предложите алгоритм преобразования данных для решения задачи. Обоснуйте, почему качество линейной регрессии не поменяется.  \n",
        "Запрограммируйте этот алгоритм, применив матричные операции. Проверьте, что качество линейной регрессии из sklearn не отличается до и после преобразования. Примените метрику R2."
      ]
    },
    {
      "cell_type": "markdown",
      "metadata": {
        "id": "YBLsaLf2yf_H"
      },
      "source": [
        "## Загрузка данных"
      ]
    },
    {
      "cell_type": "code",
      "execution_count": null,
      "metadata": {
        "id": "7jmVS7ynyf_I"
      },
      "outputs": [],
      "source": [
        "import pandas as pd\n",
        "import matplotlib as plt\n",
        "import numpy as np\n",
        "from sklearn.linear_model import LinearRegression\n",
        "from sklearn.model_selection import cross_val_score "
      ]
    },
    {
      "cell_type": "code",
      "execution_count": null,
      "metadata": {
        "id": "14sqM-6oyf_J"
      },
      "outputs": [],
      "source": [
        "#plt.style.use('dark_background') #selectable"
      ]
    },
    {
      "cell_type": "code",
      "execution_count": null,
      "metadata": {
        "id": "mwBWr8JCyf_J"
      },
      "outputs": [],
      "source": [
        "try:\n",
        "    df = pd.read_csv(\n",
        "        'http://localhost:8888/edit/Desktop/Инф/Learning%20DS/projects/insurance/insurance.csv')\n",
        "except:\n",
        "    df = pd.read_csv(\n",
        "        'https://code.s3.yandex.net/datasets/insurance.csv')"
      ]
    },
    {
      "cell_type": "code",
      "execution_count": null,
      "metadata": {
        "id": "0VA2tsQ0yf_J",
        "outputId": "8d52ff33-a980-45e6-e29a-d628a69c649f"
      },
      "outputs": [
        {
          "data": {
            "text/html": [
              "<div>\n",
              "<style scoped>\n",
              "    .dataframe tbody tr th:only-of-type {\n",
              "        vertical-align: middle;\n",
              "    }\n",
              "\n",
              "    .dataframe tbody tr th {\n",
              "        vertical-align: top;\n",
              "    }\n",
              "\n",
              "    .dataframe thead th {\n",
              "        text-align: right;\n",
              "    }\n",
              "</style>\n",
              "<table border=\"1\" class=\"dataframe\">\n",
              "  <thead>\n",
              "    <tr style=\"text-align: right;\">\n",
              "      <th></th>\n",
              "      <th>Пол</th>\n",
              "      <th>Возраст</th>\n",
              "      <th>Зарплата</th>\n",
              "      <th>Члены семьи</th>\n",
              "      <th>Страховые выплаты</th>\n",
              "    </tr>\n",
              "  </thead>\n",
              "  <tbody>\n",
              "    <tr>\n",
              "      <th>0</th>\n",
              "      <td>1</td>\n",
              "      <td>41.0</td>\n",
              "      <td>49600.0</td>\n",
              "      <td>1</td>\n",
              "      <td>0</td>\n",
              "    </tr>\n",
              "    <tr>\n",
              "      <th>1</th>\n",
              "      <td>0</td>\n",
              "      <td>46.0</td>\n",
              "      <td>38000.0</td>\n",
              "      <td>1</td>\n",
              "      <td>1</td>\n",
              "    </tr>\n",
              "    <tr>\n",
              "      <th>2</th>\n",
              "      <td>0</td>\n",
              "      <td>29.0</td>\n",
              "      <td>21000.0</td>\n",
              "      <td>0</td>\n",
              "      <td>0</td>\n",
              "    </tr>\n",
              "    <tr>\n",
              "      <th>3</th>\n",
              "      <td>0</td>\n",
              "      <td>21.0</td>\n",
              "      <td>41700.0</td>\n",
              "      <td>2</td>\n",
              "      <td>0</td>\n",
              "    </tr>\n",
              "    <tr>\n",
              "      <th>4</th>\n",
              "      <td>1</td>\n",
              "      <td>28.0</td>\n",
              "      <td>26100.0</td>\n",
              "      <td>0</td>\n",
              "      <td>0</td>\n",
              "    </tr>\n",
              "    <tr>\n",
              "      <th>...</th>\n",
              "      <td>...</td>\n",
              "      <td>...</td>\n",
              "      <td>...</td>\n",
              "      <td>...</td>\n",
              "      <td>...</td>\n",
              "    </tr>\n",
              "    <tr>\n",
              "      <th>4995</th>\n",
              "      <td>0</td>\n",
              "      <td>28.0</td>\n",
              "      <td>35700.0</td>\n",
              "      <td>2</td>\n",
              "      <td>0</td>\n",
              "    </tr>\n",
              "    <tr>\n",
              "      <th>4996</th>\n",
              "      <td>0</td>\n",
              "      <td>34.0</td>\n",
              "      <td>52400.0</td>\n",
              "      <td>1</td>\n",
              "      <td>0</td>\n",
              "    </tr>\n",
              "    <tr>\n",
              "      <th>4997</th>\n",
              "      <td>0</td>\n",
              "      <td>20.0</td>\n",
              "      <td>33900.0</td>\n",
              "      <td>2</td>\n",
              "      <td>0</td>\n",
              "    </tr>\n",
              "    <tr>\n",
              "      <th>4998</th>\n",
              "      <td>1</td>\n",
              "      <td>22.0</td>\n",
              "      <td>32700.0</td>\n",
              "      <td>3</td>\n",
              "      <td>0</td>\n",
              "    </tr>\n",
              "    <tr>\n",
              "      <th>4999</th>\n",
              "      <td>1</td>\n",
              "      <td>28.0</td>\n",
              "      <td>40600.0</td>\n",
              "      <td>1</td>\n",
              "      <td>0</td>\n",
              "    </tr>\n",
              "  </tbody>\n",
              "</table>\n",
              "<p>5000 rows × 5 columns</p>\n",
              "</div>"
            ],
            "text/plain": [
              "      Пол  Возраст  Зарплата  Члены семьи  Страховые выплаты\n",
              "0       1     41.0   49600.0            1                  0\n",
              "1       0     46.0   38000.0            1                  1\n",
              "2       0     29.0   21000.0            0                  0\n",
              "3       0     21.0   41700.0            2                  0\n",
              "4       1     28.0   26100.0            0                  0\n",
              "...   ...      ...       ...          ...                ...\n",
              "4995    0     28.0   35700.0            2                  0\n",
              "4996    0     34.0   52400.0            1                  0\n",
              "4997    0     20.0   33900.0            2                  0\n",
              "4998    1     22.0   32700.0            3                  0\n",
              "4999    1     28.0   40600.0            1                  0\n",
              "\n",
              "[5000 rows x 5 columns]"
            ]
          },
          "execution_count": 4,
          "metadata": {},
          "output_type": "execute_result"
        }
      ],
      "source": [
        "df"
      ]
    },
    {
      "cell_type": "code",
      "execution_count": null,
      "metadata": {
        "id": "XZWUm_2Iyf_K",
        "outputId": "f0fa8421-b65a-4920-bba4-3a21bef6530d"
      },
      "outputs": [
        {
          "name": "stdout",
          "output_type": "stream",
          "text": [
            "<class 'pandas.core.frame.DataFrame'>\n",
            "RangeIndex: 5000 entries, 0 to 4999\n",
            "Data columns (total 5 columns):\n",
            " #   Column             Non-Null Count  Dtype  \n",
            "---  ------             --------------  -----  \n",
            " 0   Пол                5000 non-null   int64  \n",
            " 1   Возраст            5000 non-null   float64\n",
            " 2   Зарплата           5000 non-null   float64\n",
            " 3   Члены семьи        5000 non-null   int64  \n",
            " 4   Страховые выплаты  5000 non-null   int64  \n",
            "dtypes: float64(2), int64(3)\n",
            "memory usage: 195.4 KB\n"
          ]
        }
      ],
      "source": [
        "df.info()"
      ]
    },
    {
      "cell_type": "code",
      "execution_count": null,
      "metadata": {
        "id": "LFTwF1N-yf_K",
        "outputId": "8faacf4b-0d79-48c9-bb34-4ee564bc2661"
      },
      "outputs": [
        {
          "data": {
            "text/html": [
              "<div>\n",
              "<style scoped>\n",
              "    .dataframe tbody tr th:only-of-type {\n",
              "        vertical-align: middle;\n",
              "    }\n",
              "\n",
              "    .dataframe tbody tr th {\n",
              "        vertical-align: top;\n",
              "    }\n",
              "\n",
              "    .dataframe thead th {\n",
              "        text-align: right;\n",
              "    }\n",
              "</style>\n",
              "<table border=\"1\" class=\"dataframe\">\n",
              "  <thead>\n",
              "    <tr style=\"text-align: right;\">\n",
              "      <th></th>\n",
              "      <th>Пол</th>\n",
              "      <th>Возраст</th>\n",
              "      <th>Зарплата</th>\n",
              "      <th>Члены семьи</th>\n",
              "      <th>Страховые выплаты</th>\n",
              "    </tr>\n",
              "  </thead>\n",
              "  <tbody>\n",
              "    <tr>\n",
              "      <th>count</th>\n",
              "      <td>5000.000000</td>\n",
              "      <td>5000.000000</td>\n",
              "      <td>5000.000000</td>\n",
              "      <td>5000.000000</td>\n",
              "      <td>5000.000000</td>\n",
              "    </tr>\n",
              "    <tr>\n",
              "      <th>mean</th>\n",
              "      <td>0.499000</td>\n",
              "      <td>30.952800</td>\n",
              "      <td>39916.360000</td>\n",
              "      <td>1.194200</td>\n",
              "      <td>0.148000</td>\n",
              "    </tr>\n",
              "    <tr>\n",
              "      <th>std</th>\n",
              "      <td>0.500049</td>\n",
              "      <td>8.440807</td>\n",
              "      <td>9900.083569</td>\n",
              "      <td>1.091387</td>\n",
              "      <td>0.463183</td>\n",
              "    </tr>\n",
              "    <tr>\n",
              "      <th>min</th>\n",
              "      <td>0.000000</td>\n",
              "      <td>18.000000</td>\n",
              "      <td>5300.000000</td>\n",
              "      <td>0.000000</td>\n",
              "      <td>0.000000</td>\n",
              "    </tr>\n",
              "    <tr>\n",
              "      <th>25%</th>\n",
              "      <td>0.000000</td>\n",
              "      <td>24.000000</td>\n",
              "      <td>33300.000000</td>\n",
              "      <td>0.000000</td>\n",
              "      <td>0.000000</td>\n",
              "    </tr>\n",
              "    <tr>\n",
              "      <th>50%</th>\n",
              "      <td>0.000000</td>\n",
              "      <td>30.000000</td>\n",
              "      <td>40200.000000</td>\n",
              "      <td>1.000000</td>\n",
              "      <td>0.000000</td>\n",
              "    </tr>\n",
              "    <tr>\n",
              "      <th>75%</th>\n",
              "      <td>1.000000</td>\n",
              "      <td>37.000000</td>\n",
              "      <td>46600.000000</td>\n",
              "      <td>2.000000</td>\n",
              "      <td>0.000000</td>\n",
              "    </tr>\n",
              "    <tr>\n",
              "      <th>max</th>\n",
              "      <td>1.000000</td>\n",
              "      <td>65.000000</td>\n",
              "      <td>79000.000000</td>\n",
              "      <td>6.000000</td>\n",
              "      <td>5.000000</td>\n",
              "    </tr>\n",
              "  </tbody>\n",
              "</table>\n",
              "</div>"
            ],
            "text/plain": [
              "               Пол      Возраст      Зарплата  Члены семьи  Страховые выплаты\n",
              "count  5000.000000  5000.000000   5000.000000  5000.000000        5000.000000\n",
              "mean      0.499000    30.952800  39916.360000     1.194200           0.148000\n",
              "std       0.500049     8.440807   9900.083569     1.091387           0.463183\n",
              "min       0.000000    18.000000   5300.000000     0.000000           0.000000\n",
              "25%       0.000000    24.000000  33300.000000     0.000000           0.000000\n",
              "50%       0.000000    30.000000  40200.000000     1.000000           0.000000\n",
              "75%       1.000000    37.000000  46600.000000     2.000000           0.000000\n",
              "max       1.000000    65.000000  79000.000000     6.000000           5.000000"
            ]
          },
          "execution_count": 6,
          "metadata": {},
          "output_type": "execute_result"
        }
      ],
      "source": [
        "df.describe()"
      ]
    },
    {
      "cell_type": "code",
      "execution_count": null,
      "metadata": {
        "id": "1lz5Cxgdyf_K",
        "outputId": "e7fe3f6f-3b72-4d6e-b9db-f4228d1e8fb2"
      },
      "outputs": [
        {
          "data": {
            "image/png": "[encoded data removed]",
            "text/plain": [
              "<Figure size 720x504 with 6 Axes>"
            ]
          },
          "metadata": {
            "needs_background": "light"
          },
          "output_type": "display_data"
        }
      ],
      "source": [
        "df.hist(figsize=(10,7));"
      ]
    },
    {
      "cell_type": "code",
      "execution_count": null,
      "metadata": {
        "id": "-9zcD9Zwyf_L",
        "outputId": "4a59e2a0-63a6-458e-9863-e1094ac55056"
      },
      "outputs": [
        {
          "data": {
            "text/plain": [
              "153"
            ]
          },
          "execution_count": 8,
          "metadata": {},
          "output_type": "execute_result"
        }
      ],
      "source": [
        "df.duplicated().sum()"
      ]
    },
    {
      "cell_type": "markdown",
      "metadata": {
        "id": "smKnjwSLyf_L"
      },
      "source": [
        "# Описание данных"
      ]
    },
    {
      "cell_type": "markdown",
      "metadata": {
        "id": "5yxX8gJbyf_L"
      },
      "source": [
        "**Признаки**: пол, возраст и зарплата застрахованного, количество членов его семьи.  \n",
        "**Целевой признак**: количество страховых выплат клиенту за последние 5 лет."
      ]
    },
    {
      "cell_type": "markdown",
      "metadata": {
        "id": "dgIQ2WKXyf_L"
      },
      "source": [
        "Данные в прекрасном состоянии, выглядят естественно. Встречающиеся дубликаты не вызывают подозрений. Выбросы отсутствуют, пропусков нет, нулей в неподходящих местах нет."
      ]
    },
    {
      "cell_type": "markdown",
      "metadata": {
        "id": "eu4_CSSFyf_M"
      },
      "source": [
        "## Умножение матриц"
      ]
    },
    {
      "cell_type": "markdown",
      "metadata": {
        "id": "EtdW4952yf_M"
      },
      "source": [
        "В этом задании вы можете записывать формулы в *Jupyter Notebook.*\n",
        "\n",
        "Чтобы записать формулу внутри текста, окружите её символами доллара \\\\$; если снаружи —  двойными символами \\\\$\\\\$. Эти формулы записываются на языке вёрстки *LaTeX.* \n",
        "\n",
        "Для примера мы записали формулы линейной регрессии. Можете их скопировать и отредактировать, чтобы решить задачу.\n",
        "\n",
        "Работать в *LaTeX* необязательно."
      ]
    },
    {
      "cell_type": "markdown",
      "metadata": {
        "id": "70lP9ko-yf_M"
      },
      "source": [
        "Обозначения:\n",
        "\n",
        "- $X$ — матрица признаков (нулевой столбец состоит из единиц)\n",
        "\n",
        "- $y$ — вектор целевого признака\n",
        "\n",
        "- $P$ — матрица, на которую умножаются признаки\n",
        "\n",
        "- $w$ — вектор весов линейной регрессии (нулевой элемент равен сдвигу)"
      ]
    },
    {
      "cell_type": "markdown",
      "metadata": {
        "id": "CR98ydjIyf_M"
      },
      "source": [
        "Предсказания:\n",
        "\n",
        "$$\n",
        "a = Xw\n",
        "$$\n",
        "\n",
        "Задача обучения:\n",
        "\n",
        "$$\n",
        "w = \\arg\\min_w MSE(Xw, y)\n",
        "$$\n",
        "\n",
        "Формула обучения:\n",
        "\n",
        "$$\n",
        "w = (X^T X)^{-1} X^T y\n",
        "$$"
      ]
    },
    {
      "cell_type": "markdown",
      "metadata": {
        "id": "0YcIsQ1wyf_M"
      },
      "source": [
        "Обозначения:\n",
        "\n",
        "- $a_1$ — предсказания с учетом умножения на обратимую матрицу\n",
        "\n",
        "- $w_1$ — формула обучения с учетом умножения на обратимую матрицу"
      ]
    },
    {
      "cell_type": "markdown",
      "metadata": {
        "id": "Mm6Q-ysRyf_M"
      },
      "source": [
        "Предсказания с учетом умножения на обратимую матрицу\n",
        "$$\n",
        "a_1 = XPw_1\n",
        "$$\n",
        "\n",
        "Преобразуем формулу обучения\n",
        "\n",
        "$$\n",
        "w_1 = ((XP)^T XP)^{-1} (XP)^T y\n",
        "$$\n",
        "\n",
        "Раскроем скобки\n",
        "\n",
        "$$\n",
        "w_1 = (X^T P^T XP)^{-1} X^T P^T y = (X^TX)^{-1} (P^T)^{-1} P^{-1} X^T P^T y\n",
        "$$\n",
        "\n",
        "Выражение $(P^T)^{-1} P^T$ приводит к единичной матрице, а умножение на нее в свою очередь приводит к исходной матрице, значит выражение $(P^T)^{-1} P^T$ можно убрать\n",
        "\n",
        "$$\n",
        "w_1 = (X^TX)^{-1} P^{-1} X^T y\n",
        "$$\n",
        "\n",
        "Так как $w = (X^T X)^{-1} X^T y$\n",
        "\n",
        "$$\n",
        "w_1 = P^{-1} w\n",
        "$$\n",
        "\n",
        "Перенесем полученое выражение в формулу предсказаний\n",
        "\n",
        "$$\n",
        "a_1 = XP P^{-1} w\n",
        "$$\n",
        "\n",
        "$$\n",
        "a_1 = Xw\n",
        "$$\n",
        "\n",
        "$$\n",
        "a_1 = a\n",
        "$$\n",
        "\n"
      ]
    },
    {
      "cell_type": "markdown",
      "metadata": {
        "id": "jlbOB7-Oyf_M"
      },
      "source": [
        "**Вывод:** Предсказания при умножении на обратимую матрицу равны предсказаниям без умножения на обратимую матрицу"
      ]
    },
    {
      "cell_type": "code",
      "execution_count": null,
      "metadata": {
        "id": "f6NJTLQeyf_N"
      },
      "outputs": [],
      "source": [
        "features = df.drop('Страховые выплаты', axis=1)\n",
        "target = df['Страховые выплаты']"
      ]
    },
    {
      "cell_type": "code",
      "execution_count": null,
      "metadata": {
        "id": "fKXB-OCsyf_N",
        "outputId": "6dbbcdbd-6b52-4442-bc8d-5327a5bc224c"
      },
      "outputs": [
        {
          "name": "stdout",
          "output_type": "stream",
          "text": [
            "original score: 0.4231\n"
          ]
        }
      ],
      "source": [
        "model = LinearRegression()\n",
        "score = cross_val_score(model,features,target)\n",
        "final_score = pd.Series(score).mean()\n",
        "print(f'original score: {final_score:.4f}')"
      ]
    },
    {
      "cell_type": "markdown",
      "metadata": {
        "id": "SfOzCU4Kyf_N"
      },
      "source": [
        "Согласно документации если не указать параметр scoring в методе cross_val_score, будет использована метрика по умолчанию. Метрикой по умолчанию для моделей регрессии является r2_score."
      ]
    },
    {
      "cell_type": "code",
      "execution_count": null,
      "metadata": {
        "id": "8DaOORleyf_O",
        "outputId": "cd29419c-79c4-422a-8b1e-6819903f8c94"
      },
      "outputs": [
        {
          "name": "stdout",
          "output_type": "stream",
          "text": [
            "test №1: 0.4231\n",
            "test №2: 0.4231\n",
            "test №3: 0.4231\n",
            "test №4: 0.4231\n",
            "test №5: 0.4231\n",
            "test №6: 0.4231\n",
            "test №7: 0.4231\n",
            "test №8: 0.4231\n",
            "test №9: 0.4231\n",
            "test №10: 0.4231\n",
            "Среднее значение метрики: 0.4231\n"
          ]
        }
      ],
      "source": [
        "temp = []\n",
        "for i in range(1000):\n",
        "    test = np.random.normal(-1000,1000,size=(4,4))\n",
        "    try:\n",
        "        np.linalg.inv(test)\n",
        "        features_new = features.values@test\n",
        "        model = LinearRegression()\n",
        "        score = cross_val_score(model,features_new,target)\n",
        "        final_score = pd.Series(score).mean()\n",
        "        temp.append(final_score)\n",
        "        if i < 10:\n",
        "            print(f'test №{i+1}: {final_score:.4f}')\n",
        "    except:\n",
        "        continue\n",
        "print(f'Среднее значение метрики: {pd.Series(temp).mean():.4f}')"
      ]
    },
    {
      "cell_type": "markdown",
      "metadata": {
        "id": "ExCdfTYqyf_O"
      },
      "source": [
        "**Ответ:** Качество линейной регрессии не изменится при умножении признаков на обратимую матрицу.\n",
        "\n",
        "**Обоснование:** \n",
        "1. Приведено теоретическое доказательство показавшее что предсказания не изменяются при умножении на обратимую матрицу.\n",
        "  \n",
        "  \n",
        "2. Был проведен эксперимент и повторен 1000 раз. Было посчитано значение метрики на оригинальных признаках, потом матрица оригинальных признаков умножалась на случайную обратимую матрицу, считалось значение метрики и находилось среднее значение из всех проведенных экспериментов. В результате было подтверждено совпадение значений метрик."
      ]
    },
    {
      "cell_type": "markdown",
      "metadata": {
        "id": "aMqSmes2yf_O"
      },
      "source": [
        "## Алгоритм преобразования"
      ]
    },
    {
      "cell_type": "markdown",
      "metadata": {
        "id": "Y_bcfxMuyf_O"
      },
      "source": [
        "**Алгоритм**\n",
        "\n",
        "Предлагаю использовать свойство обратимости матриц: шифровать признаки обратимой матрицей и дешифровать обратной ей"
      ]
    },
    {
      "cell_type": "markdown",
      "metadata": {
        "id": "KXFMHtejyf_P"
      },
      "source": [
        "**Обоснование**\n",
        "\n",
        "Как показали эксперименты такой подход не повлияет на качество линейной регрессии, а персональная информация о клиентах при этом будет хорошо защищена. При этом сохранится возможность дешифровки."
      ]
    },
    {
      "cell_type": "markdown",
      "metadata": {
        "id": "JU4X6cSdyf_P"
      },
      "source": [
        "## Проверка алгоритма"
      ]
    },
    {
      "cell_type": "code",
      "execution_count": null,
      "metadata": {
        "scrolled": false,
        "id": "w2FYaj4tyf_P",
        "outputId": "b81c368e-5a64-4f02-af73-7b5f5010033a"
      },
      "outputs": [
        {
          "data": {
            "text/plain": [
              "'Обычные признаки'"
            ]
          },
          "metadata": {},
          "output_type": "display_data"
        },
        {
          "data": {
            "text/html": [
              "<div>\n",
              "<style scoped>\n",
              "    .dataframe tbody tr th:only-of-type {\n",
              "        vertical-align: middle;\n",
              "    }\n",
              "\n",
              "    .dataframe tbody tr th {\n",
              "        vertical-align: top;\n",
              "    }\n",
              "\n",
              "    .dataframe thead th {\n",
              "        text-align: right;\n",
              "    }\n",
              "</style>\n",
              "<table border=\"1\" class=\"dataframe\">\n",
              "  <thead>\n",
              "    <tr style=\"text-align: right;\">\n",
              "      <th></th>\n",
              "      <th>Пол</th>\n",
              "      <th>Возраст</th>\n",
              "      <th>Зарплата</th>\n",
              "      <th>Члены семьи</th>\n",
              "    </tr>\n",
              "  </thead>\n",
              "  <tbody>\n",
              "    <tr>\n",
              "      <th>0</th>\n",
              "      <td>1</td>\n",
              "      <td>41.0</td>\n",
              "      <td>49600.0</td>\n",
              "      <td>1</td>\n",
              "    </tr>\n",
              "    <tr>\n",
              "      <th>1</th>\n",
              "      <td>0</td>\n",
              "      <td>46.0</td>\n",
              "      <td>38000.0</td>\n",
              "      <td>1</td>\n",
              "    </tr>\n",
              "    <tr>\n",
              "      <th>2</th>\n",
              "      <td>0</td>\n",
              "      <td>29.0</td>\n",
              "      <td>21000.0</td>\n",
              "      <td>0</td>\n",
              "    </tr>\n",
              "  </tbody>\n",
              "</table>\n",
              "</div>"
            ],
            "text/plain": [
              "   Пол  Возраст  Зарплата  Члены семьи\n",
              "0    1     41.0   49600.0            1\n",
              "1    0     46.0   38000.0            1\n",
              "2    0     29.0   21000.0            0"
            ]
          },
          "metadata": {},
          "output_type": "display_data"
        },
        {
          "data": {
            "text/plain": [
              "'Зашифрованные признаки'"
            ]
          },
          "metadata": {},
          "output_type": "display_data"
        },
        {
          "data": {
            "text/html": [
              "<div>\n",
              "<style scoped>\n",
              "    .dataframe tbody tr th:only-of-type {\n",
              "        vertical-align: middle;\n",
              "    }\n",
              "\n",
              "    .dataframe tbody tr th {\n",
              "        vertical-align: top;\n",
              "    }\n",
              "\n",
              "    .dataframe thead th {\n",
              "        text-align: right;\n",
              "    }\n",
              "</style>\n",
              "<table border=\"1\" class=\"dataframe\">\n",
              "  <thead>\n",
              "    <tr style=\"text-align: right;\">\n",
              "      <th></th>\n",
              "      <th>Пол</th>\n",
              "      <th>Возраст</th>\n",
              "      <th>Зарплата</th>\n",
              "      <th>Члены семьи</th>\n",
              "    </tr>\n",
              "  </thead>\n",
              "  <tbody>\n",
              "    <tr>\n",
              "      <th>0</th>\n",
              "      <td>46435426.0</td>\n",
              "      <td>-45272620.0</td>\n",
              "      <td>-22380983.0</td>\n",
              "      <td>798502.0</td>\n",
              "    </tr>\n",
              "    <tr>\n",
              "      <th>1</th>\n",
              "      <td>35579094.0</td>\n",
              "      <td>-34679659.0</td>\n",
              "      <td>-17132786.0</td>\n",
              "      <td>613875.0</td>\n",
              "    </tr>\n",
              "    <tr>\n",
              "      <th>2</th>\n",
              "      <td>19663366.0</td>\n",
              "      <td>-19164271.0</td>\n",
              "      <td>-9465088.0</td>\n",
              "      <td>339857.0</td>\n",
              "    </tr>\n",
              "  </tbody>\n",
              "</table>\n",
              "</div>"
            ],
            "text/plain": [
              "          Пол     Возраст    Зарплата  Члены семьи\n",
              "0  46435426.0 -45272620.0 -22380983.0     798502.0\n",
              "1  35579094.0 -34679659.0 -17132786.0     613875.0\n",
              "2  19663366.0 -19164271.0  -9465088.0     339857.0"
            ]
          },
          "metadata": {},
          "output_type": "display_data"
        },
        {
          "data": {
            "text/plain": [
              "'Расшифрованные признаки'"
            ]
          },
          "metadata": {},
          "output_type": "display_data"
        },
        {
          "data": {
            "text/html": [
              "<div>\n",
              "<style scoped>\n",
              "    .dataframe tbody tr th:only-of-type {\n",
              "        vertical-align: middle;\n",
              "    }\n",
              "\n",
              "    .dataframe tbody tr th {\n",
              "        vertical-align: top;\n",
              "    }\n",
              "\n",
              "    .dataframe thead th {\n",
              "        text-align: right;\n",
              "    }\n",
              "</style>\n",
              "<table border=\"1\" class=\"dataframe\">\n",
              "  <thead>\n",
              "    <tr style=\"text-align: right;\">\n",
              "      <th></th>\n",
              "      <th>Пол</th>\n",
              "      <th>Возраст</th>\n",
              "      <th>Зарплата</th>\n",
              "      <th>Члены семьи</th>\n",
              "    </tr>\n",
              "  </thead>\n",
              "  <tbody>\n",
              "    <tr>\n",
              "      <th>0</th>\n",
              "      <td>1.000000e+00</td>\n",
              "      <td>41.0</td>\n",
              "      <td>49600.0</td>\n",
              "      <td>1.000000e+00</td>\n",
              "    </tr>\n",
              "    <tr>\n",
              "      <th>1</th>\n",
              "      <td>-9.546988e-12</td>\n",
              "      <td>46.0</td>\n",
              "      <td>38000.0</td>\n",
              "      <td>1.000000e+00</td>\n",
              "    </tr>\n",
              "    <tr>\n",
              "      <th>2</th>\n",
              "      <td>-3.138809e-12</td>\n",
              "      <td>29.0</td>\n",
              "      <td>21000.0</td>\n",
              "      <td>-4.870522e-13</td>\n",
              "    </tr>\n",
              "  </tbody>\n",
              "</table>\n",
              "</div>"
            ],
            "text/plain": [
              "            Пол  Возраст  Зарплата   Члены семьи\n",
              "0  1.000000e+00     41.0   49600.0  1.000000e+00\n",
              "1 -9.546988e-12     46.0   38000.0  1.000000e+00\n",
              "2 -3.138809e-12     29.0   21000.0 -4.870522e-13"
            ]
          },
          "metadata": {},
          "output_type": "display_data"
        }
      ],
      "source": [
        "crypt_matrix = np.random.randint(-1000,1000,size=(4,4))  \n",
        "uncript_matrix = np.linalg.inv(crypt_matrix)\n",
        "display(\"Обычные признаки\",features.head(3))\n",
        "crypted_feautures = features.values @ crypt_matrix\n",
        "display(\"Зашифрованные признаки\",pd.DataFrame(crypted_feautures,columns=df.columns[:4]).head(3))\n",
        "uncrypted_features = crypted_feautures @ uncript_matrix\n",
        "display(\"Расшифрованные признаки\",pd.DataFrame(uncrypted_features, columns=df.columns[:4]).head(3))"
      ]
    },
    {
      "cell_type": "markdown",
      "metadata": {
        "id": "fP1HAY4Yyf_P"
      },
      "source": [
        "## Вывод\n",
        "Проведенные эксперименты показали: преобразование данных путем умножения на обратимую матрицу не вредит качеству линейной регрессии, а также защищает персональную информацию клиентов, сохраняя возможность обратной дешифровки."
      ]
    }
  ],
  "metadata": {
    "ExecuteTimeLog": [
      {
        "duration": 1763,
        "start_time": "2023-02-08T16:07:48.021Z"
      },
      {
        "duration": 105,
        "start_time": "2023-02-08T16:07:49.786Z"
      },
      {
        "duration": 0,
        "start_time": "2023-02-08T16:07:49.893Z"
      },
      {
        "duration": 0,
        "start_time": "2023-02-08T16:07:49.895Z"
      },
      {
        "duration": 0,
        "start_time": "2023-02-08T16:07:49.896Z"
      },
      {
        "duration": 0,
        "start_time": "2023-02-08T16:07:49.898Z"
      },
      {
        "duration": 0,
        "start_time": "2023-02-08T16:07:49.899Z"
      },
      {
        "duration": 0,
        "start_time": "2023-02-08T16:07:49.901Z"
      },
      {
        "duration": 0,
        "start_time": "2023-02-08T16:07:49.902Z"
      },
      {
        "duration": 0,
        "start_time": "2023-02-08T16:07:49.903Z"
      },
      {
        "duration": 0,
        "start_time": "2023-02-08T16:07:49.904Z"
      },
      {
        "duration": 0,
        "start_time": "2023-02-08T16:07:49.906Z"
      },
      {
        "duration": 10,
        "start_time": "2023-02-08T16:08:57.574Z"
      },
      {
        "duration": 8,
        "start_time": "2023-02-08T16:09:10.069Z"
      },
      {
        "duration": 9,
        "start_time": "2023-02-08T16:09:15.686Z"
      },
      {
        "duration": 54,
        "start_time": "2023-02-08T16:09:44.566Z"
      },
      {
        "duration": 14,
        "start_time": "2023-02-08T16:09:44.868Z"
      },
      {
        "duration": 15,
        "start_time": "2023-02-08T16:09:45.062Z"
      },
      {
        "duration": 23,
        "start_time": "2023-02-08T16:09:45.189Z"
      },
      {
        "duration": 831,
        "start_time": "2023-02-08T16:09:45.341Z"
      },
      {
        "duration": 7,
        "start_time": "2023-02-08T16:09:46.175Z"
      },
      {
        "duration": 5,
        "start_time": "2023-02-08T16:09:46.637Z"
      },
      {
        "duration": 97,
        "start_time": "2023-02-08T16:09:46.781Z"
      },
      {
        "duration": 54224,
        "start_time": "2023-02-08T16:09:47.052Z"
      },
      {
        "duration": 194,
        "start_time": "2023-02-08T16:10:41.279Z"
      },
      {
        "duration": 1213,
        "start_time": "2023-02-09T07:18:35.804Z"
      },
      {
        "duration": 3,
        "start_time": "2023-02-09T07:18:37.019Z"
      },
      {
        "duration": 42,
        "start_time": "2023-02-09T07:18:37.023Z"
      },
      {
        "duration": 19,
        "start_time": "2023-02-09T07:18:37.066Z"
      },
      {
        "duration": 13,
        "start_time": "2023-02-09T07:18:37.086Z"
      },
      {
        "duration": 28,
        "start_time": "2023-02-09T07:18:37.100Z"
      },
      {
        "duration": 906,
        "start_time": "2023-02-09T07:18:37.138Z"
      },
      {
        "duration": 6,
        "start_time": "2023-02-09T07:18:38.046Z"
      },
      {
        "duration": 6,
        "start_time": "2023-02-09T07:18:38.054Z"
      },
      {
        "duration": 183,
        "start_time": "2023-02-09T07:18:38.062Z"
      },
      {
        "duration": 60495,
        "start_time": "2023-02-09T07:18:38.247Z"
      },
      {
        "duration": 194,
        "start_time": "2023-02-09T07:19:38.745Z"
      },
      {
        "duration": 64873,
        "start_time": "2023-02-09T07:25:45.578Z"
      }
    ],
    "kernelspec": {
      "display_name": "Python 3 (ipykernel)",
      "language": "python",
      "name": "python3"
    },
    "language_info": {
      "codemirror_mode": {
        "name": "ipython",
        "version": 3
      },
      "file_extension": ".py",
      "mimetype": "text/x-python",
      "name": "python",
      "nbconvert_exporter": "python",
      "pygments_lexer": "ipython3",
      "version": "3.8.16"
    },
    "toc": {
      "base_numbering": 1,
      "nav_menu": {},
      "number_sections": true,
      "sideBar": true,
      "skip_h1_title": true,
      "title_cell": "Содержание",
      "title_sidebar": "Contents",
      "toc_cell": true,
      "toc_position": {
        "height": "calc(100% - 180px)",
        "left": "10px",
        "top": "150px",
        "width": "165px"
      },
      "toc_section_display": true,
      "toc_window_display": true
    },
    "colab": {
      "provenance": []
    }
  },
  "nbformat": 4,
  "nbformat_minor": 0
}