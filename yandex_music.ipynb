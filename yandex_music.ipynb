{
  "cells": [
    {
      "cell_type": "markdown",
      "metadata": {
        "id": "view-in-github",
        "colab_type": "text"
      },
      "source": [
        "<a href=\"https://colab.research.google.com/github/Konstantin-Solomin/Yandex-Practicum-Data-Science/blob/main/yandex_music.ipynb\" target=\"_parent\"><img src=\"https://colab.research.google.com/assets/colab-badge.svg\" alt=\"Open In Colab\"/></a>"
      ]
    },
    {
      "cell_type": "markdown",
      "metadata": {
        "deletable": false,
        "editable": false,
        "id": "E0vqbgi9ay0H"
      },
      "source": [
        "# Яндекс Музыка"
      ]
    },
    {
      "cell_type": "markdown",
      "metadata": {
        "deletable": false,
        "editable": false,
        "id": "VUC88oWjTJw2"
      },
      "source": [
        "Сравнение Москвы и Петербурга окружено мифами. Например:\n",
        " * Москва — мегаполис, подчинённый жёсткому ритму рабочей недели;\n",
        " * Петербург — культурная столица, со своими вкусами.\n",
        "\n",
        "На данных Яндекс Музыки мы сравним поведение пользователей двух столиц.\n",
        "\n",
        "**Цель исследования** — проверить три гипотезы:\n",
        "1. Активность пользователей зависит от дня недели. Причём в Москве и Петербурге это проявляется по-разному.\n",
        "2. В понедельник утром в Москве преобладают одни жанры, а в Петербурге — другие. Так же и вечером пятницы преобладают разные жанры — в зависимости от города. \n",
        "3. Москва и Петербург предпочитают разные жанры музыки. В Москве чаще слушают поп-музыку, в Петербурге — русский рэп.\n",
        "\n",
        "**Ход исследования**\n",
        "\n",
        "О качестве данных ничего не известно. Поэтому перед проверкой гипотез понадобится обзор данных. \n",
        "\n",
        "Мы проверим данные на ошибки и оценим их влияние на исследование. Затем, на этапе предобработки мы поищем возможность исправить самые критичные ошибки данных.\n",
        " \n",
        "Таким образом, исследование пройдёт в три этапа:\n",
        " 1. Обзор данных.\n",
        " 2. Предобработка данных.\n",
        " 3. Проверка гипотез.\n",
        "\n"
      ]
    },
    {
      "cell_type": "markdown",
      "metadata": {
        "deletable": false,
        "editable": false,
        "id": "Ml1hmfXC_Zcs"
      },
      "source": [
        "## Обзор данных\n",
        "\n",
        "\n",
        "\n",
        "\n"
      ]
    },
    {
      "cell_type": "code",
      "execution_count": null,
      "metadata": {
        "deletable": false,
        "id": "AXN7PHPN_Zcs"
      },
      "outputs": [],
      "source": [
        "import pandas as pd"
      ]
    },
    {
      "cell_type": "code",
      "execution_count": null,
      "metadata": {
        "deletable": false,
        "id": "fFVu7vqh_Zct"
      },
      "outputs": [],
      "source": [
        "df = pd.read_csv('/datasets/yandex_music_project.csv')"
      ]
    },
    {
      "cell_type": "code",
      "execution_count": null,
      "metadata": {
        "deletable": false,
        "id": "oWTVX3gW_Zct",
        "outputId": "6a811e7c-fe71-4cc3-83fd-63baff6705cc"
      },
      "outputs": [
        {
          "data": {
            "text/html": [
              "<div>\n",
              "<style scoped>\n",
              "    .dataframe tbody tr th:only-of-type {\n",
              "        vertical-align: middle;\n",
              "    }\n",
              "\n",
              "    .dataframe tbody tr th {\n",
              "        vertical-align: top;\n",
              "    }\n",
              "\n",
              "    .dataframe thead th {\n",
              "        text-align: right;\n",
              "    }\n",
              "</style>\n",
              "<table border=\"1\" class=\"dataframe\">\n",
              "  <thead>\n",
              "    <tr style=\"text-align: right;\">\n",
              "      <th></th>\n",
              "      <th>user_id</th>\n",
              "      <th>track</th>\n",
              "      <th>artist</th>\n",
              "      <th>genre</th>\n",
              "      <th>city</th>\n",
              "      <th>time</th>\n",
              "      <th>day</th>\n",
              "    </tr>\n",
              "  </thead>\n",
              "  <tbody>\n",
              "    <tr>\n",
              "      <th>0</th>\n",
              "      <td>FFB692EC</td>\n",
              "      <td>Kamigata To Boots</td>\n",
              "      <td>The Mass Missile</td>\n",
              "      <td>rock</td>\n",
              "      <td>Saint-Petersburg</td>\n",
              "      <td>20:28:33</td>\n",
              "      <td>Wednesday</td>\n",
              "    </tr>\n",
              "    <tr>\n",
              "      <th>1</th>\n",
              "      <td>55204538</td>\n",
              "      <td>Delayed Because of Accident</td>\n",
              "      <td>Andreas Rönnberg</td>\n",
              "      <td>rock</td>\n",
              "      <td>Moscow</td>\n",
              "      <td>14:07:09</td>\n",
              "      <td>Friday</td>\n",
              "    </tr>\n",
              "    <tr>\n",
              "      <th>2</th>\n",
              "      <td>20EC38</td>\n",
              "      <td>Funiculì funiculà</td>\n",
              "      <td>Mario Lanza</td>\n",
              "      <td>pop</td>\n",
              "      <td>Saint-Petersburg</td>\n",
              "      <td>20:58:07</td>\n",
              "      <td>Wednesday</td>\n",
              "    </tr>\n",
              "    <tr>\n",
              "      <th>3</th>\n",
              "      <td>A3DD03C9</td>\n",
              "      <td>Dragons in the Sunset</td>\n",
              "      <td>Fire + Ice</td>\n",
              "      <td>folk</td>\n",
              "      <td>Saint-Petersburg</td>\n",
              "      <td>08:37:09</td>\n",
              "      <td>Monday</td>\n",
              "    </tr>\n",
              "    <tr>\n",
              "      <th>4</th>\n",
              "      <td>E2DC1FAE</td>\n",
              "      <td>Soul People</td>\n",
              "      <td>Space Echo</td>\n",
              "      <td>dance</td>\n",
              "      <td>Moscow</td>\n",
              "      <td>08:34:34</td>\n",
              "      <td>Monday</td>\n",
              "    </tr>\n",
              "    <tr>\n",
              "      <th>5</th>\n",
              "      <td>842029A1</td>\n",
              "      <td>Преданная</td>\n",
              "      <td>IMPERVTOR</td>\n",
              "      <td>rusrap</td>\n",
              "      <td>Saint-Petersburg</td>\n",
              "      <td>13:09:41</td>\n",
              "      <td>Friday</td>\n",
              "    </tr>\n",
              "    <tr>\n",
              "      <th>6</th>\n",
              "      <td>4CB90AA5</td>\n",
              "      <td>True</td>\n",
              "      <td>Roman Messer</td>\n",
              "      <td>dance</td>\n",
              "      <td>Moscow</td>\n",
              "      <td>13:00:07</td>\n",
              "      <td>Wednesday</td>\n",
              "    </tr>\n",
              "    <tr>\n",
              "      <th>7</th>\n",
              "      <td>F03E1C1F</td>\n",
              "      <td>Feeling This Way</td>\n",
              "      <td>Polina Griffith</td>\n",
              "      <td>dance</td>\n",
              "      <td>Moscow</td>\n",
              "      <td>20:47:49</td>\n",
              "      <td>Wednesday</td>\n",
              "    </tr>\n",
              "    <tr>\n",
              "      <th>8</th>\n",
              "      <td>8FA1D3BE</td>\n",
              "      <td>И вновь продолжается бой</td>\n",
              "      <td>unknown</td>\n",
              "      <td>ruspop</td>\n",
              "      <td>Moscow</td>\n",
              "      <td>09:17:40</td>\n",
              "      <td>Friday</td>\n",
              "    </tr>\n",
              "    <tr>\n",
              "      <th>9</th>\n",
              "      <td>E772D5C0</td>\n",
              "      <td>Pessimist</td>\n",
              "      <td>unknown</td>\n",
              "      <td>dance</td>\n",
              "      <td>Saint-Petersburg</td>\n",
              "      <td>21:20:49</td>\n",
              "      <td>Wednesday</td>\n",
              "    </tr>\n",
              "  </tbody>\n",
              "</table>\n",
              "</div>"
            ],
            "text/plain": [
              "    user_id                        track            artist   genre  \\\n",
              "0  FFB692EC            Kamigata To Boots  The Mass Missile    rock   \n",
              "1  55204538  Delayed Because of Accident  Andreas Rönnberg    rock   \n",
              "2    20EC38            Funiculì funiculà       Mario Lanza     pop   \n",
              "3  A3DD03C9        Dragons in the Sunset        Fire + Ice    folk   \n",
              "4  E2DC1FAE                  Soul People        Space Echo   dance   \n",
              "5  842029A1                    Преданная         IMPERVTOR  rusrap   \n",
              "6  4CB90AA5                         True      Roman Messer   dance   \n",
              "7  F03E1C1F             Feeling This Way   Polina Griffith   dance   \n",
              "8  8FA1D3BE     И вновь продолжается бой           unknown  ruspop   \n",
              "9  E772D5C0                    Pessimist           unknown   dance   \n",
              "\n",
              "               city      time        day  \n",
              "0  Saint-Petersburg  20:28:33  Wednesday  \n",
              "1            Moscow  14:07:09     Friday  \n",
              "2  Saint-Petersburg  20:58:07  Wednesday  \n",
              "3  Saint-Petersburg  08:37:09     Monday  \n",
              "4            Moscow  08:34:34     Monday  \n",
              "5  Saint-Petersburg  13:09:41     Friday  \n",
              "6            Moscow  13:00:07  Wednesday  \n",
              "7            Moscow  20:47:49  Wednesday  \n",
              "8            Moscow  09:17:40     Friday  \n",
              "9  Saint-Petersburg  21:20:49  Wednesday  "
            ]
          },
          "execution_count": 49,
          "metadata": {},
          "output_type": "execute_result"
        }
      ],
      "source": [
        "df.head(10)"
      ]
    },
    {
      "cell_type": "code",
      "execution_count": null,
      "metadata": {
        "deletable": false,
        "id": "DSf2kIb-_Zct",
        "outputId": "3253ced4-b2fd-4661-c92f-9999d6729291"
      },
      "outputs": [
        {
          "name": "stdout",
          "output_type": "stream",
          "text": [
            "<class 'pandas.core.frame.DataFrame'>\n",
            "RangeIndex: 65079 entries, 0 to 65078\n",
            "Data columns (total 7 columns):\n",
            " #   Column    Non-Null Count  Dtype \n",
            "---  ------    --------------  ----- \n",
            " 0     userID  65079 non-null  object\n",
            " 1   Track     63848 non-null  object\n",
            " 2   artist    57876 non-null  object\n",
            " 3   genre     63881 non-null  object\n",
            " 4     City    65079 non-null  object\n",
            " 5   time      65079 non-null  object\n",
            " 6   Day       65079 non-null  object\n",
            "dtypes: object(7)\n",
            "memory usage: 3.5+ MB\n"
          ]
        }
      ],
      "source": [
        "df.info()"
      ]
    },
    {
      "cell_type": "markdown",
      "metadata": {
        "deletable": false,
        "editable": false,
        "id": "TaQ2Iwbr_Zct"
      },
      "source": [
        "Итак, в таблице семь столбцов. Тип данных во всех столбцах — `object`.\n",
        "\n",
        "Согласно документации к данным:\n",
        "* `userID` — идентификатор пользователя;\n",
        "* `Track` — название трека;  \n",
        "* `artist` — имя исполнителя;\n",
        "* `genre` — название жанра;\n",
        "* `City` — город пользователя;\n",
        "* `time` — время начала прослушивания;\n",
        "* `Day` — день недели.\n",
        "\n",
        "Количество значений в столбцах различается. Значит, в данных есть пропущенные значения."
      ]
    },
    {
      "cell_type": "markdown",
      "metadata": {
        "deletable": false,
        "editable": false,
        "id": "MCB6-dXG_Zct"
      },
      "source": [
        "**Выводы**\n",
        "\n",
        "В каждой строке таблицы — данные о прослушанном треке. Часть колонок описывает саму композицию: название, исполнителя и жанр. Остальные данные рассказывают о пользователе: из какого он города, когда он слушал музыку. \n",
        "\n",
        "Предварительно можно утверждать, что данных достаточно для проверки гипотез. Но встречаются пропуски в данных, а в названиях колонок — расхождения с хорошим стилем.\n",
        "\n",
        "Чтобы двигаться дальше, нужно устранить проблемы в данных."
      ]
    },
    {
      "cell_type": "markdown",
      "metadata": {
        "deletable": false,
        "editable": false,
        "id": "SjYF6Ub9_Zct"
      },
      "source": [
        "## Предобработка данных\n"
      ]
    },
    {
      "cell_type": "markdown",
      "metadata": {
        "deletable": false,
        "editable": false,
        "id": "dIaKXr29_Zct",
        "tags": [
          "start_task"
        ]
      },
      "source": [
        "### Стиль заголовков\n",
        "\n"
      ]
    },
    {
      "cell_type": "code",
      "execution_count": null,
      "metadata": {
        "deletable": false,
        "id": "oKOTdF_Q_Zct",
        "outputId": "50be3bec-7a6a-462c-fa23-a106e2d283ab"
      },
      "outputs": [
        {
          "data": {
            "text/plain": [
              "Index(['  userID', 'Track', 'artist', 'genre', '  City  ', 'time', 'Day'], dtype='object')"
            ]
          },
          "execution_count": 9,
          "metadata": {},
          "output_type": "execute_result"
        }
      ],
      "source": [
        "df.columns"
      ]
    },
    {
      "cell_type": "code",
      "execution_count": null,
      "metadata": {
        "deletable": false,
        "id": "ISlFqs5y_Zct"
      },
      "outputs": [],
      "source": [
        "df = df.rename(columns={'  userID': 'user_id', 'Track': 'track', '  City  ': 'city', 'Day': 'day'})"
      ]
    },
    {
      "cell_type": "code",
      "execution_count": null,
      "metadata": {
        "deletable": false,
        "id": "d4NOAmTW_Zct",
        "outputId": "71a13ad3-1b5b-4f9a-e965-62c0d6b6a716"
      },
      "outputs": [
        {
          "data": {
            "text/plain": [
              "Index(['user_id', 'track', 'artist', 'genre', 'city', 'time', 'day'], dtype='object')"
            ]
          },
          "execution_count": 11,
          "metadata": {},
          "output_type": "execute_result"
        }
      ],
      "source": [
        "df.columns"
      ]
    },
    {
      "cell_type": "markdown",
      "metadata": {
        "deletable": false,
        "editable": false,
        "id": "5ISfbcfY_Zct",
        "tags": [
          "start_task"
        ]
      },
      "source": [
        "### Пропуски значений\n"
      ]
    },
    {
      "cell_type": "code",
      "execution_count": null,
      "metadata": {
        "deletable": false,
        "id": "RskX29qr_Zct",
        "outputId": "204c11a7-184e-4570-8df3-87fbafe6719b"
      },
      "outputs": [
        {
          "data": {
            "text/plain": [
              "user_id       0\n",
              "track      1231\n",
              "artist     7203\n",
              "genre      1198\n",
              "city          0\n",
              "time          0\n",
              "day           0\n",
              "dtype: int64"
            ]
          },
          "execution_count": 12,
          "metadata": {},
          "output_type": "execute_result"
        }
      ],
      "source": [
        "df.isna().sum()"
      ]
    },
    {
      "cell_type": "markdown",
      "metadata": {
        "deletable": false,
        "editable": false,
        "id": "qubhgnlO_Zct"
      },
      "source": [
        "Не все пропущенные значения влияют на исследование. Так в `track` и `artist` пропуски не важны для вашей работы. Достаточно заменить их явными обозначениями.\n",
        "\n",
        "Но пропуски в `genre` могут помешать сравнению музыкальных вкусов в Москве и Санкт-Петербурге. На практике было бы правильно установить причину пропусков и восстановить данные. Такой возможности нет в учебном проекте. Придётся:\n",
        "* заполнить и эти пропуски явными обозначениями;\n",
        "* оценить, насколько они повредят расчётам. "
      ]
    },
    {
      "cell_type": "code",
      "execution_count": null,
      "metadata": {
        "deletable": false,
        "id": "KplB5qWs_Zct"
      },
      "outputs": [],
      "source": [
        "columns_to_replace = ['track', 'artist', 'genre']\n",
        "for i in columns_to_replace:\n",
        "    df[i] = df[i].fillna('unknown')"
      ]
    },
    {
      "cell_type": "code",
      "execution_count": null,
      "metadata": {
        "deletable": false,
        "id": "Tq4nYRX4_Zct",
        "outputId": "f74f0e05-c795-479d-9104-34ad43433b19"
      },
      "outputs": [
        {
          "data": {
            "text/plain": [
              "user_id    0\n",
              "track      0\n",
              "artist     0\n",
              "genre      0\n",
              "city       0\n",
              "time       0\n",
              "day        0\n",
              "dtype: int64"
            ]
          },
          "execution_count": 14,
          "metadata": {},
          "output_type": "execute_result"
        }
      ],
      "source": [
        "df.isna().sum()"
      ]
    },
    {
      "cell_type": "markdown",
      "metadata": {
        "deletable": false,
        "editable": false,
        "id": "BWKRtBJ3_Zct",
        "tags": [
          "start_task"
        ]
      },
      "source": [
        "### Дубликаты\n",
        "\n"
      ]
    },
    {
      "cell_type": "code",
      "execution_count": null,
      "metadata": {
        "deletable": false,
        "id": "36eES_S0_Zct",
        "outputId": "b6c7fcb9-3958-4ea3-8a39-dda8f027f044"
      },
      "outputs": [
        {
          "data": {
            "text/plain": [
              "3826"
            ]
          },
          "execution_count": 15,
          "metadata": {},
          "output_type": "execute_result"
        }
      ],
      "source": [
        "df.duplicated().sum()"
      ]
    },
    {
      "cell_type": "code",
      "execution_count": null,
      "metadata": {
        "deletable": false,
        "id": "exFHq6tt_Zct"
      },
      "outputs": [],
      "source": [
        "df = df.drop_duplicates().reset_index(drop=True)"
      ]
    },
    {
      "cell_type": "code",
      "execution_count": null,
      "metadata": {
        "deletable": false,
        "id": "-8PuNWQ0_Zct",
        "outputId": "fd7c1072-4364-46f3-d81e-aca9b8445851"
      },
      "outputs": [
        {
          "data": {
            "text/plain": [
              "0"
            ]
          },
          "execution_count": 17,
          "metadata": {},
          "output_type": "execute_result"
        }
      ],
      "source": [
        "df.duplicated().sum()"
      ]
    },
    {
      "cell_type": "code",
      "execution_count": null,
      "metadata": {
        "deletable": false,
        "id": "JIUcqzZN_Zct",
        "outputId": "9b2ceba5-8c60-4e0a-cea6-a81b4da4edf4"
      },
      "outputs": [
        {
          "name": "stdout",
          "output_type": "stream",
          "text": [
            "['acid' 'acoustic' 'action' 'adult' 'africa' 'afrikaans' 'alternative'\n",
            " 'alternativepunk' 'ambient' 'americana' 'animated' 'anime' 'arabesk'\n",
            " 'arabic' 'arena' 'argentinetango' 'art' 'audiobook' 'author' 'avantgarde'\n",
            " 'axé' 'baile' 'balkan' 'beats' 'bigroom' 'black' 'bluegrass' 'blues'\n",
            " 'bollywood' 'bossa' 'brazilian' 'breakbeat' 'breaks' 'broadway'\n",
            " 'cantautori' 'cantopop' 'canzone' 'caribbean' 'caucasian' 'celtic'\n",
            " 'chamber' 'chanson' 'children' 'chill' 'chinese' 'choral' 'christian'\n",
            " 'christmas' 'classical' 'classicmetal' 'club' 'colombian' 'comedy'\n",
            " 'conjazz' 'contemporary' 'country' 'cuban' 'dance' 'dancehall' 'dancepop'\n",
            " 'dark' 'death' 'deep' 'deutschrock' 'deutschspr' 'dirty' 'disco' 'dnb'\n",
            " 'documentary' 'downbeat' 'downtempo' 'drum' 'dub' 'dubstep' 'eastern'\n",
            " 'easy' 'electronic' 'electropop' 'emo' 'entehno' 'epicmetal' 'estrada'\n",
            " 'ethnic' 'eurofolk' 'european' 'experimental' 'extrememetal' 'fado'\n",
            " 'fairytail' 'film' 'fitness' 'flamenco' 'folk' 'folklore' 'folkmetal'\n",
            " 'folkrock' 'folktronica' 'forró' 'frankreich' 'französisch' 'french'\n",
            " 'funk' 'future' 'gangsta' 'garage' 'german' 'ghazal' 'gitarre' 'glitch'\n",
            " 'gospel' 'gothic' 'grime' 'grunge' 'gypsy' 'handsup' \"hard'n'heavy\"\n",
            " 'hardcore' 'hardstyle' 'hardtechno' 'hiphop' 'historisch' 'holiday'\n",
            " 'horror' 'house' 'hymn' 'idm' 'independent' 'indian' 'indie' 'indipop'\n",
            " 'industrial' 'inspirational' 'instrumental' 'international' 'irish' 'jam'\n",
            " 'japanese' 'jazz' 'jewish' 'jpop' 'jungle' 'k-pop' 'karadeniz' 'karaoke'\n",
            " 'kayokyoku' 'korean' 'laiko' 'latin' 'latino' 'leftfield' 'local'\n",
            " 'lounge' 'loungeelectronic' 'lovers' 'malaysian' 'mandopop' 'marschmusik'\n",
            " 'meditative' 'mediterranean' 'melodic' 'metal' 'metalcore' 'mexican'\n",
            " 'middle' 'minimal' 'miscellaneous' 'modern' 'mood' 'mpb' 'muslim'\n",
            " 'native' 'neoklassik' 'neue' 'new' 'newage' 'newwave' 'nu' 'nujazz'\n",
            " 'numetal' 'oceania' 'old' 'opera' 'orchestral' 'other' 'piano' 'podcasts'\n",
            " 'pop' 'popdance' 'popelectronic' 'popeurodance' 'poprussian' 'post'\n",
            " 'posthardcore' 'postrock' 'power' 'progmetal' 'progressive' 'psychedelic'\n",
            " 'punjabi' 'punk' 'quebecois' 'ragga' 'ram' 'rancheras' 'rap' 'rave'\n",
            " 'reggae' 'reggaeton' 'regional' 'relax' 'religious' 'retro' 'rhythm'\n",
            " 'rnb' 'rnr' 'rock' 'rockabilly' 'rockalternative' 'rockindie' 'rockother'\n",
            " 'romance' 'roots' 'ruspop' 'rusrap' 'rusrock' 'russian' 'salsa' 'samba'\n",
            " 'scenic' 'schlager' 'self' 'sertanejo' 'shanson' 'shoegazing' 'showtunes'\n",
            " 'singer' 'ska' 'skarock' 'slow' 'smooth' 'soft' 'soul' 'soulful' 'sound'\n",
            " 'soundtrack' 'southern' 'specialty' 'speech' 'spiritual' 'sport'\n",
            " 'stonerrock' 'surf' 'swing' 'synthpop' 'synthrock' 'sängerportrait'\n",
            " 'tango' 'tanzorchester' 'taraftar' 'tatar' 'tech' 'techno' 'teen'\n",
            " 'thrash' 'top' 'traditional' 'tradjazz' 'trance' 'tribal' 'trip'\n",
            " 'triphop' 'tropical' 'türk' 'türkçe' 'ukrrock' 'unknown' 'urban' 'uzbek'\n",
            " 'variété' 'vi' 'videogame' 'vocal' 'western' 'world' 'worldbeat' 'ïîï'\n",
            " 'электроника']\n"
          ]
        }
      ],
      "source": [
        "df_genres = df['genre'].sort_values().unique()\n",
        "print(df_genres)"
      ]
    },
    {
      "cell_type": "code",
      "execution_count": null,
      "metadata": {
        "deletable": false,
        "id": "ErNDkmns_Zct"
      },
      "outputs": [],
      "source": [
        "df = df.replace(['hip', 'hop', 'hip-hop'], 'hiphop')"
      ]
    },
    {
      "cell_type": "code",
      "execution_count": null,
      "metadata": {
        "deletable": false,
        "id": "wvixALnFG15m",
        "outputId": "7362236c-c2df-4869-f8e8-addf9a837126"
      },
      "outputs": [
        {
          "name": "stdout",
          "output_type": "stream",
          "text": [
            "['acid' 'acoustic' 'action' 'adult' 'africa' 'afrikaans' 'alternative'\n",
            " 'alternativepunk' 'ambient' 'americana' 'animated' 'anime' 'arabesk'\n",
            " 'arabic' 'arena' 'argentinetango' 'art' 'audiobook' 'author' 'avantgarde'\n",
            " 'axé' 'baile' 'balkan' 'beats' 'bigroom' 'black' 'bluegrass' 'blues'\n",
            " 'bollywood' 'bossa' 'brazilian' 'breakbeat' 'breaks' 'broadway'\n",
            " 'cantautori' 'cantopop' 'canzone' 'caribbean' 'caucasian' 'celtic'\n",
            " 'chamber' 'chanson' 'children' 'chill' 'chinese' 'choral' 'christian'\n",
            " 'christmas' 'classical' 'classicmetal' 'club' 'colombian' 'comedy'\n",
            " 'conjazz' 'contemporary' 'country' 'cuban' 'dance' 'dancehall' 'dancepop'\n",
            " 'dark' 'death' 'deep' 'deutschrock' 'deutschspr' 'dirty' 'disco' 'dnb'\n",
            " 'documentary' 'downbeat' 'downtempo' 'drum' 'dub' 'dubstep' 'eastern'\n",
            " 'easy' 'electronic' 'electropop' 'emo' 'entehno' 'epicmetal' 'estrada'\n",
            " 'ethnic' 'eurofolk' 'european' 'experimental' 'extrememetal' 'fado'\n",
            " 'fairytail' 'film' 'fitness' 'flamenco' 'folk' 'folklore' 'folkmetal'\n",
            " 'folkrock' 'folktronica' 'forró' 'frankreich' 'französisch' 'french'\n",
            " 'funk' 'future' 'gangsta' 'garage' 'german' 'ghazal' 'gitarre' 'glitch'\n",
            " 'gospel' 'gothic' 'grime' 'grunge' 'gypsy' 'handsup' \"hard'n'heavy\"\n",
            " 'hardcore' 'hardstyle' 'hardtechno' 'hiphop' 'historisch' 'holiday'\n",
            " 'horror' 'house' 'hymn' 'idm' 'independent' 'indian' 'indie' 'indipop'\n",
            " 'industrial' 'inspirational' 'instrumental' 'international' 'irish' 'jam'\n",
            " 'japanese' 'jazz' 'jewish' 'jpop' 'jungle' 'k-pop' 'karadeniz' 'karaoke'\n",
            " 'kayokyoku' 'korean' 'laiko' 'latin' 'latino' 'leftfield' 'local'\n",
            " 'lounge' 'loungeelectronic' 'lovers' 'malaysian' 'mandopop' 'marschmusik'\n",
            " 'meditative' 'mediterranean' 'melodic' 'metal' 'metalcore' 'mexican'\n",
            " 'middle' 'minimal' 'miscellaneous' 'modern' 'mood' 'mpb' 'muslim'\n",
            " 'native' 'neoklassik' 'neue' 'new' 'newage' 'newwave' 'nu' 'nujazz'\n",
            " 'numetal' 'oceania' 'old' 'opera' 'orchestral' 'other' 'piano' 'podcasts'\n",
            " 'pop' 'popdance' 'popelectronic' 'popeurodance' 'poprussian' 'post'\n",
            " 'posthardcore' 'postrock' 'power' 'progmetal' 'progressive' 'psychedelic'\n",
            " 'punjabi' 'punk' 'quebecois' 'ragga' 'ram' 'rancheras' 'rap' 'rave'\n",
            " 'reggae' 'reggaeton' 'regional' 'relax' 'religious' 'retro' 'rhythm'\n",
            " 'rnb' 'rnr' 'rock' 'rockabilly' 'rockalternative' 'rockindie' 'rockother'\n",
            " 'romance' 'roots' 'ruspop' 'rusrap' 'rusrock' 'russian' 'salsa' 'samba'\n",
            " 'scenic' 'schlager' 'self' 'sertanejo' 'shanson' 'shoegazing' 'showtunes'\n",
            " 'singer' 'ska' 'skarock' 'slow' 'smooth' 'soft' 'soul' 'soulful' 'sound'\n",
            " 'soundtrack' 'southern' 'specialty' 'speech' 'spiritual' 'sport'\n",
            " 'stonerrock' 'surf' 'swing' 'synthpop' 'synthrock' 'sängerportrait'\n",
            " 'tango' 'tanzorchester' 'taraftar' 'tatar' 'tech' 'techno' 'teen'\n",
            " 'thrash' 'top' 'traditional' 'tradjazz' 'trance' 'tribal' 'trip'\n",
            " 'triphop' 'tropical' 'türk' 'türkçe' 'ukrrock' 'unknown' 'urban' 'uzbek'\n",
            " 'variété' 'vi' 'videogame' 'vocal' 'western' 'world' 'worldbeat' 'ïîï'\n",
            " 'электроника']\n"
          ]
        }
      ],
      "source": [
        "df_genres = df['genre'].sort_values().unique()\n",
        "print(df_genres)"
      ]
    },
    {
      "cell_type": "markdown",
      "metadata": {
        "deletable": false,
        "editable": false,
        "id": "jz6a9-7HQUDd"
      },
      "source": [
        "**Выводы**\n",
        "\n",
        "Предобработка обнаружила три проблемы в данных:\n",
        "\n",
        "- нарушения в стиле заголовков,\n",
        "- пропущенные значения,\n",
        "- дубликаты — явные и неявные.\n",
        "\n",
        "Мы исправили заголовки, чтобы упростить работу с таблицей. Без дубликатов исследование станет более точным.\n",
        "\n",
        "Пропущенные значения вы заменили на `'unknown'`. Ещё предстоит увидеть, не повредят ли исследованию пропуски в колонке `genre`.\n",
        "\n",
        "Теперь можно перейти к проверке гипотез. "
      ]
    },
    {
      "cell_type": "markdown",
      "metadata": {
        "deletable": false,
        "editable": false,
        "id": "WttZHXH0SqKk"
      },
      "source": [
        "## Проверка гипотез"
      ]
    },
    {
      "cell_type": "markdown",
      "metadata": {
        "deletable": false,
        "editable": false,
        "id": "Im936VVi_Zcu"
      },
      "source": [
        "### Сравнение поведения пользователей двух столиц"
      ]
    },
    {
      "cell_type": "code",
      "execution_count": null,
      "metadata": {
        "deletable": false,
        "id": "0_Qs96oh_Zcu",
        "outputId": "ddd3fc4f-34a6-4760-84d1-d47c918e8e8b"
      },
      "outputs": [
        {
          "name": "stdout",
          "output_type": "stream",
          "text": [
            "city\n",
            "Moscow              42741\n",
            "Saint-Petersburg    18512\n",
            "Name: track, dtype: int64\n"
          ]
        }
      ],
      "source": [
        "\n",
        "print(df.groupby('city')['track'].count())"
      ]
    },
    {
      "cell_type": "markdown",
      "metadata": {
        "deletable": false,
        "editable": false,
        "id": "dzli3w8o_Zcu",
        "tags": [
          "start_task"
        ]
      },
      "source": [
        "В Москве прослушиваний больше, чем в Петербурге. Из этого не следует, что московские пользователи чаще слушают музыку. Просто самих пользователей в Москве больше.\n",
        "\n",
        "\n"
      ]
    },
    {
      "cell_type": "code",
      "execution_count": null,
      "metadata": {
        "deletable": false,
        "id": "uZMKjiJz_Zcu",
        "outputId": "dd2563e2-c270-4160-91cc-820e3ca21637"
      },
      "outputs": [
        {
          "name": "stdout",
          "output_type": "stream",
          "text": [
            "day\n",
            "Friday       21840\n",
            "Monday       21354\n",
            "Wednesday    18059\n",
            "Name: user_id, dtype: int64\n"
          ]
        }
      ],
      "source": [
        "\n",
        "print(df.groupby('day')['user_id'].count())"
      ]
    },
    {
      "cell_type": "markdown",
      "metadata": {
        "deletable": false,
        "editable": false,
        "id": "cC2tNrlL_Zcu"
      },
      "source": [
        "В среднем пользователи из двух городов менее активны по средам. Но картина может измениться, если рассмотреть каждый город в отдельности."
      ]
    },
    {
      "cell_type": "code",
      "execution_count": null,
      "metadata": {
        "deletable": false,
        "id": "Nz3GdQB1_Zcu"
      },
      "outputs": [],
      "source": [
        "def number_tracks(day, city):\n",
        "    track_list = df[df['day'] == day]\n",
        "    track_list = track_list[track_list['city'] == city]\n",
        "    track_list_count = track_list['user_id'].count()\n",
        "    return track_list_count\n"
      ]
    },
    {
      "cell_type": "code",
      "execution_count": null,
      "metadata": {
        "deletable": false,
        "id": "rJcRATNQ_Zcu",
        "outputId": "46b63e04-8d0c-4bba-c2fd-84a9bb86f87c"
      },
      "outputs": [
        {
          "data": {
            "text/plain": [
              "15740"
            ]
          },
          "execution_count": 56,
          "metadata": {},
          "output_type": "execute_result"
        }
      ],
      "source": [
        "number_tracks('Monday', 'Moscow')"
      ]
    },
    {
      "cell_type": "code",
      "execution_count": null,
      "metadata": {
        "deletable": false,
        "id": "hq_ncZ5T_Zcu",
        "outputId": "edd3ffc1-6c8f-4813-e19a-ee4a9f7138d0"
      },
      "outputs": [
        {
          "data": {
            "text/plain": [
              "5614"
            ]
          },
          "execution_count": 57,
          "metadata": {},
          "output_type": "execute_result"
        }
      ],
      "source": [
        "number_tracks('Monday', 'Saint-Petersburg')"
      ]
    },
    {
      "cell_type": "code",
      "execution_count": null,
      "metadata": {
        "deletable": false,
        "id": "_NTy2VPU_Zcu",
        "outputId": "287379e9-2023-491c-810d-084292d1c4cd"
      },
      "outputs": [
        {
          "data": {
            "text/plain": [
              "11056"
            ]
          },
          "execution_count": 58,
          "metadata": {},
          "output_type": "execute_result"
        }
      ],
      "source": [
        "number_tracks('Wednesday', 'Moscow')"
      ]
    },
    {
      "cell_type": "code",
      "execution_count": null,
      "metadata": {
        "deletable": false,
        "id": "j2y3TAwo_Zcu",
        "outputId": "f88398a6-bd83-4682-f63f-0e3cc7352901"
      },
      "outputs": [
        {
          "data": {
            "text/plain": [
              "7003"
            ]
          },
          "execution_count": 59,
          "metadata": {},
          "output_type": "execute_result"
        }
      ],
      "source": [
        "number_tracks('Wednesday', 'Saint-Petersburg')"
      ]
    },
    {
      "cell_type": "code",
      "execution_count": null,
      "metadata": {
        "deletable": false,
        "id": "vYDw5u_K_Zcu",
        "outputId": "6a8174f0-be91-4ffb-b8df-2af164e41f05"
      },
      "outputs": [
        {
          "data": {
            "text/plain": [
              "15945"
            ]
          },
          "execution_count": 60,
          "metadata": {},
          "output_type": "execute_result"
        }
      ],
      "source": [
        "number_tracks('Friday', 'Moscow')"
      ]
    },
    {
      "cell_type": "code",
      "execution_count": null,
      "metadata": {
        "deletable": false,
        "id": "8_yzFtW3_Zcu",
        "outputId": "86010687-746a-4615-91bf-dde239d67946"
      },
      "outputs": [
        {
          "data": {
            "text/plain": [
              "5895"
            ]
          },
          "execution_count": 61,
          "metadata": {},
          "output_type": "execute_result"
        }
      ],
      "source": [
        "number_tracks('Friday', 'Saint-Petersburg')"
      ]
    },
    {
      "cell_type": "code",
      "execution_count": null,
      "metadata": {
        "deletable": false,
        "id": "APAcLpOr_Zcu",
        "outputId": "7a9c6756-1368-4df7-c544-cabbc31a9c4d"
      },
      "outputs": [
        {
          "data": {
            "text/html": [
              "<div>\n",
              "<style scoped>\n",
              "    .dataframe tbody tr th:only-of-type {\n",
              "        vertical-align: middle;\n",
              "    }\n",
              "\n",
              "    .dataframe tbody tr th {\n",
              "        vertical-align: top;\n",
              "    }\n",
              "\n",
              "    .dataframe thead th {\n",
              "        text-align: right;\n",
              "    }\n",
              "</style>\n",
              "<table border=\"1\" class=\"dataframe\">\n",
              "  <thead>\n",
              "    <tr style=\"text-align: right;\">\n",
              "      <th></th>\n",
              "      <th>city</th>\n",
              "      <th>monday</th>\n",
              "      <th>wednesday</th>\n",
              "      <th>friday</th>\n",
              "    </tr>\n",
              "  </thead>\n",
              "  <tbody>\n",
              "    <tr>\n",
              "      <th>0</th>\n",
              "      <td>Moscow</td>\n",
              "      <td>15740</td>\n",
              "      <td>11056</td>\n",
              "      <td>15945</td>\n",
              "    </tr>\n",
              "    <tr>\n",
              "      <th>1</th>\n",
              "      <td>Saint-Petersburg</td>\n",
              "      <td>5614</td>\n",
              "      <td>7003</td>\n",
              "      <td>5895</td>\n",
              "    </tr>\n",
              "  </tbody>\n",
              "</table>\n",
              "</div>"
            ],
            "text/plain": [
              "               city  monday  wednesday  friday\n",
              "0            Moscow   15740      11056   15945\n",
              "1  Saint-Petersburg    5614       7003    5895"
            ]
          },
          "execution_count": 62,
          "metadata": {},
          "output_type": "execute_result"
        }
      ],
      "source": [
        "data = [\n",
        "    ['Moscow', number_tracks('Monday', 'Moscow'), number_tracks('Wednesday', 'Moscow'), number_tracks('Friday', 'Moscow')],\n",
        "    ['Saint-Petersburg', number_tracks('Monday', 'Saint-Petersburg'), number_tracks('Wednesday', 'Saint-Petersburg'), number_tracks('Friday', 'Saint-Petersburg')]\n",
        "    \n",
        "]\n",
        "columns = ['city', 'monday', 'wednesday', 'friday']\n",
        "pd.DataFrame(data=data, columns=columns)"
      ]
    },
    {
      "cell_type": "markdown",
      "metadata": {
        "deletable": false,
        "editable": false,
        "id": "-EgPIHYu_Zcu"
      },
      "source": [
        "**Выводы**\n",
        "\n",
        "Данные показывают разницу поведения пользователей:\n",
        "\n",
        "- В Москве пик прослушиваний приходится на понедельник и пятницу, а в среду заметен спад.\n",
        "- В Петербурге, наоборот, больше слушают музыку по средам. Активность в понедельник и пятницу здесь почти в равной мере уступает среде.\n",
        "\n",
        "Значит, данные говорят в пользу первой гипотезы."
      ]
    },
    {
      "cell_type": "markdown",
      "metadata": {
        "deletable": false,
        "editable": false,
        "id": "atZAxtq4_Zcu"
      },
      "source": [
        "### Музыка в начале и в конце недели"
      ]
    },
    {
      "cell_type": "markdown",
      "metadata": {
        "deletable": false,
        "editable": false,
        "id": "eXrQqXFH_Zcu"
      },
      "source": [
        "Согласно второй гипотезе, утром в понедельник в Москве преобладают одни жанры, а в Петербурге — другие. Так же и вечером пятницы преобладают разные жанры — в зависимости от города."
      ]
    },
    {
      "cell_type": "code",
      "execution_count": null,
      "metadata": {
        "deletable": false,
        "id": "qeaFfM_P_Zcu"
      },
      "outputs": [],
      "source": [
        "moscow_general = df[df['city'] == 'Moscow']\n"
      ]
    },
    {
      "cell_type": "code",
      "execution_count": null,
      "metadata": {
        "deletable": false,
        "id": "ORaVRKto_Zcu"
      },
      "outputs": [],
      "source": [
        "spb_general = df[df['city'] == 'Saint-Petersburg']\n"
      ]
    },
    {
      "cell_type": "code",
      "execution_count": null,
      "metadata": {
        "deletable": false,
        "id": "laJT9BYl_Zcu"
      },
      "outputs": [],
      "source": [
        "def genre_weekday(table, day, time1, time2):\n",
        "    genre_df = table[table['day'] == day]\n",
        "    genre_df = genre_df[genre_df['time'] > time1]\n",
        "    genre_df = genre_df[genre_df['time'] < time2]\n",
        "    genre_df_count = genre_df.groupby('genre')['genre'].count()\n",
        "    genre_df_sorted = genre_df_count.sort_values(ascending=False)\n",
        "    return genre_df_sorted[:10]\n"
      ]
    },
    {
      "cell_type": "code",
      "execution_count": null,
      "metadata": {
        "deletable": false,
        "id": "yz7itPUQ_Zcu",
        "outputId": "57ef5f84-dddd-46f9-f613-f05ed20bb4cd"
      },
      "outputs": [
        {
          "data": {
            "text/plain": [
              "genre\n",
              "pop            781\n",
              "dance          549\n",
              "electronic     480\n",
              "rock           474\n",
              "hiphop         286\n",
              "ruspop         186\n",
              "world          181\n",
              "rusrap         175\n",
              "alternative    164\n",
              "unknown        161\n",
              "Name: genre, dtype: int64"
            ]
          },
          "execution_count": 74,
          "metadata": {},
          "output_type": "execute_result"
        }
      ],
      "source": [
        "genre_weekday(moscow_general, 'Monday', '07:00', '11:00')\n"
      ]
    },
    {
      "cell_type": "code",
      "execution_count": null,
      "metadata": {
        "deletable": false,
        "id": "kwUcHPdy_Zcu",
        "outputId": "96c9ea8c-ca66-45aa-aa01-3b438269339c"
      },
      "outputs": [
        {
          "data": {
            "text/plain": [
              "genre\n",
              "pop            218\n",
              "dance          182\n",
              "rock           162\n",
              "electronic     147\n",
              "hiphop          80\n",
              "ruspop          64\n",
              "alternative     58\n",
              "rusrap          55\n",
              "jazz            44\n",
              "classical       40\n",
              "Name: genre, dtype: int64"
            ]
          },
          "execution_count": 75,
          "metadata": {},
          "output_type": "execute_result"
        }
      ],
      "source": [
        "genre_weekday(spb_general, 'Monday', '07:00', '11:00')"
      ]
    },
    {
      "cell_type": "code",
      "execution_count": null,
      "metadata": {
        "deletable": false,
        "id": "EzXVRE1o_Zcu",
        "outputId": "edf7506e-679a-4add-e73c-c5af976e73d9"
      },
      "outputs": [
        {
          "data": {
            "text/plain": [
              "genre\n",
              "pop            713\n",
              "rock           517\n",
              "dance          495\n",
              "electronic     482\n",
              "hiphop         273\n",
              "world          208\n",
              "ruspop         170\n",
              "alternative    163\n",
              "classical      163\n",
              "rusrap         142\n",
              "Name: genre, dtype: int64"
            ]
          },
          "execution_count": 76,
          "metadata": {},
          "output_type": "execute_result"
        }
      ],
      "source": [
        "genre_weekday(moscow_general, 'Friday', '17:00', '23:00')"
      ]
    },
    {
      "cell_type": "code",
      "execution_count": null,
      "metadata": {
        "deletable": false,
        "id": "JZaEKu5v_Zcu",
        "outputId": "696c712c-003b-46f4-c672-8404353b157a"
      },
      "outputs": [
        {
          "data": {
            "text/plain": [
              "genre\n",
              "pop            256\n",
              "electronic     216\n",
              "rock           216\n",
              "dance          210\n",
              "hiphop          97\n",
              "alternative     63\n",
              "jazz            61\n",
              "classical       60\n",
              "rusrap          59\n",
              "world           54\n",
              "Name: genre, dtype: int64"
            ]
          },
          "execution_count": 77,
          "metadata": {},
          "output_type": "execute_result"
        }
      ],
      "source": [
        "genre_weekday(spb_general, 'Friday', '17:00', '23:00')"
      ]
    },
    {
      "cell_type": "markdown",
      "metadata": {
        "deletable": false,
        "editable": false,
        "id": "wrCe4MNX_Zcu"
      },
      "source": [
        "**Выводы**\n",
        "\n",
        "Если сравнить топ-10 жанров в понедельник утром, можно сделать такие выводы:\n",
        "\n",
        "1. В Москве и Петербурге слушают похожую музыку. Единственное отличие — в московский рейтинг вошёл жанр “world”, а в петербургский — джаз и классика.\n",
        "\n",
        "2. В Москве пропущенных значений оказалось так много, что значение `'unknown'` заняло десятое место среди самых популярных жанров. Значит, пропущенные значения занимают существенную долю в данных и угрожают достоверности исследования.\n",
        "\n",
        "Вечер пятницы не меняет эту картину. Некоторые жанры поднимаются немного выше, другие спускаются, но в целом топ-10 остаётся тем же самым.\n",
        "\n",
        "Таким образом, вторая гипотеза подтвердилась лишь частично:\n",
        "* Пользователи слушают похожую музыку в начале недели и в конце.\n",
        "* Разница между Москвой и Петербургом не слишком выражена. В Москве чаще слушают русскую популярную музыку, в Петербурге — джаз.\n",
        "\n",
        "Однако пропуски в данных ставят под сомнение этот результат. В Москве их так много, что рейтинг топ-10 мог бы выглядеть иначе, если бы не утерянные  данные о жанрах."
      ]
    },
    {
      "cell_type": "markdown",
      "metadata": {
        "deletable": false,
        "editable": false,
        "id": "JolODAqr_Zcu"
      },
      "source": [
        "### Жанровые предпочтения в Москве и Петербурге\n",
        "\n",
        "Гипотеза: Петербург — столица рэпа, музыку этого жанра там слушают чаще, чем в Москве.  А Москва — город контрастов, в котором, тем не менее, преобладает поп-музыка."
      ]
    },
    {
      "cell_type": "code",
      "execution_count": null,
      "metadata": {
        "deletable": false,
        "id": "r19lIPke_Zcu"
      },
      "outputs": [],
      "source": [
        "moscow_genres = moscow_general.groupby('genre')['genre'].count().sort_values(ascending=False)"
      ]
    },
    {
      "cell_type": "code",
      "execution_count": null,
      "metadata": {
        "deletable": false,
        "id": "WhCSooF8_Zcv",
        "outputId": "638d4921-17fb-4a6f-c4c4-23e902a40d89"
      },
      "outputs": [
        {
          "data": {
            "text/plain": [
              "genre\n",
              "pop            5892\n",
              "dance          4435\n",
              "rock           3965\n",
              "electronic     3786\n",
              "hiphop         2096\n",
              "classical      1616\n",
              "world          1432\n",
              "alternative    1379\n",
              "ruspop         1372\n",
              "rusrap         1161\n",
              "Name: genre, dtype: int64"
            ]
          },
          "execution_count": 46,
          "metadata": {},
          "output_type": "execute_result"
        }
      ],
      "source": [
        "moscow_genres[:10]"
      ]
    },
    {
      "cell_type": "code",
      "execution_count": null,
      "metadata": {
        "deletable": false,
        "id": "gluLIpE7_Zcv"
      },
      "outputs": [],
      "source": [
        "spb_genres = spb_general.groupby('genre')['genre'].count().sort_values(ascending=False)"
      ]
    },
    {
      "cell_type": "code",
      "execution_count": null,
      "metadata": {
        "deletable": false,
        "id": "uaGJHjVU_Zcv",
        "outputId": "42ddf234-28d9-4db6-bee8-bf18334ebc05"
      },
      "outputs": [
        {
          "data": {
            "text/plain": [
              "genre\n",
              "pop            2431\n",
              "dance          1932\n",
              "rock           1879\n",
              "electronic     1736\n",
              "hiphop          960\n",
              "alternative     649\n",
              "classical       646\n",
              "rusrap          564\n",
              "ruspop          538\n",
              "world           515\n",
              "Name: genre, dtype: int64"
            ]
          },
          "execution_count": 48,
          "metadata": {},
          "output_type": "execute_result"
        }
      ],
      "source": [
        "spb_genres[:10]"
      ]
    },
    {
      "cell_type": "markdown",
      "metadata": {
        "deletable": false,
        "editable": false,
        "id": "RY51YJYu_Zcv"
      },
      "source": [
        "**Выводы**"
      ]
    },
    {
      "cell_type": "markdown",
      "metadata": {
        "deletable": false,
        "editable": false,
        "id": "nVhnJEm__Zcv"
      },
      "source": [
        "Гипотеза частично подтвердилась:\n",
        "* Поп-музыка — самый популярный жанр в Москве, как и предполагала гипотеза. Более того, в топ-10 жанров встречается близкий жанр — русская популярная музыка.\n",
        "* Вопреки ожиданиям, рэп одинаково популярен в Москве и Петербурге. \n"
      ]
    },
    {
      "cell_type": "markdown",
      "metadata": {
        "deletable": false,
        "editable": false,
        "id": "ykKQ0N65_Zcv"
      },
      "source": [
        "## Итоги исследования"
      ]
    },
    {
      "cell_type": "markdown",
      "metadata": {
        "deletable": false,
        "editable": false,
        "id": "tjUwbHb3_Zcv"
      },
      "source": [
        "Мы проверили три гипотезы и установили:\n",
        "\n",
        "1. День недели по-разному влияет на активность пользователей в Москве и Петербурге. \n",
        "\n",
        "Первая гипотеза полностью подтвердилась.\n",
        "\n",
        "2. Музыкальные предпочтения не сильно меняются в течение недели — будь то Москва или Петербург. Небольшие различия заметны в начале недели, по понедельникам:\n",
        "* в Москве слушают музыку жанра “world”,\n",
        "* в Петербурге — джаз и классику.\n",
        "\n",
        "Таким образом, вторая гипотеза подтвердилась лишь отчасти. Этот результат мог оказаться иным, если бы не пропуски в данных.\n",
        "\n",
        "3. Во вкусах пользователей Москвы и Петербурга больше общего чем различий. Вопреки ожиданиям, предпочтения жанров в Петербурге напоминают московские.\n",
        "\n",
        "Третья гипотеза не подтвердилась. Если различия в предпочтениях и существуют, на основной массе пользователей они незаметны.\n",
        "\n"
      ]
    }
  ],
  "metadata": {
    "ExecuteTimeLog": [
      {
        "duration": 371,
        "start_time": "2022-09-30T11:34:51.968Z"
      },
      {
        "duration": 4,
        "start_time": "2022-09-30T11:35:20.547Z"
      },
      {
        "duration": 242,
        "start_time": "2022-09-30T11:36:19.474Z"
      },
      {
        "duration": 10,
        "start_time": "2022-09-30T11:36:48.010Z"
      },
      {
        "duration": 17,
        "start_time": "2022-09-30T11:36:58.569Z"
      },
      {
        "duration": 29,
        "start_time": "2022-09-30T11:37:36.518Z"
      },
      {
        "duration": 29,
        "start_time": "2022-09-30T11:37:52.142Z"
      },
      {
        "duration": 28,
        "start_time": "2022-09-30T11:37:57.534Z"
      },
      {
        "duration": 27,
        "start_time": "2022-09-30T11:38:02.212Z"
      },
      {
        "duration": 3,
        "start_time": "2022-09-30T11:41:21.522Z"
      },
      {
        "duration": 2,
        "start_time": "2022-09-30T11:42:07.212Z"
      },
      {
        "duration": 5,
        "start_time": "2022-09-30T11:43:49.644Z"
      },
      {
        "duration": 5,
        "start_time": "2022-09-30T11:43:57.805Z"
      },
      {
        "duration": 81,
        "start_time": "2022-09-30T11:47:11.764Z"
      },
      {
        "duration": 22,
        "start_time": "2022-09-30T11:47:16.859Z"
      },
      {
        "duration": 7,
        "start_time": "2022-09-30T11:47:49.273Z"
      },
      {
        "duration": 16,
        "start_time": "2022-09-30T11:48:03.841Z"
      },
      {
        "duration": 5,
        "start_time": "2022-09-30T11:48:09.306Z"
      },
      {
        "duration": 35,
        "start_time": "2022-09-30T11:48:45.304Z"
      },
      {
        "duration": 31,
        "start_time": "2022-09-30T11:48:57.908Z"
      },
      {
        "duration": 28,
        "start_time": "2022-09-30T11:50:04.621Z"
      },
      {
        "duration": 18,
        "start_time": "2022-09-30T11:54:35.855Z"
      },
      {
        "duration": 25,
        "start_time": "2022-09-30T11:54:55.176Z"
      },
      {
        "duration": 34,
        "start_time": "2022-09-30T11:55:08.910Z"
      },
      {
        "duration": 24,
        "start_time": "2022-09-30T11:55:10.903Z"
      },
      {
        "duration": 74,
        "start_time": "2022-09-30T11:55:42.230Z"
      },
      {
        "duration": 99,
        "start_time": "2022-09-30T11:55:49.460Z"
      },
      {
        "duration": 78,
        "start_time": "2022-09-30T11:56:42.425Z"
      },
      {
        "duration": 62,
        "start_time": "2022-09-30T11:56:55.776Z"
      },
      {
        "duration": 8,
        "start_time": "2022-09-30T11:59:06.850Z"
      },
      {
        "duration": 9,
        "start_time": "2022-09-30T11:59:50.103Z"
      },
      {
        "duration": 6,
        "start_time": "2022-09-30T12:01:21.019Z"
      },
      {
        "duration": 6,
        "start_time": "2022-09-30T12:01:42.168Z"
      },
      {
        "duration": 11,
        "start_time": "2022-09-30T12:03:14.120Z"
      },
      {
        "duration": 8,
        "start_time": "2022-09-30T12:03:26.463Z"
      },
      {
        "duration": 8,
        "start_time": "2022-09-30T12:03:41.101Z"
      },
      {
        "duration": 11,
        "start_time": "2022-09-30T12:03:56.138Z"
      },
      {
        "duration": 15,
        "start_time": "2022-09-30T12:04:02.180Z"
      },
      {
        "duration": 10,
        "start_time": "2022-09-30T12:04:15.511Z"
      },
      {
        "duration": 10,
        "start_time": "2022-09-30T12:05:46.404Z"
      },
      {
        "duration": 222,
        "start_time": "2022-09-30T12:05:57.526Z"
      },
      {
        "duration": 15,
        "start_time": "2022-09-30T12:06:22.704Z"
      },
      {
        "duration": 11,
        "start_time": "2022-09-30T12:06:37.049Z"
      },
      {
        "duration": 8,
        "start_time": "2022-09-30T12:06:48.899Z"
      },
      {
        "duration": 11,
        "start_time": "2022-09-30T12:08:13.122Z"
      },
      {
        "duration": 8,
        "start_time": "2022-09-30T12:08:22.528Z"
      },
      {
        "duration": 9,
        "start_time": "2022-09-30T12:09:26.856Z"
      },
      {
        "duration": 12,
        "start_time": "2022-09-30T12:10:29.907Z"
      },
      {
        "duration": 9,
        "start_time": "2022-09-30T12:10:36.093Z"
      },
      {
        "duration": 6,
        "start_time": "2022-09-30T12:12:15.637Z"
      },
      {
        "duration": 78,
        "start_time": "2022-09-30T12:12:25.073Z"
      },
      {
        "duration": 8,
        "start_time": "2022-09-30T12:13:18.128Z"
      },
      {
        "duration": 9,
        "start_time": "2022-09-30T12:14:06.549Z"
      },
      {
        "duration": 7,
        "start_time": "2022-09-30T12:14:13.969Z"
      },
      {
        "duration": 32,
        "start_time": "2022-09-30T12:18:43.135Z"
      },
      {
        "duration": 62,
        "start_time": "2022-09-30T12:19:08.179Z"
      },
      {
        "duration": 35,
        "start_time": "2022-09-30T12:20:29.028Z"
      },
      {
        "duration": 27,
        "start_time": "2022-09-30T12:20:41.267Z"
      },
      {
        "duration": 7,
        "start_time": "2022-09-30T12:23:12.110Z"
      },
      {
        "duration": 25,
        "start_time": "2022-09-30T12:23:22.820Z"
      },
      {
        "duration": 10,
        "start_time": "2022-09-30T12:23:45.334Z"
      },
      {
        "duration": 9,
        "start_time": "2022-09-30T12:23:56.108Z"
      },
      {
        "duration": 22,
        "start_time": "2022-09-30T12:25:11.726Z"
      },
      {
        "duration": 115,
        "start_time": "2022-09-30T12:27:19.348Z"
      },
      {
        "duration": 14,
        "start_time": "2022-09-30T12:27:26.560Z"
      },
      {
        "duration": 14,
        "start_time": "2022-09-30T12:47:59.074Z"
      },
      {
        "duration": 12,
        "start_time": "2022-09-30T12:59:11.510Z"
      },
      {
        "duration": 4,
        "start_time": "2022-09-30T12:59:20.436Z"
      },
      {
        "duration": 8,
        "start_time": "2022-09-30T13:00:40.642Z"
      },
      {
        "duration": 16,
        "start_time": "2022-09-30T13:00:58.726Z"
      },
      {
        "duration": 16,
        "start_time": "2022-09-30T13:00:59.622Z"
      },
      {
        "duration": 17,
        "start_time": "2022-09-30T13:01:00.166Z"
      },
      {
        "duration": 17,
        "start_time": "2022-09-30T13:01:00.636Z"
      },
      {
        "duration": 16,
        "start_time": "2022-09-30T13:01:01.315Z"
      },
      {
        "duration": 7,
        "start_time": "2022-09-30T13:01:09.672Z"
      },
      {
        "duration": 20,
        "start_time": "2022-09-30T13:01:12.663Z"
      },
      {
        "duration": 75,
        "start_time": "2022-09-30T13:08:49.433Z"
      },
      {
        "duration": 80,
        "start_time": "2022-09-30T13:09:01.103Z"
      },
      {
        "duration": 71,
        "start_time": "2022-09-30T13:09:22.170Z"
      },
      {
        "duration": 17,
        "start_time": "2022-09-30T13:12:46.152Z"
      },
      {
        "duration": 10,
        "start_time": "2022-09-30T13:13:01.365Z"
      },
      {
        "duration": 16,
        "start_time": "2022-10-01T09:01:45.911Z"
      },
      {
        "duration": 5,
        "start_time": "2022-10-01T09:02:21.401Z"
      },
      {
        "duration": 60,
        "start_time": "2022-10-01T09:04:18.455Z"
      },
      {
        "duration": 513,
        "start_time": "2022-10-01T09:04:41.189Z"
      },
      {
        "duration": 278,
        "start_time": "2022-10-01T09:04:41.704Z"
      },
      {
        "duration": 13,
        "start_time": "2022-10-01T09:04:41.984Z"
      },
      {
        "duration": 36,
        "start_time": "2022-10-01T09:04:41.999Z"
      },
      {
        "duration": 3,
        "start_time": "2022-10-01T09:04:42.037Z"
      },
      {
        "duration": 9,
        "start_time": "2022-10-01T09:04:42.041Z"
      },
      {
        "duration": 19,
        "start_time": "2022-10-01T09:04:42.052Z"
      },
      {
        "duration": 6,
        "start_time": "2022-10-01T09:04:42.073Z"
      },
      {
        "duration": 27,
        "start_time": "2022-10-01T09:04:42.081Z"
      },
      {
        "duration": 36,
        "start_time": "2022-10-01T09:04:42.110Z"
      },
      {
        "duration": 31,
        "start_time": "2022-10-01T09:04:42.148Z"
      },
      {
        "duration": 84,
        "start_time": "2022-10-01T09:04:42.181Z"
      },
      {
        "duration": 81,
        "start_time": "2022-10-01T09:04:42.267Z"
      },
      {
        "duration": 54,
        "start_time": "2022-10-01T09:04:42.352Z"
      },
      {
        "duration": 7,
        "start_time": "2022-10-01T09:04:42.408Z"
      },
      {
        "duration": 104,
        "start_time": "2022-10-01T09:04:42.432Z"
      },
      {
        "duration": 8,
        "start_time": "2022-10-01T09:04:42.539Z"
      },
      {
        "duration": 25,
        "start_time": "2022-10-01T09:04:42.549Z"
      },
      {
        "duration": 12,
        "start_time": "2022-10-01T09:04:42.576Z"
      },
      {
        "duration": 4,
        "start_time": "2022-10-01T09:04:42.590Z"
      },
      {
        "duration": 61,
        "start_time": "2022-10-01T09:04:42.596Z"
      },
      {
        "duration": 19,
        "start_time": "2022-10-01T09:04:42.659Z"
      },
      {
        "duration": 19,
        "start_time": "2022-10-01T09:04:42.680Z"
      },
      {
        "duration": 35,
        "start_time": "2022-10-01T09:04:42.700Z"
      },
      {
        "duration": 14,
        "start_time": "2022-10-01T09:04:42.737Z"
      },
      {
        "duration": 19,
        "start_time": "2022-10-01T09:04:42.752Z"
      },
      {
        "duration": 108,
        "start_time": "2022-10-01T09:04:42.773Z"
      },
      {
        "duration": 9,
        "start_time": "2022-10-01T09:04:42.883Z"
      },
      {
        "duration": 8,
        "start_time": "2022-10-01T09:04:42.893Z"
      },
      {
        "duration": 5,
        "start_time": "2022-10-01T09:04:42.903Z"
      },
      {
        "duration": 75,
        "start_time": "2022-10-01T09:04:42.909Z"
      },
      {
        "duration": 0,
        "start_time": "2022-10-01T09:04:42.985Z"
      },
      {
        "duration": 1,
        "start_time": "2022-10-01T09:04:42.986Z"
      },
      {
        "duration": 0,
        "start_time": "2022-10-01T09:04:42.987Z"
      },
      {
        "duration": 0,
        "start_time": "2022-10-01T09:04:42.988Z"
      },
      {
        "duration": 0,
        "start_time": "2022-10-01T09:04:42.990Z"
      },
      {
        "duration": 0,
        "start_time": "2022-10-01T09:04:42.991Z"
      },
      {
        "duration": 0,
        "start_time": "2022-10-01T09:04:42.992Z"
      },
      {
        "duration": 22,
        "start_time": "2022-10-01T09:07:18.345Z"
      },
      {
        "duration": 6,
        "start_time": "2022-10-01T09:07:36.373Z"
      },
      {
        "duration": 22,
        "start_time": "2022-10-01T09:07:38.563Z"
      },
      {
        "duration": 5,
        "start_time": "2022-10-01T09:07:56.756Z"
      },
      {
        "duration": 19,
        "start_time": "2022-10-01T09:07:58.735Z"
      },
      {
        "duration": 14,
        "start_time": "2022-10-01T09:09:35.828Z"
      },
      {
        "duration": 22,
        "start_time": "2022-10-01T09:10:08.719Z"
      },
      {
        "duration": 14,
        "start_time": "2022-10-01T09:11:00.170Z"
      },
      {
        "duration": 18,
        "start_time": "2022-10-01T09:13:35.392Z"
      },
      {
        "duration": 7,
        "start_time": "2022-10-01T09:16:09.849Z"
      },
      {
        "duration": 8,
        "start_time": "2022-10-01T09:16:14.793Z"
      },
      {
        "duration": 6,
        "start_time": "2022-10-01T09:16:16.365Z"
      },
      {
        "duration": 7,
        "start_time": "2022-10-01T09:17:12.111Z"
      },
      {
        "duration": 4,
        "start_time": "2022-10-01T09:17:16.796Z"
      },
      {
        "duration": 11,
        "start_time": "2022-10-01T09:21:32.808Z"
      },
      {
        "duration": 38,
        "start_time": "2022-10-01T09:29:34.457Z"
      },
      {
        "duration": 38,
        "start_time": "2022-10-01T09:30:33.241Z"
      },
      {
        "duration": 25,
        "start_time": "2022-10-01T09:31:25.266Z"
      },
      {
        "duration": 83,
        "start_time": "2022-10-01T09:35:32.921Z"
      },
      {
        "duration": 11,
        "start_time": "2022-10-01T09:35:45.055Z"
      },
      {
        "duration": 17,
        "start_time": "2022-10-01T09:37:25.298Z"
      },
      {
        "duration": 15,
        "start_time": "2022-10-01T09:38:35.606Z"
      },
      {
        "duration": 18,
        "start_time": "2022-10-01T09:38:36.391Z"
      },
      {
        "duration": 14,
        "start_time": "2022-10-01T09:38:36.776Z"
      },
      {
        "duration": 15,
        "start_time": "2022-10-01T09:38:37.215Z"
      },
      {
        "duration": 16,
        "start_time": "2022-10-01T09:38:37.690Z"
      },
      {
        "duration": 16,
        "start_time": "2022-10-01T09:38:38.193Z"
      },
      {
        "duration": 66,
        "start_time": "2022-10-01T09:39:15.718Z"
      },
      {
        "duration": 5,
        "start_time": "2022-10-01T09:40:52.323Z"
      },
      {
        "duration": 25,
        "start_time": "2022-10-01T09:40:53.989Z"
      },
      {
        "duration": 60,
        "start_time": "2022-10-01T09:42:02.365Z"
      },
      {
        "duration": 4,
        "start_time": "2022-10-01T09:42:11.888Z"
      },
      {
        "duration": 25,
        "start_time": "2022-10-01T09:42:13.700Z"
      },
      {
        "duration": 4,
        "start_time": "2022-10-01T09:42:31.494Z"
      },
      {
        "duration": 22,
        "start_time": "2022-10-01T09:42:32.690Z"
      },
      {
        "duration": 16,
        "start_time": "2022-10-01T09:42:42.749Z"
      },
      {
        "duration": 22,
        "start_time": "2022-10-01T09:42:43.335Z"
      },
      {
        "duration": 16,
        "start_time": "2022-10-01T09:42:43.876Z"
      },
      {
        "duration": 5,
        "start_time": "2022-10-01T09:43:53.330Z"
      },
      {
        "duration": 21,
        "start_time": "2022-10-01T09:43:54.728Z"
      },
      {
        "duration": 12,
        "start_time": "2022-10-01T09:43:57.348Z"
      },
      {
        "duration": 19,
        "start_time": "2022-10-01T09:43:57.757Z"
      },
      {
        "duration": 15,
        "start_time": "2022-10-01T09:43:58.193Z"
      }
    ],
    "colab": {
      "provenance": [],
      "include_colab_link": true
    },
    "kernelspec": {
      "display_name": "Python 3 (ipykernel)",
      "language": "python",
      "name": "python3"
    },
    "language_info": {
      "codemirror_mode": {
        "name": "ipython",
        "version": 3
      },
      "file_extension": ".py",
      "mimetype": "text/x-python",
      "name": "python",
      "nbconvert_exporter": "python",
      "pygments_lexer": "ipython3",
      "version": "3.9.5"
    },
    "toc": {
      "base_numbering": 1,
      "nav_menu": {
        "height": "215px",
        "width": "403px"
      },
      "number_sections": true,
      "sideBar": true,
      "skip_h1_title": true,
      "title_cell": "Table of Contents",
      "title_sidebar": "Contents",
      "toc_cell": false,
      "toc_position": {
        "height": "calc(100% - 180px)",
        "left": "10px",
        "top": "150px",
        "width": "285.825px"
      },
      "toc_section_display": true,
      "toc_window_display": false
    }
  },
  "nbformat": 4,
  "nbformat_minor": 0
}