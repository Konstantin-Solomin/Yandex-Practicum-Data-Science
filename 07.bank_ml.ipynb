{
  "cells": [
    {
      "cell_type": "markdown",
      "metadata": {
        "id": "KmBICpalg1rm",
        "toc": true
      },
      "source": [
        "<h1>Содержание<span class=\"tocSkip\"></span></h1>\n",
        "<div class=\"toc\"><ul class=\"toc-item\"><li><span><a href=\"#Подготовка-данных\" data-toc-modified-id=\"Подготовка-данных-1\"><span class=\"toc-item-num\">1&nbsp;&nbsp;</span>Подготовка данных</a></span><ul class=\"toc-item\"><li><span><a href=\"#Начало-блока-объявления-функций\" data-toc-modified-id=\"Начало-блока-объявления-функций-1.1\"><span class=\"toc-item-num\">1.1&nbsp;&nbsp;</span>Начало блока объявления функций</a></span></li><li><span><a href=\"#Конец-блока-объявления-функций\" data-toc-modified-id=\"Конец-блока-объявления-функций-1.2\"><span class=\"toc-item-num\">1.2&nbsp;&nbsp;</span>Конец блока объявления функций</a></span></li></ul></li><li><span><a href=\"#Исследование-задачи\" data-toc-modified-id=\"Исследование-задачи-2\"><span class=\"toc-item-num\">2&nbsp;&nbsp;</span>Исследование задачи</a></span></li><li><span><a href=\"#Борьба-с-дисбалансом\" data-toc-modified-id=\"Борьба-с-дисбалансом-3\"><span class=\"toc-item-num\">3&nbsp;&nbsp;</span>Борьба с дисбалансом</a></span></li><li><span><a href=\"#Тестирование-модели\" data-toc-modified-id=\"Тестирование-модели-4\"><span class=\"toc-item-num\">4&nbsp;&nbsp;</span>Тестирование модели</a></span></li><li><span><a href=\"#Чек-лист-готовности-проекта\" data-toc-modified-id=\"Чек-лист-готовности-проекта-5\"><span class=\"toc-item-num\">5&nbsp;&nbsp;</span>Чек-лист готовности проекта</a></span></li></ul></div>"
      ]
    },
    {
      "cell_type": "markdown",
      "metadata": {
        "id": "apfv39yGg1rr"
      },
      "source": [
        "# Отток клиентов"
      ]
    },
    {
      "cell_type": "markdown",
      "metadata": {
        "id": "OLVg-5fdg1rs"
      },
      "source": [
        "Из «Бета-Банка» стали уходить клиенты. Каждый месяц. Немного, но заметно. Банковские маркетологи посчитали: сохранять текущих клиентов дешевле, чем привлекать новых.\n",
        "\n",
        "Нужно спрогнозировать, уйдёт клиент из банка в ближайшее время или нет. Вам предоставлены исторические данные о поведении клиентов и расторжении договоров с банком. \n",
        "\n",
        "Постройте модель с предельно большим значением *F1*-меры. Чтобы сдать проект успешно, нужно довести метрику до 0.59. Проверьте *F1*-меру на тестовой выборке самостоятельно.\n",
        "\n",
        "Дополнительно измеряйте *AUC-ROC*, сравнивайте её значение с *F1*-мерой.\n",
        "\n",
        "Источник данных: [https://www.kaggle.com/barelydedicated/bank-customer-churn-modeling](https://www.kaggle.com/barelydedicated/bank-customer-churn-modeling)"
      ]
    },
    {
      "cell_type": "markdown",
      "metadata": {
        "id": "ACwMgJnhg1rt"
      },
      "source": [
        "## Подготовка данных"
      ]
    },
    {
      "cell_type": "code",
      "execution_count": null,
      "metadata": {
        "id": "GoIJRlyTg1rt"
      },
      "outputs": [],
      "source": [
        "try:\n",
        "    from google.colab import drive\n",
        "    drive.mount('/content/drive')\n",
        "except:\n",
        "    pass"
      ]
    },
    {
      "cell_type": "code",
      "execution_count": null,
      "metadata": {
        "id": "jLzg9d6lhByf"
      },
      "outputs": [],
      "source": [
        "import pandas as pd\n",
        "import matplotlib.pyplot as plt\n",
        "from sklearn.model_selection import train_test_split\n",
        "from sklearn.tree import DecisionTreeClassifier\n",
        "from sklearn.ensemble import RandomForestClassifier\n",
        "from sklearn.linear_model import LogisticRegression\n",
        "from sklearn.preprocessing import OrdinalEncoder, StandardScaler, OneHotEncoder\n",
        "from sklearn.metrics import f1_score, roc_auc_score\n",
        "from sklearn.utils import shuffle"
      ]
    },
    {
      "cell_type": "markdown",
      "metadata": {
        "id": "8Y3w7nr0PlQW"
      },
      "source": [
        "### Начало блока объявления функций"
      ]
    },
    {
      "cell_type": "code",
      "execution_count": null,
      "metadata": {
        "id": "rYZwfSqWPlQW"
      },
      "outputs": [],
      "source": [
        "def balance_info(x):\n",
        "    print('Баланс классов в целевом признаке')\n",
        "    print('-'*33)\n",
        "    print(x.value_counts(normalize=True))\n",
        "    print('-'*33)"
      ]
    },
    {
      "cell_type": "code",
      "execution_count": null,
      "metadata": {
        "id": "AHhR73-lPlQX"
      },
      "outputs": [],
      "source": [
        "def create_splits(features, target, type=None):\n",
        "    if type=='ohe':\n",
        "        features_train_ohe, features_pack, target_train_ohe, target_pack = train_test_split(\n",
        "          features, target, test_size=0.4, random_state=12345, stratify = target)\n",
        "        features_valid_ohe, features_test_ohe, target_valid_ohe, target_test_ohe = train_test_split(\n",
        "          features_pack, target_pack, test_size=0.5, random_state=12345, stratify = target_pack)\n",
        "        print('Прямое кодирование','\\n', 'Обучающая выборка:', features_train_ohe.shape, target_train_ohe.shape,'\\n',\n",
        "          'Валидационная выборка:', features_valid_ohe.shape, target_valid_ohe.shape,'\\n',\n",
        "          'Тестовая выборка:', features_test_ohe.shape, target_test_ohe.shape)\n",
        "        return features_train_ohe, target_train_ohe, features_valid_ohe,\\\n",
        "          target_valid_ohe, features_test_ohe, target_test_ohe\n",
        "    elif type=='ordinal':\n",
        "        features_train_ordinal, features_pack, target_train_ordinal, target_pack = train_test_split(\n",
        "          features, target, test_size=0.4, random_state=12345, stratify = target)\n",
        "        features_valid_ordinal, features_test_ordinal, target_valid_ordinal, target_test_ordinal = train_test_split(\n",
        "          features_pack, target_pack, test_size=0.5, random_state=12345, stratify = target_pack)\n",
        "        print('Порядковое кодирование','\\n', 'Обучающая выборка:', features_train_ordinal.shape,\n",
        "              target_train_ordinal.shape,'\\n', \n",
        "              'Валидационная выборка:', features_valid_ordinal.shape, target_valid_ordinal.shape,'\\n',\n",
        "              'Тестовая выборка:', features_test_ordinal.shape, target_test_ordinal.shape)\n",
        "        return features_train_ordinal, target_train_ordinal, features_valid_ordinal,\\\n",
        "          target_valid_ordinal, features_test_ordinal, target_test_ordinal\n",
        "    else:\n",
        "      print('type ohe or ordinal')"
      ]
    },
    {
      "cell_type": "code",
      "execution_count": null,
      "metadata": {
        "id": "hVURJAYUQ3eu"
      },
      "outputs": [],
      "source": [
        "def zeroing():\n",
        "    global best_tree, best_forest, best_logistic, f1_tree, f1_forest\n",
        "    global f1_logistic, auc_roc_tree, auc_roc_forest, auc_roc_logistic\n",
        "    best_tree, best_forest, best_logistic = 0, 0, 0\n",
        "    f1_tree, f1_forest, f1_logistic = 0, 0, 0\n",
        "    auc_roc_tree, auc_roc_forest, auc_roc_logistic = 0, 0, 0"
      ]
    },
    {
      "cell_type": "code",
      "execution_count": null,
      "metadata": {
        "id": "BOHs7JFbPlQX"
      },
      "outputs": [],
      "source": [
        "def create_best_tree(features_train, target_train, features_valid, target_valid, class_weight=None):\n",
        "    global best_tree, f1_tree, auc_roc_tree\n",
        "    for depth in range(1, 20):\n",
        "        model = DecisionTreeClassifier(max_depth=depth, random_state=12345, class_weight=class_weight)\n",
        "        model.fit(features_train, target_train)\n",
        "        predicted_valid = model.predict(features_valid)\n",
        "        f1 = f1_score(target_valid, predicted_valid)\n",
        "        probabilities_valid = model.predict_proba(features_valid)\n",
        "        probabilities_one_valid = probabilities_valid[:, 1]\n",
        "        roc = roc_auc_score(target_valid, probabilities_one_valid)\n",
        "        if f1 > f1_tree:\n",
        "            best_tree = model\n",
        "            f1_tree = f1\n",
        "            auc_roc_tree = roc\n",
        "    print(' Характеристики лучшего дерева:', best_tree, '\\n', 'Лучшее значение f1:',\n",
        "          f1_tree, '\\n', 'Лучшее значение AUC-ROC:', auc_roc_tree)"
      ]
    },
    {
      "cell_type": "code",
      "execution_count": null,
      "metadata": {
        "id": "kqtWzEkJuEmE"
      },
      "outputs": [],
      "source": [
        "def create_best_forest(features_train, target_train, features_valid, target_valid, class_weight=None):\n",
        "    global best_forest, f1_forest, auc_roc_forest\n",
        "    best_depth = 0\n",
        "    best_estimators = 0\n",
        "    for depth in range(1, 20):\n",
        "        model = RandomForestClassifier(\n",
        "            max_depth=depth, \n",
        "            random_state=12345, \n",
        "            class_weight=class_weight)\n",
        "        model.fit(features_train, target_train)\n",
        "        predicted_valid = model.predict(features_valid)\n",
        "        f1 = f1_score(target_valid, predicted_valid)\n",
        "        probabilities_valid = model.predict_proba(features_valid)\n",
        "        probabilities_one_valid = probabilities_valid[:, 1]\n",
        "        roc = roc_auc_score(target_valid, probabilities_one_valid)\n",
        "        if f1 > f1_forest:\n",
        "            best_forest = model\n",
        "            f1_forest = f1\n",
        "            auc_roc_forest = roc\n",
        "            best_depth = depth\n",
        "    for n_estimators in range(1, 100, 5):\n",
        "        model = RandomForestClassifier(\n",
        "            n_estimators=n_estimators, \n",
        "            max_depth=best_depth, \n",
        "            random_state=12345, \n",
        "            class_weight=class_weight)\n",
        "        model.fit(features_train, target_train)\n",
        "        predicted_valid = model.predict(features_valid)\n",
        "        f1 = f1_score(target_valid, predicted_valid)\n",
        "        probabilities_valid = model.predict_proba(features_valid)\n",
        "        probabilities_one_valid = probabilities_valid[:, 1]\n",
        "        roc = roc_auc_score(target_valid, probabilities_one_valid)\n",
        "        if f1 > f1_forest:\n",
        "            best_forest = model\n",
        "            f1_forest = f1\n",
        "            auc_roc_forest = roc\n",
        "            best_estimators = n_estimators\n",
        "    est_one = best_estimators-5\n",
        "    est_two = best_estimators+5\n",
        "    for n_estimators in range(est_one, est_two):\n",
        "        model = RandomForestClassifier(\n",
        "            n_estimators=n_estimators, \n",
        "            max_depth=best_depth, \n",
        "            random_state=12345, \n",
        "            class_weight=class_weight)\n",
        "        model.fit(features_train, target_train)\n",
        "        predicted_valid = model.predict(features_valid)\n",
        "        f1 = f1_score(target_valid, predicted_valid)\n",
        "        probabilities_valid = model.predict_proba(features_valid)\n",
        "        probabilities_one_valid = probabilities_valid[:, 1]\n",
        "        roc = roc_auc_score(target_valid, probabilities_one_valid)\n",
        "        if f1 > f1_forest:\n",
        "            best_forest = model\n",
        "            f1_forest = f1\n",
        "            auc_roc_forest = roc\n",
        "            best_estimators = n_estimators\n",
        "    print(' Характеристики лучшего леса:', best_forest, '\\n', 'Лучшее значение f1:',\n",
        "          f1_forest, '\\n', 'Лучшее значение AUC-ROC:', auc_roc_forest)"
      ]
    },
    {
      "cell_type": "code",
      "execution_count": null,
      "metadata": {
        "id": "99K0Y2v4PlQX"
      },
      "outputs": [],
      "source": [
        "def create_best_logistic(features_train, target_train, features_valid, target_valid, class_weight=None):\n",
        "    model = LogisticRegression(solver='liblinear', class_weight=class_weight)\n",
        "    model.fit(features_train, target_train)\n",
        "    predicted_valid = model.predict(features_valid)\n",
        "    f1 = f1_score(target_valid, predicted_valid)\n",
        "    probabilities_valid = model.predict_proba(features_valid)\n",
        "    probabilities_one_valid = probabilities_valid[:, 1]\n",
        "    roc = roc_auc_score(target_valid, probabilities_one_valid)\n",
        "    print(' Результаты логистической регрессии', '\\n', 'Лучшее значение f1:',\n",
        "          f1, '\\n', 'Лучшее значение AUC-ROC:', roc)"
      ]
    },
    {
      "cell_type": "code",
      "execution_count": null,
      "metadata": {
        "id": "4rWk9UfjPlQY"
      },
      "outputs": [],
      "source": [
        "def upsample(features, target, repeat):\n",
        "    features_zeros = features[target == 0]\n",
        "    features_ones = features[target == 1]\n",
        "    target_zeros = target[target == 0]\n",
        "    target_ones = target[target == 1]\n",
        "\n",
        "    features_upsampled = pd.concat([features_zeros] + [features_ones] * repeat)\n",
        "    target_upsampled = pd.concat([target_zeros] + [target_ones] * repeat)\n",
        "\n",
        "    features_upsampled, target_upsampled = shuffle(\n",
        "        features_upsampled, target_upsampled, random_state=12345)\n",
        "\n",
        "    return features_upsampled, target_upsampled"
      ]
    },
    {
      "cell_type": "code",
      "execution_count": null,
      "metadata": {
        "id": "JDj5YXzY876I"
      },
      "outputs": [],
      "source": [
        "def downsample(features, target, fraction):\n",
        "    features_zeros = features[target == 0]\n",
        "    features_ones = features[target == 1]\n",
        "    target_zeros = target[target == 0]\n",
        "    target_ones = target[target == 1]\n",
        "\n",
        "    features_downsampled = pd.concat(\n",
        "        [features_zeros.sample(frac=fraction, random_state=12345)] + [features_ones])\n",
        "    target_downsampled = pd.concat(\n",
        "        [target_zeros.sample(frac=fraction, random_state=12345)] + [target_ones])\n",
        "\n",
        "    features_downsampled, target_downsampled = shuffle(\n",
        "        features_downsampled, target_downsampled, random_state=12345)\n",
        "\n",
        "    return features_downsampled, target_downsampled"
      ]
    },
    {
      "cell_type": "markdown",
      "metadata": {
        "id": "ODAReHYnPlQY"
      },
      "source": [
        "### Конец блока объявления функций"
      ]
    },
    {
      "cell_type": "code",
      "execution_count": null,
      "metadata": {
        "id": "6UmeUgHK1o9U"
      },
      "outputs": [],
      "source": [
        "plt.style.use('dark_background')"
      ]
    },
    {
      "cell_type": "code",
      "execution_count": null,
      "metadata": {
        "id": "XqxLMG0UiBIc"
      },
      "outputs": [],
      "source": [
        "try:\n",
        "    df = pd.read_csv('/content/drive/MyDrive/Colab Notebooks/bank_ml/Churn.csv')\n",
        "except:\n",
        "    df = pd.read_csv('https://code.s3.yandex.net/datasets/Churn.csv')"
      ]
    },
    {
      "cell_type": "code",
      "execution_count": null,
      "metadata": {
        "colab": {
          "base_uri": "https://localhost:8080/",
          "height": 488
        },
        "id": "3s63q0c_h_Ec",
        "outputId": "0f1a3bbe-71f0-4602-b69f-74602809dd8e",
        "scrolled": true
      },
      "outputs": [
        {
          "data": {
            "text/html": [
              "<div>\n",
              "<style scoped>\n",
              "    .dataframe tbody tr th:only-of-type {\n",
              "        vertical-align: middle;\n",
              "    }\n",
              "\n",
              "    .dataframe tbody tr th {\n",
              "        vertical-align: top;\n",
              "    }\n",
              "\n",
              "    .dataframe thead th {\n",
              "        text-align: right;\n",
              "    }\n",
              "</style>\n",
              "<table border=\"1\" class=\"dataframe\">\n",
              "  <thead>\n",
              "    <tr style=\"text-align: right;\">\n",
              "      <th></th>\n",
              "      <th>RowNumber</th>\n",
              "      <th>CustomerId</th>\n",
              "      <th>Surname</th>\n",
              "      <th>CreditScore</th>\n",
              "      <th>Geography</th>\n",
              "      <th>Gender</th>\n",
              "      <th>Age</th>\n",
              "      <th>Tenure</th>\n",
              "      <th>Balance</th>\n",
              "      <th>NumOfProducts</th>\n",
              "      <th>HasCrCard</th>\n",
              "      <th>IsActiveMember</th>\n",
              "      <th>EstimatedSalary</th>\n",
              "      <th>Exited</th>\n",
              "    </tr>\n",
              "  </thead>\n",
              "  <tbody>\n",
              "    <tr>\n",
              "      <th>0</th>\n",
              "      <td>1</td>\n",
              "      <td>15634602</td>\n",
              "      <td>Hargrave</td>\n",
              "      <td>619</td>\n",
              "      <td>France</td>\n",
              "      <td>Female</td>\n",
              "      <td>42</td>\n",
              "      <td>2.0</td>\n",
              "      <td>0.00</td>\n",
              "      <td>1</td>\n",
              "      <td>1</td>\n",
              "      <td>1</td>\n",
              "      <td>101348.88</td>\n",
              "      <td>1</td>\n",
              "    </tr>\n",
              "    <tr>\n",
              "      <th>1</th>\n",
              "      <td>2</td>\n",
              "      <td>15647311</td>\n",
              "      <td>Hill</td>\n",
              "      <td>608</td>\n",
              "      <td>Spain</td>\n",
              "      <td>Female</td>\n",
              "      <td>41</td>\n",
              "      <td>1.0</td>\n",
              "      <td>83807.86</td>\n",
              "      <td>1</td>\n",
              "      <td>0</td>\n",
              "      <td>1</td>\n",
              "      <td>112542.58</td>\n",
              "      <td>0</td>\n",
              "    </tr>\n",
              "    <tr>\n",
              "      <th>2</th>\n",
              "      <td>3</td>\n",
              "      <td>15619304</td>\n",
              "      <td>Onio</td>\n",
              "      <td>502</td>\n",
              "      <td>France</td>\n",
              "      <td>Female</td>\n",
              "      <td>42</td>\n",
              "      <td>8.0</td>\n",
              "      <td>159660.80</td>\n",
              "      <td>3</td>\n",
              "      <td>1</td>\n",
              "      <td>0</td>\n",
              "      <td>113931.57</td>\n",
              "      <td>1</td>\n",
              "    </tr>\n",
              "    <tr>\n",
              "      <th>3</th>\n",
              "      <td>4</td>\n",
              "      <td>15701354</td>\n",
              "      <td>Boni</td>\n",
              "      <td>699</td>\n",
              "      <td>France</td>\n",
              "      <td>Female</td>\n",
              "      <td>39</td>\n",
              "      <td>1.0</td>\n",
              "      <td>0.00</td>\n",
              "      <td>2</td>\n",
              "      <td>0</td>\n",
              "      <td>0</td>\n",
              "      <td>93826.63</td>\n",
              "      <td>0</td>\n",
              "    </tr>\n",
              "    <tr>\n",
              "      <th>4</th>\n",
              "      <td>5</td>\n",
              "      <td>15737888</td>\n",
              "      <td>Mitchell</td>\n",
              "      <td>850</td>\n",
              "      <td>Spain</td>\n",
              "      <td>Female</td>\n",
              "      <td>43</td>\n",
              "      <td>2.0</td>\n",
              "      <td>125510.82</td>\n",
              "      <td>1</td>\n",
              "      <td>1</td>\n",
              "      <td>1</td>\n",
              "      <td>79084.10</td>\n",
              "      <td>0</td>\n",
              "    </tr>\n",
              "    <tr>\n",
              "      <th>...</th>\n",
              "      <td>...</td>\n",
              "      <td>...</td>\n",
              "      <td>...</td>\n",
              "      <td>...</td>\n",
              "      <td>...</td>\n",
              "      <td>...</td>\n",
              "      <td>...</td>\n",
              "      <td>...</td>\n",
              "      <td>...</td>\n",
              "      <td>...</td>\n",
              "      <td>...</td>\n",
              "      <td>...</td>\n",
              "      <td>...</td>\n",
              "      <td>...</td>\n",
              "    </tr>\n",
              "    <tr>\n",
              "      <th>9995</th>\n",
              "      <td>9996</td>\n",
              "      <td>15606229</td>\n",
              "      <td>Obijiaku</td>\n",
              "      <td>771</td>\n",
              "      <td>France</td>\n",
              "      <td>Male</td>\n",
              "      <td>39</td>\n",
              "      <td>5.0</td>\n",
              "      <td>0.00</td>\n",
              "      <td>2</td>\n",
              "      <td>1</td>\n",
              "      <td>0</td>\n",
              "      <td>96270.64</td>\n",
              "      <td>0</td>\n",
              "    </tr>\n",
              "    <tr>\n",
              "      <th>9996</th>\n",
              "      <td>9997</td>\n",
              "      <td>15569892</td>\n",
              "      <td>Johnstone</td>\n",
              "      <td>516</td>\n",
              "      <td>France</td>\n",
              "      <td>Male</td>\n",
              "      <td>35</td>\n",
              "      <td>10.0</td>\n",
              "      <td>57369.61</td>\n",
              "      <td>1</td>\n",
              "      <td>1</td>\n",
              "      <td>1</td>\n",
              "      <td>101699.77</td>\n",
              "      <td>0</td>\n",
              "    </tr>\n",
              "    <tr>\n",
              "      <th>9997</th>\n",
              "      <td>9998</td>\n",
              "      <td>15584532</td>\n",
              "      <td>Liu</td>\n",
              "      <td>709</td>\n",
              "      <td>France</td>\n",
              "      <td>Female</td>\n",
              "      <td>36</td>\n",
              "      <td>7.0</td>\n",
              "      <td>0.00</td>\n",
              "      <td>1</td>\n",
              "      <td>0</td>\n",
              "      <td>1</td>\n",
              "      <td>42085.58</td>\n",
              "      <td>1</td>\n",
              "    </tr>\n",
              "    <tr>\n",
              "      <th>9998</th>\n",
              "      <td>9999</td>\n",
              "      <td>15682355</td>\n",
              "      <td>Sabbatini</td>\n",
              "      <td>772</td>\n",
              "      <td>Germany</td>\n",
              "      <td>Male</td>\n",
              "      <td>42</td>\n",
              "      <td>3.0</td>\n",
              "      <td>75075.31</td>\n",
              "      <td>2</td>\n",
              "      <td>1</td>\n",
              "      <td>0</td>\n",
              "      <td>92888.52</td>\n",
              "      <td>1</td>\n",
              "    </tr>\n",
              "    <tr>\n",
              "      <th>9999</th>\n",
              "      <td>10000</td>\n",
              "      <td>15628319</td>\n",
              "      <td>Walker</td>\n",
              "      <td>792</td>\n",
              "      <td>France</td>\n",
              "      <td>Female</td>\n",
              "      <td>28</td>\n",
              "      <td>NaN</td>\n",
              "      <td>130142.79</td>\n",
              "      <td>1</td>\n",
              "      <td>1</td>\n",
              "      <td>0</td>\n",
              "      <td>38190.78</td>\n",
              "      <td>0</td>\n",
              "    </tr>\n",
              "  </tbody>\n",
              "</table>\n",
              "<p>10000 rows × 14 columns</p>\n",
              "</div>"
            ],
            "text/plain": [
              "      RowNumber  CustomerId    Surname  CreditScore Geography  Gender  Age  \\\n",
              "0             1    15634602   Hargrave          619    France  Female   42   \n",
              "1             2    15647311       Hill          608     Spain  Female   41   \n",
              "2             3    15619304       Onio          502    France  Female   42   \n",
              "3             4    15701354       Boni          699    France  Female   39   \n",
              "4             5    15737888   Mitchell          850     Spain  Female   43   \n",
              "...         ...         ...        ...          ...       ...     ...  ...   \n",
              "9995       9996    15606229   Obijiaku          771    France    Male   39   \n",
              "9996       9997    15569892  Johnstone          516    France    Male   35   \n",
              "9997       9998    15584532        Liu          709    France  Female   36   \n",
              "9998       9999    15682355  Sabbatini          772   Germany    Male   42   \n",
              "9999      10000    15628319     Walker          792    France  Female   28   \n",
              "\n",
              "      Tenure    Balance  NumOfProducts  HasCrCard  IsActiveMember  \\\n",
              "0        2.0       0.00              1          1               1   \n",
              "1        1.0   83807.86              1          0               1   \n",
              "2        8.0  159660.80              3          1               0   \n",
              "3        1.0       0.00              2          0               0   \n",
              "4        2.0  125510.82              1          1               1   \n",
              "...      ...        ...            ...        ...             ...   \n",
              "9995     5.0       0.00              2          1               0   \n",
              "9996    10.0   57369.61              1          1               1   \n",
              "9997     7.0       0.00              1          0               1   \n",
              "9998     3.0   75075.31              2          1               0   \n",
              "9999     NaN  130142.79              1          1               0   \n",
              "\n",
              "      EstimatedSalary  Exited  \n",
              "0           101348.88       1  \n",
              "1           112542.58       0  \n",
              "2           113931.57       1  \n",
              "3            93826.63       0  \n",
              "4            79084.10       0  \n",
              "...               ...     ...  \n",
              "9995         96270.64       0  \n",
              "9996        101699.77       0  \n",
              "9997         42085.58       1  \n",
              "9998         92888.52       1  \n",
              "9999         38190.78       0  \n",
              "\n",
              "[10000 rows x 14 columns]"
            ]
          },
          "execution_count": 84,
          "metadata": {},
          "output_type": "execute_result"
        }
      ],
      "source": [
        "df"
      ]
    },
    {
      "cell_type": "code",
      "execution_count": null,
      "metadata": {
        "colab": {
          "base_uri": "https://localhost:8080/"
        },
        "id": "o8D08WI4igPb",
        "outputId": "f26b5380-3e60-4f96-f25b-f54ddd14c0be",
        "scrolled": true
      },
      "outputs": [
        {
          "name": "stdout",
          "output_type": "stream",
          "text": [
            "<class 'pandas.core.frame.DataFrame'>\n",
            "RangeIndex: 10000 entries, 0 to 9999\n",
            "Data columns (total 14 columns):\n",
            " #   Column           Non-Null Count  Dtype  \n",
            "---  ------           --------------  -----  \n",
            " 0   RowNumber        10000 non-null  int64  \n",
            " 1   CustomerId       10000 non-null  int64  \n",
            " 2   Surname          10000 non-null  object \n",
            " 3   CreditScore      10000 non-null  int64  \n",
            " 4   Geography        10000 non-null  object \n",
            " 5   Gender           10000 non-null  object \n",
            " 6   Age              10000 non-null  int64  \n",
            " 7   Tenure           9091 non-null   float64\n",
            " 8   Balance          10000 non-null  float64\n",
            " 9   NumOfProducts    10000 non-null  int64  \n",
            " 10  HasCrCard        10000 non-null  int64  \n",
            " 11  IsActiveMember   10000 non-null  int64  \n",
            " 12  EstimatedSalary  10000 non-null  float64\n",
            " 13  Exited           10000 non-null  int64  \n",
            "dtypes: float64(3), int64(8), object(3)\n",
            "memory usage: 1.1+ MB\n"
          ]
        }
      ],
      "source": [
        "df.info()"
      ]
    },
    {
      "cell_type": "code",
      "execution_count": null,
      "metadata": {
        "colab": {
          "base_uri": "https://localhost:8080/"
        },
        "id": "pi3oyaS9i7NF",
        "outputId": "b31ed24a-4b8c-4a57-ed00-498036f3c706"
      },
      "outputs": [
        {
          "name": "stdout",
          "output_type": "stream",
          "text": [
            "<class 'pandas.core.frame.DataFrame'>\n",
            "RangeIndex: 10000 entries, 0 to 9999\n",
            "Data columns (total 14 columns):\n",
            " #   Column            Non-Null Count  Dtype  \n",
            "---  ------            --------------  -----  \n",
            " 0   row_number        10000 non-null  int64  \n",
            " 1   customer_id       10000 non-null  int64  \n",
            " 2   surname           10000 non-null  object \n",
            " 3   credit_score      10000 non-null  int64  \n",
            " 4   geography         10000 non-null  object \n",
            " 5   gender            10000 non-null  object \n",
            " 6   age               10000 non-null  int64  \n",
            " 7   tenure            9091 non-null   float64\n",
            " 8   balance           10000 non-null  float64\n",
            " 9   num_of_products   10000 non-null  int64  \n",
            " 10  has_cr_card       10000 non-null  int64  \n",
            " 11  is_active_member  10000 non-null  int64  \n",
            " 12  estimated_salary  10000 non-null  float64\n",
            " 13  exited            10000 non-null  int64  \n",
            "dtypes: float64(3), int64(8), object(3)\n",
            "memory usage: 1.1+ MB\n"
          ]
        }
      ],
      "source": [
        "df.columns = df.columns.str.lower()\n",
        "df = df.rename(columns={'rownumber':'row_number', 'customerid':'customer_id', 'creditscore':'credit_score', \n",
        "                   'numofproducts':'num_of_products', 'hascrcard':'has_cr_card', \n",
        "                   'isactivemember':'is_active_member', 'estimatedsalary':'estimated_salary'})\n",
        "df.info()"
      ]
    },
    {
      "cell_type": "markdown",
      "metadata": {
        "id": "8EnGeu8djFA5"
      },
      "source": [
        "**Признаки**  \n",
        "Row_Number — индекс строки в данных  \n",
        "Customer_Id — уникальный идентификатор клиента  \n",
        "Surname — фамилия  \n",
        "Credit_Score — кредитный рейтинг  \n",
        "Geography — страна проживания  \n",
        "Gender — пол  \n",
        "Age — возраст  \n",
        "Tenure — сколько лет человек является клиентом банка  \n",
        "Balance — баланс на счёте  \n",
        "Num_Of_Products — количество продуктов банка, используемых клиентом  \n",
        "Has_Cr_Card — наличие кредитной карты  \n",
        "Is_Active_Member — активность клиента  \n",
        "Estimated_Salary — предполагаемая зарплата  \n",
        "**Целевой признак**  \n",
        "Exited — факт ухода клиента  "
      ]
    },
    {
      "cell_type": "code",
      "execution_count": null,
      "metadata": {
        "colab": {
          "base_uri": "https://localhost:8080/",
          "height": 879
        },
        "id": "9Zwzfi341CKM",
        "outputId": "a22a8992-a4bb-4a0e-f489-2a387544ef94",
        "scrolled": true
      },
      "outputs": [
        {
          "data": {
            "image/png": "[encoded data removed]",
            "text/plain": [
              "<Figure size 1080x1080 with 12 Axes>"
            ]
          },
          "metadata": {},
          "output_type": "display_data"
        }
      ],
      "source": [
        "df.hist(figsize=(15,15));"
      ]
    },
    {
      "cell_type": "code",
      "execution_count": null,
      "metadata": {
        "id": "uwMxZoYklKWB"
      },
      "outputs": [],
      "source": [
        "for i in ['surname', 'geography', 'gender']:\n",
        "    df[i] = df[i].str.lower()"
      ]
    },
    {
      "cell_type": "code",
      "execution_count": null,
      "metadata": {
        "colab": {
          "base_uri": "https://localhost:8080/"
        },
        "id": "-2vUWv2AlKTZ",
        "outputId": "08e264a4-72b2-4cfb-f133-344df2f18aee"
      },
      "outputs": [
        {
          "name": "stdout",
          "output_type": "stream",
          "text": [
            "количество дубликатов: 0\n"
          ]
        }
      ],
      "source": [
        "print('количество дубликатов:', df.duplicated().sum())"
      ]
    },
    {
      "cell_type": "code",
      "execution_count": null,
      "metadata": {
        "colab": {
          "base_uri": "https://localhost:8080/"
        },
        "id": "hTLTZuuMqUDj",
        "outputId": "29a3b024-37ee-497d-f246-0431ea3ae243"
      },
      "outputs": [
        {
          "name": "stdout",
          "output_type": "stream",
          "text": [
            "количество пропусков: 909\n"
          ]
        }
      ],
      "source": [
        "print('количество пропусков:', df['tenure'].isna().sum())"
      ]
    },
    {
      "cell_type": "code",
      "execution_count": null,
      "metadata": {
        "id": "hdOByUTulKGV"
      },
      "outputs": [],
      "source": [
        "df.index = df['customer_id']\n",
        "df = df.drop(['row_number', 'customer_id', 'surname'], axis=1)"
      ]
    },
    {
      "cell_type": "code",
      "execution_count": null,
      "metadata": {
        "colab": {
          "base_uri": "https://localhost:8080/"
        },
        "id": "GQwUs23jmvsg",
        "outputId": "0a05d579-79b2-4e5b-a170-fdf6255f5b8b"
      },
      "outputs": [
        {
          "name": "stdout",
          "output_type": "stream",
          "text": [
            "Количество уникальных значений в каждом столбце\n",
            "-------------------------\n",
            "credit_score         460\n",
            "geography              3\n",
            "gender                 2\n",
            "age                   70\n",
            "tenure                11\n",
            "balance             6382\n",
            "num_of_products        4\n",
            "has_cr_card            2\n",
            "is_active_member       2\n",
            "estimated_salary    9999\n",
            "exited                 2\n",
            "dtype: int64\n",
            "-------------------------\n"
          ]
        }
      ],
      "source": [
        "print('Количество уникальных значений в каждом столбце')\n",
        "print('-'*25)\n",
        "print(df.nunique())\n",
        "print('-'*25)"
      ]
    },
    {
      "cell_type": "code",
      "execution_count": null,
      "metadata": {
        "colab": {
          "base_uri": "https://localhost:8080/"
        },
        "id": "Tjn8epqE4vD2",
        "outputId": "ecc8e607-8b5b-4691-a63b-f5a0f1b6af70"
      },
      "outputs": [
        {
          "name": "stdout",
          "output_type": "stream",
          "text": [
            "Минимальное значение в столбце credit_score: 350\n",
            "Максимальное значение в столбце credit_score: 850 \n",
            "\n",
            "Минимальное значение в столбце geography: france\n",
            "Максимальное значение в столбце geography: spain \n",
            "\n",
            "Минимальное значение в столбце gender: female\n",
            "Максимальное значение в столбце gender: male \n",
            "\n",
            "Минимальное значение в столбце age: 18\n",
            "Максимальное значение в столбце age: 92 \n",
            "\n",
            "Минимальное значение в столбце tenure: 0.0\n",
            "Максимальное значение в столбце tenure: 10.0 \n",
            "\n",
            "Минимальное значение в столбце balance: 0.0\n",
            "Максимальное значение в столбце balance: 250898.09 \n",
            "\n",
            "Минимальное значение в столбце num_of_products: 1\n",
            "Максимальное значение в столбце num_of_products: 4 \n",
            "\n",
            "Минимальное значение в столбце has_cr_card: 0\n",
            "Максимальное значение в столбце has_cr_card: 1 \n",
            "\n",
            "Минимальное значение в столбце is_active_member: 0\n",
            "Максимальное значение в столбце is_active_member: 1 \n",
            "\n",
            "Минимальное значение в столбце estimated_salary: 11.58\n",
            "Максимальное значение в столбце estimated_salary: 199992.48 \n",
            "\n",
            "Минимальное значение в столбце exited: 0\n",
            "Максимальное значение в столбце exited: 1 \n",
            "\n"
          ]
        }
      ],
      "source": [
        "for i in df.columns:\n",
        "    print(f'Минимальное значение в столбце {i}:', df[i].dropna().unique().min())\n",
        "    print(f'Максимальное значение в столбце {i}:', df[i].dropna().unique().max(), '\\n')"
      ]
    },
    {
      "cell_type": "code",
      "execution_count": null,
      "metadata": {
        "colab": {
          "base_uri": "https://localhost:8080/"
        },
        "id": "S5SIfK5I8Ytf",
        "outputId": "d2c7b2c0-6aca-4d52-e9c1-7e75dce36aae",
        "scrolled": true
      },
      "outputs": [
        {
          "data": {
            "text/plain": [
              "customer_id\n",
              "15791053     11.58\n",
              "15679693     90.07\n",
              "15786463     91.75\n",
              "15639662     96.27\n",
              "15602851    106.67\n",
              "15623369    123.07\n",
              "15648735    142.81\n",
              "15718667    143.34\n",
              "15640421    178.19\n",
              "15684198    216.27\n",
              "Name: estimated_salary, dtype: float64"
            ]
          },
          "execution_count": 94,
          "metadata": {},
          "output_type": "execute_result"
        }
      ],
      "source": [
        "df['estimated_salary'].sort_values().head(10)"
      ]
    },
    {
      "cell_type": "code",
      "execution_count": null,
      "metadata": {
        "id": "928WFu-584kq"
      },
      "outputs": [],
      "source": [
        "df = df.drop(axis=0, index=15791053)"
      ]
    },
    {
      "cell_type": "code",
      "execution_count": null,
      "metadata": {
        "colab": {
          "base_uri": "https://localhost:8080/"
        },
        "id": "csFVvDCfmvkb",
        "outputId": "a3c9b267-6727-4198-8de1-0051ebe6af53"
      },
      "outputs": [
        {
          "name": "stdout",
          "output_type": "stream",
          "text": [
            "Баланс классов в целевом признаке\n",
            "---------------------------------\n",
            "0    0.79638\n",
            "1    0.20362\n",
            "Name: exited, dtype: float64\n",
            "---------------------------------\n"
          ]
        }
      ],
      "source": [
        "balance_info(df['exited'])"
      ]
    },
    {
      "cell_type": "code",
      "execution_count": null,
      "metadata": {
        "id": "9HuHjOFRmvh3"
      },
      "outputs": [],
      "source": [
        "df = df.dropna()\n",
        "df_ohe = pd.get_dummies(df, drop_first=True)#.dropna()\n",
        "encoder = OrdinalEncoder()\n",
        "df_ordinal = pd.DataFrame(encoder.fit_transform(df), columns=df.columns)#.dropna()"
      ]
    },
    {
      "cell_type": "code",
      "execution_count": null,
      "metadata": {
        "id": "eFfzz6QXn3U-"
      },
      "outputs": [],
      "source": [
        "features_ohe = df_ohe.drop('exited', axis=1)\n",
        "target_ohe = df_ohe['exited']\n",
        "features_ordinal = df_ordinal.drop('exited', axis=1)\n",
        "target_ordinal = df_ordinal['exited']"
      ]
    },
    {
      "cell_type": "code",
      "execution_count": null,
      "metadata": {
        "colab": {
          "base_uri": "https://localhost:8080/"
        },
        "id": "a8IIu1hwnfSN",
        "outputId": "1fe305c9-b5a8-4327-e109-7a123f5e23fe"
      },
      "outputs": [
        {
          "name": "stdout",
          "output_type": "stream",
          "text": [
            "Прямое кодирование \n",
            " Обучающая выборка: (5454, 11) (5454,) \n",
            " Валидационная выборка: (1818, 11) (1818,) \n",
            " Тестовая выборка: (1818, 11) (1818,)\n"
          ]
        }
      ],
      "source": [
        "features_train_ohe, target_train_ohe, features_valid_ohe,\\\n",
        " target_valid_ohe, features_test_ohe, target_test_ohe = create_splits(features_ohe, target_ohe, 'ohe')"
      ]
    },
    {
      "cell_type": "code",
      "execution_count": null,
      "metadata": {
        "colab": {
          "base_uri": "https://localhost:8080/"
        },
        "id": "VTSfJw77oOvu",
        "outputId": "70f81f1e-c4f7-49ed-8380-0ffa53c54ded"
      },
      "outputs": [
        {
          "name": "stdout",
          "output_type": "stream",
          "text": [
            "Порядковое кодирование \n",
            " Обучающая выборка: (5454, 11) (5454,) \n",
            " Валидационная выборка: (1818, 11) (1818,) \n",
            " Тестовая выборка: (1818, 11) (1818,)\n"
          ]
        }
      ],
      "source": [
        "features_train_ordinal, target_train_ordinal, features_valid_ordinal,\\\n",
        " target_valid_ordinal, features_test_ordinal, target_test_ordinal = create_splits(\n",
        "    features_ohe, target_ohe, 'ordinal')"
      ]
    },
    {
      "cell_type": "markdown",
      "metadata": {
        "id": "XBDSCn7RxWyF"
      },
      "source": [
        "В процессе подготовки данных, были осуществлены следующие действия:  \n",
        "1. Визуально осмотрен набор данных  \n",
        "  Вывод:  \n",
        "    - Названия столбцов необходимо привести к змеиному регистру - **Выполнено**  \n",
        "    - Столбец *customer_id* можно сделать столбцом индекса - **Выполнено**  \n",
        "    - Столбцы *row_number, surname* будут мешать при обучении модели, решено удалить - **Выполнено**  \n",
        "    - Форматы данных устраивают\n",
        "    - Присутствуют пропуски в столбце *tenure*\n",
        "    - Выбросы и аномалии не обнаружены\n",
        "    - Присутствует дисбаланс классов в целевом признаке\n",
        "2. Строки в столбцах *surname, geography, gender* приведены к нижнему регистру для проверки на дубликаты.\n",
        "    - Дубликатов не обнаружено\n",
        "3. Посчитаны пропуски в столбце *tenure* - 909 шт. Решено оставить как есть. Заполнение какими либо значениями может исказить данные, удаление приведет к потере данных.  \n",
        "        *Оказалось, модель не обрабатывает пропуски, придется исключить их из выборок для моделей\n",
        "4. Проведен осмотр уникальных значений в столбцах, обнаружена одна аномалия: предполагаемая зарплата составляет 11 евро. - **Строка удалена**\n",
        "5. Проверен баланс классов целевого признака, он составляет:  \n",
        "    - Не ушедших клиентов - 80%  \n",
        "    - Ушедших клиентов - 20%\n",
        "6. Созданы 2 датафрейма для дальнейшего построения моделей:\n",
        "    - техникой прямого кодирования (One-Hot Encoding, OHE)\n",
        "    - техникой порядкового кодирования по номеру категории(Ordinal Encoding)\n",
        "7. Подготовлены выборки для обучения и проверки моделей"
      ]
    },
    {
      "cell_type": "markdown",
      "metadata": {
        "id": "DdcM756ug1ru"
      },
      "source": [
        "## Исследование задачи"
      ]
    },
    {
      "cell_type": "code",
      "execution_count": null,
      "metadata": {
        "id": "3Ekjgzjfg1ru"
      },
      "outputs": [],
      "source": [
        "zeroing()"
      ]
    },
    {
      "cell_type": "code",
      "execution_count": null,
      "metadata": {
        "colab": {
          "base_uri": "https://localhost:8080/"
        },
        "id": "SBmKfMlCflDW",
        "outputId": "cb09e129-4081-4785-ea3e-e95828d18ecd"
      },
      "outputs": [
        {
          "name": "stdout",
          "output_type": "stream",
          "text": [
            " Характеристики лучшего дерева: DecisionTreeClassifier(max_depth=7, random_state=12345) \n",
            " Лучшее значение f1: 0.5539452495974235 \n",
            " Лучшее значение AUC-ROC: 0.7899231982892386\n"
          ]
        }
      ],
      "source": [
        "create_best_tree(features_train_ordinal, target_train_ordinal, \n",
        "                 features_valid_ordinal, target_valid_ordinal)  "
      ]
    },
    {
      "cell_type": "code",
      "execution_count": null,
      "metadata": {
        "colab": {
          "base_uri": "https://localhost:8080/"
        },
        "id": "ZYijUR92foKu",
        "outputId": "5c444827-d7b1-4e03-967c-5cb948f0a38e"
      },
      "outputs": [
        {
          "name": "stdout",
          "output_type": "stream",
          "text": [
            " Характеристики лучшего леса: RandomForestClassifier(max_depth=17, n_estimators=89, random_state=12345) \n",
            " Лучшее значение f1: 0.561344537815126 \n",
            " Лучшее значение AUC-ROC: 0.8266391847059722\n"
          ]
        }
      ],
      "source": [
        "create_best_forest(features_train_ordinal, target_train_ordinal, \n",
        "                   features_valid_ordinal, target_valid_ordinal)\n"
      ]
    },
    {
      "cell_type": "code",
      "execution_count": null,
      "metadata": {
        "colab": {
          "base_uri": "https://localhost:8080/"
        },
        "id": "6OBNNEqqfn2o",
        "outputId": "e82fd991-23c5-47f0-ac29-2ac0e56f294a",
        "scrolled": true
      },
      "outputs": [
        {
          "name": "stdout",
          "output_type": "stream",
          "text": [
            " Результаты логистической регрессии \n",
            " Лучшее значение f1: 0.14898419864559817 \n",
            " Лучшее значение AUC-ROC: 0.6744468060137434\n"
          ]
        }
      ],
      "source": [
        "create_best_logistic(features_train_ohe, target_train_ohe, \n",
        "                     features_valid_ohe, target_valid_ohe)"
      ]
    },
    {
      "cell_type": "markdown",
      "metadata": {
        "id": "RD_7my3VNm2D"
      },
      "source": [
        "|Модель                 |F1      |ROC-AUC              |\n",
        "|:---------------------:|:------:|:-------------------:|\n",
        "|Решающее дерево        |0.5539  |0.8147               |\n",
        "|                       |        |                     |\n",
        "|Случайный лес          |0.5613  |0.8266               |\n",
        "|                       |        |                     |\n",
        "|Логистическая регрессия|0.1489  |0.6744               |  \n"
      ]
    },
    {
      "cell_type": "markdown",
      "metadata": {
        "id": "cpr3gb1dPskJ"
      },
      "source": [
        "Ни одна модель не показала удовлетворительных результатов. Следует продолжить эксперименты в поисках лучшей модели удовлетворяющей условиям задачи. В первую очередь необходимо избавится от дисбаланса классов."
      ]
    },
    {
      "cell_type": "markdown",
      "metadata": {
        "id": "w9qDkECVg1rv"
      },
      "source": [
        "## Борьба с дисбалансом"
      ]
    },
    {
      "cell_type": "code",
      "execution_count": null,
      "metadata": {
        "id": "gweZYykBa6Vg"
      },
      "outputs": [],
      "source": [
        "features_train_ohe_upsampled, target_train_ohe_upsampled = upsample(\n",
        "    features_train_ohe, target_train_ohe, 4)\n",
        "features_train_ordinal_upsampled, target_train_ordinal_upsampled = upsample(\n",
        "    features_train_ordinal, target_train_ordinal, 4)"
      ]
    },
    {
      "cell_type": "code",
      "execution_count": null,
      "metadata": {
        "colab": {
          "base_uri": "https://localhost:8080/"
        },
        "id": "l08vX4E_a6Vg",
        "outputId": "2f52b05d-41c2-483b-ccef-237159584c40"
      },
      "outputs": [
        {
          "name": "stdout",
          "output_type": "stream",
          "text": [
            "Баланс классов в целевом признаке\n",
            "---------------------------------\n",
            "1    0.50603\n",
            "0    0.49397\n",
            "Name: exited, dtype: float64\n",
            "---------------------------------\n"
          ]
        }
      ],
      "source": [
        "\n",
        "balance_info(target_train_ohe_upsampled)"
      ]
    },
    {
      "cell_type": "code",
      "execution_count": null,
      "metadata": {
        "id": "usgC5sOso_Bq"
      },
      "outputs": [],
      "source": [
        "scaler = StandardScaler()\n",
        "scaler.fit(features_train_ordinal)\n",
        "features_train_ordinal = scaler.transform(features_train_ordinal)\n",
        "features_valid_ordinal = scaler.transform(features_valid_ordinal)\n",
        "features_test_ordinal = scaler.transform(features_test_ordinal)\n",
        "scaler = StandardScaler()\n",
        "scaler.fit(features_train_ohe)\n",
        "features_train_ohe = scaler.transform(features_train_ohe)\n",
        "features_valid_ohe = scaler.transform(features_valid_ohe)\n",
        "features_test_ohe = scaler.transform(features_test_ohe)"
      ]
    },
    {
      "cell_type": "markdown",
      "metadata": {
        "id": "gAALjV7Gc7iO"
      },
      "source": [
        "Использовав метод upsampling'а удалось придти к балансу классов. Не пришлось применять downsampling. Дополнительно проведено масштабирование. Далее будет проведен эксперимент основанный на результатах upsampling'а."
      ]
    },
    {
      "cell_type": "code",
      "execution_count": null,
      "metadata": {
        "id": "Pf1R9hKuc4X6"
      },
      "outputs": [],
      "source": [
        "zeroing()"
      ]
    },
    {
      "cell_type": "code",
      "execution_count": null,
      "metadata": {
        "colab": {
          "base_uri": "https://localhost:8080/"
        },
        "id": "FfNOREStc4X7",
        "outputId": "e8032327-9cbc-4016-b2fe-f5058a43e7f1"
      },
      "outputs": [
        {
          "name": "stdout",
          "output_type": "stream",
          "text": [
            " Характеристики лучшего дерева: DecisionTreeClassifier(max_depth=4, random_state=12345) \n",
            " Лучшее значение f1: 0.3016476552598225 \n",
            " Лучшее значение AUC-ROC: 0.5153342634728977\n"
          ]
        }
      ],
      "source": [
        "create_best_tree(features_train_ordinal_upsampled, target_train_ordinal_upsampled, \n",
        "                 features_valid_ordinal, target_valid_ordinal)  "
      ]
    },
    {
      "cell_type": "code",
      "execution_count": null,
      "metadata": {
        "colab": {
          "base_uri": "https://localhost:8080/"
        },
        "id": "45rLg8onc4X7",
        "outputId": "ca85c925-be65-48f2-cf3a-c72e2389b600"
      },
      "outputs": [
        {
          "name": "stdout",
          "output_type": "stream",
          "text": [
            " Характеристики лучшего леса: RandomForestClassifier(max_depth=3, n_estimators=26, random_state=12345) \n",
            " Лучшее значение f1: 0.43478260869565216 \n",
            " Лучшее значение AUC-ROC: 0.6967021647166645\n"
          ]
        }
      ],
      "source": [
        "create_best_forest(features_train_ordinal_upsampled, target_train_ordinal_upsampled, \n",
        "                   features_valid_ordinal, target_valid_ordinal)\n"
      ]
    },
    {
      "cell_type": "code",
      "execution_count": null,
      "metadata": {
        "colab": {
          "base_uri": "https://localhost:8080/"
        },
        "id": "s0Sofm3Zc4X8",
        "outputId": "3ed09da8-f2a1-4b93-e4ba-fbe3d097947d",
        "scrolled": true
      },
      "outputs": [
        {
          "name": "stdout",
          "output_type": "stream",
          "text": [
            " Результаты логистической регрессии \n",
            " Лучшее значение f1: 0.44745762711864406 \n",
            " Лучшее значение AUC-ROC: 0.7359272926419006\n"
          ]
        }
      ],
      "source": [
        "create_best_logistic(features_train_ohe_upsampled, target_train_ohe_upsampled, \n",
        "                     features_valid_ohe, target_valid_ohe)"
      ]
    },
    {
      "cell_type": "code",
      "execution_count": null,
      "metadata": {
        "id": "FdZI8AVNkWh3"
      },
      "outputs": [],
      "source": [
        "zeroing()"
      ]
    },
    {
      "cell_type": "code",
      "execution_count": null,
      "metadata": {
        "colab": {
          "base_uri": "https://localhost:8080/"
        },
        "id": "vqEWjmF2kWh9",
        "outputId": "3b1e3260-02a6-4607-f870-d907b1c5c3f9"
      },
      "outputs": [
        {
          "name": "stdout",
          "output_type": "stream",
          "text": [
            " Характеристики лучшего дерева: DecisionTreeClassifier(class_weight='balanced', max_depth=6, random_state=12345) \n",
            " Лучшее значение f1: 0.5280665280665281 \n",
            " Лучшее значение AUC-ROC: 0.7935499974852702\n"
          ]
        }
      ],
      "source": [
        "create_best_tree(features_train_ordinal, target_train_ordinal, \n",
        "                 features_valid_ordinal, target_valid_ordinal, class_weight='balanced')   "
      ]
    },
    {
      "cell_type": "code",
      "execution_count": null,
      "metadata": {
        "colab": {
          "base_uri": "https://localhost:8080/"
        },
        "id": "Ym94bFtGkWh-",
        "outputId": "76a88822-d8f4-4ecf-8723-31b1e4ce3384",
        "scrolled": true
      },
      "outputs": [
        {
          "name": "stdout",
          "output_type": "stream",
          "text": [
            " Характеристики лучшего леса: RandomForestClassifier(class_weight='balanced', max_depth=9, n_estimators=31,\n",
            "                       random_state=12345) \n",
            " Лучшее значение f1: 0.5922974767596282 \n",
            " Лучшее значение AUC-ROC: 0.8396291611792778\n"
          ]
        }
      ],
      "source": [
        "create_best_forest(features_train_ordinal, target_train_ordinal, \n",
        "                   features_valid_ordinal, target_valid_ordinal, class_weight='balanced')"
      ]
    },
    {
      "cell_type": "code",
      "execution_count": null,
      "metadata": {
        "colab": {
          "base_uri": "https://localhost:8080/"
        },
        "id": "SMJo6TJFkWh-",
        "outputId": "42c8a365-d3b7-45e5-f7c7-ac2e0b44159c",
        "scrolled": true
      },
      "outputs": [
        {
          "name": "stdout",
          "output_type": "stream",
          "text": [
            " Результаты логистической регрессии \n",
            " Лучшее значение f1: 0.4903846153846154 \n",
            " Лучшее значение AUC-ROC: 0.7550336508102087\n"
          ]
        }
      ],
      "source": [
        "create_best_logistic(features_train_ohe, target_train_ohe, \n",
        "                     features_valid_ohe, target_valid_ohe, class_weight='balanced')"
      ]
    },
    {
      "cell_type": "markdown",
      "metadata": {
        "id": "z66ajjWEs8Uk"
      },
      "source": [
        "|Модель|upsample|class_weight|F1|ROC-AUC|\n",
        "|:-:|:-:|:-:|:-:|:-:|\n",
        "|Решающее дерево|-|-|0.5539|0.8147|\n",
        "||+|-|0.3016|0.5153|\n",
        "||+|+|0.5280|0.7935|\n",
        "|Случайный лес|-|-|0.5613|0.8266|\n",
        "||+|-|0.4347|0.6967|\n",
        "||+|+|**0.5922**|**0.8396**| \n",
        "|Логистическая регрессия|-|-|0.1489|0.6744|\n",
        "||+|-|0.4474|0.7359|\n",
        "||+|+|0.4903|0.7550|"
      ]
    },
    {
      "cell_type": "markdown",
      "metadata": {
        "id": "7gX_N_bHzy-I"
      },
      "source": [
        "Лучшие результаты показывает случайный лес при применении:\n",
        "  - upsample - позволяет избавиться от дисбаланса классов\n",
        "  - scaler - преобразование масштаба методом стандартизации\n",
        "  - class_weight - взвешивание классов  \n",
        "    \n",
        "После их применения мы получаем: \n",
        "  - F1 - среднее гармоническое полноты и точности - 0.5922\n",
        "  - AUC-ROC - Площадь под ROC-кривой - 0.8396"
      ]
    },
    {
      "cell_type": "markdown",
      "metadata": {
        "id": "CgRCNG4ng1rw"
      },
      "source": [
        "## Тестирование модели"
      ]
    },
    {
      "cell_type": "code",
      "execution_count": null,
      "metadata": {
        "colab": {
          "base_uri": "https://localhost:8080/"
        },
        "id": "fFTwOhLBg1rw",
        "outputId": "552ef35d-516a-41e8-d93a-b0a853a1e438"
      },
      "outputs": [
        {
          "name": "stdout",
          "output_type": "stream",
          "text": [
            "Значение f1: 0.6463104325699747 \n",
            " Значение AUC-ROC: 0.8718903986859788\n"
          ]
        }
      ],
      "source": [
        "predicted_valid = best_forest.predict(features_test_ordinal)\n",
        "f1 = f1_score(target_test_ordinal, predicted_valid)\n",
        "probabilities_valid = best_forest.predict_proba(features_test_ordinal)\n",
        "probabilities_one_valid = probabilities_valid[:, 1]\n",
        "roc = roc_auc_score(target_test_ordinal, probabilities_one_valid)\n",
        "print('Значение f1:', f1, '\\n', 'Значение AUC-ROC:', roc)"
      ]
    },
    {
      "cell_type": "markdown",
      "metadata": {
        "id": "MnUYgEfx6Meh"
      },
      "source": [
        "Модель готова. Красавица. Можно применять в банке."
      ]
    },
    {
      "cell_type": "markdown",
      "metadata": {
        "id": "HgV44_iho_Bt"
      },
      "source": [
        " Полученные исторические данные были изучены и подготовлены к обучению модели машинного обучения. Для удобства имена столбцов были приведены к змеиному регистру. Данные прошли проверку на пропуски и дубликаты, были удалены лишние столбцы и созданы 2 набора выборок используя порядковое и прямое кодирование. Обнаружен сильный дисбаланс классов целевого признака. Далее был проведен эксперимент по созданию 3-х видов моделей не устраняя дисбаланса, что очевидно показало невозможность создания качественной модели при присутствующем дисбалансе. После чего дисбаланс был устранен при помощи метода upsampling, а также проведено масштабирование. И снова был проведен эксперимент по созданию моделей, при этом сравнивались модели с использованием взвешивания классов и без него. В итоге лучшие результаты показала модель случайного леса с использованием взвешивания, масштабирования, upsampling'а и порядкового кодирования. С таким набором было достигнуто значение f1 - 0.64 на тестовой выборке, что удовлетворяет требованию задачи f1 > 0.59, также площадь под ROC-кривой составила 0.87 - это доказывает что модель далека от случайной."
      ]
    },
    {
      "cell_type": "markdown",
      "metadata": {
        "id": "d3DJnnwOg1rx"
      },
      "source": [
        "## Чек-лист готовности проекта"
      ]
    },
    {
      "cell_type": "markdown",
      "metadata": {
        "id": "Bd19fk-6g1rx"
      },
      "source": [
        "Поставьте 'x' в выполненных пунктах. Далее нажмите Shift+Enter."
      ]
    },
    {
      "cell_type": "markdown",
      "metadata": {
        "id": "EhrVcgqQg1rx"
      },
      "source": [
        "- [x]  Jupyter Notebook открыт\n",
        "- [x]  Весь код выполняется без ошибок\n",
        "- [x]  Ячейки с кодом расположены в порядке исполнения\n",
        "- [x]  Выполнен шаг 1: данные подготовлены\n",
        "- [x]  Выполнен шаг 2: задача исследована\n",
        "    - [x]  Исследован баланс классов\n",
        "    - [x]  Изучены модели без учёта дисбаланса\n",
        "    - [x]  Написаны выводы по результатам исследования\n",
        "- [x]  Выполнен шаг 3: учтён дисбаланс\n",
        "    - [x]  Применено несколько способов борьбы с дисбалансом\n",
        "    - [x]  Написаны выводы по результатам исследования\n",
        "- [x]  Выполнен шаг 4: проведено тестирование\n",
        "- [x]  Удалось достичь *F1*-меры не менее 0.59\n",
        "- [x]  Исследована метрика *AUC-ROC*"
      ]
    }
  ],
  "metadata": {
    "ExecuteTimeLog": [
      {
        "duration": 16,
        "start_time": "2022-12-28T09:54:53.242Z"
      },
      {
        "duration": 1539,
        "start_time": "2022-12-28T09:55:00.825Z"
      },
      {
        "duration": 115,
        "start_time": "2022-12-28T09:55:05.077Z"
      },
      {
        "duration": 3,
        "start_time": "2022-12-28T09:56:56.958Z"
      },
      {
        "duration": 3,
        "start_time": "2022-12-28T09:57:03.528Z"
      },
      {
        "duration": 67,
        "start_time": "2022-12-28T09:57:05.066Z"
      },
      {
        "duration": 28,
        "start_time": "2022-12-28T09:57:09.811Z"
      },
      {
        "duration": 13,
        "start_time": "2022-12-28T09:57:12.133Z"
      },
      {
        "duration": 12,
        "start_time": "2022-12-28T09:57:13.754Z"
      },
      {
        "duration": 1392,
        "start_time": "2022-12-28T09:57:17.048Z"
      },
      {
        "duration": 13,
        "start_time": "2022-12-28T09:57:22.701Z"
      },
      {
        "duration": 13,
        "start_time": "2022-12-28T09:57:23.600Z"
      },
      {
        "duration": 4,
        "start_time": "2022-12-28T09:57:24.683Z"
      },
      {
        "duration": 4,
        "start_time": "2022-12-28T09:57:25.503Z"
      },
      {
        "duration": 12,
        "start_time": "2022-12-28T09:57:30.002Z"
      },
      {
        "duration": 25,
        "start_time": "2022-12-28T09:57:31.633Z"
      },
      {
        "duration": 8,
        "start_time": "2022-12-28T09:57:34.171Z"
      },
      {
        "duration": 5,
        "start_time": "2022-12-28T09:57:36.610Z"
      },
      {
        "duration": 23,
        "start_time": "2022-12-28T09:58:03.986Z"
      },
      {
        "duration": 7,
        "start_time": "2022-12-28T09:58:14.248Z"
      },
      {
        "duration": 4,
        "start_time": "2022-12-28T10:11:28.538Z"
      },
      {
        "duration": 31,
        "start_time": "2022-12-28T10:12:54.499Z"
      },
      {
        "duration": 26,
        "start_time": "2022-12-28T10:13:45.153Z"
      },
      {
        "duration": 3,
        "start_time": "2022-12-28T10:14:01.236Z"
      },
      {
        "duration": 7,
        "start_time": "2022-12-28T10:14:01.241Z"
      },
      {
        "duration": 13,
        "start_time": "2022-12-28T10:14:01.250Z"
      },
      {
        "duration": 8,
        "start_time": "2022-12-28T10:14:01.265Z"
      },
      {
        "duration": 11,
        "start_time": "2022-12-28T10:14:01.275Z"
      },
      {
        "duration": 70,
        "start_time": "2022-12-28T10:14:01.287Z"
      },
      {
        "duration": 23,
        "start_time": "2022-12-28T10:14:01.358Z"
      },
      {
        "duration": 22,
        "start_time": "2022-12-28T10:14:01.383Z"
      },
      {
        "duration": 14,
        "start_time": "2022-12-28T10:14:01.408Z"
      },
      {
        "duration": 1360,
        "start_time": "2022-12-28T10:14:01.425Z"
      },
      {
        "duration": 14,
        "start_time": "2022-12-28T10:14:02.787Z"
      },
      {
        "duration": 29,
        "start_time": "2022-12-28T10:14:02.802Z"
      },
      {
        "duration": 6,
        "start_time": "2022-12-28T10:14:02.832Z"
      },
      {
        "duration": 26,
        "start_time": "2022-12-28T10:14:02.840Z"
      },
      {
        "duration": 14,
        "start_time": "2022-12-28T10:14:02.868Z"
      },
      {
        "duration": 21,
        "start_time": "2022-12-28T10:14:02.884Z"
      },
      {
        "duration": 18,
        "start_time": "2022-12-28T10:14:02.906Z"
      },
      {
        "duration": 5,
        "start_time": "2022-12-28T10:14:02.925Z"
      },
      {
        "duration": 8,
        "start_time": "2022-12-28T10:14:02.931Z"
      },
      {
        "duration": 26,
        "start_time": "2022-12-28T10:14:07.258Z"
      },
      {
        "duration": 11,
        "start_time": "2022-12-28T14:18:01.970Z"
      },
      {
        "duration": 1367,
        "start_time": "2022-12-28T14:18:01.982Z"
      },
      {
        "duration": 4,
        "start_time": "2022-12-28T14:18:03.350Z"
      },
      {
        "duration": 15,
        "start_time": "2022-12-28T14:18:03.356Z"
      },
      {
        "duration": 10,
        "start_time": "2022-12-28T14:18:03.373Z"
      },
      {
        "duration": 11,
        "start_time": "2022-12-28T14:18:03.385Z"
      },
      {
        "duration": 8,
        "start_time": "2022-12-28T14:18:03.398Z"
      },
      {
        "duration": 12,
        "start_time": "2022-12-28T14:18:03.407Z"
      },
      {
        "duration": 10,
        "start_time": "2022-12-28T14:18:03.422Z"
      },
      {
        "duration": 11,
        "start_time": "2022-12-28T14:18:03.434Z"
      },
      {
        "duration": 12,
        "start_time": "2022-12-28T14:18:03.447Z"
      },
      {
        "duration": 142,
        "start_time": "2022-12-28T14:18:03.461Z"
      },
      {
        "duration": 24,
        "start_time": "2022-12-28T14:18:03.604Z"
      },
      {
        "duration": 13,
        "start_time": "2022-12-28T14:18:03.630Z"
      },
      {
        "duration": 14,
        "start_time": "2022-12-28T14:18:21.396Z"
      },
      {
        "duration": 124,
        "start_time": "2022-12-28T14:20:41.763Z"
      },
      {
        "duration": 15,
        "start_time": "2022-12-28T14:21:20.538Z"
      },
      {
        "duration": 6,
        "start_time": "2022-12-28T14:28:52.324Z"
      },
      {
        "duration": 3,
        "start_time": "2022-12-28T14:29:38.139Z"
      },
      {
        "duration": 10,
        "start_time": "2022-12-28T14:29:38.145Z"
      },
      {
        "duration": 11,
        "start_time": "2022-12-28T14:29:38.157Z"
      },
      {
        "duration": 10,
        "start_time": "2022-12-28T14:29:38.170Z"
      },
      {
        "duration": 13,
        "start_time": "2022-12-28T14:29:38.183Z"
      },
      {
        "duration": 11,
        "start_time": "2022-12-28T14:29:38.198Z"
      },
      {
        "duration": 12,
        "start_time": "2022-12-28T14:29:38.211Z"
      },
      {
        "duration": 17,
        "start_time": "2022-12-28T14:29:38.225Z"
      },
      {
        "duration": 12,
        "start_time": "2022-12-28T14:29:38.244Z"
      },
      {
        "duration": 14,
        "start_time": "2022-12-28T14:29:38.258Z"
      },
      {
        "duration": 11,
        "start_time": "2022-12-28T14:29:38.274Z"
      },
      {
        "duration": 144,
        "start_time": "2022-12-28T14:29:38.287Z"
      },
      {
        "duration": 28,
        "start_time": "2022-12-28T14:29:38.434Z"
      },
      {
        "duration": 18,
        "start_time": "2022-12-28T14:29:38.464Z"
      },
      {
        "duration": 39,
        "start_time": "2022-12-28T14:29:38.484Z"
      },
      {
        "duration": 1639,
        "start_time": "2022-12-28T14:29:38.525Z"
      },
      {
        "duration": 13,
        "start_time": "2022-12-28T14:29:40.165Z"
      },
      {
        "duration": 37,
        "start_time": "2022-12-28T14:29:40.180Z"
      },
      {
        "duration": 22,
        "start_time": "2022-12-28T14:29:40.219Z"
      },
      {
        "duration": 1343,
        "start_time": "2022-12-28T14:29:40.242Z"
      },
      {
        "duration": 0,
        "start_time": "2022-12-28T14:29:41.586Z"
      },
      {
        "duration": 0,
        "start_time": "2022-12-28T14:29:41.588Z"
      },
      {
        "duration": 0,
        "start_time": "2022-12-28T14:29:41.589Z"
      },
      {
        "duration": 0,
        "start_time": "2022-12-28T14:29:41.590Z"
      },
      {
        "duration": 0,
        "start_time": "2022-12-28T14:29:41.591Z"
      },
      {
        "duration": 0,
        "start_time": "2022-12-28T14:29:41.592Z"
      },
      {
        "duration": 0,
        "start_time": "2022-12-28T14:29:41.593Z"
      },
      {
        "duration": 0,
        "start_time": "2022-12-28T14:29:41.594Z"
      },
      {
        "duration": 0,
        "start_time": "2022-12-28T14:29:41.595Z"
      },
      {
        "duration": 13,
        "start_time": "2022-12-28T14:31:28.601Z"
      },
      {
        "duration": 14,
        "start_time": "2022-12-28T14:31:35.986Z"
      },
      {
        "duration": 15,
        "start_time": "2022-12-28T14:31:47.425Z"
      },
      {
        "duration": 1387,
        "start_time": "2022-12-28T14:31:54.126Z"
      },
      {
        "duration": 13,
        "start_time": "2022-12-28T14:31:56.959Z"
      },
      {
        "duration": 12,
        "start_time": "2022-12-28T14:31:57.718Z"
      },
      {
        "duration": 4,
        "start_time": "2022-12-28T14:31:58.386Z"
      },
      {
        "duration": 4,
        "start_time": "2022-12-28T14:31:58.985Z"
      },
      {
        "duration": 13,
        "start_time": "2022-12-28T14:32:00.805Z"
      },
      {
        "duration": 22,
        "start_time": "2022-12-28T14:32:01.784Z"
      },
      {
        "duration": 9,
        "start_time": "2022-12-28T14:32:02.859Z"
      },
      {
        "duration": 5,
        "start_time": "2022-12-28T14:32:03.618Z"
      },
      {
        "duration": 7,
        "start_time": "2022-12-28T14:32:04.317Z"
      },
      {
        "duration": 29,
        "start_time": "2022-12-28T14:32:05.583Z"
      },
      {
        "duration": 33,
        "start_time": "2022-12-28T14:33:19.244Z"
      },
      {
        "duration": 33,
        "start_time": "2022-12-28T14:33:30.417Z"
      },
      {
        "duration": 6,
        "start_time": "2022-12-28T14:33:45.445Z"
      },
      {
        "duration": 19,
        "start_time": "2022-12-28T14:33:48.742Z"
      },
      {
        "duration": 10,
        "start_time": "2022-12-28T14:41:00.679Z"
      },
      {
        "duration": 11,
        "start_time": "2022-12-28T14:41:06.919Z"
      },
      {
        "duration": 15,
        "start_time": "2022-12-28T14:41:20.014Z"
      },
      {
        "duration": 5,
        "start_time": "2022-12-28T14:59:21.634Z"
      },
      {
        "duration": 9,
        "start_time": "2022-12-28T14:59:21.642Z"
      },
      {
        "duration": 8,
        "start_time": "2022-12-28T14:59:21.653Z"
      },
      {
        "duration": 9,
        "start_time": "2022-12-28T14:59:21.663Z"
      },
      {
        "duration": 15,
        "start_time": "2022-12-28T14:59:21.675Z"
      },
      {
        "duration": 13,
        "start_time": "2022-12-28T14:59:21.692Z"
      },
      {
        "duration": 8,
        "start_time": "2022-12-28T14:59:21.707Z"
      },
      {
        "duration": 20,
        "start_time": "2022-12-28T14:59:21.716Z"
      },
      {
        "duration": 13,
        "start_time": "2022-12-28T14:59:21.737Z"
      },
      {
        "duration": 11,
        "start_time": "2022-12-28T14:59:21.752Z"
      },
      {
        "duration": 12,
        "start_time": "2022-12-28T14:59:21.765Z"
      },
      {
        "duration": 84,
        "start_time": "2022-12-28T14:59:21.779Z"
      },
      {
        "duration": 23,
        "start_time": "2022-12-28T14:59:21.865Z"
      },
      {
        "duration": 12,
        "start_time": "2022-12-28T14:59:21.892Z"
      },
      {
        "duration": 16,
        "start_time": "2022-12-28T14:59:21.906Z"
      },
      {
        "duration": 1579,
        "start_time": "2022-12-28T14:59:21.923Z"
      },
      {
        "duration": 11,
        "start_time": "2022-12-28T14:59:23.504Z"
      },
      {
        "duration": 29,
        "start_time": "2022-12-28T14:59:23.517Z"
      },
      {
        "duration": 3,
        "start_time": "2022-12-28T14:59:23.548Z"
      },
      {
        "duration": 8,
        "start_time": "2022-12-28T14:59:23.553Z"
      },
      {
        "duration": 16,
        "start_time": "2022-12-28T14:59:23.562Z"
      },
      {
        "duration": 22,
        "start_time": "2022-12-28T14:59:23.579Z"
      },
      {
        "duration": 6,
        "start_time": "2022-12-28T14:59:23.603Z"
      },
      {
        "duration": 4,
        "start_time": "2022-12-28T14:59:23.611Z"
      },
      {
        "duration": 9,
        "start_time": "2022-12-28T14:59:23.617Z"
      },
      {
        "duration": 41,
        "start_time": "2022-12-28T14:59:23.628Z"
      },
      {
        "duration": 0,
        "start_time": "2022-12-28T14:59:23.671Z"
      },
      {
        "duration": 0,
        "start_time": "2022-12-28T14:59:23.672Z"
      },
      {
        "duration": 0,
        "start_time": "2022-12-28T14:59:23.673Z"
      },
      {
        "duration": 0,
        "start_time": "2022-12-28T14:59:23.674Z"
      },
      {
        "duration": 0,
        "start_time": "2022-12-28T14:59:23.675Z"
      },
      {
        "duration": 0,
        "start_time": "2022-12-28T14:59:23.676Z"
      },
      {
        "duration": 0,
        "start_time": "2022-12-28T14:59:23.677Z"
      },
      {
        "duration": 0,
        "start_time": "2022-12-28T14:59:23.678Z"
      },
      {
        "duration": 11,
        "start_time": "2022-12-28T15:02:22.321Z"
      },
      {
        "duration": 17,
        "start_time": "2022-12-28T15:02:25.387Z"
      },
      {
        "duration": 5,
        "start_time": "2022-12-28T15:02:27.413Z"
      },
      {
        "duration": 18,
        "start_time": "2022-12-28T15:04:12.335Z"
      },
      {
        "duration": 6,
        "start_time": "2022-12-28T15:04:25.141Z"
      },
      {
        "duration": 6,
        "start_time": "2022-12-28T15:41:53.034Z"
      },
      {
        "duration": 2,
        "start_time": "2022-12-28T15:42:03.080Z"
      },
      {
        "duration": 578,
        "start_time": "2022-12-28T15:42:03.979Z"
      },
      {
        "duration": 23370,
        "start_time": "2022-12-28T15:42:08.413Z"
      },
      {
        "duration": 45,
        "start_time": "2022-12-28T15:42:47.178Z"
      },
      {
        "duration": 2,
        "start_time": "2022-12-28T15:46:23.388Z"
      },
      {
        "duration": 7,
        "start_time": "2022-12-28T15:46:23.392Z"
      },
      {
        "duration": 7,
        "start_time": "2022-12-28T15:46:23.400Z"
      },
      {
        "duration": 7,
        "start_time": "2022-12-28T15:46:23.409Z"
      },
      {
        "duration": 10,
        "start_time": "2022-12-28T15:46:23.417Z"
      },
      {
        "duration": 16,
        "start_time": "2022-12-28T15:46:23.428Z"
      },
      {
        "duration": 8,
        "start_time": "2022-12-28T15:46:23.445Z"
      },
      {
        "duration": 8,
        "start_time": "2022-12-28T15:46:23.454Z"
      },
      {
        "duration": 8,
        "start_time": "2022-12-28T15:46:23.463Z"
      },
      {
        "duration": 9,
        "start_time": "2022-12-28T15:46:23.473Z"
      },
      {
        "duration": 7,
        "start_time": "2022-12-28T15:46:23.484Z"
      },
      {
        "duration": 132,
        "start_time": "2022-12-28T15:46:23.492Z"
      },
      {
        "duration": 21,
        "start_time": "2022-12-28T15:46:23.626Z"
      },
      {
        "duration": 13,
        "start_time": "2022-12-28T15:46:23.649Z"
      },
      {
        "duration": 12,
        "start_time": "2022-12-28T15:46:23.664Z"
      },
      {
        "duration": 1390,
        "start_time": "2022-12-28T15:46:23.678Z"
      },
      {
        "duration": 12,
        "start_time": "2022-12-28T15:46:25.069Z"
      },
      {
        "duration": 13,
        "start_time": "2022-12-28T15:46:25.082Z"
      },
      {
        "duration": 28,
        "start_time": "2022-12-28T15:46:25.097Z"
      },
      {
        "duration": 9,
        "start_time": "2022-12-28T15:46:25.127Z"
      },
      {
        "duration": 15,
        "start_time": "2022-12-28T15:46:25.138Z"
      },
      {
        "duration": 22,
        "start_time": "2022-12-28T15:46:25.155Z"
      },
      {
        "duration": 7,
        "start_time": "2022-12-28T15:46:25.179Z"
      },
      {
        "duration": 34,
        "start_time": "2022-12-28T15:46:25.188Z"
      },
      {
        "duration": 6,
        "start_time": "2022-12-28T15:46:25.224Z"
      },
      {
        "duration": 34,
        "start_time": "2022-12-28T15:46:25.232Z"
      },
      {
        "duration": 5,
        "start_time": "2022-12-28T15:46:25.268Z"
      },
      {
        "duration": 12,
        "start_time": "2022-12-28T15:46:25.276Z"
      },
      {
        "duration": 35,
        "start_time": "2022-12-28T15:46:25.289Z"
      },
      {
        "duration": 19,
        "start_time": "2022-12-28T15:46:25.325Z"
      },
      {
        "duration": 2,
        "start_time": "2022-12-28T15:46:25.346Z"
      },
      {
        "duration": 382,
        "start_time": "2022-12-28T15:46:25.350Z"
      },
      {
        "duration": 18534,
        "start_time": "2022-12-28T15:46:25.734Z"
      },
      {
        "duration": 54,
        "start_time": "2022-12-28T15:46:44.270Z"
      },
      {
        "duration": 114,
        "start_time": "2022-12-28T15:46:44.326Z"
      },
      {
        "duration": 0,
        "start_time": "2022-12-28T15:46:44.441Z"
      },
      {
        "duration": 0,
        "start_time": "2022-12-28T15:46:44.442Z"
      },
      {
        "duration": 0,
        "start_time": "2022-12-28T15:46:44.443Z"
      },
      {
        "duration": 0,
        "start_time": "2022-12-28T15:46:44.444Z"
      },
      {
        "duration": 0,
        "start_time": "2022-12-28T15:46:44.445Z"
      },
      {
        "duration": 0,
        "start_time": "2022-12-28T15:46:44.446Z"
      },
      {
        "duration": 0,
        "start_time": "2022-12-28T15:46:44.447Z"
      },
      {
        "duration": 0,
        "start_time": "2022-12-28T15:46:44.448Z"
      },
      {
        "duration": 0,
        "start_time": "2022-12-28T15:46:44.449Z"
      },
      {
        "duration": 4,
        "start_time": "2022-12-28T15:53:51.877Z"
      },
      {
        "duration": 22,
        "start_time": "2022-12-28T15:53:51.883Z"
      },
      {
        "duration": 19,
        "start_time": "2022-12-28T15:53:51.906Z"
      },
      {
        "duration": 12,
        "start_time": "2022-12-28T15:53:51.927Z"
      },
      {
        "duration": 31,
        "start_time": "2022-12-28T15:53:51.941Z"
      },
      {
        "duration": 34,
        "start_time": "2022-12-28T15:53:51.974Z"
      },
      {
        "duration": 26,
        "start_time": "2022-12-28T15:53:52.009Z"
      },
      {
        "duration": 31,
        "start_time": "2022-12-28T15:53:52.036Z"
      },
      {
        "duration": 28,
        "start_time": "2022-12-28T15:53:52.069Z"
      },
      {
        "duration": 13,
        "start_time": "2022-12-28T15:53:52.099Z"
      },
      {
        "duration": 19,
        "start_time": "2022-12-28T15:53:52.113Z"
      },
      {
        "duration": 84,
        "start_time": "2022-12-28T15:53:52.134Z"
      },
      {
        "duration": 20,
        "start_time": "2022-12-28T15:53:52.220Z"
      },
      {
        "duration": 12,
        "start_time": "2022-12-28T15:53:52.242Z"
      },
      {
        "duration": 15,
        "start_time": "2022-12-28T15:53:52.255Z"
      },
      {
        "duration": 1424,
        "start_time": "2022-12-28T15:53:52.271Z"
      },
      {
        "duration": 11,
        "start_time": "2022-12-28T15:53:53.697Z"
      },
      {
        "duration": 21,
        "start_time": "2022-12-28T15:53:53.710Z"
      },
      {
        "duration": 3,
        "start_time": "2022-12-28T15:53:53.734Z"
      },
      {
        "duration": 8,
        "start_time": "2022-12-28T15:53:53.739Z"
      },
      {
        "duration": 15,
        "start_time": "2022-12-28T15:53:53.748Z"
      },
      {
        "duration": 21,
        "start_time": "2022-12-28T15:53:53.764Z"
      },
      {
        "duration": 36,
        "start_time": "2022-12-28T15:53:53.787Z"
      },
      {
        "duration": 5,
        "start_time": "2022-12-28T15:53:53.825Z"
      },
      {
        "duration": 10,
        "start_time": "2022-12-28T15:53:53.831Z"
      },
      {
        "duration": 39,
        "start_time": "2022-12-28T15:53:53.843Z"
      },
      {
        "duration": 6,
        "start_time": "2022-12-28T15:53:53.884Z"
      },
      {
        "duration": 33,
        "start_time": "2022-12-28T15:53:53.891Z"
      },
      {
        "duration": 12,
        "start_time": "2022-12-28T15:53:53.926Z"
      },
      {
        "duration": 12,
        "start_time": "2022-12-28T15:54:12.852Z"
      },
      {
        "duration": 10,
        "start_time": "2022-12-28T15:54:16.915Z"
      },
      {
        "duration": 9,
        "start_time": "2022-12-28T15:54:26.275Z"
      },
      {
        "duration": 11,
        "start_time": "2022-12-28T15:54:29.216Z"
      },
      {
        "duration": 8,
        "start_time": "2022-12-28T15:54:37.472Z"
      },
      {
        "duration": 4,
        "start_time": "2022-12-28T15:54:40.927Z"
      },
      {
        "duration": 22,
        "start_time": "2022-12-28T15:54:50.187Z"
      },
      {
        "duration": 5,
        "start_time": "2022-12-28T15:54:51.606Z"
      },
      {
        "duration": 5,
        "start_time": "2022-12-28T15:55:00.453Z"
      },
      {
        "duration": 9,
        "start_time": "2022-12-28T15:55:47.167Z"
      },
      {
        "duration": 3,
        "start_time": "2022-12-28T15:55:53.396Z"
      },
      {
        "duration": 17,
        "start_time": "2022-12-28T15:55:59.430Z"
      },
      {
        "duration": 4,
        "start_time": "2022-12-28T15:57:12.805Z"
      },
      {
        "duration": 11,
        "start_time": "2022-12-28T15:57:14.652Z"
      },
      {
        "duration": 19,
        "start_time": "2022-12-28T15:57:16.988Z"
      },
      {
        "duration": 3,
        "start_time": "2022-12-28T15:57:21.692Z"
      },
      {
        "duration": 476,
        "start_time": "2022-12-28T15:57:24.028Z"
      },
      {
        "duration": 18936,
        "start_time": "2022-12-28T15:57:27.109Z"
      },
      {
        "duration": 174,
        "start_time": "2022-12-28T15:57:46.048Z"
      },
      {
        "duration": 18,
        "start_time": "2022-12-28T15:57:58.617Z"
      },
      {
        "duration": 4,
        "start_time": "2022-12-28T16:04:16.141Z"
      },
      {
        "duration": 13,
        "start_time": "2022-12-28T16:04:16.147Z"
      },
      {
        "duration": 7,
        "start_time": "2022-12-28T16:04:16.162Z"
      },
      {
        "duration": 8,
        "start_time": "2022-12-28T16:04:16.171Z"
      },
      {
        "duration": 9,
        "start_time": "2022-12-28T16:04:16.181Z"
      },
      {
        "duration": 14,
        "start_time": "2022-12-28T16:04:16.192Z"
      },
      {
        "duration": 8,
        "start_time": "2022-12-28T16:04:16.208Z"
      },
      {
        "duration": 11,
        "start_time": "2022-12-28T16:04:16.218Z"
      },
      {
        "duration": 10,
        "start_time": "2022-12-28T16:04:16.231Z"
      },
      {
        "duration": 7,
        "start_time": "2022-12-28T16:04:16.242Z"
      },
      {
        "duration": 9,
        "start_time": "2022-12-28T16:04:16.251Z"
      },
      {
        "duration": 60,
        "start_time": "2022-12-28T16:04:16.261Z"
      },
      {
        "duration": 21,
        "start_time": "2022-12-28T16:04:16.323Z"
      },
      {
        "duration": 11,
        "start_time": "2022-12-28T16:04:16.347Z"
      },
      {
        "duration": 12,
        "start_time": "2022-12-28T16:04:16.360Z"
      },
      {
        "duration": 1458,
        "start_time": "2022-12-28T16:04:16.374Z"
      },
      {
        "duration": 13,
        "start_time": "2022-12-28T16:04:17.834Z"
      },
      {
        "duration": 25,
        "start_time": "2022-12-28T16:04:17.848Z"
      },
      {
        "duration": 4,
        "start_time": "2022-12-28T16:04:17.875Z"
      },
      {
        "duration": 23,
        "start_time": "2022-12-28T16:04:17.880Z"
      },
      {
        "duration": 26,
        "start_time": "2022-12-28T16:04:17.904Z"
      },
      {
        "duration": 28,
        "start_time": "2022-12-28T16:04:17.932Z"
      },
      {
        "duration": 6,
        "start_time": "2022-12-28T16:04:17.962Z"
      },
      {
        "duration": 8,
        "start_time": "2022-12-28T16:04:17.970Z"
      },
      {
        "duration": 12,
        "start_time": "2022-12-28T16:04:17.980Z"
      },
      {
        "duration": 42,
        "start_time": "2022-12-28T16:04:17.994Z"
      },
      {
        "duration": 6,
        "start_time": "2022-12-28T16:04:18.037Z"
      },
      {
        "duration": 23,
        "start_time": "2022-12-28T16:04:18.044Z"
      },
      {
        "duration": 15,
        "start_time": "2022-12-28T16:04:18.069Z"
      },
      {
        "duration": 67,
        "start_time": "2022-12-28T16:04:18.086Z"
      },
      {
        "duration": 455,
        "start_time": "2022-12-28T16:04:18.155Z"
      },
      {
        "duration": 22803,
        "start_time": "2022-12-28T16:04:18.611Z"
      },
      {
        "duration": 40,
        "start_time": "2022-12-28T16:04:41.416Z"
      },
      {
        "duration": 114,
        "start_time": "2022-12-28T16:04:41.530Z"
      },
      {
        "duration": 7,
        "start_time": "2022-12-28T16:04:41.646Z"
      },
      {
        "duration": 27,
        "start_time": "2022-12-28T16:04:41.655Z"
      },
      {
        "duration": 3,
        "start_time": "2022-12-28T16:04:41.684Z"
      },
      {
        "duration": 522,
        "start_time": "2022-12-28T16:04:41.688Z"
      },
      {
        "duration": 17779,
        "start_time": "2022-12-28T16:04:42.212Z"
      },
      {
        "duration": 46,
        "start_time": "2022-12-28T16:04:59.992Z"
      },
      {
        "duration": 85,
        "start_time": "2022-12-28T16:05:00.042Z"
      },
      {
        "duration": 490,
        "start_time": "2022-12-28T16:05:00.132Z"
      },
      {
        "duration": 16729,
        "start_time": "2022-12-28T16:05:00.624Z"
      },
      {
        "duration": 70,
        "start_time": "2022-12-28T16:05:17.354Z"
      },
      {
        "duration": 119,
        "start_time": "2022-12-28T16:05:17.427Z"
      },
      {
        "duration": 16,
        "start_time": "2022-12-28T16:14:57.639Z"
      },
      {
        "duration": 5,
        "start_time": "2022-12-28T16:15:29.745Z"
      },
      {
        "duration": 19,
        "start_time": "2022-12-28T16:15:38.512Z"
      },
      {
        "duration": 382,
        "start_time": "2022-12-28T16:15:56.306Z"
      },
      {
        "duration": 486,
        "start_time": "2022-12-28T16:16:15.308Z"
      },
      {
        "duration": 7,
        "start_time": "2022-12-28T16:16:29.122Z"
      },
      {
        "duration": 47,
        "start_time": "2022-12-28T16:16:29.132Z"
      },
      {
        "duration": 23,
        "start_time": "2022-12-28T16:16:29.181Z"
      },
      {
        "duration": 41,
        "start_time": "2022-12-28T16:16:29.206Z"
      },
      {
        "duration": 49,
        "start_time": "2022-12-28T16:16:29.250Z"
      },
      {
        "duration": 55,
        "start_time": "2022-12-28T16:16:29.301Z"
      },
      {
        "duration": 45,
        "start_time": "2022-12-28T16:16:29.358Z"
      },
      {
        "duration": 29,
        "start_time": "2022-12-28T16:16:29.405Z"
      },
      {
        "duration": 50,
        "start_time": "2022-12-28T16:16:29.436Z"
      },
      {
        "duration": 24,
        "start_time": "2022-12-28T16:16:29.488Z"
      },
      {
        "duration": 35,
        "start_time": "2022-12-28T16:16:29.514Z"
      },
      {
        "duration": 102,
        "start_time": "2022-12-28T16:16:29.552Z"
      },
      {
        "duration": 21,
        "start_time": "2022-12-28T16:16:29.656Z"
      },
      {
        "duration": 20,
        "start_time": "2022-12-28T16:16:29.679Z"
      },
      {
        "duration": 19,
        "start_time": "2022-12-28T16:16:29.701Z"
      },
      {
        "duration": 1659,
        "start_time": "2022-12-28T16:16:29.722Z"
      },
      {
        "duration": 12,
        "start_time": "2022-12-28T16:16:31.383Z"
      },
      {
        "duration": 38,
        "start_time": "2022-12-28T16:16:31.397Z"
      },
      {
        "duration": 27,
        "start_time": "2022-12-28T16:16:31.437Z"
      },
      {
        "duration": 24,
        "start_time": "2022-12-28T16:16:31.466Z"
      },
      {
        "duration": 28,
        "start_time": "2022-12-28T16:16:31.492Z"
      },
      {
        "duration": 38,
        "start_time": "2022-12-28T16:16:31.521Z"
      },
      {
        "duration": 12,
        "start_time": "2022-12-28T16:16:31.561Z"
      },
      {
        "duration": 16,
        "start_time": "2022-12-28T16:16:31.575Z"
      },
      {
        "duration": 44,
        "start_time": "2022-12-28T16:16:31.593Z"
      },
      {
        "duration": 423,
        "start_time": "2022-12-28T16:16:32.838Z"
      },
      {
        "duration": 568,
        "start_time": "2022-12-28T16:16:43.783Z"
      },
      {
        "duration": 401,
        "start_time": "2022-12-28T16:16:52.156Z"
      },
      {
        "duration": 358,
        "start_time": "2022-12-28T16:47:51.627Z"
      },
      {
        "duration": 12,
        "start_time": "2022-12-29T08:43:29.712Z"
      },
      {
        "duration": 1717,
        "start_time": "2022-12-29T08:43:29.727Z"
      },
      {
        "duration": 3,
        "start_time": "2022-12-29T08:43:31.446Z"
      },
      {
        "duration": 77,
        "start_time": "2022-12-29T08:43:31.451Z"
      },
      {
        "duration": 25,
        "start_time": "2022-12-29T08:43:31.531Z"
      },
      {
        "duration": 68,
        "start_time": "2022-12-29T08:43:31.557Z"
      },
      {
        "duration": 22,
        "start_time": "2022-12-29T08:43:31.627Z"
      },
      {
        "duration": 45,
        "start_time": "2022-12-29T08:43:31.652Z"
      },
      {
        "duration": 44,
        "start_time": "2022-12-29T08:43:31.704Z"
      },
      {
        "duration": 16,
        "start_time": "2022-12-29T08:43:31.750Z"
      },
      {
        "duration": 50,
        "start_time": "2022-12-29T08:43:31.768Z"
      },
      {
        "duration": 153,
        "start_time": "2022-12-29T08:43:31.820Z"
      },
      {
        "duration": 30,
        "start_time": "2022-12-29T08:43:31.975Z"
      },
      {
        "duration": 46,
        "start_time": "2022-12-29T08:43:32.008Z"
      },
      {
        "duration": 20,
        "start_time": "2022-12-29T08:43:32.056Z"
      },
      {
        "duration": 1699,
        "start_time": "2022-12-29T08:43:32.084Z"
      },
      {
        "duration": 18,
        "start_time": "2022-12-29T08:43:33.796Z"
      },
      {
        "duration": 16,
        "start_time": "2022-12-29T08:43:33.816Z"
      },
      {
        "duration": 23,
        "start_time": "2022-12-29T08:43:33.833Z"
      },
      {
        "duration": 17,
        "start_time": "2022-12-29T08:43:33.858Z"
      },
      {
        "duration": 72,
        "start_time": "2022-12-29T08:43:33.877Z"
      },
      {
        "duration": 29,
        "start_time": "2022-12-29T08:43:33.951Z"
      },
      {
        "duration": 21,
        "start_time": "2022-12-29T08:43:33.981Z"
      },
      {
        "duration": 33,
        "start_time": "2022-12-29T08:43:34.004Z"
      },
      {
        "duration": 13,
        "start_time": "2022-12-29T08:43:34.039Z"
      },
      {
        "duration": 47,
        "start_time": "2022-12-29T08:55:50.308Z"
      },
      {
        "duration": 8,
        "start_time": "2022-12-29T08:55:56.068Z"
      },
      {
        "duration": 14,
        "start_time": "2022-12-29T08:55:57.709Z"
      },
      {
        "duration": 20,
        "start_time": "2022-12-29T08:55:58.471Z"
      },
      {
        "duration": 4,
        "start_time": "2022-12-29T08:56:03.310Z"
      },
      {
        "duration": 512,
        "start_time": "2022-12-29T08:56:04.531Z"
      },
      {
        "duration": 26620,
        "start_time": "2022-12-29T08:56:05.980Z"
      },
      {
        "duration": 181,
        "start_time": "2022-12-29T08:56:32.602Z"
      },
      {
        "duration": 79,
        "start_time": "2022-12-29T08:56:32.799Z"
      },
      {
        "duration": 11,
        "start_time": "2022-12-29T08:56:32.882Z"
      },
      {
        "duration": 22,
        "start_time": "2022-12-29T08:56:34.627Z"
      },
      {
        "duration": 3,
        "start_time": "2022-12-29T08:56:38.741Z"
      },
      {
        "duration": 583,
        "start_time": "2022-12-29T08:56:39.750Z"
      },
      {
        "duration": 20480,
        "start_time": "2022-12-29T08:56:42.661Z"
      },
      {
        "duration": 145,
        "start_time": "2022-12-29T08:57:03.143Z"
      },
      {
        "duration": 5,
        "start_time": "2022-12-29T08:57:03.297Z"
      },
      {
        "duration": 565,
        "start_time": "2022-12-29T08:57:03.307Z"
      },
      {
        "duration": 19450,
        "start_time": "2022-12-29T08:57:03.875Z"
      },
      {
        "duration": 69,
        "start_time": "2022-12-29T08:57:23.331Z"
      },
      {
        "duration": 181,
        "start_time": "2022-12-29T08:57:23.407Z"
      },
      {
        "duration": 4,
        "start_time": "2022-12-29T09:15:35.842Z"
      },
      {
        "duration": 38,
        "start_time": "2022-12-29T09:15:35.849Z"
      },
      {
        "duration": 43,
        "start_time": "2022-12-29T09:15:35.896Z"
      },
      {
        "duration": 13,
        "start_time": "2022-12-29T09:15:35.942Z"
      },
      {
        "duration": 14,
        "start_time": "2022-12-29T09:15:35.958Z"
      },
      {
        "duration": 41,
        "start_time": "2022-12-29T09:15:35.974Z"
      },
      {
        "duration": 12,
        "start_time": "2022-12-29T09:15:36.018Z"
      },
      {
        "duration": 10,
        "start_time": "2022-12-29T09:15:36.032Z"
      },
      {
        "duration": 10,
        "start_time": "2022-12-29T09:15:36.044Z"
      },
      {
        "duration": 6,
        "start_time": "2022-12-29T09:15:36.056Z"
      },
      {
        "duration": 8,
        "start_time": "2022-12-29T09:15:36.064Z"
      },
      {
        "duration": 99,
        "start_time": "2022-12-29T09:15:36.074Z"
      },
      {
        "duration": 35,
        "start_time": "2022-12-29T09:15:36.175Z"
      },
      {
        "duration": 20,
        "start_time": "2022-12-29T09:15:36.214Z"
      },
      {
        "duration": 27,
        "start_time": "2022-12-29T09:15:36.236Z"
      },
      {
        "duration": 1648,
        "start_time": "2022-12-29T09:15:36.265Z"
      },
      {
        "duration": 14,
        "start_time": "2022-12-29T09:15:37.915Z"
      },
      {
        "duration": 14,
        "start_time": "2022-12-29T09:15:37.931Z"
      },
      {
        "duration": 5,
        "start_time": "2022-12-29T09:15:37.947Z"
      },
      {
        "duration": 37,
        "start_time": "2022-12-29T09:15:37.953Z"
      },
      {
        "duration": 36,
        "start_time": "2022-12-29T09:15:37.992Z"
      },
      {
        "duration": 21,
        "start_time": "2022-12-29T09:15:38.030Z"
      },
      {
        "duration": 8,
        "start_time": "2022-12-29T09:15:38.053Z"
      },
      {
        "duration": 9,
        "start_time": "2022-12-29T09:15:38.062Z"
      },
      {
        "duration": 31,
        "start_time": "2022-12-29T09:15:38.072Z"
      },
      {
        "duration": 165,
        "start_time": "2022-12-29T09:15:38.106Z"
      },
      {
        "duration": 0,
        "start_time": "2022-12-29T09:15:38.273Z"
      },
      {
        "duration": 0,
        "start_time": "2022-12-29T09:15:38.279Z"
      },
      {
        "duration": 0,
        "start_time": "2022-12-29T09:15:38.281Z"
      },
      {
        "duration": 0,
        "start_time": "2022-12-29T09:15:38.284Z"
      },
      {
        "duration": 0,
        "start_time": "2022-12-29T09:15:38.285Z"
      },
      {
        "duration": 0,
        "start_time": "2022-12-29T09:15:38.285Z"
      },
      {
        "duration": 0,
        "start_time": "2022-12-29T09:15:38.286Z"
      },
      {
        "duration": 0,
        "start_time": "2022-12-29T09:15:38.287Z"
      },
      {
        "duration": 0,
        "start_time": "2022-12-29T09:15:38.287Z"
      },
      {
        "duration": 0,
        "start_time": "2022-12-29T09:15:38.288Z"
      },
      {
        "duration": 0,
        "start_time": "2022-12-29T09:15:38.290Z"
      },
      {
        "duration": 0,
        "start_time": "2022-12-29T09:15:38.291Z"
      },
      {
        "duration": 0,
        "start_time": "2022-12-29T09:15:38.292Z"
      },
      {
        "duration": 0,
        "start_time": "2022-12-29T09:15:38.301Z"
      },
      {
        "duration": 0,
        "start_time": "2022-12-29T09:15:38.302Z"
      },
      {
        "duration": 0,
        "start_time": "2022-12-29T09:15:38.303Z"
      },
      {
        "duration": 0,
        "start_time": "2022-12-29T09:15:38.303Z"
      },
      {
        "duration": 0,
        "start_time": "2022-12-29T09:15:38.309Z"
      },
      {
        "duration": 0,
        "start_time": "2022-12-29T09:15:38.315Z"
      },
      {
        "duration": 4,
        "start_time": "2022-12-29T09:31:31.665Z"
      },
      {
        "duration": 37,
        "start_time": "2022-12-29T09:31:31.670Z"
      },
      {
        "duration": 11,
        "start_time": "2022-12-29T09:31:31.709Z"
      },
      {
        "duration": 6,
        "start_time": "2022-12-29T09:31:31.722Z"
      },
      {
        "duration": 18,
        "start_time": "2022-12-29T09:31:31.730Z"
      },
      {
        "duration": 13,
        "start_time": "2022-12-29T09:31:31.749Z"
      },
      {
        "duration": 8,
        "start_time": "2022-12-29T09:31:31.764Z"
      },
      {
        "duration": 35,
        "start_time": "2022-12-29T09:31:31.774Z"
      },
      {
        "duration": 17,
        "start_time": "2022-12-29T09:31:31.811Z"
      },
      {
        "duration": 10,
        "start_time": "2022-12-29T09:31:31.830Z"
      },
      {
        "duration": 28,
        "start_time": "2022-12-29T09:31:31.841Z"
      },
      {
        "duration": 79,
        "start_time": "2022-12-29T09:31:31.871Z"
      },
      {
        "duration": 22,
        "start_time": "2022-12-29T09:31:31.952Z"
      },
      {
        "duration": 51,
        "start_time": "2022-12-29T09:31:31.976Z"
      },
      {
        "duration": 13,
        "start_time": "2022-12-29T09:31:32.029Z"
      },
      {
        "duration": 1438,
        "start_time": "2022-12-29T09:31:32.043Z"
      },
      {
        "duration": 22,
        "start_time": "2022-12-29T09:31:33.483Z"
      },
      {
        "duration": 22,
        "start_time": "2022-12-29T09:31:33.507Z"
      },
      {
        "duration": 4,
        "start_time": "2022-12-29T09:31:33.531Z"
      },
      {
        "duration": 7,
        "start_time": "2022-12-29T09:31:33.536Z"
      },
      {
        "duration": 16,
        "start_time": "2022-12-29T09:31:33.545Z"
      },
      {
        "duration": 42,
        "start_time": "2022-12-29T09:31:33.563Z"
      },
      {
        "duration": 7,
        "start_time": "2022-12-29T09:31:33.607Z"
      },
      {
        "duration": 5,
        "start_time": "2022-12-29T09:31:33.616Z"
      },
      {
        "duration": 8,
        "start_time": "2022-12-29T09:31:33.623Z"
      },
      {
        "duration": 65,
        "start_time": "2022-12-29T09:31:33.633Z"
      },
      {
        "duration": 7,
        "start_time": "2022-12-29T09:31:33.705Z"
      },
      {
        "duration": 18,
        "start_time": "2022-12-29T09:31:33.714Z"
      },
      {
        "duration": 11,
        "start_time": "2022-12-29T09:31:33.733Z"
      },
      {
        "duration": 2,
        "start_time": "2022-12-29T09:31:33.746Z"
      },
      {
        "duration": 567,
        "start_time": "2022-12-29T09:31:33.750Z"
      },
      {
        "duration": 24998,
        "start_time": "2022-12-29T09:31:34.319Z"
      },
      {
        "duration": 89,
        "start_time": "2022-12-29T09:31:59.318Z"
      },
      {
        "duration": 86,
        "start_time": "2022-12-29T09:31:59.411Z"
      },
      {
        "duration": 17,
        "start_time": "2022-12-29T09:31:59.499Z"
      },
      {
        "duration": 19,
        "start_time": "2022-12-29T09:31:59.518Z"
      },
      {
        "duration": 4,
        "start_time": "2022-12-29T09:31:59.540Z"
      },
      {
        "duration": 595,
        "start_time": "2022-12-29T09:31:59.546Z"
      },
      {
        "duration": 19852,
        "start_time": "2022-12-29T09:32:00.143Z"
      },
      {
        "duration": 91,
        "start_time": "2022-12-29T09:32:19.997Z"
      },
      {
        "duration": 11,
        "start_time": "2022-12-29T09:32:20.094Z"
      },
      {
        "duration": 546,
        "start_time": "2022-12-29T09:32:20.107Z"
      },
      {
        "duration": 18540,
        "start_time": "2022-12-29T09:32:20.655Z"
      },
      {
        "duration": 83,
        "start_time": "2022-12-29T09:32:39.199Z"
      },
      {
        "duration": 141,
        "start_time": "2022-12-29T09:32:39.292Z"
      }
    ],
    "colab": {
      "provenance": []
    },
    "kernelspec": {
      "display_name": "Python 3 (ipykernel)",
      "language": "python",
      "name": "python3"
    },
    "language_info": {
      "codemirror_mode": {
        "name": "ipython",
        "version": 3
      },
      "file_extension": ".py",
      "mimetype": "text/x-python",
      "name": "python",
      "nbconvert_exporter": "python",
      "pygments_lexer": "ipython3",
      "version": "3.8.16"
    },
    "toc": {
      "base_numbering": 1,
      "nav_menu": {},
      "number_sections": true,
      "sideBar": true,
      "skip_h1_title": true,
      "title_cell": "Содержание",
      "title_sidebar": "Contents",
      "toc_cell": true,
      "toc_position": {},
      "toc_section_display": true,
      "toc_window_display": true
    }
  },
  "nbformat": 4,
  "nbformat_minor": 0
}
