{
  "cells": [
    {
      "cell_type": "markdown",
      "metadata": {
        "id": "FTdV2OlxZSkM",
        "toc": true
      },
      "source": [
        "<h1>Содержание<span class=\"tocSkip\"></span></h1>\n",
        "<div class=\"toc\"><ul class=\"toc-item\"><li><span><a href=\"#Подготовка\" data-toc-modified-id=\"Подготовка-1\"><span class=\"toc-item-num\">1&nbsp;&nbsp;</span>Подготовка</a></span><ul class=\"toc-item\"><li><span><a href=\"#Импорты\" data-toc-modified-id=\"Импорты-1.1\"><span class=\"toc-item-num\">1.1&nbsp;&nbsp;</span>Импорты</a></span></li><li><span><a href=\"#Константы\" data-toc-modified-id=\"Константы-1.2\"><span class=\"toc-item-num\">1.2&nbsp;&nbsp;</span>Константы</a></span></li><li><span><a href=\"#Функции\" data-toc-modified-id=\"Функции-1.3\"><span class=\"toc-item-num\">1.3&nbsp;&nbsp;</span>Функции</a></span></li><li><span><a href=\"#Подключение-GPU\" data-toc-modified-id=\"Подключение-GPU-1.4\"><span class=\"toc-item-num\">1.4&nbsp;&nbsp;</span>Подключение GPU</a></span></li><li><span><a href=\"#Изучение-датасета\" data-toc-modified-id=\"Изучение-датасета-1.5\"><span class=\"toc-item-num\">1.5&nbsp;&nbsp;</span>Изучение датасета</a></span></li><li><span><a href=\"#Подготовка-данных\" data-toc-modified-id=\"Подготовка-данных-1.6\"><span class=\"toc-item-num\">1.6&nbsp;&nbsp;</span>Подготовка данных</a></span></li></ul></li><li><span><a href=\"#Обучение\" data-toc-modified-id=\"Обучение-2\"><span class=\"toc-item-num\">2&nbsp;&nbsp;</span>Обучение</a></span><ul class=\"toc-item\"><li><span><a href=\"#Подготовка\" data-toc-modified-id=\"Подготовка-2.1\"><span class=\"toc-item-num\">2.1&nbsp;&nbsp;</span>Подготовка</a></span></li><li><span><a href=\"#Обучение\" data-toc-modified-id=\"Обучение-2.2\"><span class=\"toc-item-num\">2.2&nbsp;&nbsp;</span>Обучение</a></span></li><li><span><a href=\"#Результаты\" data-toc-modified-id=\"Результаты-2.3\"><span class=\"toc-item-num\">2.3&nbsp;&nbsp;</span>Результаты</a></span></li></ul></li><li><span><a href=\"#Выводы\" data-toc-modified-id=\"Выводы-3\"><span class=\"toc-item-num\">3&nbsp;&nbsp;</span>Выводы</a></span></li><li><span><a href=\"#Чек-лист-проверки\" data-toc-modified-id=\"Чек-лист-проверки-4\"><span class=\"toc-item-num\">4&nbsp;&nbsp;</span>Чек-лист проверки</a></span></li></ul></div>"
      ]
    },
    {
      "cell_type": "markdown",
      "metadata": {
        "id": "VHtZAbfsZSkQ"
      },
      "source": [
        "# Проект для «Викишоп» с BERT"
      ]
    },
    {
      "cell_type": "markdown",
      "metadata": {
        "id": "V4LrrPGBZSkR"
      },
      "source": [
        "Интернет-магазин «Викишоп» запускает новый сервис. Теперь пользователи могут редактировать и дополнять описания товаров, как в вики-сообществах. То есть клиенты предлагают свои правки и комментируют изменения других. Магазину нужен инструмент, который будет искать токсичные комментарии и отправлять их на модерацию. \n",
        "\n",
        "Обучим модель классифицировать комментарии на позитивные и негативные. В нашем распоряжении набор данных с разметкой о токсичности правок.\n",
        "\n",
        "Построим модель со значением метрики качества *F1* не меньше 0.75. \n",
        "\n",
        "**Общий план по выполнению проекта**\n",
        "\n",
        "1. Загрузим и подготовим данные.\n",
        "2. Обучим модель. \n",
        "3. Сделаем выводы.\n",
        "\n",
        "Для выполнения проекта будем применять предобученную модель *BERT* с сайта huggingface.\n",
        "\n",
        "**Описание данных**\n",
        "\n",
        "Данные находятся в файле `toxic_comments.csv`. Столбец *text* в нём содержит текст комментария, а *toxic* — целевой признак."
      ]
    },
    {
      "cell_type": "markdown",
      "metadata": {
        "id": "AdIkkjmogw9D"
      },
      "source": [
        "##Содержание\n",
        "[Подготовка](#Подготовка)  \n",
        "  - [Импорты](#Импорты)  \n",
        "  - [Константы](#Константы)  \n",
        "  - [Функции](#Функции)  \n",
        "  - [Подключение GPU](#Подключение GPU)  \n",
        "  - [Изучение датасета](#Изучение датасета)  \n",
        "  - [Подготовка данных](#Подготовка данных)  \n",
        "\n",
        "[Обучение](#Обучение)  \n",
        "  - [Подготовка](#Подготовка)  \n",
        "  - [Обучение](#Обучение)  \n",
        "  - [Результаты](#Результаты)  \n",
        "  \n",
        "[Выводы](#Выводы)  \n",
        "\n",
        "[Чек-лист проверки](#Чек-лист проверки)  "
      ]
    },
    {
      "cell_type": "markdown",
      "metadata": {
        "id": "I4BTbc8sZSkS"
      },
      "source": [
        "## Подготовка"
      ]
    },
    {
      "cell_type": "markdown",
      "metadata": {
        "id": "ZqygHjyls2NU"
      },
      "source": [
        "Привет Ревьюер! Я Константин (путают с Дарьей) Так как в курсе было недостаточно информации для выполнения проекта с нейросетью, мне пришлось делать находя материалы в интернете. Было очень много интересной информации, но несколько вещей оказались непонятны, я понял что они нужны, но не понял как они действуют, ниже я о них спрошу. А также буду рассказывать о чем узнал, надеюсь ты сможешь меня где-то поправить, а где то поделиться интересной информацией =)   \n",
        "Хочу отметить что проект я начал делать в Юпитере анакондовском локально, потом перешел в Колаб, но постарался сделать что бы и в Юпитерхабе от яндекса работало. Поэтому некоторые элементы кода я закоментировал."
      ]
    },
    {
      "cell_type": "markdown",
      "metadata": {
        "id": "aLNHKPbW6rdM"
      },
      "source": [
        "### Импорты"
      ]
    },
    {
      "cell_type": "code",
      "execution_count": null,
      "metadata": {
        "id": "sDku-bCUZSkS"
      },
      "outputs": [],
      "source": [
        "#pip install torch"
      ]
    },
    {
      "cell_type": "code",
      "execution_count": null,
      "metadata": {
        "id": "1dcsc940ZSkU"
      },
      "outputs": [],
      "source": [
        "#pip install transformers"
      ]
    },
    {
      "cell_type": "code",
      "execution_count": null,
      "metadata": {
        "id": "gn5ax_8jDZYa"
      },
      "outputs": [],
      "source": [
        "#pip install keras_preprocessing"
      ]
    },
    {
      "cell_type": "code",
      "execution_count": null,
      "metadata": {
        "id": "0-a0TYCaZSkV"
      },
      "outputs": [],
      "source": [
        "import torch\n",
        "import transformers\n",
        "import random\n",
        "import time\n",
        "import datetime\n",
        "import re\n",
        "import pandas as pd\n",
        "import numpy as np\n",
        "import matplotlib.pyplot as plt\n",
        "import seaborn as sns\n",
        "import tensorflow as tf\n",
        "from tqdm import notebook\n",
        "from pymystem3 import Mystem\n",
        "from sklearn.metrics import f1_score\n",
        "from sklearn.model_selection import train_test_split\n",
        "\n",
        "from keras_preprocessing.sequence import pad_sequences\n",
        "from transformers import (AutoTokenizer, AutoModelForSequenceClassification, \n",
        "                          AdamW, BertConfig, get_linear_schedule_with_warmup)\n",
        "from torch.utils.data import (TensorDataset, DataLoader, \n",
        "                              RandomSampler, SequentialSampler)"
      ]
    },
    {
      "cell_type": "code",
      "execution_count": null,
      "metadata": {
        "colab": {
          "base_uri": "https://localhost:8080/"
        },
        "id": "yLpdn66SahRx",
        "outputId": "d9c6be0b-9db9-4b54-e29f-5bfb01e36f4b"
      },
      "outputs": [
        {
          "name": "stdout",
          "output_type": "stream",
          "text": [
            "Mounted at /content/drive\n"
          ]
        }
      ],
      "source": [
        "from google.colab import drive\n",
        "drive.mount('/content/drive')"
      ]
    },
    {
      "cell_type": "markdown",
      "metadata": {
        "id": "OxGir0Hwik1d"
      },
      "source": [
        "### Константы"
      ]
    },
    {
      "cell_type": "code",
      "execution_count": null,
      "metadata": {
        "id": "1hSnZSX1iif3"
      },
      "outputs": [],
      "source": [
        "model_path = \"JungleLee/bert-toxic-comment-classification\" # имя модели\n",
        "MAX_LEN = 128 # максимальная длина предложений\n",
        "RANDOM_STATE = 42 # заметил в интернете что этим переменным часто дают \n",
        "RANDOM_SEED = 42  # значение 42, интересна история этого факта =)\n",
        "TEST_SIZE_1 = 0.4\n",
        "TEST_SIZE_2 = 0.5\n",
        "BATCH_SIZE = 64 # заметил что популярны степени двойки для подобных переменных\n",
        "LEARNING_RATE = 2e-5\n",
        "EPSILON = 1e-8 # для предотвращения деления на ноль\n",
        "EPOCHS = 4"
      ]
    },
    {
      "cell_type": "markdown",
      "metadata": {
        "id": "f_3JHJVjoWPd"
      },
      "source": [
        "### Функции"
      ]
    },
    {
      "cell_type": "code",
      "execution_count": null,
      "metadata": {
        "id": "ziD_xXgboZZB"
      },
      "outputs": [],
      "source": [
        "def clear_text(text):   \n",
        "    text = re.sub(r'[^a-zA-Z ]', ' ', text)\n",
        "    return \" \".join(text.split())"
      ]
    },
    {
      "cell_type": "code",
      "execution_count": null,
      "metadata": {
        "id": "e8A4vtE56MFk"
      },
      "outputs": [],
      "source": [
        "def balance_info(x):\n",
        "    print('Баланс классов в целевом признаке')\n",
        "    print('-'*33)\n",
        "    print(x.value_counts(normalize=True))\n",
        "    print('-'*33)"
      ]
    },
    {
      "cell_type": "code",
      "execution_count": null,
      "metadata": {
        "id": "nUvcQQ8wnTxt"
      },
      "outputs": [],
      "source": [
        "def format_time(elapsed):\n",
        "    elapsed_rounded = int(round((elapsed)))\n",
        "    return str(datetime.timedelta(seconds=elapsed_rounded))"
      ]
    },
    {
      "cell_type": "code",
      "execution_count": null,
      "metadata": {
        "id": "OXeJTSCMnTpT"
      },
      "outputs": [],
      "source": [
        "def flat_f1(preds, labels):\n",
        "    pred_flat = np.argmax(preds, axis=1).flatten()\n",
        "    labels_flat = labels.flatten()\n",
        "    return f1_score(pred_flat, labels_flat)"
      ]
    },
    {
      "cell_type": "markdown",
      "metadata": {
        "id": "8YxVJUPropNm"
      },
      "source": [
        "### Подключение GPU"
      ]
    },
    {
      "cell_type": "code",
      "execution_count": null,
      "metadata": {
        "colab": {
          "base_uri": "https://localhost:8080/"
        },
        "id": "7eYl0TETZSka",
        "outputId": "2d84c176-14e2-471c-c29e-5b335af4db0d"
      },
      "outputs": [
        {
          "name": "stdout",
          "output_type": "stream",
          "text": [
            "Найден GPU: /device:GPU:0\n"
          ]
        }
      ],
      "source": [
        "device_name = tf.test.gpu_device_name()\n",
        "\n",
        "if device_name == '/device:GPU:0':\n",
        "    print('Найден GPU: {}'.format(device_name))\n",
        "else:\n",
        "    raise SystemError('GPU не найден')"
      ]
    },
    {
      "cell_type": "code",
      "execution_count": null,
      "metadata": {
        "colab": {
          "base_uri": "https://localhost:8080/"
        },
        "id": "psjxhM1YZSka",
        "outputId": "429a3972-391c-44f1-955f-014e95fcaf1f"
      },
      "outputs": [
        {
          "name": "stdout",
          "output_type": "stream",
          "text": [
            "Доступен 1 GPU.\n",
            "Будет использован: Tesla T4\n"
          ]
        }
      ],
      "source": [
        "if torch.cuda.is_available():           \n",
        "    device = torch.device(\"cuda\")\n",
        "    print('Доступен %d GPU.' % torch.cuda.device_count())\n",
        "    print('Будет использован:', torch.cuda.get_device_name(0))\n",
        "\n",
        "else:\n",
        "    print('Нет доступных GPU, используем CPU.')\n",
        "    device = torch.device(\"cpu\")"
      ]
    },
    {
      "cell_type": "markdown",
      "metadata": {
        "id": "HoMA9thgh18N"
      },
      "source": [
        "С использованием GPU полный порядок"
      ]
    },
    {
      "cell_type": "markdown",
      "metadata": {
        "id": "M7w2_NWRowJj"
      },
      "source": [
        "### Изучение датасета"
      ]
    },
    {
      "cell_type": "code",
      "execution_count": null,
      "metadata": {
        "id": "8C262X_iZSkW"
      },
      "outputs": [],
      "source": [
        "try:\n",
        "    df = pd.read_csv(\n",
        "        '/content/drive/MyDrive/Colab Notebooks/toxic_comments.csv'\n",
        "        )\n",
        "except FileNotFoundError:\n",
        "    df = pd.read_csv(\n",
        "        r'C:\\Users\\keyten\\Desktop\\Info\\Learning DS\\projects\\toxic_comments\\toxic_comments.csv'\n",
        "        )\n",
        "except:    \n",
        "    df = pd.read_csv(\n",
        "        'https://code.s3.yandex.net/datasets/toxic_comments.csv'\n",
        "        )"
      ]
    },
    {
      "cell_type": "code",
      "execution_count": null,
      "metadata": {
        "colab": {
          "base_uri": "https://localhost:8080/"
        },
        "id": "nlKlPRjIZSkX",
        "outputId": "655dabfd-582e-4278-ff97-5ca0f0932086"
      },
      "outputs": [
        {
          "data": {
            "text/html": [
              "\n",
              "  <div id=\"df-62abeb51-ff89-483e-8d3e-9702b45a6dff\">\n",
              "    <div class=\"colab-df-container\">\n",
              "      <div>\n",
              "<style scoped>\n",
              "    .dataframe tbody tr th:only-of-type {\n",
              "        vertical-align: middle;\n",
              "    }\n",
              "\n",
              "    .dataframe tbody tr th {\n",
              "        vertical-align: top;\n",
              "    }\n",
              "\n",
              "    .dataframe thead th {\n",
              "        text-align: right;\n",
              "    }\n",
              "</style>\n",
              "<table border=\"1\" class=\"dataframe\">\n",
              "  <thead>\n",
              "    <tr style=\"text-align: right;\">\n",
              "      <th></th>\n",
              "      <th>Unnamed: 0</th>\n",
              "      <th>text</th>\n",
              "      <th>toxic</th>\n",
              "    </tr>\n",
              "  </thead>\n",
              "  <tbody>\n",
              "    <tr>\n",
              "      <th>150373</th>\n",
              "      <td>150529</td>\n",
              "      <td>(OH NO HOW WILL LIFE GO ON???)</td>\n",
              "      <td>0</td>\n",
              "    </tr>\n",
              "    <tr>\n",
              "      <th>134044</th>\n",
              "      <td>134182</td>\n",
              "      <td>Ultra-heavy deuterium is a solid with massive ...</td>\n",
              "      <td>0</td>\n",
              "    </tr>\n",
              "    <tr>\n",
              "      <th>68929</th>\n",
              "      <td>68997</td>\n",
              "      <td>Hey thanks for fixing up those typos! I'm not ...</td>\n",
              "      <td>0</td>\n",
              "    </tr>\n",
              "    <tr>\n",
              "      <th>64597</th>\n",
              "      <td>64664</td>\n",
              "      <td>You may comment on my TODO wish if you please....</td>\n",
              "      <td>0</td>\n",
              "    </tr>\n",
              "    <tr>\n",
              "      <th>47447</th>\n",
              "      <td>47502</td>\n",
              "      <td>\"\\n\\nImage source problem with Image:Homeimage...</td>\n",
              "      <td>0</td>\n",
              "    </tr>\n",
              "    <tr>\n",
              "      <th>18835</th>\n",
              "      <td>18854</td>\n",
              "      <td>| class= start| importance= low</td>\n",
              "      <td>0</td>\n",
              "    </tr>\n",
              "    <tr>\n",
              "      <th>2406</th>\n",
              "      <td>2406</td>\n",
              "      <td>Also, I am going warthog hunting tomorrow, and...</td>\n",
              "      <td>0</td>\n",
              "    </tr>\n",
              "    <tr>\n",
              "      <th>64737</th>\n",
              "      <td>64804</td>\n",
              "      <td>If you are implying that I have have infringed...</td>\n",
              "      <td>0</td>\n",
              "    </tr>\n",
              "    <tr>\n",
              "      <th>28791</th>\n",
              "      <td>28828</td>\n",
              "      <td>REDIRECT Talk:Empress Elisabeth of Austria</td>\n",
              "      <td>0</td>\n",
              "    </tr>\n",
              "    <tr>\n",
              "      <th>137326</th>\n",
              "      <td>137464</td>\n",
              "      <td>It's a few years too late, but, yes, it's the ...</td>\n",
              "      <td>0</td>\n",
              "    </tr>\n",
              "  </tbody>\n",
              "</table>\n",
              "</div>\n",
              "      <button class=\"colab-df-convert\" onclick=\"convertToInteractive('df-62abeb51-ff89-483e-8d3e-9702b45a6dff')\"\n",
              "              title=\"Convert this dataframe to an interactive table.\"\n",
              "              style=\"display:none;\">\n",
              "        \n",
              "  <svg xmlns=\"http://www.w3.org/2000/svg\" height=\"24px\"viewBox=\"0 0 24 24\"\n",
              "       width=\"24px\">\n",
              "    <path d=\"M0 0h24v24H0V0z\" fill=\"none\"/>\n",
              "    <path d=\"M18.56 5.44l.94 2.06.94-2.06 2.06-.94-2.06-.94-.94-2.06-.94 2.06-2.06.94zm-11 1L8.5 8.5l.94-2.06 2.06-.94-2.06-.94L8.5 2.5l-.94 2.06-2.06.94zm10 10l.94 2.06.94-2.06 2.06-.94-2.06-.94-.94-2.06-.94 2.06-2.06.94z\"/><path d=\"M17.41 7.96l-1.37-1.37c-.4-.4-.92-.59-1.43-.59-.52 0-1.04.2-1.43.59L10.3 9.45l-7.72 7.72c-.78.78-.78 2.05 0 2.83L4 21.41c.39.39.9.59 1.41.59.51 0 1.02-.2 1.41-.59l7.78-7.78 2.81-2.81c.8-.78.8-2.07 0-2.86zM5.41 20L4 18.59l7.72-7.72 1.47 1.35L5.41 20z\"/>\n",
              "  </svg>\n",
              "      </button>\n",
              "      \n",
              "  <style>\n",
              "    .colab-df-container {\n",
              "      display:flex;\n",
              "      flex-wrap:wrap;\n",
              "      gap: 12px;\n",
              "    }\n",
              "\n",
              "    .colab-df-convert {\n",
              "      background-color: #E8F0FE;\n",
              "      border: none;\n",
              "      border-radius: 50%;\n",
              "      cursor: pointer;\n",
              "      display: none;\n",
              "      fill: #1967D2;\n",
              "      height: 32px;\n",
              "      padding: 0 0 0 0;\n",
              "      width: 32px;\n",
              "    }\n",
              "\n",
              "    .colab-df-convert:hover {\n",
              "      background-color: #E2EBFA;\n",
              "      box-shadow: 0px 1px 2px rgba(60, 64, 67, 0.3), 0px 1px 3px 1px rgba(60, 64, 67, 0.15);\n",
              "      fill: #174EA6;\n",
              "    }\n",
              "\n",
              "    [theme=dark] .colab-df-convert {\n",
              "      background-color: #3B4455;\n",
              "      fill: #D2E3FC;\n",
              "    }\n",
              "\n",
              "    [theme=dark] .colab-df-convert:hover {\n",
              "      background-color: #434B5C;\n",
              "      box-shadow: 0px 1px 3px 1px rgba(0, 0, 0, 0.15);\n",
              "      filter: drop-shadow(0px 1px 2px rgba(0, 0, 0, 0.3));\n",
              "      fill: #FFFFFF;\n",
              "    }\n",
              "  </style>\n",
              "\n",
              "      <script>\n",
              "        const buttonEl =\n",
              "          document.querySelector('#df-62abeb51-ff89-483e-8d3e-9702b45a6dff button.colab-df-convert');\n",
              "        buttonEl.style.display =\n",
              "          google.colab.kernel.accessAllowed ? 'block' : 'none';\n",
              "\n",
              "        async function convertToInteractive(key) {\n",
              "          const element = document.querySelector('#df-62abeb51-ff89-483e-8d3e-9702b45a6dff');\n",
              "          const dataTable =\n",
              "            await google.colab.kernel.invokeFunction('convertToInteractive',\n",
              "                                                     [key], {});\n",
              "          if (!dataTable) return;\n",
              "\n",
              "          const docLinkHtml = 'Like what you see? Visit the ' +\n",
              "            '<a target=\"_blank\" href=https://colab.research.google.com/notebooks/data_table.ipynb>data table notebook</a>'\n",
              "            + ' to learn more about interactive tables.';\n",
              "          element.innerHTML = '';\n",
              "          dataTable['output_type'] = 'display_data';\n",
              "          await google.colab.output.renderOutput(dataTable, element);\n",
              "          const docLink = document.createElement('div');\n",
              "          docLink.innerHTML = docLinkHtml;\n",
              "          element.appendChild(docLink);\n",
              "        }\n",
              "      </script>\n",
              "    </div>\n",
              "  </div>\n",
              "  "
            ],
            "text/plain": [
              "        Unnamed: 0                                               text  toxic\n",
              "150373      150529                     (OH NO HOW WILL LIFE GO ON???)      0\n",
              "134044      134182  Ultra-heavy deuterium is a solid with massive ...      0\n",
              "68929        68997  Hey thanks for fixing up those typos! I'm not ...      0\n",
              "64597        64664  You may comment on my TODO wish if you please....      0\n",
              "47447        47502  \"\\n\\nImage source problem with Image:Homeimage...      0\n",
              "18835        18854                    | class= start| importance= low      0\n",
              "2406          2406  Also, I am going warthog hunting tomorrow, and...      0\n",
              "64737        64804  If you are implying that I have have infringed...      0\n",
              "28791        28828         REDIRECT Talk:Empress Elisabeth of Austria      0\n",
              "137326      137464  It's a few years too late, but, yes, it's the ...      0"
            ]
          },
          "execution_count": 14,
          "metadata": {},
          "output_type": "execute_result"
        }
      ],
      "source": [
        "df.sample(10)"
      ]
    },
    {
      "cell_type": "code",
      "execution_count": null,
      "metadata": {
        "colab": {
          "base_uri": "https://localhost:8080/"
        },
        "id": "0iVaB9EUZSkY",
        "outputId": "0fc1f9ac-1aac-4505-95dc-1ecb829985c6"
      },
      "outputs": [
        {
          "data": {
            "text/plain": [
              "0"
            ]
          },
          "execution_count": 15,
          "metadata": {},
          "output_type": "execute_result"
        }
      ],
      "source": [
        "df['text'].duplicated().sum()"
      ]
    },
    {
      "cell_type": "code",
      "execution_count": null,
      "metadata": {
        "colab": {
          "base_uri": "https://localhost:8080/"
        },
        "id": "_KleN222ZSkY",
        "outputId": "fb8f8c84-bdec-43a8-ae1a-e135818fc2c7"
      },
      "outputs": [
        {
          "data": {
            "text/plain": [
              "Unnamed: 0    0\n",
              "text          0\n",
              "toxic         0\n",
              "dtype: int64"
            ]
          },
          "execution_count": 16,
          "metadata": {},
          "output_type": "execute_result"
        }
      ],
      "source": [
        "df.isna().sum()"
      ]
    },
    {
      "cell_type": "code",
      "execution_count": null,
      "metadata": {
        "colab": {
          "base_uri": "https://localhost:8080/"
        },
        "id": "-AUelAD0ZSkZ",
        "outputId": "bcbb6174-1579-4782-dd6c-30a3516dc181"
      },
      "outputs": [
        {
          "data": {
            "text/plain": [
              "(159292, 3)"
            ]
          },
          "execution_count": 17,
          "metadata": {},
          "output_type": "execute_result"
        }
      ],
      "source": [
        "df.shape"
      ]
    },
    {
      "cell_type": "code",
      "execution_count": null,
      "metadata": {
        "colab": {
          "base_uri": "https://localhost:8080/"
        },
        "id": "qWfuhWNlZSkZ",
        "outputId": "fc924ec6-7418-41a9-ad42-0360348ed1eb"
      },
      "outputs": [
        {
          "name": "stdout",
          "output_type": "stream",
          "text": [
            "<class 'pandas.core.frame.DataFrame'>\n",
            "RangeIndex: 159292 entries, 0 to 159291\n",
            "Data columns (total 3 columns):\n",
            " #   Column      Non-Null Count   Dtype \n",
            "---  ------      --------------   ----- \n",
            " 0   Unnamed: 0  159292 non-null  int64 \n",
            " 1   text        159292 non-null  object\n",
            " 2   toxic       159292 non-null  int64 \n",
            "dtypes: int64(2), object(1)\n",
            "memory usage: 3.6+ MB\n"
          ]
        }
      ],
      "source": [
        "df.info()"
      ]
    },
    {
      "cell_type": "code",
      "execution_count": null,
      "metadata": {
        "colab": {
          "base_uri": "https://localhost:8080/"
        },
        "id": "RS_6gjr86NBi",
        "outputId": "b39504d9-5a37-4d56-9cce-ebe62639814e"
      },
      "outputs": [
        {
          "name": "stdout",
          "output_type": "stream",
          "text": [
            "Баланс классов в целевом признаке\n",
            "---------------------------------\n",
            "0    0.898388\n",
            "1    0.101612\n",
            "Name: toxic, dtype: float64\n",
            "---------------------------------\n"
          ]
        }
      ],
      "source": [
        "balance_info(df.toxic)"
      ]
    },
    {
      "cell_type": "markdown",
      "metadata": {
        "id": "4a3bq1WwZseY"
      },
      "source": [
        "Сильный дисбаланс классов, в остальном данные в порядке, нужны только 2 ячейки text и toxic (возможно нужен апсемплинг)"
      ]
    },
    {
      "cell_type": "markdown",
      "metadata": {
        "id": "OlDfq2Dj6Vqt"
      },
      "source": [
        "### Подготовка данных"
      ]
    },
    {
      "cell_type": "markdown",
      "metadata": {
        "id": "xhYQ_UrRiN-C"
      },
      "source": [
        "Очистим тексты от лишних символов"
      ]
    },
    {
      "cell_type": "code",
      "execution_count": null,
      "metadata": {
        "colab": {
          "base_uri": "https://localhost:8080/"
        },
        "id": "89VmBy8_o09P",
        "outputId": "f9bbdffc-1075-4cdb-a15e-4f2bd702e217"
      },
      "outputs": [
        {
          "data": {
            "text/html": [
              "\n",
              "  <div id=\"df-df486b2a-c351-412f-af01-696b9e5ec19b\">\n",
              "    <div class=\"colab-df-container\">\n",
              "      <div>\n",
              "<style scoped>\n",
              "    .dataframe tbody tr th:only-of-type {\n",
              "        vertical-align: middle;\n",
              "    }\n",
              "\n",
              "    .dataframe tbody tr th {\n",
              "        vertical-align: top;\n",
              "    }\n",
              "\n",
              "    .dataframe thead th {\n",
              "        text-align: right;\n",
              "    }\n",
              "</style>\n",
              "<table border=\"1\" class=\"dataframe\">\n",
              "  <thead>\n",
              "    <tr style=\"text-align: right;\">\n",
              "      <th></th>\n",
              "      <th>Unnamed: 0</th>\n",
              "      <th>text</th>\n",
              "      <th>toxic</th>\n",
              "      <th>clear_text</th>\n",
              "    </tr>\n",
              "  </thead>\n",
              "  <tbody>\n",
              "    <tr>\n",
              "      <th>105833</th>\n",
              "      <td>105930</td>\n",
              "      <td>\"\\nIs the word \"\"must\"\" or \"\"should\"\"? I have ...</td>\n",
              "      <td>0</td>\n",
              "      <td>Is the word must or should I have no problem e...</td>\n",
              "    </tr>\n",
              "    <tr>\n",
              "      <th>151042</th>\n",
              "      <td>151198</td>\n",
              "      <td>Plagiarized from ... \\n\\nhttp://www.launceston...</td>\n",
              "      <td>0</td>\n",
              "      <td>Plagiarized from http www launcestoncataractgo...</td>\n",
              "    </tr>\n",
              "    <tr>\n",
              "      <th>46528</th>\n",
              "      <td>46583</td>\n",
              "      <td>FYI, I thought he linked to Hulu which is a pa...</td>\n",
              "      <td>0</td>\n",
              "      <td>FYI I thought he linked to Hulu which is a par...</td>\n",
              "    </tr>\n",
              "    <tr>\n",
              "      <th>70694</th>\n",
              "      <td>70764</td>\n",
              "      <td>Japanese Scene \\n\\nThe largely neoclassical Ja...</td>\n",
              "      <td>0</td>\n",
              "      <td>Japanese Scene The largely neoclassical Japane...</td>\n",
              "    </tr>\n",
              "    <tr>\n",
              "      <th>80169</th>\n",
              "      <td>80245</td>\n",
              "      <td>Thanks for the explanation!</td>\n",
              "      <td>0</td>\n",
              "      <td>Thanks for the explanation</td>\n",
              "    </tr>\n",
              "  </tbody>\n",
              "</table>\n",
              "</div>\n",
              "      <button class=\"colab-df-convert\" onclick=\"convertToInteractive('df-df486b2a-c351-412f-af01-696b9e5ec19b')\"\n",
              "              title=\"Convert this dataframe to an interactive table.\"\n",
              "              style=\"display:none;\">\n",
              "        \n",
              "  <svg xmlns=\"http://www.w3.org/2000/svg\" height=\"24px\"viewBox=\"0 0 24 24\"\n",
              "       width=\"24px\">\n",
              "    <path d=\"M0 0h24v24H0V0z\" fill=\"none\"/>\n",
              "    <path d=\"M18.56 5.44l.94 2.06.94-2.06 2.06-.94-2.06-.94-.94-2.06-.94 2.06-2.06.94zm-11 1L8.5 8.5l.94-2.06 2.06-.94-2.06-.94L8.5 2.5l-.94 2.06-2.06.94zm10 10l.94 2.06.94-2.06 2.06-.94-2.06-.94-.94-2.06-.94 2.06-2.06.94z\"/><path d=\"M17.41 7.96l-1.37-1.37c-.4-.4-.92-.59-1.43-.59-.52 0-1.04.2-1.43.59L10.3 9.45l-7.72 7.72c-.78.78-.78 2.05 0 2.83L4 21.41c.39.39.9.59 1.41.59.51 0 1.02-.2 1.41-.59l7.78-7.78 2.81-2.81c.8-.78.8-2.07 0-2.86zM5.41 20L4 18.59l7.72-7.72 1.47 1.35L5.41 20z\"/>\n",
              "  </svg>\n",
              "      </button>\n",
              "      \n",
              "  <style>\n",
              "    .colab-df-container {\n",
              "      display:flex;\n",
              "      flex-wrap:wrap;\n",
              "      gap: 12px;\n",
              "    }\n",
              "\n",
              "    .colab-df-convert {\n",
              "      background-color: #E8F0FE;\n",
              "      border: none;\n",
              "      border-radius: 50%;\n",
              "      cursor: pointer;\n",
              "      display: none;\n",
              "      fill: #1967D2;\n",
              "      height: 32px;\n",
              "      padding: 0 0 0 0;\n",
              "      width: 32px;\n",
              "    }\n",
              "\n",
              "    .colab-df-convert:hover {\n",
              "      background-color: #E2EBFA;\n",
              "      box-shadow: 0px 1px 2px rgba(60, 64, 67, 0.3), 0px 1px 3px 1px rgba(60, 64, 67, 0.15);\n",
              "      fill: #174EA6;\n",
              "    }\n",
              "\n",
              "    [theme=dark] .colab-df-convert {\n",
              "      background-color: #3B4455;\n",
              "      fill: #D2E3FC;\n",
              "    }\n",
              "\n",
              "    [theme=dark] .colab-df-convert:hover {\n",
              "      background-color: #434B5C;\n",
              "      box-shadow: 0px 1px 3px 1px rgba(0, 0, 0, 0.15);\n",
              "      filter: drop-shadow(0px 1px 2px rgba(0, 0, 0, 0.3));\n",
              "      fill: #FFFFFF;\n",
              "    }\n",
              "  </style>\n",
              "\n",
              "      <script>\n",
              "        const buttonEl =\n",
              "          document.querySelector('#df-df486b2a-c351-412f-af01-696b9e5ec19b button.colab-df-convert');\n",
              "        buttonEl.style.display =\n",
              "          google.colab.kernel.accessAllowed ? 'block' : 'none';\n",
              "\n",
              "        async function convertToInteractive(key) {\n",
              "          const element = document.querySelector('#df-df486b2a-c351-412f-af01-696b9e5ec19b');\n",
              "          const dataTable =\n",
              "            await google.colab.kernel.invokeFunction('convertToInteractive',\n",
              "                                                     [key], {});\n",
              "          if (!dataTable) return;\n",
              "\n",
              "          const docLinkHtml = 'Like what you see? Visit the ' +\n",
              "            '<a target=\"_blank\" href=https://colab.research.google.com/notebooks/data_table.ipynb>data table notebook</a>'\n",
              "            + ' to learn more about interactive tables.';\n",
              "          element.innerHTML = '';\n",
              "          dataTable['output_type'] = 'display_data';\n",
              "          await google.colab.output.renderOutput(dataTable, element);\n",
              "          const docLink = document.createElement('div');\n",
              "          docLink.innerHTML = docLinkHtml;\n",
              "          element.appendChild(docLink);\n",
              "        }\n",
              "      </script>\n",
              "    </div>\n",
              "  </div>\n",
              "  "
            ],
            "text/plain": [
              "        Unnamed: 0                                               text  toxic  \\\n",
              "105833      105930  \"\\nIs the word \"\"must\"\" or \"\"should\"\"? I have ...      0   \n",
              "151042      151198  Plagiarized from ... \\n\\nhttp://www.launceston...      0   \n",
              "46528        46583  FYI, I thought he linked to Hulu which is a pa...      0   \n",
              "70694        70764  Japanese Scene \\n\\nThe largely neoclassical Ja...      0   \n",
              "80169        80245                        Thanks for the explanation!      0   \n",
              "\n",
              "                                               clear_text  \n",
              "105833  Is the word must or should I have no problem e...  \n",
              "151042  Plagiarized from http www launcestoncataractgo...  \n",
              "46528   FYI I thought he linked to Hulu which is a par...  \n",
              "70694   Japanese Scene The largely neoclassical Japane...  \n",
              "80169                          Thanks for the explanation  "
            ]
          },
          "execution_count": 20,
          "metadata": {},
          "output_type": "execute_result"
        }
      ],
      "source": [
        "df['clear_text'] = df['text'].apply(lambda x : clear_text(x))\n",
        "df.sample(5)"
      ]
    },
    {
      "cell_type": "markdown",
      "metadata": {
        "id": "fiBbAr1siWJm"
      },
      "source": [
        "Разделим разметку и тексты"
      ]
    },
    {
      "cell_type": "code",
      "execution_count": null,
      "metadata": {
        "id": "oGsNHD5WZSka"
      },
      "outputs": [],
      "source": [
        "sentences = df.clear_text.values\n",
        "labels = df.toxic.values"
      ]
    },
    {
      "cell_type": "markdown",
      "metadata": {
        "id": "lU_2r3PFmNsu"
      },
      "source": [
        "Загрузим токенизатор"
      ]
    },
    {
      "cell_type": "code",
      "execution_count": null,
      "metadata": {
        "colab": {
          "base_uri": "https://localhost:8080/",
          "referenced_widgets": [
            "8b286aa8afc84d68b31a6d3b80036a5d",
            "6a2b497d82ed460fa4b9dbe250fce678",
            "982dfbab409645b3903997835252f141",
            "1abb41ecc2644a2296cc20d50908da19",
            "479772e72d7641268029d6c2ac80e4c0",
            "c4111440a4dc43b8ae9b13edbb7b1b10",
            "20310286bcd3461c906faa57442e196c",
            "ce516dba6cdb4969b84c3fb9ff8cde93",
            "09c4604bf2de479fba29350d0d84bf91",
            "6c3efae6dc6a49988dcbaf903a6fcc0a",
            "131e5c6c6e9b454f9dcf4de89dbc128c",
            "5691b6b64bd247f0b16bb02ccea0f4c8",
            "e9055a9007e04e7abfc74e263abec4ca",
            "0b80d6e90a944ce4b7d7c2c2d857f38a",
            "8013d6bad1e642e6b61b85fbdef62191",
            "edcf051fee244f6d897abfd04fd4e2d9",
            "a2d6f1bc7274454eb71b0270fcc270bd",
            "a2150765e31a4d10bd9afaf33013f6fd",
            "6953f0998bbc4f2a98626001dbb8e4ac",
            "8884d07d36c6450a96c8cc8a8a0c1d4e",
            "7b81af50234f4fcfa95b57a3e9717a34",
            "b5139acd891944c290fef03c86226cd1",
            "906e043326514866b88431054af2c9a4",
            "de352779f6304c76b4bbfe77f1d818a0",
            "e12ba8b9180148bdb1bf6eb0ccaf6cc2",
            "85a36894dc8447dcb8f645df315ceb4a",
            "96fd30f7dc3d46f29e35a579582e4383",
            "89a974beecca4744941bf2b0fc407535",
            "05964e4567e4431aad1b56008d1de4fe",
            "14ebe3573c424011aa104768d97b7ad0",
            "822af2e2d40d4eeb8f184041611fc443",
            "bf7d7fdcf188497db906fb6c6ce191cb",
            "a3078044393c40d1b0d2733fb039cf21",
            "476648ba6e3646e383cf0daeb5638203",
            "67751ce3826748a89f62f05f09a013cb",
            "d24bc716a7054143a2c7fb05fe5a5983",
            "f563adc734794703ab6fbbcc0f541918",
            "e41dae9f2168479e8026c56e58c097f0",
            "6dacb6c4a7a444b8b99c0840bca17fd8",
            "a38e52ab69a746c0a2ccce650f5a52e5",
            "1219a4743c4a4bb886e41de54338e7d4",
            "3af7e28e185d46c4a6cc47b0a73902d2",
            "777a8a6906f84cc7a8f408ae62bfe382",
            "62afe57f6300467b9942fb42772103c2"
          ]
        },
        "id": "cb-ZtAejiAD2",
        "outputId": "6733d517-767e-4c94-885e-e33a1992fd69"
      },
      "outputs": [
        {
          "data": {
            "application/vnd.jupyter.widget-view+json": {
              "model_id": "8b286aa8afc84d68b31a6d3b80036a5d",
              "version_major": 2,
              "version_minor": 0
            },
            "text/plain": [
              "Downloading (…)okenizer_config.json:   0%|          | 0.00/160 [00:00<?, ?B/s]"
            ]
          },
          "metadata": {},
          "output_type": "display_data"
        },
        {
          "data": {
            "application/vnd.jupyter.widget-view+json": {
              "model_id": "5691b6b64bd247f0b16bb02ccea0f4c8",
              "version_major": 2,
              "version_minor": 0
            },
            "text/plain": [
              "Downloading (…)lve/main/config.json:   0%|          | 0.00/833 [00:00<?, ?B/s]"
            ]
          },
          "metadata": {},
          "output_type": "display_data"
        },
        {
          "data": {
            "application/vnd.jupyter.widget-view+json": {
              "model_id": "906e043326514866b88431054af2c9a4",
              "version_major": 2,
              "version_minor": 0
            },
            "text/plain": [
              "Downloading (…)solve/main/vocab.txt:   0%|          | 0.00/232k [00:00<?, ?B/s]"
            ]
          },
          "metadata": {},
          "output_type": "display_data"
        },
        {
          "data": {
            "application/vnd.jupyter.widget-view+json": {
              "model_id": "476648ba6e3646e383cf0daeb5638203",
              "version_major": 2,
              "version_minor": 0
            },
            "text/plain": [
              "Downloading (…)/main/tokenizer.json:   0%|          | 0.00/466k [00:00<?, ?B/s]"
            ]
          },
          "metadata": {},
          "output_type": "display_data"
        }
      ],
      "source": [
        "tokenizer = AutoTokenizer.from_pretrained(model_path, do_lower_case=True)"
      ]
    },
    {
      "cell_type": "code",
      "execution_count": null,
      "metadata": {
        "colab": {
          "base_uri": "https://localhost:8080/"
        },
        "id": "w8iCDQoCiABU",
        "outputId": "7508ca17-58f7-4070-80ac-832c45fd4538"
      },
      "outputs": [
        {
          "name": "stdout",
          "output_type": "stream",
          "text": [
            "Оригинальный текст:  Explanation Why the edits made under my username Hardcore Metallica Fan were reverted They weren t vandalisms just closure on some GAs after I voted at New York Dolls FAC And please don t remove the template from the talk page since I m retired now\n",
            "Длина оригинального текста:  46 слов\n",
            "Токены:  ['explanation', 'why', 'the', 'edit', '##s', 'made', 'under', 'my', 'user', '##name', 'hardcore', 'metallic', '##a', 'fan', 'were', 'reverted', 'they', 'weren', 't', 'van', '##dal', '##isms', 'just', 'closure', 'on', 'some', 'gas', 'after', 'i', 'voted', 'at', 'new', 'york', 'dolls', 'fa', '##c', 'and', 'please', 'don', 't', 'remove', 'the', 'template', 'from', 'the', 'talk', 'page', 'since', 'i', 'm', 'retired', 'now']\n",
            "Длина списка токенов:  52\n",
            "Id токенов:  [7526, 2339, 1996, 10086, 2015, 2081, 2104, 2026, 5310, 18442, 13076, 12392, 2050, 5470, 2020, 16407, 2027, 4694, 1056, 3158, 9305, 22556, 2074, 8503, 2006, 2070, 3806, 2044, 1045, 5444, 2012, 2047, 2259, 14421, 6904, 2278, 1998, 3531, 2123, 1056, 6366, 1996, 23561, 2013, 1996, 2831, 3931, 2144, 1045, 1049, 3394, 2085]\n",
            "Длина списка id:  52\n"
          ]
        }
      ],
      "source": [
        "print('Оригинальный текст: ', sentences[0])\n",
        "print('Длина оригинального текста: ', len(sentences[0].split()), 'слов')\n",
        "print('Токены: ', tokenizer.tokenize(sentences[0]))\n",
        "print('Длина списка токенов: ', len(tokenizer.tokenize(sentences[0])))\n",
        "print('Id токенов: ', tokenizer.convert_tokens_to_ids(\n",
        "    tokenizer.tokenize(sentences[0])))\n",
        "print('Длина списка id: ', len(tokenizer.convert_tokens_to_ids(\n",
        "    tokenizer.tokenize(sentences[0]))))"
      ]
    },
    {
      "cell_type": "markdown",
      "metadata": {
        "id": "Z_HzyBrO2WiN"
      },
      "source": [
        "Мы убедились что токенизатор работает, но хочу отметить что он далек от  совершенства на мой взгляд.  \n",
        "  Примеры:   \n",
        "  username - 'user' '##name'   \n",
        "  Metallica - 'metallic', '##a'   \n",
        "  vandalisms - 'van', '##dal', '##isms'  \n",
        "  FAC - 'fa', '##c'"
      ]
    },
    {
      "cell_type": "code",
      "execution_count": null,
      "metadata": {
        "colab": {
          "base_uri": "https://localhost:8080/"
        },
        "id": "kB2l3cMgh_-4",
        "outputId": "f69af30b-c1f5-4bd8-a5db-d8c851c685b5"
      },
      "outputs": [
        {
          "name": "stdout",
          "output_type": "stream",
          "text": [
            "Максимальная длина:  5000 символов\n",
            "Максимальная длина:  1403 слов\n"
          ]
        }
      ],
      "source": [
        "print('Максимальная длина: ', max([len(sen) for sen in sentences]), 'символов')\n",
        "print('Максимальная длина: ', max([len(sen.split()) for sen in sentences]), 'слов')"
      ]
    },
    {
      "cell_type": "markdown",
      "metadata": {
        "id": "SNvwtttF3roR"
      },
      "source": [
        "Тексты длиннющие, но мы их обрежем"
      ]
    },
    {
      "cell_type": "markdown",
      "metadata": {
        "id": "vuhJky4sjm_7"
      },
      "source": [
        "Токенизируем тексты"
      ]
    },
    {
      "cell_type": "code",
      "execution_count": null,
      "metadata": {
        "colab": {
          "base_uri": "https://localhost:8080/"
        },
        "id": "_i8pyBPKBN9j",
        "outputId": "d41d8e3b-3407-490f-b746-c64c717b38f2"
      },
      "outputs": [
        {
          "name": "stderr",
          "output_type": "stream",
          "text": [
            "Token indices sequence length is longer than the specified maximum sequence length for this model (538 > 256). Running this sequence through the model will result in indexing errors\n"
          ]
        }
      ],
      "source": [
        "input_ids = []\n",
        "for sent in sentences:\n",
        "    encoded_sent = tokenizer.encode(\n",
        "                        sent,                      \n",
        "                        add_special_tokens = True,\n",
        "                        )\n",
        "    input_ids.append(encoded_sent)"
      ]
    },
    {
      "cell_type": "code",
      "execution_count": null,
      "metadata": {
        "colab": {
          "base_uri": "https://localhost:8080/"
        },
        "id": "BL-vCCbiBN8A",
        "outputId": "432635ff-1dce-4c11-f4b7-9b8405077cdc"
      },
      "outputs": [
        {
          "name": "stdout",
          "output_type": "stream",
          "text": [
            "Максимальная длина:  2502\n"
          ]
        }
      ],
      "source": [
        "print('Максимальная длина: ', max([len(sen) for sen in input_ids]))"
      ]
    },
    {
      "cell_type": "markdown",
      "metadata": {
        "id": "liR5XuLJ3-EJ"
      },
      "source": [
        "После кодирования длина увеличилась потому что некоторые слова токенизатор разбивает на 2 и больше"
      ]
    },
    {
      "cell_type": "markdown",
      "metadata": {
        "id": "FvLB6pKpjst7"
      },
      "source": [
        "Проведем паддинг"
      ]
    },
    {
      "cell_type": "code",
      "execution_count": null,
      "metadata": {
        "id": "kkimd321BN4F"
      },
      "outputs": [],
      "source": [
        "input_ids = pad_sequences(input_ids, maxlen=MAX_LEN, dtype=\"long\", \n",
        "                          value=0, truncating=\"post\", padding=\"post\")"
      ]
    },
    {
      "cell_type": "code",
      "execution_count": null,
      "metadata": {
        "colab": {
          "base_uri": "https://localhost:8080/"
        },
        "id": "CkdZaEGP7Ku9",
        "outputId": "77b2e536-1af4-4f0a-fea2-f3f3e987023e"
      },
      "outputs": [
        {
          "name": "stdout",
          "output_type": "stream",
          "text": [
            "Максимальная длина после паддинга:  128\n",
            "Минимальная длина после паддинга:  128\n"
          ]
        }
      ],
      "source": [
        "print('Максимальная длина после паддинга: ', max(\n",
        "    [len(sen) for sen in input_ids]))\n",
        "print('Минимальная длина после паддинга: ', min(\n",
        "    [len(sen) for sen in input_ids]))"
      ]
    },
    {
      "cell_type": "markdown",
      "metadata": {
        "id": "X3qQQp5u7Sr9"
      },
      "source": [
        "Длина такая как и планировалось"
      ]
    },
    {
      "cell_type": "markdown",
      "metadata": {
        "id": "7xOvkMsxjvYR"
      },
      "source": [
        "Создадим маску"
      ]
    },
    {
      "cell_type": "code",
      "execution_count": null,
      "metadata": {
        "id": "tojonu2TDS7m"
      },
      "outputs": [],
      "source": [
        "attention_masks = []\n",
        "for sent in input_ids:\n",
        "    att_mask = [int(token_id > 0) for token_id in sent]\n",
        "    attention_masks.append(att_mask)"
      ]
    },
    {
      "cell_type": "markdown",
      "metadata": {
        "id": "toMFUKytj0fC"
      },
      "source": [
        "Разделим данные на 3 выборки"
      ]
    },
    {
      "cell_type": "code",
      "execution_count": null,
      "metadata": {
        "id": "dCKjzFjdDS5I"
      },
      "outputs": [],
      "source": [
        "train_inputs, pack_inputs,\\\n",
        "train_labels, pack_labels = train_test_split(\n",
        "    input_ids, labels,random_state=RANDOM_STATE, test_size=TEST_SIZE_1)\n",
        "    \n",
        "validation_inputs, test_inputs,\\\n",
        "validation_labels, test_labels = train_test_split(\n",
        "    pack_inputs, pack_labels,random_state=RANDOM_STATE, test_size=TEST_SIZE_2)\n",
        "    \n",
        "train_masks, pack_masks,\\\n",
        "_, pack_labels = train_test_split(\n",
        "     attention_masks, labels,random_state=RANDOM_STATE, test_size=TEST_SIZE_1)\n",
        "     \n",
        "validation_masks, test_masks,\\\n",
        "_, _ = train_test_split(\n",
        "     pack_masks, pack_labels,random_state=RANDOM_STATE, test_size=TEST_SIZE_2)"
      ]
    },
    {
      "cell_type": "code",
      "execution_count": null,
      "metadata": {
        "colab": {
          "base_uri": "https://localhost:8080/"
        },
        "id": "wLppx59y8D7O",
        "outputId": "1dcd14f2-3f75-4ccf-ba46-1bda2d76a44b"
      },
      "outputs": [
        {
          "name": "stdout",
          "output_type": "stream",
          "text": [
            "Тренировочная выборка\n",
            "Баланс классов в целевом признаке\n",
            "---------------------------------\n",
            "0    0.897609\n",
            "1    0.102391\n",
            "dtype: float64\n",
            "---------------------------------\n",
            "Валидационная выборка\n",
            "Баланс классов в целевом признаке\n",
            "---------------------------------\n",
            "0    0.898895\n",
            "1    0.101105\n",
            "dtype: float64\n",
            "---------------------------------\n",
            "Тестовая выборка\n",
            "Баланс классов в целевом признаке\n",
            "---------------------------------\n",
            "0    0.900217\n",
            "1    0.099783\n",
            "dtype: float64\n",
            "---------------------------------\n"
          ]
        }
      ],
      "source": [
        "print('Тренировочная выборка')\n",
        "balance_info(pd.Series(train_labels))\n",
        "print('Валидационная выборка')\n",
        "balance_info(pd.Series(validation_labels))\n",
        "print('Тестовая выборка')\n",
        "balance_info(pd.Series(test_labels))"
      ]
    },
    {
      "cell_type": "markdown",
      "metadata": {
        "id": "bZ1NU4LL9bXH"
      },
      "source": [
        "Применение стратификации приводило к ошибке в обучении, оставим разделение на выборки без стратификации"
      ]
    },
    {
      "cell_type": "markdown",
      "metadata": {
        "id": "saBjJXH6j6n9"
      },
      "source": [
        "Переведем выборки в подходящий для модели формат"
      ]
    },
    {
      "cell_type": "code",
      "execution_count": null,
      "metadata": {
        "id": "nzQ51Fc1DS1e"
      },
      "outputs": [],
      "source": [
        "train_inputs = torch.tensor(train_inputs)\n",
        "validation_inputs = torch.tensor(validation_inputs)\n",
        "test_inputs = torch.tensor(test_inputs)\n",
        "\n",
        "train_labels = torch.tensor(train_labels)\n",
        "validation_labels = torch.tensor(validation_labels)\n",
        "test_labels = torch.tensor(test_labels)\n",
        "\n",
        "train_masks = torch.tensor(train_masks)\n",
        "validation_masks = torch.tensor(validation_masks)\n",
        "test_masks = torch.tensor(test_masks)"
      ]
    },
    {
      "cell_type": "markdown",
      "metadata": {
        "id": "mBGkUOsskWsZ"
      },
      "source": [
        "Создадим итератор для ускорения работы модели\n"
      ]
    },
    {
      "cell_type": "code",
      "execution_count": null,
      "metadata": {
        "id": "HkRnDxrkDSym"
      },
      "outputs": [],
      "source": [
        "train_data = TensorDataset(train_inputs, train_masks, train_labels)\n",
        "train_sampler = RandomSampler(train_data)\n",
        "train_dataloader = DataLoader(\n",
        "    train_data, sampler=train_sampler, batch_size=BATCH_SIZE\n",
        "    )\n",
        "\n",
        "validation_data = TensorDataset(\n",
        "    validation_inputs, validation_masks, validation_labels\n",
        "    )\n",
        "validation_sampler = SequentialSampler(validation_data)\n",
        "validation_dataloader = DataLoader(\n",
        "    validation_data, sampler=validation_sampler, batch_size=BATCH_SIZE\n",
        "    )\n",
        "\n",
        "test_data = TensorDataset(test_inputs, test_masks, test_labels)\n",
        "test_sampler = SequentialSampler(test_data)\n",
        "test_dataloader = DataLoader(\n",
        "    test_data, sampler=test_sampler, batch_size=BATCH_SIZE\n",
        "    )"
      ]
    },
    {
      "cell_type": "markdown",
      "metadata": {
        "id": "BS1g5Fuw9uu8"
      },
      "source": [
        "Данные готовы к обучению, осталось подготовить модель"
      ]
    },
    {
      "cell_type": "markdown",
      "metadata": {
        "id": "mbVmRc-gZSkb"
      },
      "source": [
        "## Обучение"
      ]
    },
    {
      "cell_type": "markdown",
      "metadata": {
        "id": "cJnLAgVPz9zV"
      },
      "source": [
        "### Подготовка"
      ]
    },
    {
      "cell_type": "markdown",
      "metadata": {
        "id": "bjAxwvDWmW2I"
      },
      "source": [
        "Загрузим модель"
      ]
    },
    {
      "cell_type": "code",
      "execution_count": null,
      "metadata": {
        "id": "x7IdUG-dZSkb"
      },
      "outputs": [],
      "source": [
        "model = AutoModelForSequenceClassification.from_pretrained(\n",
        "    model_path, num_labels=2, \n",
        "    output_attentions = False, \n",
        "    output_hidden_states = False\n",
        "    )\n",
        "model.cuda()"
      ]
    },
    {
      "cell_type": "markdown",
      "metadata": {
        "id": "rYWHbCZamL1N"
      },
      "source": [
        "Загрузим алгоритм оптимизации"
      ]
    },
    {
      "cell_type": "code",
      "execution_count": null,
      "metadata": {
        "colab": {
          "base_uri": "https://localhost:8080/"
        },
        "id": "H2B239-6DStW",
        "outputId": "2ea5a220-914f-4200-f587-ffb0d7ad9467"
      },
      "outputs": [
        {
          "name": "stderr",
          "output_type": "stream",
          "text": [
            "/usr/local/lib/python3.9/dist-packages/transformers/optimization.py:391: FutureWarning: This implementation of AdamW is deprecated and will be removed in a future version. Use the PyTorch implementation torch.optim.AdamW instead, or set `no_deprecation_warning=True` to disable this warning\n",
            "  warnings.warn(\n"
          ]
        }
      ],
      "source": [
        "optimizer = AdamW(model.parameters(),lr = LEARNING_RATE,eps = EPSILON)"
      ]
    },
    {
      "cell_type": "markdown",
      "metadata": {
        "id": "KoZ6QhaDruZK"
      },
      "source": [
        "Загрузим планировщик скорости обучения"
      ]
    },
    {
      "cell_type": "code",
      "execution_count": null,
      "metadata": {
        "id": "ntPWl77WBNzO"
      },
      "outputs": [],
      "source": [
        "total_steps = len(train_dataloader) * EPOCHS\n",
        "scheduler = get_linear_schedule_with_warmup(optimizer, \n",
        "                                            num_warmup_steps = 0,\n",
        "                                            num_training_steps = total_steps)"
      ]
    },
    {
      "cell_type": "markdown",
      "metadata": {
        "id": "8aetpZ8GtDL_"
      },
      "source": [
        "Установим seed'ы для воспроизводимости"
      ]
    },
    {
      "cell_type": "code",
      "execution_count": null,
      "metadata": {
        "id": "VTQd6oV_sd6-"
      },
      "outputs": [],
      "source": [
        "random.seed(RANDOM_SEED)\n",
        "np.random.seed(RANDOM_SEED)\n",
        "torch.manual_seed(RANDOM_SEED)\n",
        "torch.cuda.manual_seed_all(RANDOM_SEED)"
      ]
    },
    {
      "cell_type": "markdown",
      "metadata": {
        "id": "8TIZ113stVAE"
      },
      "source": [
        "Объявим список для сбора потерь"
      ]
    },
    {
      "cell_type": "code",
      "execution_count": null,
      "metadata": {
        "id": "frX2aPdXsd4a"
      },
      "outputs": [],
      "source": [
        "loss_values = []"
      ]
    },
    {
      "cell_type": "markdown",
      "metadata": {
        "id": "sMUqcehy0C3X"
      },
      "source": [
        "### Обучение"
      ]
    },
    {
      "cell_type": "markdown",
      "metadata": {
        "id": "KzcFwxqBthXO"
      },
      "source": [
        "Приступаем к тренировке модели"
      ]
    },
    {
      "cell_type": "code",
      "execution_count": null,
      "metadata": {
        "colab": {
          "base_uri": "https://localhost:8080/"
        },
        "id": "SKOdEnUIQHnm",
        "outputId": "6edbe699-e540-42f9-8cbc-8d18be71e15c"
      },
      "outputs": [
        {
          "name": "stdout",
          "output_type": "stream",
          "text": [
            "\n",
            "======== Эпоха 1 / 4 ========\n",
            "Обучение...\n",
            "  Батч   200  из  1,494.    Прошедшее время: 0:04:05.\n",
            "  Батч   400  из  1,494.    Прошедшее время: 0:08:15.\n",
            "  Батч   600  из  1,494.    Прошедшее время: 0:12:26.\n",
            "  Батч   800  из  1,494.    Прошедшее время: 0:16:38.\n",
            "  Батч 1,000  из  1,494.    Прошедшее время: 0:20:49.\n",
            "  Батч 1,200  из  1,494.    Прошедшее время: 0:25:01.\n",
            "  Батч 1,400  из  1,494.    Прошедшее время: 0:29:12.\n",
            "\n",
            "  Средняя потеря при обучении: 0.08\n",
            "  Эпоха обучения заняла: 0:31:09\n",
            "\n",
            "Запуск Валидации...\n",
            "  F1: 0.85\n",
            "  Валидация заняла: 0:03:48\n",
            "\n",
            "======== Эпоха 2 / 4 ========\n",
            "Обучение...\n",
            "  Батч   200  из  1,494.    Прошедшее время: 0:04:11.\n",
            "  Батч   400  из  1,494.    Прошедшее время: 0:08:22.\n",
            "  Батч   600  из  1,494.    Прошедшее время: 0:12:33.\n",
            "  Батч   800  из  1,494.    Прошедшее время: 0:16:44.\n",
            "  Батч 1,000  из  1,494.    Прошедшее время: 0:20:54.\n",
            "  Батч 1,200  из  1,494.    Прошедшее время: 0:25:05.\n",
            "  Батч 1,400  из  1,494.    Прошедшее время: 0:29:17.\n",
            "\n",
            "  Средняя потеря при обучении: 0.04\n",
            "  Эпоха обучения заняла: 0:31:14\n",
            "\n",
            "Запуск Валидации...\n",
            "  F1: 0.85\n",
            "  Валидация заняла: 0:03:48\n",
            "\n",
            "======== Эпоха 3 / 4 ========\n",
            "Обучение...\n",
            "  Батч   200  из  1,494.    Прошедшее время: 0:04:11.\n",
            "  Батч   400  из  1,494.    Прошедшее время: 0:08:22.\n",
            "  Батч   600  из  1,494.    Прошедшее время: 0:12:34.\n",
            "  Батч   800  из  1,494.    Прошедшее время: 0:16:45.\n",
            "  Батч 1,000  из  1,494.    Прошедшее время: 0:20:56.\n",
            "  Батч 1,200  из  1,494.    Прошедшее время: 0:25:07.\n",
            "  Батч 1,400  из  1,494.    Прошедшее время: 0:29:17.\n",
            "\n",
            "  Средняя потеря при обучении: 0.02\n",
            "  Эпоха обучения заняла: 0:31:15\n",
            "\n",
            "Запуск Валидации...\n",
            "  F1: 0.85\n",
            "  Валидация заняла: 0:03:48\n",
            "\n",
            "======== Эпоха 4 / 4 ========\n",
            "Обучение...\n",
            "  Батч   200  из  1,494.    Прошедшее время: 0:04:10.\n",
            "  Батч   400  из  1,494.    Прошедшее время: 0:08:21.\n",
            "  Батч   600  из  1,494.    Прошедшее время: 0:12:33.\n",
            "  Батч   800  из  1,494.    Прошедшее время: 0:16:44.\n",
            "  Батч 1,000  из  1,494.    Прошедшее время: 0:20:54.\n",
            "  Батч 1,200  из  1,494.    Прошедшее время: 0:25:05.\n",
            "  Батч 1,400  из  1,494.    Прошедшее время: 0:29:15.\n",
            "\n",
            "  Средняя потеря при обучении: 0.01\n",
            "  Эпоха обучения заняла: 0:31:12\n",
            "\n",
            "Запуск Валидации...\n",
            "  F1: 0.85\n",
            "  Валидация заняла: 0:03:47\n",
            "\n",
            "Обучение закончено!\n"
          ]
        }
      ],
      "source": [
        "# Обучение\n",
        "for epoch_i in range(0, EPOCHS):\n",
        "    print(\"\")\n",
        "    print('======== Эпоха {:} / {:} ========'.format(epoch_i + 1, EPOCHS))\n",
        "    print('Обучение...')\n",
        "\n",
        "    t0 = time.time()\n",
        "    total_loss = 0\n",
        "    model.train()\n",
        "\n",
        "    for step, batch in enumerate(train_dataloader):\n",
        "        \n",
        "        if step % 200 == 0 and not step == 0:\n",
        "            elapsed = format_time(time.time() - t0)\n",
        "            print('  Батч {:>5,}  из  {:>5,}.    Прошедшее время: {:}.'.format(\n",
        "                step, len(train_dataloader), elapsed))\n",
        "\n",
        "        b_input_ids = batch[0].to(device)\n",
        "        b_input_mask = batch[1].to(device)\n",
        "        b_labels = batch[2].to(device)\n",
        "\n",
        "        model.zero_grad()\n",
        "        outputs = model(b_input_ids, \n",
        "                    token_type_ids=None, \n",
        "                    attention_mask=b_input_mask, \n",
        "                    labels=b_labels)\n",
        "        \n",
        "        loss = outputs[0]\n",
        "        total_loss += loss.item()\n",
        "        loss.backward()\n",
        "        torch.nn.utils.clip_grad_norm_(model.parameters(), 1.0)\n",
        "        optimizer.step()\n",
        "        scheduler.step()\n",
        "\n",
        "    avg_train_loss = total_loss / len(train_dataloader)\n",
        "    loss_values.append(avg_train_loss)\n",
        "\n",
        "    print(\"\")\n",
        "    print(\"  Средняя потеря при обучении: {0:.2f}\".format(avg_train_loss))\n",
        "    print(\"  Эпоха обучения заняла: {:}\".format(format_time(time.time() - t0)))\n",
        "\n",
        "# Валидация\n",
        "\n",
        "    print(\"\")\n",
        "    print(\"Запуск Валидации...\")\n",
        "\n",
        "    t0 = time.time()\n",
        "    model.eval()\n",
        "    eval_loss, eval_f1 = 0, 0\n",
        "    nb_eval_steps, nb_eval_examples = 0, 0\n",
        "\n",
        "    for batch in validation_dataloader:\n",
        "        batch = tuple(t.to(device) for t in batch)\n",
        "        b_input_ids, b_input_mask, b_labels = batch\n",
        "\n",
        "        with torch.no_grad():\n",
        "            outputs = model(b_input_ids, \n",
        "                            token_type_ids=None, \n",
        "                            attention_mask=b_input_mask)\n",
        "\n",
        "        logits = outputs[0]\n",
        "        logits = logits.detach().cpu().numpy()\n",
        "        label_ids = b_labels.to('cpu').numpy()\n",
        "        tmp_eval_f1 = flat_f1(logits, label_ids)\n",
        "        eval_f1 += tmp_eval_f1\n",
        "        nb_eval_steps += 1\n",
        "\n",
        "    print(\"  F1: {0:.2f}\".format(eval_f1/nb_eval_steps))\n",
        "    print(\"  Валидация заняла: {:}\".format(format_time(time.time() - t0)))\n",
        "\n",
        "print(\"\")\n",
        "print(\"Обучение закончено!\")"
      ]
    },
    {
      "cell_type": "markdown",
      "metadata": {
        "id": "VoElJKeFw4jW"
      },
      "source": [
        "Потери снижаются на каждой эпохе, F1 не снижается, значит переобучение отсутствует"
      ]
    },
    {
      "cell_type": "markdown",
      "metadata": {
        "id": "5zgCMYJ60KlR"
      },
      "source": [
        "### Результаты"
      ]
    },
    {
      "cell_type": "markdown",
      "metadata": {
        "id": "_32BhJ_Zwmdn"
      },
      "source": [
        "Посмотрим график потерь"
      ]
    },
    {
      "cell_type": "code",
      "execution_count": null,
      "metadata": {
        "colab": {
          "base_uri": "https://localhost:8080/",
          "height": 427
        },
        "id": "u0WWBAv9QJVF",
        "outputId": "c32f2867-d4d9-4eee-a72e-5098a0fba0a4"
      },
      "outputs": [
        {
          "data": {
            "image/png": "[encoded data removed]",
            "text/plain": [
              "<Figure size 864x432 with 1 Axes>"
            ]
          },
          "metadata": {},
          "output_type": "display_data"
        }
      ],
      "source": [
        "sns.set(style='darkgrid')\n",
        "sns.set(font_scale=1.5)\n",
        "plt.rcParams[\"figure.figsize\"] = (12,6)\n",
        "plt.plot(loss_values, 'b-o')\n",
        "plt.title(\"Потери при обучении\")\n",
        "plt.xlabel(\"Эпоха\")\n",
        "plt.ylabel(\"Потери\")\n",
        "plt.show();"
      ]
    },
    {
      "cell_type": "markdown",
      "metadata": {
        "id": "eKFGYZpfGtfO"
      },
      "source": [
        "Потери очень низкие и с каждой эпохой они снижаются"
      ]
    },
    {
      "cell_type": "markdown",
      "metadata": {
        "id": "IrTf8BRUxPUw"
      },
      "source": [
        "Проверим модель на тестовой выборке"
      ]
    },
    {
      "cell_type": "code",
      "execution_count": null,
      "metadata": {
        "id": "OKkkOOBiQJSV"
      },
      "outputs": [],
      "source": [
        "model.eval()\n",
        "predictions , true_labels = [], []\n",
        "\n",
        "for batch in test_dataloader:\n",
        "  batch = tuple(t.to(device) for t in batch)\n",
        "  b_input_ids, b_input_mask, b_labels = batch\n",
        "\n",
        "  with torch.no_grad():\n",
        "      outputs = model(b_input_ids, token_type_ids=None, \n",
        "                      attention_mask=b_input_mask)\n",
        "      \n",
        "  logits = outputs[0]\n",
        "  logits = logits.detach().cpu().numpy()\n",
        "  label_ids = b_labels.to('cpu').numpy()\n",
        "\n",
        "  predictions.append(logits)\n",
        "  true_labels.append(label_ids)"
      ]
    },
    {
      "cell_type": "code",
      "execution_count": null,
      "metadata": {
        "id": "XjqMcQDTQJP1"
      },
      "outputs": [],
      "source": [
        "f1_set = []\n",
        "\n",
        "for i in range(len(true_labels)):  \n",
        "  pred_labels_i = np.argmax(predictions[i], axis=1).flatten()  \n",
        "  f1 = f1_score(pred_labels_i, true_labels[i])                \n",
        "  f1_set.append(f1)"
      ]
    },
    {
      "cell_type": "code",
      "execution_count": null,
      "metadata": {
        "colab": {
          "base_uri": "https://localhost:8080/"
        },
        "id": "qM9Bi2Q6QJND",
        "outputId": "9464a90c-f0e7-4dca-ca4f-a52dca83ac6b"
      },
      "outputs": [
        {
          "name": "stdout",
          "output_type": "stream",
          "text": [
            "F1: 0.860\n"
          ]
        }
      ],
      "source": [
        "flat_predictions = [item for sublist in predictions for item in sublist]\n",
        "flat_predictions = np.argmax(flat_predictions, axis=1).flatten()\n",
        "\n",
        "flat_true_labels = [item for sublist in true_labels for item in sublist]\n",
        "\n",
        "f1 = f1_score(flat_true_labels, flat_predictions)\n",
        "\n",
        "print('F1: %.3f' % f1)"
      ]
    },
    {
      "cell_type": "markdown",
      "metadata": {
        "id": "YqQl9EybxVxE"
      },
      "source": [
        "Метрика показала удовлетворяющие условию задачи результаты."
      ]
    },
    {
      "cell_type": "markdown",
      "metadata": {
        "id": "9odr46xUZSkd"
      },
      "source": [
        "## Выводы"
      ]
    },
    {
      "cell_type": "markdown",
      "metadata": {
        "id": "LWVs30sazxCO"
      },
      "source": [
        "Данные были получены в хорошем состоянии, но в них обнаружен сильный дисбаланс классов: 90% - 0, 10% - 1.\n",
        "\n",
        "Из текстов были удалены лишние символы, тексты перекодированы, длинные обрезаны до размера 128 id, создана маска, данные разделены на 3 выборки с учетом сохранения соотношения классов, выборки переведены в формат тензоров.\n",
        "\n",
        "Для ускорения работы модели выборки были помещены в итератор DataLoader и поделены на батчи размером 64, были инициированы оптимизатор AdamW, планировщик.\n",
        "\n",
        "При обучении модели использовались GPU, forward propagation, backward propagation и сброс градиента. В результате модель показывала стабильное снижение показателя потерь и метрику F1 равную 85%\n",
        "\n",
        "При проверке модели на тестовой выборке метрика F1 показала результат 86%.\n",
        "\n",
        "Модель готова для поиска токсичных комментариев."
      ]
    },
    {
      "cell_type": "markdown",
      "metadata": {
        "id": "HJck6IOcZSke"
      },
      "source": [
        "## Чек-лист проверки"
      ]
    },
    {
      "cell_type": "markdown",
      "metadata": {
        "id": "r-VAzqLPZSke"
      },
      "source": [
        "- [x]  Jupyter Notebook открыт\n",
        "- [x]  Весь код выполняется без ошибок\n",
        "- [x]  Ячейки с кодом расположены в порядке исполнения\n",
        "- [x]  Данные загружены и подготовлены\n",
        "- [x]  Модели обучены\n",
        "- [x]  Значение метрики *F1* не меньше 0.75\n",
        "- [x]  Выводы написаны"
      ]
    }
  ],
  "metadata": {
    "accelerator": "GPU",
    "colab": {
      "collapsed_sections": [
        "aLNHKPbW6rdM",
        "OxGir0Hwik1d",
        "f_3JHJVjoWPd",
        "8YxVJUPropNm",
        "M7w2_NWRowJj",
        "OlDfq2Dj6Vqt",
        "cJnLAgVPz9zV"
      ],
      "provenance": []
    },
    "gpuClass": "standard",
    "kernelspec": {
      "display_name": "Python 3 (ipykernel)",
      "language": "python",
      "name": "python3"
    },
    "language_info": {
      "codemirror_mode": {
        "name": "ipython",
        "version": 3
      },
      "file_extension": ".py",
      "mimetype": "text/x-python",
      "name": "python",
      "nbconvert_exporter": "python",
      "pygments_lexer": "ipython3",
      "version": "3.8.16"
    },
    "toc": {
      "base_numbering": 1,
      "nav_menu": {},
      "number_sections": true,
      "sideBar": true,
      "skip_h1_title": true,
      "title_cell": "Содержание",
      "title_sidebar": "Contents",
      "toc_cell": true,
      "toc_position": {
        "height": "calc(100% - 180px)",
        "left": "10px",
        "top": "150px",
        "width": "302.391px"
      },
      "toc_section_display": true,
      "toc_window_display": false
    },
    "widgets": {
      "application/vnd.jupyter.widget-state+json": {
        "05964e4567e4431aad1b56008d1de4fe": {
          "model_module": "@jupyter-widgets/controls",
          "model_module_version": "1.5.0",
          "model_name": "DescriptionStyleModel",
          "state": {
            "_model_module": "@jupyter-widgets/controls",
            "_model_module_version": "1.5.0",
            "_model_name": "DescriptionStyleModel",
            "_view_count": null,
            "_view_module": "@jupyter-widgets/base",
            "_view_module_version": "1.2.0",
            "_view_name": "StyleView",
            "description_width": ""
          }
        },
        "09c4604bf2de479fba29350d0d84bf91": {
          "model_module": "@jupyter-widgets/controls",
          "model_module_version": "1.5.0",
          "model_name": "ProgressStyleModel",
          "state": {
            "_model_module": "@jupyter-widgets/controls",
            "_model_module_version": "1.5.0",
            "_model_name": "ProgressStyleModel",
            "_view_count": null,
            "_view_module": "@jupyter-widgets/base",
            "_view_module_version": "1.2.0",
            "_view_name": "StyleView",
            "bar_color": null,
            "description_width": ""
          }
        },
        "0b80d6e90a944ce4b7d7c2c2d857f38a": {
          "model_module": "@jupyter-widgets/controls",
          "model_module_version": "1.5.0",
          "model_name": "FloatProgressModel",
          "state": {
            "_dom_classes": [],
            "_model_module": "@jupyter-widgets/controls",
            "_model_module_version": "1.5.0",
            "_model_name": "FloatProgressModel",
            "_view_count": null,
            "_view_module": "@jupyter-widgets/controls",
            "_view_module_version": "1.5.0",
            "_view_name": "ProgressView",
            "bar_style": "success",
            "description": "",
            "description_tooltip": null,
            "layout": "IPY_MODEL_6953f0998bbc4f2a98626001dbb8e4ac",
            "max": 833,
            "min": 0,
            "orientation": "horizontal",
            "style": "IPY_MODEL_8884d07d36c6450a96c8cc8a8a0c1d4e",
            "value": 833
          }
        },
        "1219a4743c4a4bb886e41de54338e7d4": {
          "model_module": "@jupyter-widgets/base",
          "model_module_version": "1.2.0",
          "model_name": "LayoutModel",
          "state": {
            "_model_module": "@jupyter-widgets/base",
            "_model_module_version": "1.2.0",
            "_model_name": "LayoutModel",
            "_view_count": null,
            "_view_module": "@jupyter-widgets/base",
            "_view_module_version": "1.2.0",
            "_view_name": "LayoutView",
            "align_content": null,
            "align_items": null,
            "align_self": null,
            "border": null,
            "bottom": null,
            "display": null,
            "flex": null,
            "flex_flow": null,
            "grid_area": null,
            "grid_auto_columns": null,
            "grid_auto_flow": null,
            "grid_auto_rows": null,
            "grid_column": null,
            "grid_gap": null,
            "grid_row": null,
            "grid_template_areas": null,
            "grid_template_columns": null,
            "grid_template_rows": null,
            "height": null,
            "justify_content": null,
            "justify_items": null,
            "left": null,
            "margin": null,
            "max_height": null,
            "max_width": null,
            "min_height": null,
            "min_width": null,
            "object_fit": null,
            "object_position": null,
            "order": null,
            "overflow": null,
            "overflow_x": null,
            "overflow_y": null,
            "padding": null,
            "right": null,
            "top": null,
            "visibility": null,
            "width": null
          }
        },
        "131e5c6c6e9b454f9dcf4de89dbc128c": {
          "model_module": "@jupyter-widgets/controls",
          "model_module_version": "1.5.0",
          "model_name": "DescriptionStyleModel",
          "state": {
            "_model_module": "@jupyter-widgets/controls",
            "_model_module_version": "1.5.0",
            "_model_name": "DescriptionStyleModel",
            "_view_count": null,
            "_view_module": "@jupyter-widgets/base",
            "_view_module_version": "1.2.0",
            "_view_name": "StyleView",
            "description_width": ""
          }
        },
        "14ebe3573c424011aa104768d97b7ad0": {
          "model_module": "@jupyter-widgets/base",
          "model_module_version": "1.2.0",
          "model_name": "LayoutModel",
          "state": {
            "_model_module": "@jupyter-widgets/base",
            "_model_module_version": "1.2.0",
            "_model_name": "LayoutModel",
            "_view_count": null,
            "_view_module": "@jupyter-widgets/base",
            "_view_module_version": "1.2.0",
            "_view_name": "LayoutView",
            "align_content": null,
            "align_items": null,
            "align_self": null,
            "border": null,
            "bottom": null,
            "display": null,
            "flex": null,
            "flex_flow": null,
            "grid_area": null,
            "grid_auto_columns": null,
            "grid_auto_flow": null,
            "grid_auto_rows": null,
            "grid_column": null,
            "grid_gap": null,
            "grid_row": null,
            "grid_template_areas": null,
            "grid_template_columns": null,
            "grid_template_rows": null,
            "height": null,
            "justify_content": null,
            "justify_items": null,
            "left": null,
            "margin": null,
            "max_height": null,
            "max_width": null,
            "min_height": null,
            "min_width": null,
            "object_fit": null,
            "object_position": null,
            "order": null,
            "overflow": null,
            "overflow_x": null,
            "overflow_y": null,
            "padding": null,
            "right": null,
            "top": null,
            "visibility": null,
            "width": null
          }
        },
        "1abb41ecc2644a2296cc20d50908da19": {
          "model_module": "@jupyter-widgets/controls",
          "model_module_version": "1.5.0",
          "model_name": "HTMLModel",
          "state": {
            "_dom_classes": [],
            "_model_module": "@jupyter-widgets/controls",
            "_model_module_version": "1.5.0",
            "_model_name": "HTMLModel",
            "_view_count": null,
            "_view_module": "@jupyter-widgets/controls",
            "_view_module_version": "1.5.0",
            "_view_name": "HTMLView",
            "description": "",
            "description_tooltip": null,
            "layout": "IPY_MODEL_6c3efae6dc6a49988dcbaf903a6fcc0a",
            "placeholder": "​",
            "style": "IPY_MODEL_131e5c6c6e9b454f9dcf4de89dbc128c",
            "value": " 160/160 [00:00&lt;00:00, 4.04kB/s]"
          }
        },
        "20310286bcd3461c906faa57442e196c": {
          "model_module": "@jupyter-widgets/controls",
          "model_module_version": "1.5.0",
          "model_name": "DescriptionStyleModel",
          "state": {
            "_model_module": "@jupyter-widgets/controls",
            "_model_module_version": "1.5.0",
            "_model_name": "DescriptionStyleModel",
            "_view_count": null,
            "_view_module": "@jupyter-widgets/base",
            "_view_module_version": "1.2.0",
            "_view_name": "StyleView",
            "description_width": ""
          }
        },
        "3af7e28e185d46c4a6cc47b0a73902d2": {
          "model_module": "@jupyter-widgets/controls",
          "model_module_version": "1.5.0",
          "model_name": "ProgressStyleModel",
          "state": {
            "_model_module": "@jupyter-widgets/controls",
            "_model_module_version": "1.5.0",
            "_model_name": "ProgressStyleModel",
            "_view_count": null,
            "_view_module": "@jupyter-widgets/base",
            "_view_module_version": "1.2.0",
            "_view_name": "StyleView",
            "bar_color": null,
            "description_width": ""
          }
        },
        "476648ba6e3646e383cf0daeb5638203": {
          "model_module": "@jupyter-widgets/controls",
          "model_module_version": "1.5.0",
          "model_name": "HBoxModel",
          "state": {
            "_dom_classes": [],
            "_model_module": "@jupyter-widgets/controls",
            "_model_module_version": "1.5.0",
            "_model_name": "HBoxModel",
            "_view_count": null,
            "_view_module": "@jupyter-widgets/controls",
            "_view_module_version": "1.5.0",
            "_view_name": "HBoxView",
            "box_style": "",
            "children": [
              "IPY_MODEL_67751ce3826748a89f62f05f09a013cb",
              "IPY_MODEL_d24bc716a7054143a2c7fb05fe5a5983",
              "IPY_MODEL_f563adc734794703ab6fbbcc0f541918"
            ],
            "layout": "IPY_MODEL_e41dae9f2168479e8026c56e58c097f0"
          }
        },
        "479772e72d7641268029d6c2ac80e4c0": {
          "model_module": "@jupyter-widgets/base",
          "model_module_version": "1.2.0",
          "model_name": "LayoutModel",
          "state": {
            "_model_module": "@jupyter-widgets/base",
            "_model_module_version": "1.2.0",
            "_model_name": "LayoutModel",
            "_view_count": null,
            "_view_module": "@jupyter-widgets/base",
            "_view_module_version": "1.2.0",
            "_view_name": "LayoutView",
            "align_content": null,
            "align_items": null,
            "align_self": null,
            "border": null,
            "bottom": null,
            "display": null,
            "flex": null,
            "flex_flow": null,
            "grid_area": null,
            "grid_auto_columns": null,
            "grid_auto_flow": null,
            "grid_auto_rows": null,
            "grid_column": null,
            "grid_gap": null,
            "grid_row": null,
            "grid_template_areas": null,
            "grid_template_columns": null,
            "grid_template_rows": null,
            "height": null,
            "justify_content": null,
            "justify_items": null,
            "left": null,
            "margin": null,
            "max_height": null,
            "max_width": null,
            "min_height": null,
            "min_width": null,
            "object_fit": null,
            "object_position": null,
            "order": null,
            "overflow": null,
            "overflow_x": null,
            "overflow_y": null,
            "padding": null,
            "right": null,
            "top": null,
            "visibility": null,
            "width": null
          }
        },
        "5691b6b64bd247f0b16bb02ccea0f4c8": {
          "model_module": "@jupyter-widgets/controls",
          "model_module_version": "1.5.0",
          "model_name": "HBoxModel",
          "state": {
            "_dom_classes": [],
            "_model_module": "@jupyter-widgets/controls",
            "_model_module_version": "1.5.0",
            "_model_name": "HBoxModel",
            "_view_count": null,
            "_view_module": "@jupyter-widgets/controls",
            "_view_module_version": "1.5.0",
            "_view_name": "HBoxView",
            "box_style": "",
            "children": [
              "IPY_MODEL_e9055a9007e04e7abfc74e263abec4ca",
              "IPY_MODEL_0b80d6e90a944ce4b7d7c2c2d857f38a",
              "IPY_MODEL_8013d6bad1e642e6b61b85fbdef62191"
            ],
            "layout": "IPY_MODEL_edcf051fee244f6d897abfd04fd4e2d9"
          }
        },
        "62afe57f6300467b9942fb42772103c2": {
          "model_module": "@jupyter-widgets/controls",
          "model_module_version": "1.5.0",
          "model_name": "DescriptionStyleModel",
          "state": {
            "_model_module": "@jupyter-widgets/controls",
            "_model_module_version": "1.5.0",
            "_model_name": "DescriptionStyleModel",
            "_view_count": null,
            "_view_module": "@jupyter-widgets/base",
            "_view_module_version": "1.2.0",
            "_view_name": "StyleView",
            "description_width": ""
          }
        },
        "67751ce3826748a89f62f05f09a013cb": {
          "model_module": "@jupyter-widgets/controls",
          "model_module_version": "1.5.0",
          "model_name": "HTMLModel",
          "state": {
            "_dom_classes": [],
            "_model_module": "@jupyter-widgets/controls",
            "_model_module_version": "1.5.0",
            "_model_name": "HTMLModel",
            "_view_count": null,
            "_view_module": "@jupyter-widgets/controls",
            "_view_module_version": "1.5.0",
            "_view_name": "HTMLView",
            "description": "",
            "description_tooltip": null,
            "layout": "IPY_MODEL_6dacb6c4a7a444b8b99c0840bca17fd8",
            "placeholder": "​",
            "style": "IPY_MODEL_a38e52ab69a746c0a2ccce650f5a52e5",
            "value": "Downloading (…)/main/tokenizer.json: 100%"
          }
        },
        "6953f0998bbc4f2a98626001dbb8e4ac": {
          "model_module": "@jupyter-widgets/base",
          "model_module_version": "1.2.0",
          "model_name": "LayoutModel",
          "state": {
            "_model_module": "@jupyter-widgets/base",
            "_model_module_version": "1.2.0",
            "_model_name": "LayoutModel",
            "_view_count": null,
            "_view_module": "@jupyter-widgets/base",
            "_view_module_version": "1.2.0",
            "_view_name": "LayoutView",
            "align_content": null,
            "align_items": null,
            "align_self": null,
            "border": null,
            "bottom": null,
            "display": null,
            "flex": null,
            "flex_flow": null,
            "grid_area": null,
            "grid_auto_columns": null,
            "grid_auto_flow": null,
            "grid_auto_rows": null,
            "grid_column": null,
            "grid_gap": null,
            "grid_row": null,
            "grid_template_areas": null,
            "grid_template_columns": null,
            "grid_template_rows": null,
            "height": null,
            "justify_content": null,
            "justify_items": null,
            "left": null,
            "margin": null,
            "max_height": null,
            "max_width": null,
            "min_height": null,
            "min_width": null,
            "object_fit": null,
            "object_position": null,
            "order": null,
            "overflow": null,
            "overflow_x": null,
            "overflow_y": null,
            "padding": null,
            "right": null,
            "top": null,
            "visibility": null,
            "width": null
          }
        },
        "6a2b497d82ed460fa4b9dbe250fce678": {
          "model_module": "@jupyter-widgets/controls",
          "model_module_version": "1.5.0",
          "model_name": "HTMLModel",
          "state": {
            "_dom_classes": [],
            "_model_module": "@jupyter-widgets/controls",
            "_model_module_version": "1.5.0",
            "_model_name": "HTMLModel",
            "_view_count": null,
            "_view_module": "@jupyter-widgets/controls",
            "_view_module_version": "1.5.0",
            "_view_name": "HTMLView",
            "description": "",
            "description_tooltip": null,
            "layout": "IPY_MODEL_c4111440a4dc43b8ae9b13edbb7b1b10",
            "placeholder": "​",
            "style": "IPY_MODEL_20310286bcd3461c906faa57442e196c",
            "value": "Downloading (…)okenizer_config.json: 100%"
          }
        },
        "6c3efae6dc6a49988dcbaf903a6fcc0a": {
          "model_module": "@jupyter-widgets/base",
          "model_module_version": "1.2.0",
          "model_name": "LayoutModel",
          "state": {
            "_model_module": "@jupyter-widgets/base",
            "_model_module_version": "1.2.0",
            "_model_name": "LayoutModel",
            "_view_count": null,
            "_view_module": "@jupyter-widgets/base",
            "_view_module_version": "1.2.0",
            "_view_name": "LayoutView",
            "align_content": null,
            "align_items": null,
            "align_self": null,
            "border": null,
            "bottom": null,
            "display": null,
            "flex": null,
            "flex_flow": null,
            "grid_area": null,
            "grid_auto_columns": null,
            "grid_auto_flow": null,
            "grid_auto_rows": null,
            "grid_column": null,
            "grid_gap": null,
            "grid_row": null,
            "grid_template_areas": null,
            "grid_template_columns": null,
            "grid_template_rows": null,
            "height": null,
            "justify_content": null,
            "justify_items": null,
            "left": null,
            "margin": null,
            "max_height": null,
            "max_width": null,
            "min_height": null,
            "min_width": null,
            "object_fit": null,
            "object_position": null,
            "order": null,
            "overflow": null,
            "overflow_x": null,
            "overflow_y": null,
            "padding": null,
            "right": null,
            "top": null,
            "visibility": null,
            "width": null
          }
        },
        "6dacb6c4a7a444b8b99c0840bca17fd8": {
          "model_module": "@jupyter-widgets/base",
          "model_module_version": "1.2.0",
          "model_name": "LayoutModel",
          "state": {
            "_model_module": "@jupyter-widgets/base",
            "_model_module_version": "1.2.0",
            "_model_name": "LayoutModel",
            "_view_count": null,
            "_view_module": "@jupyter-widgets/base",
            "_view_module_version": "1.2.0",
            "_view_name": "LayoutView",
            "align_content": null,
            "align_items": null,
            "align_self": null,
            "border": null,
            "bottom": null,
            "display": null,
            "flex": null,
            "flex_flow": null,
            "grid_area": null,
            "grid_auto_columns": null,
            "grid_auto_flow": null,
            "grid_auto_rows": null,
            "grid_column": null,
            "grid_gap": null,
            "grid_row": null,
            "grid_template_areas": null,
            "grid_template_columns": null,
            "grid_template_rows": null,
            "height": null,
            "justify_content": null,
            "justify_items": null,
            "left": null,
            "margin": null,
            "max_height": null,
            "max_width": null,
            "min_height": null,
            "min_width": null,
            "object_fit": null,
            "object_position": null,
            "order": null,
            "overflow": null,
            "overflow_x": null,
            "overflow_y": null,
            "padding": null,
            "right": null,
            "top": null,
            "visibility": null,
            "width": null
          }
        },
        "777a8a6906f84cc7a8f408ae62bfe382": {
          "model_module": "@jupyter-widgets/base",
          "model_module_version": "1.2.0",
          "model_name": "LayoutModel",
          "state": {
            "_model_module": "@jupyter-widgets/base",
            "_model_module_version": "1.2.0",
            "_model_name": "LayoutModel",
            "_view_count": null,
            "_view_module": "@jupyter-widgets/base",
            "_view_module_version": "1.2.0",
            "_view_name": "LayoutView",
            "align_content": null,
            "align_items": null,
            "align_self": null,
            "border": null,
            "bottom": null,
            "display": null,
            "flex": null,
            "flex_flow": null,
            "grid_area": null,
            "grid_auto_columns": null,
            "grid_auto_flow": null,
            "grid_auto_rows": null,
            "grid_column": null,
            "grid_gap": null,
            "grid_row": null,
            "grid_template_areas": null,
            "grid_template_columns": null,
            "grid_template_rows": null,
            "height": null,
            "justify_content": null,
            "justify_items": null,
            "left": null,
            "margin": null,
            "max_height": null,
            "max_width": null,
            "min_height": null,
            "min_width": null,
            "object_fit": null,
            "object_position": null,
            "order": null,
            "overflow": null,
            "overflow_x": null,
            "overflow_y": null,
            "padding": null,
            "right": null,
            "top": null,
            "visibility": null,
            "width": null
          }
        },
        "7b81af50234f4fcfa95b57a3e9717a34": {
          "model_module": "@jupyter-widgets/base",
          "model_module_version": "1.2.0",
          "model_name": "LayoutModel",
          "state": {
            "_model_module": "@jupyter-widgets/base",
            "_model_module_version": "1.2.0",
            "_model_name": "LayoutModel",
            "_view_count": null,
            "_view_module": "@jupyter-widgets/base",
            "_view_module_version": "1.2.0",
            "_view_name": "LayoutView",
            "align_content": null,
            "align_items": null,
            "align_self": null,
            "border": null,
            "bottom": null,
            "display": null,
            "flex": null,
            "flex_flow": null,
            "grid_area": null,
            "grid_auto_columns": null,
            "grid_auto_flow": null,
            "grid_auto_rows": null,
            "grid_column": null,
            "grid_gap": null,
            "grid_row": null,
            "grid_template_areas": null,
            "grid_template_columns": null,
            "grid_template_rows": null,
            "height": null,
            "justify_content": null,
            "justify_items": null,
            "left": null,
            "margin": null,
            "max_height": null,
            "max_width": null,
            "min_height": null,
            "min_width": null,
            "object_fit": null,
            "object_position": null,
            "order": null,
            "overflow": null,
            "overflow_x": null,
            "overflow_y": null,
            "padding": null,
            "right": null,
            "top": null,
            "visibility": null,
            "width": null
          }
        },
        "8013d6bad1e642e6b61b85fbdef62191": {
          "model_module": "@jupyter-widgets/controls",
          "model_module_version": "1.5.0",
          "model_name": "HTMLModel",
          "state": {
            "_dom_classes": [],
            "_model_module": "@jupyter-widgets/controls",
            "_model_module_version": "1.5.0",
            "_model_name": "HTMLModel",
            "_view_count": null,
            "_view_module": "@jupyter-widgets/controls",
            "_view_module_version": "1.5.0",
            "_view_name": "HTMLView",
            "description": "",
            "description_tooltip": null,
            "layout": "IPY_MODEL_7b81af50234f4fcfa95b57a3e9717a34",
            "placeholder": "​",
            "style": "IPY_MODEL_b5139acd891944c290fef03c86226cd1",
            "value": " 833/833 [00:00&lt;00:00, 37.3kB/s]"
          }
        },
        "822af2e2d40d4eeb8f184041611fc443": {
          "model_module": "@jupyter-widgets/controls",
          "model_module_version": "1.5.0",
          "model_name": "ProgressStyleModel",
          "state": {
            "_model_module": "@jupyter-widgets/controls",
            "_model_module_version": "1.5.0",
            "_model_name": "ProgressStyleModel",
            "_view_count": null,
            "_view_module": "@jupyter-widgets/base",
            "_view_module_version": "1.2.0",
            "_view_name": "StyleView",
            "bar_color": null,
            "description_width": ""
          }
        },
        "85a36894dc8447dcb8f645df315ceb4a": {
          "model_module": "@jupyter-widgets/controls",
          "model_module_version": "1.5.0",
          "model_name": "HTMLModel",
          "state": {
            "_dom_classes": [],
            "_model_module": "@jupyter-widgets/controls",
            "_model_module_version": "1.5.0",
            "_model_name": "HTMLModel",
            "_view_count": null,
            "_view_module": "@jupyter-widgets/controls",
            "_view_module_version": "1.5.0",
            "_view_name": "HTMLView",
            "description": "",
            "description_tooltip": null,
            "layout": "IPY_MODEL_bf7d7fdcf188497db906fb6c6ce191cb",
            "placeholder": "​",
            "style": "IPY_MODEL_a3078044393c40d1b0d2733fb039cf21",
            "value": " 232k/232k [00:00&lt;00:00, 356kB/s]"
          }
        },
        "8884d07d36c6450a96c8cc8a8a0c1d4e": {
          "model_module": "@jupyter-widgets/controls",
          "model_module_version": "1.5.0",
          "model_name": "ProgressStyleModel",
          "state": {
            "_model_module": "@jupyter-widgets/controls",
            "_model_module_version": "1.5.0",
            "_model_name": "ProgressStyleModel",
            "_view_count": null,
            "_view_module": "@jupyter-widgets/base",
            "_view_module_version": "1.2.0",
            "_view_name": "StyleView",
            "bar_color": null,
            "description_width": ""
          }
        },
        "89a974beecca4744941bf2b0fc407535": {
          "model_module": "@jupyter-widgets/base",
          "model_module_version": "1.2.0",
          "model_name": "LayoutModel",
          "state": {
            "_model_module": "@jupyter-widgets/base",
            "_model_module_version": "1.2.0",
            "_model_name": "LayoutModel",
            "_view_count": null,
            "_view_module": "@jupyter-widgets/base",
            "_view_module_version": "1.2.0",
            "_view_name": "LayoutView",
            "align_content": null,
            "align_items": null,
            "align_self": null,
            "border": null,
            "bottom": null,
            "display": null,
            "flex": null,
            "flex_flow": null,
            "grid_area": null,
            "grid_auto_columns": null,
            "grid_auto_flow": null,
            "grid_auto_rows": null,
            "grid_column": null,
            "grid_gap": null,
            "grid_row": null,
            "grid_template_areas": null,
            "grid_template_columns": null,
            "grid_template_rows": null,
            "height": null,
            "justify_content": null,
            "justify_items": null,
            "left": null,
            "margin": null,
            "max_height": null,
            "max_width": null,
            "min_height": null,
            "min_width": null,
            "object_fit": null,
            "object_position": null,
            "order": null,
            "overflow": null,
            "overflow_x": null,
            "overflow_y": null,
            "padding": null,
            "right": null,
            "top": null,
            "visibility": null,
            "width": null
          }
        },
        "8b286aa8afc84d68b31a6d3b80036a5d": {
          "model_module": "@jupyter-widgets/controls",
          "model_module_version": "1.5.0",
          "model_name": "HBoxModel",
          "state": {
            "_dom_classes": [],
            "_model_module": "@jupyter-widgets/controls",
            "_model_module_version": "1.5.0",
            "_model_name": "HBoxModel",
            "_view_count": null,
            "_view_module": "@jupyter-widgets/controls",
            "_view_module_version": "1.5.0",
            "_view_name": "HBoxView",
            "box_style": "",
            "children": [
              "IPY_MODEL_6a2b497d82ed460fa4b9dbe250fce678",
              "IPY_MODEL_982dfbab409645b3903997835252f141",
              "IPY_MODEL_1abb41ecc2644a2296cc20d50908da19"
            ],
            "layout": "IPY_MODEL_479772e72d7641268029d6c2ac80e4c0"
          }
        },
        "906e043326514866b88431054af2c9a4": {
          "model_module": "@jupyter-widgets/controls",
          "model_module_version": "1.5.0",
          "model_name": "HBoxModel",
          "state": {
            "_dom_classes": [],
            "_model_module": "@jupyter-widgets/controls",
            "_model_module_version": "1.5.0",
            "_model_name": "HBoxModel",
            "_view_count": null,
            "_view_module": "@jupyter-widgets/controls",
            "_view_module_version": "1.5.0",
            "_view_name": "HBoxView",
            "box_style": "",
            "children": [
              "IPY_MODEL_de352779f6304c76b4bbfe77f1d818a0",
              "IPY_MODEL_e12ba8b9180148bdb1bf6eb0ccaf6cc2",
              "IPY_MODEL_85a36894dc8447dcb8f645df315ceb4a"
            ],
            "layout": "IPY_MODEL_96fd30f7dc3d46f29e35a579582e4383"
          }
        },
        "96fd30f7dc3d46f29e35a579582e4383": {
          "model_module": "@jupyter-widgets/base",
          "model_module_version": "1.2.0",
          "model_name": "LayoutModel",
          "state": {
            "_model_module": "@jupyter-widgets/base",
            "_model_module_version": "1.2.0",
            "_model_name": "LayoutModel",
            "_view_count": null,
            "_view_module": "@jupyter-widgets/base",
            "_view_module_version": "1.2.0",
            "_view_name": "LayoutView",
            "align_content": null,
            "align_items": null,
            "align_self": null,
            "border": null,
            "bottom": null,
            "display": null,
            "flex": null,
            "flex_flow": null,
            "grid_area": null,
            "grid_auto_columns": null,
            "grid_auto_flow": null,
            "grid_auto_rows": null,
            "grid_column": null,
            "grid_gap": null,
            "grid_row": null,
            "grid_template_areas": null,
            "grid_template_columns": null,
            "grid_template_rows": null,
            "height": null,
            "justify_content": null,
            "justify_items": null,
            "left": null,
            "margin": null,
            "max_height": null,
            "max_width": null,
            "min_height": null,
            "min_width": null,
            "object_fit": null,
            "object_position": null,
            "order": null,
            "overflow": null,
            "overflow_x": null,
            "overflow_y": null,
            "padding": null,
            "right": null,
            "top": null,
            "visibility": null,
            "width": null
          }
        },
        "982dfbab409645b3903997835252f141": {
          "model_module": "@jupyter-widgets/controls",
          "model_module_version": "1.5.0",
          "model_name": "FloatProgressModel",
          "state": {
            "_dom_classes": [],
            "_model_module": "@jupyter-widgets/controls",
            "_model_module_version": "1.5.0",
            "_model_name": "FloatProgressModel",
            "_view_count": null,
            "_view_module": "@jupyter-widgets/controls",
            "_view_module_version": "1.5.0",
            "_view_name": "ProgressView",
            "bar_style": "success",
            "description": "",
            "description_tooltip": null,
            "layout": "IPY_MODEL_ce516dba6cdb4969b84c3fb9ff8cde93",
            "max": 160,
            "min": 0,
            "orientation": "horizontal",
            "style": "IPY_MODEL_09c4604bf2de479fba29350d0d84bf91",
            "value": 160
          }
        },
        "a2150765e31a4d10bd9afaf33013f6fd": {
          "model_module": "@jupyter-widgets/controls",
          "model_module_version": "1.5.0",
          "model_name": "DescriptionStyleModel",
          "state": {
            "_model_module": "@jupyter-widgets/controls",
            "_model_module_version": "1.5.0",
            "_model_name": "DescriptionStyleModel",
            "_view_count": null,
            "_view_module": "@jupyter-widgets/base",
            "_view_module_version": "1.2.0",
            "_view_name": "StyleView",
            "description_width": ""
          }
        },
        "a2d6f1bc7274454eb71b0270fcc270bd": {
          "model_module": "@jupyter-widgets/base",
          "model_module_version": "1.2.0",
          "model_name": "LayoutModel",
          "state": {
            "_model_module": "@jupyter-widgets/base",
            "_model_module_version": "1.2.0",
            "_model_name": "LayoutModel",
            "_view_count": null,
            "_view_module": "@jupyter-widgets/base",
            "_view_module_version": "1.2.0",
            "_view_name": "LayoutView",
            "align_content": null,
            "align_items": null,
            "align_self": null,
            "border": null,
            "bottom": null,
            "display": null,
            "flex": null,
            "flex_flow": null,
            "grid_area": null,
            "grid_auto_columns": null,
            "grid_auto_flow": null,
            "grid_auto_rows": null,
            "grid_column": null,
            "grid_gap": null,
            "grid_row": null,
            "grid_template_areas": null,
            "grid_template_columns": null,
            "grid_template_rows": null,
            "height": null,
            "justify_content": null,
            "justify_items": null,
            "left": null,
            "margin": null,
            "max_height": null,
            "max_width": null,
            "min_height": null,
            "min_width": null,
            "object_fit": null,
            "object_position": null,
            "order": null,
            "overflow": null,
            "overflow_x": null,
            "overflow_y": null,
            "padding": null,
            "right": null,
            "top": null,
            "visibility": null,
            "width": null
          }
        },
        "a3078044393c40d1b0d2733fb039cf21": {
          "model_module": "@jupyter-widgets/controls",
          "model_module_version": "1.5.0",
          "model_name": "DescriptionStyleModel",
          "state": {
            "_model_module": "@jupyter-widgets/controls",
            "_model_module_version": "1.5.0",
            "_model_name": "DescriptionStyleModel",
            "_view_count": null,
            "_view_module": "@jupyter-widgets/base",
            "_view_module_version": "1.2.0",
            "_view_name": "StyleView",
            "description_width": ""
          }
        },
        "a38e52ab69a746c0a2ccce650f5a52e5": {
          "model_module": "@jupyter-widgets/controls",
          "model_module_version": "1.5.0",
          "model_name": "DescriptionStyleModel",
          "state": {
            "_model_module": "@jupyter-widgets/controls",
            "_model_module_version": "1.5.0",
            "_model_name": "DescriptionStyleModel",
            "_view_count": null,
            "_view_module": "@jupyter-widgets/base",
            "_view_module_version": "1.2.0",
            "_view_name": "StyleView",
            "description_width": ""
          }
        },
        "b5139acd891944c290fef03c86226cd1": {
          "model_module": "@jupyter-widgets/controls",
          "model_module_version": "1.5.0",
          "model_name": "DescriptionStyleModel",
          "state": {
            "_model_module": "@jupyter-widgets/controls",
            "_model_module_version": "1.5.0",
            "_model_name": "DescriptionStyleModel",
            "_view_count": null,
            "_view_module": "@jupyter-widgets/base",
            "_view_module_version": "1.2.0",
            "_view_name": "StyleView",
            "description_width": ""
          }
        },
        "bf7d7fdcf188497db906fb6c6ce191cb": {
          "model_module": "@jupyter-widgets/base",
          "model_module_version": "1.2.0",
          "model_name": "LayoutModel",
          "state": {
            "_model_module": "@jupyter-widgets/base",
            "_model_module_version": "1.2.0",
            "_model_name": "LayoutModel",
            "_view_count": null,
            "_view_module": "@jupyter-widgets/base",
            "_view_module_version": "1.2.0",
            "_view_name": "LayoutView",
            "align_content": null,
            "align_items": null,
            "align_self": null,
            "border": null,
            "bottom": null,
            "display": null,
            "flex": null,
            "flex_flow": null,
            "grid_area": null,
            "grid_auto_columns": null,
            "grid_auto_flow": null,
            "grid_auto_rows": null,
            "grid_column": null,
            "grid_gap": null,
            "grid_row": null,
            "grid_template_areas": null,
            "grid_template_columns": null,
            "grid_template_rows": null,
            "height": null,
            "justify_content": null,
            "justify_items": null,
            "left": null,
            "margin": null,
            "max_height": null,
            "max_width": null,
            "min_height": null,
            "min_width": null,
            "object_fit": null,
            "object_position": null,
            "order": null,
            "overflow": null,
            "overflow_x": null,
            "overflow_y": null,
            "padding": null,
            "right": null,
            "top": null,
            "visibility": null,
            "width": null
          }
        },
        "c4111440a4dc43b8ae9b13edbb7b1b10": {
          "model_module": "@jupyter-widgets/base",
          "model_module_version": "1.2.0",
          "model_name": "LayoutModel",
          "state": {
            "_model_module": "@jupyter-widgets/base",
            "_model_module_version": "1.2.0",
            "_model_name": "LayoutModel",
            "_view_count": null,
            "_view_module": "@jupyter-widgets/base",
            "_view_module_version": "1.2.0",
            "_view_name": "LayoutView",
            "align_content": null,
            "align_items": null,
            "align_self": null,
            "border": null,
            "bottom": null,
            "display": null,
            "flex": null,
            "flex_flow": null,
            "grid_area": null,
            "grid_auto_columns": null,
            "grid_auto_flow": null,
            "grid_auto_rows": null,
            "grid_column": null,
            "grid_gap": null,
            "grid_row": null,
            "grid_template_areas": null,
            "grid_template_columns": null,
            "grid_template_rows": null,
            "height": null,
            "justify_content": null,
            "justify_items": null,
            "left": null,
            "margin": null,
            "max_height": null,
            "max_width": null,
            "min_height": null,
            "min_width": null,
            "object_fit": null,
            "object_position": null,
            "order": null,
            "overflow": null,
            "overflow_x": null,
            "overflow_y": null,
            "padding": null,
            "right": null,
            "top": null,
            "visibility": null,
            "width": null
          }
        },
        "ce516dba6cdb4969b84c3fb9ff8cde93": {
          "model_module": "@jupyter-widgets/base",
          "model_module_version": "1.2.0",
          "model_name": "LayoutModel",
          "state": {
            "_model_module": "@jupyter-widgets/base",
            "_model_module_version": "1.2.0",
            "_model_name": "LayoutModel",
            "_view_count": null,
            "_view_module": "@jupyter-widgets/base",
            "_view_module_version": "1.2.0",
            "_view_name": "LayoutView",
            "align_content": null,
            "align_items": null,
            "align_self": null,
            "border": null,
            "bottom": null,
            "display": null,
            "flex": null,
            "flex_flow": null,
            "grid_area": null,
            "grid_auto_columns": null,
            "grid_auto_flow": null,
            "grid_auto_rows": null,
            "grid_column": null,
            "grid_gap": null,
            "grid_row": null,
            "grid_template_areas": null,
            "grid_template_columns": null,
            "grid_template_rows": null,
            "height": null,
            "justify_content": null,
            "justify_items": null,
            "left": null,
            "margin": null,
            "max_height": null,
            "max_width": null,
            "min_height": null,
            "min_width": null,
            "object_fit": null,
            "object_position": null,
            "order": null,
            "overflow": null,
            "overflow_x": null,
            "overflow_y": null,
            "padding": null,
            "right": null,
            "top": null,
            "visibility": null,
            "width": null
          }
        },
        "d24bc716a7054143a2c7fb05fe5a5983": {
          "model_module": "@jupyter-widgets/controls",
          "model_module_version": "1.5.0",
          "model_name": "FloatProgressModel",
          "state": {
            "_dom_classes": [],
            "_model_module": "@jupyter-widgets/controls",
            "_model_module_version": "1.5.0",
            "_model_name": "FloatProgressModel",
            "_view_count": null,
            "_view_module": "@jupyter-widgets/controls",
            "_view_module_version": "1.5.0",
            "_view_name": "ProgressView",
            "bar_style": "success",
            "description": "",
            "description_tooltip": null,
            "layout": "IPY_MODEL_1219a4743c4a4bb886e41de54338e7d4",
            "max": 466062,
            "min": 0,
            "orientation": "horizontal",
            "style": "IPY_MODEL_3af7e28e185d46c4a6cc47b0a73902d2",
            "value": 466062
          }
        },
        "de352779f6304c76b4bbfe77f1d818a0": {
          "model_module": "@jupyter-widgets/controls",
          "model_module_version": "1.5.0",
          "model_name": "HTMLModel",
          "state": {
            "_dom_classes": [],
            "_model_module": "@jupyter-widgets/controls",
            "_model_module_version": "1.5.0",
            "_model_name": "HTMLModel",
            "_view_count": null,
            "_view_module": "@jupyter-widgets/controls",
            "_view_module_version": "1.5.0",
            "_view_name": "HTMLView",
            "description": "",
            "description_tooltip": null,
            "layout": "IPY_MODEL_89a974beecca4744941bf2b0fc407535",
            "placeholder": "​",
            "style": "IPY_MODEL_05964e4567e4431aad1b56008d1de4fe",
            "value": "Downloading (…)solve/main/vocab.txt: 100%"
          }
        },
        "e12ba8b9180148bdb1bf6eb0ccaf6cc2": {
          "model_module": "@jupyter-widgets/controls",
          "model_module_version": "1.5.0",
          "model_name": "FloatProgressModel",
          "state": {
            "_dom_classes": [],
            "_model_module": "@jupyter-widgets/controls",
            "_model_module_version": "1.5.0",
            "_model_name": "FloatProgressModel",
            "_view_count": null,
            "_view_module": "@jupyter-widgets/controls",
            "_view_module_version": "1.5.0",
            "_view_name": "ProgressView",
            "bar_style": "success",
            "description": "",
            "description_tooltip": null,
            "layout": "IPY_MODEL_14ebe3573c424011aa104768d97b7ad0",
            "max": 231508,
            "min": 0,
            "orientation": "horizontal",
            "style": "IPY_MODEL_822af2e2d40d4eeb8f184041611fc443",
            "value": 231508
          }
        },
        "e41dae9f2168479e8026c56e58c097f0": {
          "model_module": "@jupyter-widgets/base",
          "model_module_version": "1.2.0",
          "model_name": "LayoutModel",
          "state": {
            "_model_module": "@jupyter-widgets/base",
            "_model_module_version": "1.2.0",
            "_model_name": "LayoutModel",
            "_view_count": null,
            "_view_module": "@jupyter-widgets/base",
            "_view_module_version": "1.2.0",
            "_view_name": "LayoutView",
            "align_content": null,
            "align_items": null,
            "align_self": null,
            "border": null,
            "bottom": null,
            "display": null,
            "flex": null,
            "flex_flow": null,
            "grid_area": null,
            "grid_auto_columns": null,
            "grid_auto_flow": null,
            "grid_auto_rows": null,
            "grid_column": null,
            "grid_gap": null,
            "grid_row": null,
            "grid_template_areas": null,
            "grid_template_columns": null,
            "grid_template_rows": null,
            "height": null,
            "justify_content": null,
            "justify_items": null,
            "left": null,
            "margin": null,
            "max_height": null,
            "max_width": null,
            "min_height": null,
            "min_width": null,
            "object_fit": null,
            "object_position": null,
            "order": null,
            "overflow": null,
            "overflow_x": null,
            "overflow_y": null,
            "padding": null,
            "right": null,
            "top": null,
            "visibility": null,
            "width": null
          }
        },
        "e9055a9007e04e7abfc74e263abec4ca": {
          "model_module": "@jupyter-widgets/controls",
          "model_module_version": "1.5.0",
          "model_name": "HTMLModel",
          "state": {
            "_dom_classes": [],
            "_model_module": "@jupyter-widgets/controls",
            "_model_module_version": "1.5.0",
            "_model_name": "HTMLModel",
            "_view_count": null,
            "_view_module": "@jupyter-widgets/controls",
            "_view_module_version": "1.5.0",
            "_view_name": "HTMLView",
            "description": "",
            "description_tooltip": null,
            "layout": "IPY_MODEL_a2d6f1bc7274454eb71b0270fcc270bd",
            "placeholder": "​",
            "style": "IPY_MODEL_a2150765e31a4d10bd9afaf33013f6fd",
            "value": "Downloading (…)lve/main/config.json: 100%"
          }
        },
        "edcf051fee244f6d897abfd04fd4e2d9": {
          "model_module": "@jupyter-widgets/base",
          "model_module_version": "1.2.0",
          "model_name": "LayoutModel",
          "state": {
            "_model_module": "@jupyter-widgets/base",
            "_model_module_version": "1.2.0",
            "_model_name": "LayoutModel",
            "_view_count": null,
            "_view_module": "@jupyter-widgets/base",
            "_view_module_version": "1.2.0",
            "_view_name": "LayoutView",
            "align_content": null,
            "align_items": null,
            "align_self": null,
            "border": null,
            "bottom": null,
            "display": null,
            "flex": null,
            "flex_flow": null,
            "grid_area": null,
            "grid_auto_columns": null,
            "grid_auto_flow": null,
            "grid_auto_rows": null,
            "grid_column": null,
            "grid_gap": null,
            "grid_row": null,
            "grid_template_areas": null,
            "grid_template_columns": null,
            "grid_template_rows": null,
            "height": null,
            "justify_content": null,
            "justify_items": null,
            "left": null,
            "margin": null,
            "max_height": null,
            "max_width": null,
            "min_height": null,
            "min_width": null,
            "object_fit": null,
            "object_position": null,
            "order": null,
            "overflow": null,
            "overflow_x": null,
            "overflow_y": null,
            "padding": null,
            "right": null,
            "top": null,
            "visibility": null,
            "width": null
          }
        },
        "f563adc734794703ab6fbbcc0f541918": {
          "model_module": "@jupyter-widgets/controls",
          "model_module_version": "1.5.0",
          "model_name": "HTMLModel",
          "state": {
            "_dom_classes": [],
            "_model_module": "@jupyter-widgets/controls",
            "_model_module_version": "1.5.0",
            "_model_name": "HTMLModel",
            "_view_count": null,
            "_view_module": "@jupyter-widgets/controls",
            "_view_module_version": "1.5.0",
            "_view_name": "HTMLView",
            "description": "",
            "description_tooltip": null,
            "layout": "IPY_MODEL_777a8a6906f84cc7a8f408ae62bfe382",
            "placeholder": "​",
            "style": "IPY_MODEL_62afe57f6300467b9942fb42772103c2",
            "value": " 466k/466k [00:00&lt;00:00, 521kB/s]"
          }
        }
      }
    }
  },
  "nbformat": 4,
  "nbformat_minor": 0
}