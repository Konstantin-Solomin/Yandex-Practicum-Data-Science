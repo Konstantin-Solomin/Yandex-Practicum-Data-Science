{
  "cells": [
    {
      "cell_type": "markdown",
      "metadata": {
        "id": "LzI06wbSywT_"
      },
      "source": [
        "# Выбор локации для скважины"
      ]
    },
    {
      "cell_type": "code",
      "execution_count": null,
      "metadata": {
        "id": "B0sDecWzy3iE"
      },
      "outputs": [],
      "source": [
        "try:\n",
        "    from google.colab import drive\n",
        "    drive.mount('/content/drive')\n",
        "except:\n",
        "    pass"
      ]
    },
    {
      "cell_type": "markdown",
      "metadata": {
        "id": "0-_Q4RwwywUC"
      },
      "source": [
        "Допустим, вы работаете в добывающей компании «ГлавРосГосНефть». Нужно решить, где бурить новую скважину.\n",
        "\n",
        "Вам предоставлены пробы нефти в трёх регионах: в каждом 10 000 месторождений, где измерили качество нефти и объём её запасов. Постройте модель машинного обучения, которая поможет определить регион, где добыча принесёт наибольшую прибыль. Проанализируйте возможную прибыль и риски техникой *Bootstrap.*\n",
        "\n",
        "Шаги для выбора локации:\n",
        "\n",
        "- В избранном регионе ищут месторождения, для каждого определяют значения признаков;\n",
        "- Строят модель и оценивают объём запасов;\n",
        "- Выбирают месторождения с самым высокими оценками значений. Количество месторождений зависит от бюджета компании и стоимости разработки одной скважины;\n",
        "- Прибыль равна суммарной прибыли отобранных месторождений."
      ]
    },
    {
      "cell_type": "markdown",
      "metadata": {
        "id": "m3rpgefxywUD"
      },
      "source": [
        "## Загрузка и подготовка данных"
      ]
    },
    {
      "cell_type": "code",
      "execution_count": null,
      "metadata": {
        "id": "F1pUHXzhzmgB"
      },
      "outputs": [],
      "source": [
        "import pandas as pd\n",
        "import numpy as np\n",
        "from sklearn.linear_model import LinearRegression\n",
        "from sklearn.model_selection import train_test_split\n",
        "from sklearn.metrics import mean_squared_error"
      ]
    },
    {
      "cell_type": "code",
      "execution_count": null,
      "metadata": {
        "id": "Wq5PDqy6ywUE"
      },
      "outputs": [],
      "source": [
        "try:\n",
        "    df_one = pd.read_csv(\n",
        "        '/content/drive/MyDrive/Colab Notebooks/new_borehole/geo_data_0.csv')\n",
        "    df_two = pd.read_csv(\n",
        "        '/content/drive/MyDrive/Colab Notebooks/new_borehole/geo_data_1.csv')\n",
        "    df_three = pd.read_csv(\n",
        "        '/content/drive/MyDrive/Colab Notebooks/new_borehole/geo_data_2.csv')\n",
        "except:\n",
        "    df_one = pd.read_csv(\n",
        "        'https://code.s3.yandex.net/datasets/geo_data_0.csv')\n",
        "    df_two = pd.read_csv(\n",
        "        'https://code.s3.yandex.net/datasets/geo_data_1.csv')\n",
        "    df_three = pd.read_csv(\n",
        "        'https://code.s3.yandex.net/datasets/geo_data_2.csv')"
      ]
    },
    {
      "cell_type": "code",
      "execution_count": null,
      "metadata": {
        "id": "WL6p0PJMqkBZ"
      },
      "outputs": [],
      "source": [
        "def look(df):\n",
        "    display(df.head())\n",
        "    display(df.info())\n",
        "    df.hist(figsize=(15,15));"
      ]
    },
    {
      "cell_type": "code",
      "execution_count": null,
      "metadata": {
        "colab": {
          "base_uri": "https://localhost:8080/",
          "height": 696
        },
        "id": "LSRjjwdr0FW3",
        "outputId": "7ad7b6bd-ddaf-48be-acb9-f8e825f09628",
        "scrolled": false
      },
      "outputs": [
        {
          "data": {
            "text/html": [
              "<div>\n",
              "<style scoped>\n",
              "    .dataframe tbody tr th:only-of-type {\n",
              "        vertical-align: middle;\n",
              "    }\n",
              "\n",
              "    .dataframe tbody tr th {\n",
              "        vertical-align: top;\n",
              "    }\n",
              "\n",
              "    .dataframe thead th {\n",
              "        text-align: right;\n",
              "    }\n",
              "</style>\n",
              "<table border=\"1\" class=\"dataframe\">\n",
              "  <thead>\n",
              "    <tr style=\"text-align: right;\">\n",
              "      <th></th>\n",
              "      <th>id</th>\n",
              "      <th>f0</th>\n",
              "      <th>f1</th>\n",
              "      <th>f2</th>\n",
              "      <th>product</th>\n",
              "    </tr>\n",
              "  </thead>\n",
              "  <tbody>\n",
              "    <tr>\n",
              "      <th>0</th>\n",
              "      <td>txEyH</td>\n",
              "      <td>0.705745</td>\n",
              "      <td>-0.497823</td>\n",
              "      <td>1.221170</td>\n",
              "      <td>105.280062</td>\n",
              "    </tr>\n",
              "    <tr>\n",
              "      <th>1</th>\n",
              "      <td>2acmU</td>\n",
              "      <td>1.334711</td>\n",
              "      <td>-0.340164</td>\n",
              "      <td>4.365080</td>\n",
              "      <td>73.037750</td>\n",
              "    </tr>\n",
              "    <tr>\n",
              "      <th>2</th>\n",
              "      <td>409Wp</td>\n",
              "      <td>1.022732</td>\n",
              "      <td>0.151990</td>\n",
              "      <td>1.419926</td>\n",
              "      <td>85.265647</td>\n",
              "    </tr>\n",
              "    <tr>\n",
              "      <th>3</th>\n",
              "      <td>iJLyR</td>\n",
              "      <td>-0.032172</td>\n",
              "      <td>0.139033</td>\n",
              "      <td>2.978566</td>\n",
              "      <td>168.620776</td>\n",
              "    </tr>\n",
              "    <tr>\n",
              "      <th>4</th>\n",
              "      <td>Xdl7t</td>\n",
              "      <td>1.988431</td>\n",
              "      <td>0.155413</td>\n",
              "      <td>4.751769</td>\n",
              "      <td>154.036647</td>\n",
              "    </tr>\n",
              "  </tbody>\n",
              "</table>\n",
              "</div>"
            ],
            "text/plain": [
              "      id        f0        f1        f2     product\n",
              "0  txEyH  0.705745 -0.497823  1.221170  105.280062\n",
              "1  2acmU  1.334711 -0.340164  4.365080   73.037750\n",
              "2  409Wp  1.022732  0.151990  1.419926   85.265647\n",
              "3  iJLyR -0.032172  0.139033  2.978566  168.620776\n",
              "4  Xdl7t  1.988431  0.155413  4.751769  154.036647"
            ]
          },
          "metadata": {},
          "output_type": "display_data"
        },
        {
          "name": "stdout",
          "output_type": "stream",
          "text": [
            "<class 'pandas.core.frame.DataFrame'>\n",
            "RangeIndex: 100000 entries, 0 to 99999\n",
            "Data columns (total 5 columns):\n",
            " #   Column   Non-Null Count   Dtype  \n",
            "---  ------   --------------   -----  \n",
            " 0   id       100000 non-null  object \n",
            " 1   f0       100000 non-null  float64\n",
            " 2   f1       100000 non-null  float64\n",
            " 3   f2       100000 non-null  float64\n",
            " 4   product  100000 non-null  float64\n",
            "dtypes: float64(4), object(1)\n",
            "memory usage: 3.8+ MB\n"
          ]
        },
        {
          "data": {
            "text/plain": [
              "None"
            ]
          },
          "metadata": {},
          "output_type": "display_data"
        },
        {
          "data": {
            "image/png": "[encoded data removed]",
            "text/plain": [
              "<Figure size 1080x1080 with 4 Axes>"
            ]
          },
          "metadata": {
            "needs_background": "light"
          },
          "output_type": "display_data"
        }
      ],
      "source": [
        "look(df_one)"
      ]
    },
    {
      "cell_type": "code",
      "execution_count": null,
      "metadata": {
        "colab": {
          "base_uri": "https://localhost:8080/",
          "height": 696
        },
        "id": "cA3NiBmL0X0_",
        "outputId": "bbd39e18-11e5-4cc1-cfd0-c6bebfdb3b39"
      },
      "outputs": [
        {
          "data": {
            "text/html": [
              "<div>\n",
              "<style scoped>\n",
              "    .dataframe tbody tr th:only-of-type {\n",
              "        vertical-align: middle;\n",
              "    }\n",
              "\n",
              "    .dataframe tbody tr th {\n",
              "        vertical-align: top;\n",
              "    }\n",
              "\n",
              "    .dataframe thead th {\n",
              "        text-align: right;\n",
              "    }\n",
              "</style>\n",
              "<table border=\"1\" class=\"dataframe\">\n",
              "  <thead>\n",
              "    <tr style=\"text-align: right;\">\n",
              "      <th></th>\n",
              "      <th>id</th>\n",
              "      <th>f0</th>\n",
              "      <th>f1</th>\n",
              "      <th>f2</th>\n",
              "      <th>product</th>\n",
              "    </tr>\n",
              "  </thead>\n",
              "  <tbody>\n",
              "    <tr>\n",
              "      <th>0</th>\n",
              "      <td>kBEdx</td>\n",
              "      <td>-15.001348</td>\n",
              "      <td>-8.276000</td>\n",
              "      <td>-0.005876</td>\n",
              "      <td>3.179103</td>\n",
              "    </tr>\n",
              "    <tr>\n",
              "      <th>1</th>\n",
              "      <td>62mP7</td>\n",
              "      <td>14.272088</td>\n",
              "      <td>-3.475083</td>\n",
              "      <td>0.999183</td>\n",
              "      <td>26.953261</td>\n",
              "    </tr>\n",
              "    <tr>\n",
              "      <th>2</th>\n",
              "      <td>vyE1P</td>\n",
              "      <td>6.263187</td>\n",
              "      <td>-5.948386</td>\n",
              "      <td>5.001160</td>\n",
              "      <td>134.766305</td>\n",
              "    </tr>\n",
              "    <tr>\n",
              "      <th>3</th>\n",
              "      <td>KcrkZ</td>\n",
              "      <td>-13.081196</td>\n",
              "      <td>-11.506057</td>\n",
              "      <td>4.999415</td>\n",
              "      <td>137.945408</td>\n",
              "    </tr>\n",
              "    <tr>\n",
              "      <th>4</th>\n",
              "      <td>AHL4O</td>\n",
              "      <td>12.702195</td>\n",
              "      <td>-8.147433</td>\n",
              "      <td>5.004363</td>\n",
              "      <td>134.766305</td>\n",
              "    </tr>\n",
              "  </tbody>\n",
              "</table>\n",
              "</div>"
            ],
            "text/plain": [
              "      id         f0         f1        f2     product\n",
              "0  kBEdx -15.001348  -8.276000 -0.005876    3.179103\n",
              "1  62mP7  14.272088  -3.475083  0.999183   26.953261\n",
              "2  vyE1P   6.263187  -5.948386  5.001160  134.766305\n",
              "3  KcrkZ -13.081196 -11.506057  4.999415  137.945408\n",
              "4  AHL4O  12.702195  -8.147433  5.004363  134.766305"
            ]
          },
          "metadata": {},
          "output_type": "display_data"
        },
        {
          "name": "stdout",
          "output_type": "stream",
          "text": [
            "<class 'pandas.core.frame.DataFrame'>\n",
            "RangeIndex: 100000 entries, 0 to 99999\n",
            "Data columns (total 5 columns):\n",
            " #   Column   Non-Null Count   Dtype  \n",
            "---  ------   --------------   -----  \n",
            " 0   id       100000 non-null  object \n",
            " 1   f0       100000 non-null  float64\n",
            " 2   f1       100000 non-null  float64\n",
            " 3   f2       100000 non-null  float64\n",
            " 4   product  100000 non-null  float64\n",
            "dtypes: float64(4), object(1)\n",
            "memory usage: 3.8+ MB\n"
          ]
        },
        {
          "data": {
            "text/plain": [
              "None"
            ]
          },
          "metadata": {},
          "output_type": "display_data"
        },
        {
          "data": {
            "image/png": "[encoded data removed]",
            "text/plain": [
              "<Figure size 1080x1080 with 4 Axes>"
            ]
          },
          "metadata": {
            "needs_background": "light"
          },
          "output_type": "display_data"
        }
      ],
      "source": [
        "look(df_two)"
      ]
    },
    {
      "cell_type": "code",
      "execution_count": null,
      "metadata": {
        "colab": {
          "base_uri": "https://localhost:8080/",
          "height": 696
        },
        "id": "ocV1kwQ70Zd3",
        "outputId": "72f6e0b0-74d4-428f-ed46-b4d599454f86"
      },
      "outputs": [
        {
          "data": {
            "text/html": [
              "<div>\n",
              "<style scoped>\n",
              "    .dataframe tbody tr th:only-of-type {\n",
              "        vertical-align: middle;\n",
              "    }\n",
              "\n",
              "    .dataframe tbody tr th {\n",
              "        vertical-align: top;\n",
              "    }\n",
              "\n",
              "    .dataframe thead th {\n",
              "        text-align: right;\n",
              "    }\n",
              "</style>\n",
              "<table border=\"1\" class=\"dataframe\">\n",
              "  <thead>\n",
              "    <tr style=\"text-align: right;\">\n",
              "      <th></th>\n",
              "      <th>id</th>\n",
              "      <th>f0</th>\n",
              "      <th>f1</th>\n",
              "      <th>f2</th>\n",
              "      <th>product</th>\n",
              "    </tr>\n",
              "  </thead>\n",
              "  <tbody>\n",
              "    <tr>\n",
              "      <th>0</th>\n",
              "      <td>fwXo0</td>\n",
              "      <td>-1.146987</td>\n",
              "      <td>0.963328</td>\n",
              "      <td>-0.828965</td>\n",
              "      <td>27.758673</td>\n",
              "    </tr>\n",
              "    <tr>\n",
              "      <th>1</th>\n",
              "      <td>WJtFt</td>\n",
              "      <td>0.262778</td>\n",
              "      <td>0.269839</td>\n",
              "      <td>-2.530187</td>\n",
              "      <td>56.069697</td>\n",
              "    </tr>\n",
              "    <tr>\n",
              "      <th>2</th>\n",
              "      <td>ovLUW</td>\n",
              "      <td>0.194587</td>\n",
              "      <td>0.289035</td>\n",
              "      <td>-5.586433</td>\n",
              "      <td>62.871910</td>\n",
              "    </tr>\n",
              "    <tr>\n",
              "      <th>3</th>\n",
              "      <td>q6cA6</td>\n",
              "      <td>2.236060</td>\n",
              "      <td>-0.553760</td>\n",
              "      <td>0.930038</td>\n",
              "      <td>114.572842</td>\n",
              "    </tr>\n",
              "    <tr>\n",
              "      <th>4</th>\n",
              "      <td>WPMUX</td>\n",
              "      <td>-0.515993</td>\n",
              "      <td>1.716266</td>\n",
              "      <td>5.899011</td>\n",
              "      <td>149.600746</td>\n",
              "    </tr>\n",
              "  </tbody>\n",
              "</table>\n",
              "</div>"
            ],
            "text/plain": [
              "      id        f0        f1        f2     product\n",
              "0  fwXo0 -1.146987  0.963328 -0.828965   27.758673\n",
              "1  WJtFt  0.262778  0.269839 -2.530187   56.069697\n",
              "2  ovLUW  0.194587  0.289035 -5.586433   62.871910\n",
              "3  q6cA6  2.236060 -0.553760  0.930038  114.572842\n",
              "4  WPMUX -0.515993  1.716266  5.899011  149.600746"
            ]
          },
          "metadata": {},
          "output_type": "display_data"
        },
        {
          "name": "stdout",
          "output_type": "stream",
          "text": [
            "<class 'pandas.core.frame.DataFrame'>\n",
            "RangeIndex: 100000 entries, 0 to 99999\n",
            "Data columns (total 5 columns):\n",
            " #   Column   Non-Null Count   Dtype  \n",
            "---  ------   --------------   -----  \n",
            " 0   id       100000 non-null  object \n",
            " 1   f0       100000 non-null  float64\n",
            " 2   f1       100000 non-null  float64\n",
            " 3   f2       100000 non-null  float64\n",
            " 4   product  100000 non-null  float64\n",
            "dtypes: float64(4), object(1)\n",
            "memory usage: 3.8+ MB\n"
          ]
        },
        {
          "data": {
            "text/plain": [
              "None"
            ]
          },
          "metadata": {},
          "output_type": "display_data"
        },
        {
          "data": {
            "image/png": "[encoded data removed]",
            "text/plain": [
              "<Figure size 1080x1080 with 4 Axes>"
            ]
          },
          "metadata": {
            "needs_background": "light"
          },
          "output_type": "display_data"
        }
      ],
      "source": [
        "look(df_three)"
      ]
    },
    {
      "cell_type": "code",
      "execution_count": null,
      "metadata": {
        "id": "rZgOeKBu0ayR"
      },
      "outputs": [],
      "source": [
        "def look_deeper(df):\n",
        "    print('Количество нулей в целевом признаке:', \n",
        "          df[df['product'] == 0].shape[0], '\\n')\n",
        "    print('Количество дубликатов в столбце id:', \n",
        "          df['id'].duplicated().sum(), '\\n')\n",
        "    print('Количество полных дубликатов:', \n",
        "          df.duplicated().sum(), '\\n')\n",
        "    print('Количество уникальных значений в каждом столбце', '\\n', \n",
        "          df.nunique(), '\\n', '-'*50, sep='')\n",
        "    print('Описание значений в целевом признаке', '\\n', \n",
        "          df['product'].describe(), '\\n', '-'*50, sep='')\n",
        "    print('Корреляции', '\\n', df.corr(), '\\n', '-'*50, sep='')\n",
        "    "
      ]
    },
    {
      "cell_type": "code",
      "execution_count": null,
      "metadata": {
        "colab": {
          "base_uri": "https://localhost:8080/"
        },
        "id": "qs-2iwNF00N3",
        "outputId": "c8213636-fad8-4616-9189-412ce61c1d5e"
      },
      "outputs": [
        {
          "name": "stdout",
          "output_type": "stream",
          "text": [
            "Количество нулей в целевом признаке: 1 \n",
            "\n",
            "Количество дубликатов в столбце id: 10 \n",
            "\n",
            "Количество полных дубликатов: 0 \n",
            "\n",
            "Количество уникальных значений в каждом столбце\n",
            "id          99990\n",
            "f0         100000\n",
            "f1         100000\n",
            "f2         100000\n",
            "product    100000\n",
            "dtype: int64\n",
            "--------------------------------------------------\n",
            "Описание значений в целевом признаке\n",
            "count    100000.000000\n",
            "mean         92.500000\n",
            "std          44.288691\n",
            "min           0.000000\n",
            "25%          56.497507\n",
            "50%          91.849972\n",
            "75%         128.564089\n",
            "max         185.364347\n",
            "Name: product, dtype: float64\n",
            "--------------------------------------------------\n",
            "Корреляции\n",
            "               f0        f1        f2   product\n",
            "f0       1.000000 -0.440723 -0.003153  0.143536\n",
            "f1      -0.440723  1.000000  0.001724 -0.192356\n",
            "f2      -0.003153  0.001724  1.000000  0.483663\n",
            "product  0.143536 -0.192356  0.483663  1.000000\n",
            "--------------------------------------------------\n"
          ]
        }
      ],
      "source": [
        "look_deeper(df_one)"
      ]
    },
    {
      "cell_type": "code",
      "execution_count": null,
      "metadata": {
        "colab": {
          "base_uri": "https://localhost:8080/"
        },
        "id": "Nrdkni_t077d",
        "outputId": "627457bf-6bd4-4929-ce75-50dbc04529e0"
      },
      "outputs": [
        {
          "name": "stdout",
          "output_type": "stream",
          "text": [
            "Количество нулей в целевом признаке: 8235 \n",
            "\n",
            "Количество дубликатов в столбце id: 4 \n",
            "\n",
            "Количество полных дубликатов: 0 \n",
            "\n",
            "Количество уникальных значений в каждом столбце\n",
            "id          99996\n",
            "f0         100000\n",
            "f1         100000\n",
            "f2         100000\n",
            "product        12\n",
            "dtype: int64\n",
            "--------------------------------------------------\n",
            "Описание значений в целевом признаке\n",
            "count    100000.000000\n",
            "mean         68.825000\n",
            "std          45.944423\n",
            "min           0.000000\n",
            "25%          26.953261\n",
            "50%          57.085625\n",
            "75%         107.813044\n",
            "max         137.945408\n",
            "Name: product, dtype: float64\n",
            "--------------------------------------------------\n",
            "Корреляции\n",
            "               f0        f1        f2   product\n",
            "f0       1.000000  0.182287 -0.001777 -0.030491\n",
            "f1       0.182287  1.000000 -0.002595 -0.010155\n",
            "f2      -0.001777 -0.002595  1.000000  0.999397\n",
            "product -0.030491 -0.010155  0.999397  1.000000\n",
            "--------------------------------------------------\n"
          ]
        }
      ],
      "source": [
        "look_deeper(df_two)"
      ]
    },
    {
      "cell_type": "code",
      "execution_count": null,
      "metadata": {
        "colab": {
          "base_uri": "https://localhost:8080/"
        },
        "id": "Aj3S_tSh0-TK",
        "outputId": "02937098-472c-46a5-dce4-e19b2d6a3033"
      },
      "outputs": [
        {
          "name": "stdout",
          "output_type": "stream",
          "text": [
            "Количество нулей в целевом признаке: 1 \n",
            "\n",
            "Количество дубликатов в столбце id: 4 \n",
            "\n",
            "Количество полных дубликатов: 0 \n",
            "\n",
            "Количество уникальных значений в каждом столбце\n",
            "id          99996\n",
            "f0         100000\n",
            "f1         100000\n",
            "f2         100000\n",
            "product    100000\n",
            "dtype: int64\n",
            "--------------------------------------------------\n",
            "Описание значений в целевом признаке\n",
            "count    100000.000000\n",
            "mean         95.000000\n",
            "std          44.749921\n",
            "min           0.000000\n",
            "25%          59.450441\n",
            "50%          94.925613\n",
            "75%         130.595027\n",
            "max         190.029838\n",
            "Name: product, dtype: float64\n",
            "--------------------------------------------------\n",
            "Корреляции\n",
            "               f0        f1        f2   product\n",
            "f0       1.000000  0.000528 -0.000448 -0.001987\n",
            "f1       0.000528  1.000000  0.000779 -0.001012\n",
            "f2      -0.000448  0.000779  1.000000  0.445871\n",
            "product -0.001987 -0.001012  0.445871  1.000000\n",
            "--------------------------------------------------\n"
          ]
        }
      ],
      "source": [
        "look_deeper(df_three)"
      ]
    },
    {
      "cell_type": "markdown",
      "metadata": {
        "id": "bQZy22s41L34"
      },
      "source": [
        "\n",
        "Названия столбцов в норме.  \n",
        "\n",
        "Пропусков нет.  \n",
        "\n",
        "Типы данных в норме.  \n",
        "\n",
        "Распределения данных нормальны, кроме 2го региона: количество уникальных значений в целевом признаке всего 12, количество нулей в целевом признаке 8235. Вероятно это оказало влияние на распределение, также видно что и максимальных значений примерно столько же сколько и минимальных. Хоть все данные синтетические, этот набор данных вероятно самый искусственный(предположительно было отступление от правил создания или законов распределения), потому что не подчиняется закону больших чисел.  \n",
        "\n",
        "Присутствует малое количество дубликатов в столбце id. Но при этом отсутствуют полные дубликаты. Вероятно данные некоторых скважин пересчитывались. Из-за малого количества не будет иметь значения удаление или игнорирование.  \n",
        "\n",
        "Значения целевых признаков 1го и 3го регионов похожи, 2го региона значительно меньше.  \n",
        "\n",
        "В 3м регионе корреляции слабы, только у целевого признака и f2 присутствует положительная слабая корреляция.  \n",
        "\n",
        "Во 2м регионе корреляции уже заметнее. f1 и f0 имеют слабую отрицательную корреляцию. Целевой признак очень слабо коррелирует с f0 и f1 в положительную и отрицательную стороны соответственно и имеет слабую положительную корреляцию с f2.  \n",
        "\n",
        "Целевой признак 3го региона имеет предельно высокую положительную корреляцию с f2 - 0.999, что вероятно окажет влияние на точность модели.\n"
      ]
    },
    {
      "cell_type": "markdown",
      "metadata": {
        "id": "bNBxMKgqywUF"
      },
      "source": [
        "## Обучение и проверка модели"
      ]
    },
    {
      "cell_type": "code",
      "execution_count": null,
      "metadata": {
        "id": "LDdnN6D3ywUG"
      },
      "outputs": [],
      "source": [
        "features_one = df_one.drop(['product', 'id'], axis=1)\n",
        "target_one = df_one['product']\n",
        "features_two = df_two.drop(['product', 'id'], axis=1)\n",
        "target_two = df_two['product']\n",
        "features_three =df_three.drop(['product', 'id'], axis=1)\n",
        "target_three = df_three['product']"
      ]
    },
    {
      "cell_type": "code",
      "execution_count": null,
      "metadata": {
        "colab": {
          "base_uri": "https://localhost:8080/"
        },
        "id": "2nEGeRC8ywUG",
        "outputId": "3d090003-7c41-41fd-d241-ad8986604d14"
      },
      "outputs": [
        {
          "name": "stdout",
          "output_type": "stream",
          "text": [
            " Обучающая выборка: (75000, 3) (75000,) \n",
            " Валидационная выборка: (25000, 3) (25000,) \n",
            "\n"
          ]
        }
      ],
      "source": [
        "features_one_train, features_one_valid, target_one_train, target_one_valid = train_test_split(\n",
        "    features_one, target_one, random_state=12345, test_size=0.25)\n",
        "print(' Обучающая выборка:', features_one_train.shape, \n",
        "      target_one_train.shape,'\\n',\n",
        "        'Валидационная выборка:', features_one_valid.shape, \n",
        "      target_one_valid.shape,'\\n',)"
      ]
    },
    {
      "cell_type": "code",
      "execution_count": null,
      "metadata": {
        "colab": {
          "base_uri": "https://localhost:8080/"
        },
        "id": "1oFUtsEe9WzQ",
        "outputId": "6673b157-006a-4156-9ca3-1b758bd4e765"
      },
      "outputs": [
        {
          "name": "stdout",
          "output_type": "stream",
          "text": [
            " Обучающая выборка: (75000, 3) (75000,) \n",
            " Валидационная выборка: (25000, 3) (25000,) \n",
            "\n"
          ]
        }
      ],
      "source": [
        "features_two_train, features_two_valid, target_two_train, target_two_valid = train_test_split(\n",
        "    features_two, target_two, random_state=12345, test_size=0.25)\n",
        "print(' Обучающая выборка:', features_two_train.shape, \n",
        "      target_two_train.shape,'\\n',\n",
        "        'Валидационная выборка:', features_two_valid.shape, \n",
        "      target_two_valid.shape,'\\n',)"
      ]
    },
    {
      "cell_type": "code",
      "execution_count": null,
      "metadata": {
        "colab": {
          "base_uri": "https://localhost:8080/"
        },
        "id": "RGhD53_c9WwP",
        "outputId": "4f663cfc-1aa7-4a08-e946-d535c59e2b55"
      },
      "outputs": [
        {
          "name": "stdout",
          "output_type": "stream",
          "text": [
            " Обучающая выборка: (75000, 3) (75000,) \n",
            " Валидационная выборка: (25000, 3) (25000,) \n",
            "\n"
          ]
        }
      ],
      "source": [
        "features_three_train, features_three_valid, target_three_train, target_three_valid = train_test_split(\n",
        "    features_three, target_three, random_state=12345, test_size=0.25)\n",
        "print(' Обучающая выборка:', features_three_train.shape, \n",
        "      target_three_train.shape,'\\n',\n",
        "        'Валидационная выборка:', features_three_valid.shape, \n",
        "      target_three_valid.shape,'\\n',)"
      ]
    },
    {
      "cell_type": "code",
      "execution_count": null,
      "metadata": {
        "id": "BLwycxG4CyER"
      },
      "outputs": [],
      "source": [
        "def linear(features_train, target_train, features_valid, target_valid):\n",
        "    model = LinearRegression()\n",
        "    model.fit(features_train, target_train)\n",
        "    predicted_valid = model.predict(features_valid)\n",
        "    mse = mean_squared_error(target_valid, predicted_valid)\n",
        "    data = {'real' : target_valid,\n",
        "            'predicted' : predicted_valid}\n",
        "    result = pd.DataFrame(data, columns=['real', 'predicted'])\n",
        "    print(' Общий запас предсказанного сырья:', predicted_valid.sum(),\n",
        "          '\\n' ,'Средний запас предсказанного сырья =', predicted_valid.mean(), \n",
        "          '\\n' ,\"RMSE =\", mse ** 0.5)\n",
        "    return result"
      ]
    },
    {
      "cell_type": "code",
      "execution_count": null,
      "metadata": {
        "colab": {
          "base_uri": "https://localhost:8080/"
        },
        "id": "utxCSteL-MZY",
        "outputId": "38a26f07-1fbb-4acc-98a9-4d3a98f1a772"
      },
      "outputs": [
        {
          "name": "stdout",
          "output_type": "stream",
          "text": [
            " Общий запас предсказанного сырья: 2314814.194609509 \n",
            " Средний запас предсказанного сырья = 92.59256778438035 \n",
            " RMSE = 37.5794217150813\n"
          ]
        }
      ],
      "source": [
        "result_one = linear(features_one_train, target_one_train, features_one_valid, target_one_valid)\n"
      ]
    },
    {
      "cell_type": "code",
      "execution_count": null,
      "metadata": {
        "colab": {
          "base_uri": "https://localhost:8080/"
        },
        "id": "7pRWop54-MVN",
        "outputId": "a9401f8f-1134-4161-cfde-be04fdd93c70"
      },
      "outputs": [
        {
          "name": "stdout",
          "output_type": "stream",
          "text": [
            " Общий запас предсказанного сырья: 1718213.67238615 \n",
            " Средний запас предсказанного сырья = 68.728546895446 \n",
            " RMSE = 0.893099286775617\n"
          ]
        }
      ],
      "source": [
        "result_two = linear(features_two_train, target_two_train, features_two_valid, target_two_valid)"
      ]
    },
    {
      "cell_type": "code",
      "execution_count": null,
      "metadata": {
        "colab": {
          "base_uri": "https://localhost:8080/"
        },
        "id": "vCXA9bW5-MP8",
        "outputId": "08164c01-2280-4d84-df59-4e294de5ea89"
      },
      "outputs": [
        {
          "name": "stdout",
          "output_type": "stream",
          "text": [
            " Общий запас предсказанного сырья: 2374126.1492001223 \n",
            " Средний запас предсказанного сырья = 94.96504596800489 \n",
            " RMSE = 40.02970873393434\n"
          ]
        }
      ],
      "source": [
        "result_three = linear(features_three_train, target_three_train, features_three_valid, target_three_valid)"
      ]
    },
    {
      "cell_type": "markdown",
      "metadata": {
        "id": "A0Xtr_MjEFXa"
      },
      "source": [
        "Как и ожидалось квадратный корень из средней квадратичной ошибки (что показывает отклонение от правильного ответа) во 2м регионе оказался наименьшим. Я предполагаю, что это следствие высокой корреляции.  \n",
        "Все средние запасы сырья совпадают с реальными данными.   \n",
        "Столбец id был удален за ненадобностью.  \n",
        "В переменную result были сохранены реальные и предсказанные значения целевого признака для дальнейшей работы с ними.\n"
      ]
    },
    {
      "cell_type": "markdown",
      "metadata": {
        "id": "DQyNJGDtywUG"
      },
      "source": [
        "## Подготовка к расчёту прибыли"
      ]
    },
    {
      "cell_type": "code",
      "execution_count": null,
      "metadata": {
        "colab": {
          "base_uri": "https://localhost:8080/"
        },
        "id": "dBgQw4YJ9WnO",
        "outputId": "ba2088fd-274d-4481-dd67-f6b8882bd920"
      },
      "outputs": [
        {
          "name": "stdout",
          "output_type": "stream",
          "text": [
            " Минимальные значения для безубыточной добычи: \n",
            " Количество баррелей на регион: 22222.222222222223 \n",
            " Количество баррелей на точку добычи: 111.11111111111111 \n",
            " Прибыль с одной точки: 50000000.0\n"
          ]
        }
      ],
      "source": [
        "budget = 10**10\n",
        "income = 450000\n",
        "all_points = 500\n",
        "best_points = 200\n",
        "alpha = 0.025\n",
        "bars_per_region = budget/income\n",
        "bars_per_point = bars_per_region/best_points\n",
        "income_per_point = budget/best_points\n",
        "print(' Минимальные значения для безубыточной добычи:', '\\n', \n",
        "      'Количество баррелей на регион:', bars_per_region,'\\n',\n",
        "      \"Количество баррелей на точку добычи:\", bars_per_point, '\\n',\n",
        "      \"Прибыль с одной точки:\", income_per_point)"
      ]
    },
    {
      "cell_type": "markdown",
      "metadata": {
        "id": "2M1hi-AHOhtq"
      },
      "source": [
        "Что бы окупить вложения и не понести убытков в разрабатываемом регионе должен быть запас сырья минимум в 22223 тыс. баррелей. Таким образом на одну точку добычи приходится 112 тыс. баррелей, что будет окупать примерно 50 000 000 руб. вложений. Для получения прибыли количество добываемого сырья нужно увеличить."
      ]
    },
    {
      "cell_type": "markdown",
      "metadata": {
        "id": "Xk5IVKpYywUG"
      },
      "source": [
        "## Расчёт прибыли и рисков "
      ]
    },
    {
      "cell_type": "code",
      "execution_count": null,
      "metadata": {
        "id": "c7gKjjQsywUH"
      },
      "outputs": [],
      "source": [
        "def profit_calculator(subsample, count):    \n",
        "    subsample_sorted = subsample.sort_values(by='predicted', ascending=False)\n",
        "    selected = subsample_sorted['real'][:count]\n",
        "    # КОД РЕВЬЮЕРА\n",
        "    if sorted(subsample_sorted['predicted'].index[:count]) != sorted(selected.index):\n",
        "        print(\"INDEX ERROR\")\n",
        "    return income * selected.sum() - budget"
      ]
    },
    {
      "cell_type": "code",
      "execution_count": null,
      "metadata": {
        "colab": {
          "base_uri": "https://localhost:8080/"
        },
        "id": "FkklDT-qHSj0",
        "outputId": "14391af6-755c-4262-c191-4a794e73f493"
      },
      "outputs": [
        {
          "name": "stdout",
          "output_type": "stream",
          "text": [
            "3320826043.1398506\n"
          ]
        }
      ],
      "source": [
        "print(profit_calculator(result_one, best_points))"
      ]
    },
    {
      "cell_type": "code",
      "execution_count": null,
      "metadata": {
        "colab": {
          "base_uri": "https://localhost:8080/"
        },
        "id": "JIN5GzscHSSt",
        "outputId": "7f0d467c-75f0-479f-ff4f-10f295815fde"
      },
      "outputs": [
        {
          "name": "stdout",
          "output_type": "stream",
          "text": [
            "2415086696.681511\n"
          ]
        }
      ],
      "source": [
        "print(profit_calculator(result_two, best_points))"
      ]
    },
    {
      "cell_type": "code",
      "execution_count": null,
      "metadata": {
        "colab": {
          "base_uri": "https://localhost:8080/"
        },
        "id": "c0OKsjWEJd_c",
        "outputId": "5c851701-e345-4f01-ceee-fdf7bacb20c8"
      },
      "outputs": [
        {
          "name": "stdout",
          "output_type": "stream",
          "text": [
            "2710349963.5998325\n"
          ]
        }
      ],
      "source": [
        "print(profit_calculator(result_three, best_points))"
      ]
    },
    {
      "cell_type": "markdown",
      "metadata": {
        "id": "1Xm0yvKkRrQT"
      },
      "source": [
        "Предполагаемая прибыль по регионам\n",
        "\n",
        "|Регион|Прибыль, млрд.|\n",
        "|:-|:-|\n",
        "|1|3.32|\n",
        "|2|2.42|\n",
        "|3|2.71|"
      ]
    },
    {
      "cell_type": "code",
      "execution_count": null,
      "metadata": {
        "id": "akzf_Ce8KRPQ"
      },
      "outputs": [],
      "source": [
        "state = np.random.RandomState(12345)\n",
        "values = []\n",
        "def bootstrap(data):\n",
        "    values = []\n",
        "    loss = 0\n",
        "    for i in range(1000):\n",
        "        subsample = data.sample(\n",
        "            all_points, replace=True, random_state=state)\n",
        "        profit = profit_calculator(subsample, best_points)\n",
        "        values.append(profit)\n",
        "        if profit < 0:\n",
        "            loss+=1\n",
        "    print('Средняя прибыль:', pd.Series(values).mean())\n",
        "    print('Нижний порог доверительного интервала:', \n",
        "          pd.Series(values).quantile(0+alpha))\n",
        "    print('Верхний порог доверительного интервала:', \n",
        "          pd.Series(values).quantile(1-alpha))\n",
        "    print('Риск убытков:', loss/len(values))"
      ]
    },
    {
      "cell_type": "code",
      "execution_count": null,
      "metadata": {
        "colab": {
          "base_uri": "https://localhost:8080/"
        },
        "id": "iu2GwY2nKRMe",
        "outputId": "61366663-9b14-4b0a-eed7-5e35559c7e94",
        "scrolled": true
      },
      "outputs": [
        {
          "name": "stdout",
          "output_type": "stream",
          "text": [
            "Средняя прибыль: 396164984.8023711\n",
            "Нижний порог доверительного интервала: -111215545.89049526\n",
            "Верхний порог доверительного интервала: 909766941.5534226\n",
            "Риск убытков: 0.069\n"
          ]
        }
      ],
      "source": [
        "bootstrap(result_one)"
      ]
    },
    {
      "cell_type": "code",
      "execution_count": null,
      "metadata": {
        "colab": {
          "base_uri": "https://localhost:8080/"
        },
        "id": "R7k1616KKRJ5",
        "outputId": "325db4c4-aa6e-47ee-c114-255711464a9b"
      },
      "outputs": [
        {
          "name": "stdout",
          "output_type": "stream",
          "text": [
            "Средняя прибыль: 461155817.2772397\n",
            "Нижний порог доверительного интервала: 78050810.7517417\n",
            "Верхний порог доверительного интервала: 862952060.2637234\n",
            "Риск убытков: 0.007\n"
          ]
        }
      ],
      "source": [
        "bootstrap(result_two)"
      ]
    },
    {
      "cell_type": "code",
      "execution_count": null,
      "metadata": {
        "colab": {
          "base_uri": "https://localhost:8080/"
        },
        "id": "sB_jDUw0KRHQ",
        "outputId": "9a1e018d-a1e3-4801-9f74-6cbc017065f1"
      },
      "outputs": [
        {
          "name": "stdout",
          "output_type": "stream",
          "text": [
            "Средняя прибыль: 392950475.17060447\n",
            "Нижний порог доверительного интервала: -112227625.37857565\n",
            "Верхний порог доверительного интервала: 934562914.5511636\n",
            "Риск убытков: 0.065\n"
          ]
        }
      ],
      "source": [
        "bootstrap(result_three)"
      ]
    },
    {
      "cell_type": "markdown",
      "metadata": {
        "id": "vmAmeN53OMxb"
      },
      "source": [
        "Проведенное иследование показало что наиболее перспективным является 2й регион, средняя прибыль является наибольшей при наименьших рисках. Очевидно это является следствием того что в этом регионе находится наибольшее количество точек добычи с высоким уровнем запаса сырья как показала гистограмма. Соответственно их ресурса хватит на большее количество времени и они принесут больше прибыли. Модель логистической регрессии показала что в этом регионе можно вести более точные расчеты, что опять же снижает уровень  рисков. Таким образом рекомендую к рассмотрению 2й регион как цель для разработки."
      ]
    },
    {
      "cell_type": "markdown",
      "metadata": {
        "id": "T8w0jmh8ywUH"
      },
      "source": [
        "## Чек-лист готовности проекта"
      ]
    },
    {
      "cell_type": "markdown",
      "metadata": {
        "id": "1vcidHIAywUH"
      },
      "source": [
        "Поставьте 'x' в выполненных пунктах. Далее нажмите Shift+Enter."
      ]
    },
    {
      "cell_type": "markdown",
      "metadata": {
        "id": "k7YZoy6gywUH"
      },
      "source": [
        "- [x]  Jupyter Notebook открыт\n",
        "- [x]  Весь код выполняется без ошибок\n",
        "- [x]  Ячейки с кодом расположены в порядке исполнения\n",
        "- [x]  Выполнен шаг 1: данные подготовлены\n",
        "- [x]  Выполнен шаг 2: модели обучены и проверены\n",
        "    - [x]  Данные корректно разбиты на обучающую и валидационную выборки\n",
        "    - [x]  Модели обучены, предсказания сделаны\n",
        "    - [x]  Предсказания и правильные ответы на валидационной выборке сохранены\n",
        "    - [x]  На экране напечатаны результаты\n",
        "    - [x]  Сделаны выводы\n",
        "- [x]  Выполнен шаг 3: проведена подготовка к расчёту прибыли\n",
        "    - [x]  Для всех ключевых значений созданы константы Python\n",
        "    - [x]  Посчитано минимальное среднее количество продукта в месторождениях региона, достаточное для разработки\n",
        "    - [x]  По предыдущему пункту сделаны выводы\n",
        "    - [x]  Написана функция расчёта прибыли\n",
        "- [x]  Выполнен шаг 4: посчитаны риски и прибыль\n",
        "    - [x]  Проведена процедура *Bootstrap*\n",
        "    - [x]  Все параметры бутстрепа соответствуют условию\n",
        "    - [x]  Найдены все нужные величины\n",
        "    - [x]  Предложен регион для разработки месторождения\n",
        "    - [x]  Выбор региона обоснован"
      ]
    }
  ],
  "metadata": {
    "ExecuteTimeLog": [
      {
        "duration": 8,
        "start_time": "2023-01-17T20:53:18.021Z"
      },
      {
        "duration": 1097,
        "start_time": "2023-01-17T20:53:18.030Z"
      },
      {
        "duration": 1067,
        "start_time": "2023-01-17T20:53:19.129Z"
      },
      {
        "duration": 3,
        "start_time": "2023-01-17T20:53:20.198Z"
      },
      {
        "duration": 556,
        "start_time": "2023-01-17T20:53:20.204Z"
      },
      {
        "duration": 331,
        "start_time": "2023-01-17T20:53:20.762Z"
      },
      {
        "duration": 328,
        "start_time": "2023-01-17T20:53:21.095Z"
      },
      {
        "duration": 4,
        "start_time": "2023-01-17T20:53:21.425Z"
      },
      {
        "duration": 229,
        "start_time": "2023-01-17T20:53:21.430Z"
      },
      {
        "duration": 112,
        "start_time": "2023-01-17T20:53:21.661Z"
      },
      {
        "duration": 109,
        "start_time": "2023-01-17T20:53:21.774Z"
      },
      {
        "duration": 6,
        "start_time": "2023-01-17T20:53:21.884Z"
      },
      {
        "duration": 13,
        "start_time": "2023-01-17T20:53:21.893Z"
      },
      {
        "duration": 13,
        "start_time": "2023-01-17T20:53:21.907Z"
      },
      {
        "duration": 33,
        "start_time": "2023-01-17T20:53:21.921Z"
      },
      {
        "duration": 4,
        "start_time": "2023-01-17T20:53:21.956Z"
      },
      {
        "duration": 82,
        "start_time": "2023-01-17T20:53:21.962Z"
      },
      {
        "duration": 104,
        "start_time": "2023-01-17T20:53:22.046Z"
      },
      {
        "duration": 201,
        "start_time": "2023-01-17T20:53:22.152Z"
      },
      {
        "duration": 5,
        "start_time": "2023-01-17T20:53:22.445Z"
      },
      {
        "duration": 7,
        "start_time": "2023-01-17T20:53:22.451Z"
      },
      {
        "duration": 34,
        "start_time": "2023-01-17T20:53:22.460Z"
      },
      {
        "duration": 11,
        "start_time": "2023-01-17T20:53:22.496Z"
      },
      {
        "duration": 8,
        "start_time": "2023-01-17T20:53:22.509Z"
      },
      {
        "duration": 29,
        "start_time": "2023-01-17T20:53:22.518Z"
      },
      {
        "duration": 1316,
        "start_time": "2023-01-17T20:53:22.548Z"
      },
      {
        "duration": 1312,
        "start_time": "2023-01-17T20:53:23.865Z"
      },
      {
        "duration": 1247,
        "start_time": "2023-01-17T20:53:25.178Z"
      },
      {
        "duration": 8,
        "start_time": "2023-01-17T21:13:00.066Z"
      },
      {
        "duration": 1080,
        "start_time": "2023-01-17T21:13:00.076Z"
      },
      {
        "duration": 833,
        "start_time": "2023-01-17T21:13:01.158Z"
      },
      {
        "duration": 3,
        "start_time": "2023-01-17T21:13:01.992Z"
      },
      {
        "duration": 597,
        "start_time": "2023-01-17T21:13:01.997Z"
      },
      {
        "duration": 334,
        "start_time": "2023-01-17T21:13:02.596Z"
      },
      {
        "duration": 327,
        "start_time": "2023-01-17T21:13:02.932Z"
      },
      {
        "duration": 4,
        "start_time": "2023-01-17T21:13:03.261Z"
      },
      {
        "duration": 186,
        "start_time": "2023-01-17T21:13:03.267Z"
      },
      {
        "duration": 103,
        "start_time": "2023-01-17T21:13:03.455Z"
      },
      {
        "duration": 102,
        "start_time": "2023-01-17T21:13:03.561Z"
      },
      {
        "duration": 8,
        "start_time": "2023-01-17T21:13:03.664Z"
      },
      {
        "duration": 19,
        "start_time": "2023-01-17T21:13:03.673Z"
      },
      {
        "duration": 14,
        "start_time": "2023-01-17T21:13:03.694Z"
      },
      {
        "duration": 40,
        "start_time": "2023-01-17T21:13:03.709Z"
      },
      {
        "duration": 5,
        "start_time": "2023-01-17T21:13:03.750Z"
      },
      {
        "duration": 90,
        "start_time": "2023-01-17T21:13:03.756Z"
      },
      {
        "duration": 114,
        "start_time": "2023-01-17T21:13:03.848Z"
      },
      {
        "duration": 280,
        "start_time": "2023-01-17T21:13:03.964Z"
      },
      {
        "duration": 10,
        "start_time": "2023-01-17T21:13:04.247Z"
      },
      {
        "duration": 15,
        "start_time": "2023-01-17T21:13:04.343Z"
      },
      {
        "duration": 23,
        "start_time": "2023-01-17T21:13:04.360Z"
      },
      {
        "duration": 17,
        "start_time": "2023-01-17T21:13:04.384Z"
      },
      {
        "duration": 7,
        "start_time": "2023-01-17T21:13:04.403Z"
      },
      {
        "duration": 16,
        "start_time": "2023-01-17T21:13:04.411Z"
      },
      {
        "duration": 1842,
        "start_time": "2023-01-17T21:13:04.429Z"
      },
      {
        "duration": 1749,
        "start_time": "2023-01-17T21:13:06.272Z"
      },
      {
        "duration": 1806,
        "start_time": "2023-01-17T21:13:08.022Z"
      },
      {
        "duration": 10,
        "start_time": "2023-01-18T10:25:25.406Z"
      },
      {
        "duration": 1168,
        "start_time": "2023-01-18T10:25:27.641Z"
      },
      {
        "duration": 1014,
        "start_time": "2023-01-18T10:25:28.811Z"
      },
      {
        "duration": 3,
        "start_time": "2023-01-18T10:25:53.465Z"
      },
      {
        "duration": 903,
        "start_time": "2023-01-18T10:25:54.131Z"
      },
      {
        "duration": 3,
        "start_time": "2023-01-18T10:26:01.813Z"
      },
      {
        "duration": 684,
        "start_time": "2023-01-18T10:26:02.212Z"
      },
      {
        "duration": 51,
        "start_time": "2023-01-18T10:26:29.949Z"
      },
      {
        "duration": 563,
        "start_time": "2023-01-18T10:27:18.265Z"
      },
      {
        "duration": 611,
        "start_time": "2023-01-18T10:27:21.167Z"
      },
      {
        "duration": 5,
        "start_time": "2023-01-18T10:27:28.389Z"
      },
      {
        "duration": 135,
        "start_time": "2023-01-18T10:27:29.418Z"
      },
      {
        "duration": 4,
        "start_time": "2023-01-18T13:57:10.594Z"
      },
      {
        "duration": 22,
        "start_time": "2023-01-18T13:57:10.601Z"
      },
      {
        "duration": 1079,
        "start_time": "2023-01-18T13:57:10.626Z"
      },
      {
        "duration": 5,
        "start_time": "2023-01-18T13:57:11.707Z"
      },
      {
        "duration": 624,
        "start_time": "2023-01-18T13:57:11.714Z"
      },
      {
        "duration": 800,
        "start_time": "2023-01-18T13:57:12.339Z"
      },
      {
        "duration": 662,
        "start_time": "2023-01-18T13:57:13.141Z"
      },
      {
        "duration": 5,
        "start_time": "2023-01-18T13:57:13.805Z"
      },
      {
        "duration": 142,
        "start_time": "2023-01-18T13:57:13.812Z"
      },
      {
        "duration": 140,
        "start_time": "2023-01-18T13:57:13.957Z"
      },
      {
        "duration": 173,
        "start_time": "2023-01-18T13:57:14.100Z"
      },
      {
        "duration": 8,
        "start_time": "2023-01-18T13:57:14.275Z"
      },
      {
        "duration": 26,
        "start_time": "2023-01-18T13:57:14.284Z"
      },
      {
        "duration": 40,
        "start_time": "2023-01-18T13:57:14.314Z"
      },
      {
        "duration": 22,
        "start_time": "2023-01-18T13:57:14.357Z"
      },
      {
        "duration": 16,
        "start_time": "2023-01-18T13:57:14.381Z"
      },
      {
        "duration": 150,
        "start_time": "2023-01-18T13:57:14.399Z"
      },
      {
        "duration": 106,
        "start_time": "2023-01-18T13:57:14.552Z"
      },
      {
        "duration": 112,
        "start_time": "2023-01-18T13:57:14.742Z"
      },
      {
        "duration": 192,
        "start_time": "2023-01-18T13:57:14.856Z"
      },
      {
        "duration": 4,
        "start_time": "2023-01-18T13:57:23.277Z"
      },
      {
        "duration": 6,
        "start_time": "2023-01-18T13:58:11.591Z"
      },
      {
        "duration": 5,
        "start_time": "2023-01-18T13:58:13.773Z"
      },
      {
        "duration": 12,
        "start_time": "2023-01-18T13:58:21.368Z"
      },
      {
        "duration": 9,
        "start_time": "2023-01-18T13:58:22.192Z"
      },
      {
        "duration": 13,
        "start_time": "2023-01-18T13:58:22.622Z"
      },
      {
        "duration": 11,
        "start_time": "2023-01-18T14:07:46.016Z"
      },
      {
        "duration": 10,
        "start_time": "2023-01-18T14:08:37.620Z"
      },
      {
        "duration": 949,
        "start_time": "2023-01-18T14:08:51.035Z"
      },
      {
        "duration": 6,
        "start_time": "2023-01-18T14:08:56.908Z"
      },
      {
        "duration": 6,
        "start_time": "2023-01-18T14:10:10.245Z"
      },
      {
        "duration": 8,
        "start_time": "2023-01-18T14:10:26.479Z"
      },
      {
        "duration": 12,
        "start_time": "2023-01-18T14:12:42.777Z"
      },
      {
        "duration": 10,
        "start_time": "2023-01-18T14:14:11.911Z"
      },
      {
        "duration": 8,
        "start_time": "2023-01-18T14:14:15.090Z"
      },
      {
        "duration": 5,
        "start_time": "2023-01-18T14:14:16.414Z"
      },
      {
        "duration": 14,
        "start_time": "2023-01-18T14:18:32.542Z"
      },
      {
        "duration": 9,
        "start_time": "2023-01-18T14:18:33.354Z"
      },
      {
        "duration": 9,
        "start_time": "2023-01-18T14:18:33.748Z"
      },
      {
        "duration": 7,
        "start_time": "2023-01-18T14:18:37.822Z"
      },
      {
        "duration": 10,
        "start_time": "2023-01-18T14:18:41.047Z"
      },
      {
        "duration": 10,
        "start_time": "2023-01-18T14:18:45.479Z"
      },
      {
        "duration": 1195,
        "start_time": "2023-01-18T14:18:57.911Z"
      },
      {
        "duration": 6,
        "start_time": "2023-01-18T14:19:35.980Z"
      },
      {
        "duration": 29,
        "start_time": "2023-01-18T14:19:38.256Z"
      },
      {
        "duration": 8,
        "start_time": "2023-01-18T14:40:40.784Z"
      },
      {
        "duration": 6,
        "start_time": "2023-01-18T14:40:51.596Z"
      },
      {
        "duration": 7,
        "start_time": "2023-01-18T14:41:21.084Z"
      },
      {
        "duration": 9,
        "start_time": "2023-01-18T14:42:18.982Z"
      },
      {
        "duration": 7,
        "start_time": "2023-01-18T14:42:23.836Z"
      },
      {
        "duration": 6,
        "start_time": "2023-01-18T14:43:27.333Z"
      },
      {
        "duration": 26,
        "start_time": "2023-01-18T14:43:34.535Z"
      },
      {
        "duration": 4,
        "start_time": "2023-01-18T14:45:51.070Z"
      },
      {
        "duration": 4,
        "start_time": "2023-01-18T14:46:11.362Z"
      },
      {
        "duration": 6,
        "start_time": "2023-01-18T14:46:32.012Z"
      },
      {
        "duration": 2048,
        "start_time": "2023-01-18T14:46:35.707Z"
      },
      {
        "duration": 10,
        "start_time": "2023-01-18T14:48:39.121Z"
      },
      {
        "duration": 10,
        "start_time": "2023-01-18T14:48:43.554Z"
      },
      {
        "duration": 13,
        "start_time": "2023-01-18T14:48:54.613Z"
      },
      {
        "duration": 6,
        "start_time": "2023-01-18T14:49:08.080Z"
      },
      {
        "duration": 9,
        "start_time": "2023-01-18T14:49:10.626Z"
      },
      {
        "duration": 7,
        "start_time": "2023-01-18T14:49:11.853Z"
      },
      {
        "duration": 6,
        "start_time": "2023-01-18T14:49:19.124Z"
      },
      {
        "duration": 6,
        "start_time": "2023-01-18T14:49:44.887Z"
      },
      {
        "duration": 11,
        "start_time": "2023-01-18T14:49:55.609Z"
      },
      {
        "duration": 7,
        "start_time": "2023-01-18T14:50:48.570Z"
      },
      {
        "duration": 5,
        "start_time": "2023-01-18T14:51:22.389Z"
      },
      {
        "duration": 5,
        "start_time": "2023-01-18T14:51:28.100Z"
      },
      {
        "duration": 1968,
        "start_time": "2023-01-18T14:51:34.371Z"
      },
      {
        "duration": 4,
        "start_time": "2023-01-18T14:52:51.318Z"
      },
      {
        "duration": 4,
        "start_time": "2023-01-18T14:53:14.624Z"
      },
      {
        "duration": 6,
        "start_time": "2023-01-18T14:55:20.018Z"
      },
      {
        "duration": 3,
        "start_time": "2023-01-18T14:55:24.371Z"
      },
      {
        "duration": 2070,
        "start_time": "2023-01-18T14:55:29.678Z"
      },
      {
        "duration": 6,
        "start_time": "2023-01-18T14:57:14.607Z"
      },
      {
        "duration": 12,
        "start_time": "2023-01-18T14:57:16.514Z"
      },
      {
        "duration": 4,
        "start_time": "2023-01-18T14:58:09.911Z"
      },
      {
        "duration": 18,
        "start_time": "2023-01-18T14:58:15.370Z"
      },
      {
        "duration": 4,
        "start_time": "2023-01-18T14:59:19.299Z"
      },
      {
        "duration": 2147,
        "start_time": "2023-01-18T14:59:25.001Z"
      },
      {
        "duration": 5,
        "start_time": "2023-01-18T15:00:45.496Z"
      },
      {
        "duration": 6,
        "start_time": "2023-01-18T15:00:50.370Z"
      },
      {
        "duration": 2104,
        "start_time": "2023-01-18T15:00:52.504Z"
      },
      {
        "duration": 13,
        "start_time": "2023-01-18T15:06:30.920Z"
      },
      {
        "duration": 18,
        "start_time": "2023-01-18T15:06:37.470Z"
      },
      {
        "duration": 4,
        "start_time": "2023-01-18T15:07:21.833Z"
      },
      {
        "duration": 6,
        "start_time": "2023-01-18T15:07:47.776Z"
      },
      {
        "duration": 9,
        "start_time": "2023-01-18T15:07:48.770Z"
      },
      {
        "duration": 11,
        "start_time": "2023-01-18T15:07:49.912Z"
      },
      {
        "duration": 6,
        "start_time": "2023-01-18T15:07:50.892Z"
      },
      {
        "duration": 1512,
        "start_time": "2023-01-18T15:08:07.198Z"
      },
      {
        "duration": 9,
        "start_time": "2023-01-18T15:08:11.191Z"
      },
      {
        "duration": 1462,
        "start_time": "2023-01-18T15:08:23.445Z"
      },
      {
        "duration": 1467,
        "start_time": "2023-01-18T15:08:24.910Z"
      },
      {
        "duration": 4,
        "start_time": "2023-01-18T15:10:18.982Z"
      },
      {
        "duration": 7,
        "start_time": "2023-01-18T15:10:26.940Z"
      },
      {
        "duration": 1979,
        "start_time": "2023-01-18T15:10:34.438Z"
      },
      {
        "duration": 1923,
        "start_time": "2023-01-18T15:10:45.585Z"
      },
      {
        "duration": 2000,
        "start_time": "2023-01-18T15:10:47.509Z"
      },
      {
        "duration": 10,
        "start_time": "2023-01-18T15:11:41.613Z"
      },
      {
        "duration": 3,
        "start_time": "2023-01-18T15:12:33.142Z"
      },
      {
        "duration": 4,
        "start_time": "2023-01-18T15:12:49.247Z"
      },
      {
        "duration": 10,
        "start_time": "2023-01-18T15:13:33.784Z"
      },
      {
        "duration": 8,
        "start_time": "2023-01-18T15:13:52.836Z"
      },
      {
        "duration": 11,
        "start_time": "2023-01-18T15:13:59.059Z"
      },
      {
        "duration": 11,
        "start_time": "2023-01-18T15:14:06.167Z"
      },
      {
        "duration": 56,
        "start_time": "2023-01-18T15:14:11.629Z"
      },
      {
        "duration": 2017,
        "start_time": "2023-01-18T15:14:55.258Z"
      },
      {
        "duration": 7,
        "start_time": "2023-01-18T15:15:08.032Z"
      },
      {
        "duration": 10,
        "start_time": "2023-01-18T15:15:08.668Z"
      },
      {
        "duration": 10,
        "start_time": "2023-01-18T15:15:10.146Z"
      },
      {
        "duration": 6,
        "start_time": "2023-01-18T15:15:11.197Z"
      },
      {
        "duration": 4,
        "start_time": "2023-01-18T15:15:12.862Z"
      },
      {
        "duration": 7,
        "start_time": "2023-01-18T15:16:45.475Z"
      },
      {
        "duration": 4,
        "start_time": "2023-01-18T15:16:49.936Z"
      },
      {
        "duration": 3,
        "start_time": "2023-01-18T15:16:57.731Z"
      },
      {
        "duration": 946,
        "start_time": "2023-01-18T15:17:02.367Z"
      },
      {
        "duration": 877,
        "start_time": "2023-01-18T15:17:05.497Z"
      },
      {
        "duration": 864,
        "start_time": "2023-01-18T15:17:08.209Z"
      },
      {
        "duration": 3,
        "start_time": "2023-01-18T15:19:48.447Z"
      },
      {
        "duration": 11,
        "start_time": "2023-01-18T15:19:50.567Z"
      },
      {
        "duration": 9,
        "start_time": "2023-01-18T15:19:51.298Z"
      },
      {
        "duration": 10,
        "start_time": "2023-01-18T15:19:51.621Z"
      },
      {
        "duration": 8,
        "start_time": "2023-01-18T15:19:54.552Z"
      },
      {
        "duration": 893,
        "start_time": "2023-01-18T15:19:56.020Z"
      },
      {
        "duration": 947,
        "start_time": "2023-01-18T15:19:57.525Z"
      },
      {
        "duration": 872,
        "start_time": "2023-01-18T15:19:58.475Z"
      },
      {
        "duration": 10,
        "start_time": "2023-01-18T15:25:02.170Z"
      },
      {
        "duration": 1094,
        "start_time": "2023-01-18T15:25:02.181Z"
      },
      {
        "duration": 1055,
        "start_time": "2023-01-18T15:25:03.277Z"
      },
      {
        "duration": 3,
        "start_time": "2023-01-18T15:25:04.337Z"
      },
      {
        "duration": 858,
        "start_time": "2023-01-18T15:25:04.342Z"
      },
      {
        "duration": 590,
        "start_time": "2023-01-18T15:25:05.202Z"
      },
      {
        "duration": 686,
        "start_time": "2023-01-18T15:25:05.794Z"
      },
      {
        "duration": 5,
        "start_time": "2023-01-18T15:25:06.481Z"
      },
      {
        "duration": 142,
        "start_time": "2023-01-18T15:25:06.488Z"
      },
      {
        "duration": 129,
        "start_time": "2023-01-18T15:25:06.638Z"
      },
      {
        "duration": 137,
        "start_time": "2023-01-18T15:25:06.769Z"
      },
      {
        "duration": 10,
        "start_time": "2023-01-18T15:25:06.908Z"
      },
      {
        "duration": 30,
        "start_time": "2023-01-18T15:25:06.921Z"
      },
      {
        "duration": 17,
        "start_time": "2023-01-18T15:25:06.955Z"
      },
      {
        "duration": 16,
        "start_time": "2023-01-18T15:25:06.973Z"
      },
      {
        "duration": 12,
        "start_time": "2023-01-18T15:25:06.991Z"
      },
      {
        "duration": 47,
        "start_time": "2023-01-18T15:25:07.005Z"
      },
      {
        "duration": 284,
        "start_time": "2023-01-18T15:25:07.054Z"
      },
      {
        "duration": 107,
        "start_time": "2023-01-18T15:25:07.342Z"
      },
      {
        "duration": 91,
        "start_time": "2023-01-18T15:25:07.452Z"
      },
      {
        "duration": 109,
        "start_time": "2023-01-18T15:25:07.545Z"
      },
      {
        "duration": 21,
        "start_time": "2023-01-18T15:25:07.656Z"
      },
      {
        "duration": 15,
        "start_time": "2023-01-18T15:25:07.679Z"
      },
      {
        "duration": 11,
        "start_time": "2023-01-18T15:25:07.696Z"
      },
      {
        "duration": 6,
        "start_time": "2023-01-18T15:25:07.709Z"
      },
      {
        "duration": 921,
        "start_time": "2023-01-18T15:25:07.717Z"
      },
      {
        "duration": 912,
        "start_time": "2023-01-18T15:25:08.640Z"
      },
      {
        "duration": 847,
        "start_time": "2023-01-18T15:25:09.554Z"
      },
      {
        "duration": 8,
        "start_time": "2023-01-19T13:04:23.456Z"
      },
      {
        "duration": 1202,
        "start_time": "2023-01-19T13:04:23.466Z"
      },
      {
        "duration": 1436,
        "start_time": "2023-01-19T13:04:24.669Z"
      },
      {
        "duration": 3,
        "start_time": "2023-01-19T13:04:26.107Z"
      },
      {
        "duration": 779,
        "start_time": "2023-01-19T13:04:26.112Z"
      },
      {
        "duration": 504,
        "start_time": "2023-01-19T13:04:26.893Z"
      },
      {
        "duration": 644,
        "start_time": "2023-01-19T13:04:27.399Z"
      },
      {
        "duration": 4,
        "start_time": "2023-01-19T13:04:28.045Z"
      },
      {
        "duration": 113,
        "start_time": "2023-01-19T13:04:28.051Z"
      },
      {
        "duration": 108,
        "start_time": "2023-01-19T13:04:28.165Z"
      },
      {
        "duration": 110,
        "start_time": "2023-01-19T13:04:28.274Z"
      },
      {
        "duration": 12,
        "start_time": "2023-01-19T13:04:28.386Z"
      },
      {
        "duration": 14,
        "start_time": "2023-01-19T13:04:28.400Z"
      },
      {
        "duration": 14,
        "start_time": "2023-01-19T13:04:28.416Z"
      },
      {
        "duration": 15,
        "start_time": "2023-01-19T13:04:28.431Z"
      },
      {
        "duration": 4,
        "start_time": "2023-01-19T13:04:28.447Z"
      },
      {
        "duration": 50,
        "start_time": "2023-01-19T13:04:28.453Z"
      },
      {
        "duration": 198,
        "start_time": "2023-01-19T13:04:28.505Z"
      },
      {
        "duration": 289,
        "start_time": "2023-01-19T13:04:28.705Z"
      },
      {
        "duration": 6,
        "start_time": "2023-01-19T13:04:28.997Z"
      },
      {
        "duration": 88,
        "start_time": "2023-01-19T13:04:29.005Z"
      },
      {
        "duration": 7,
        "start_time": "2023-01-19T13:04:29.095Z"
      },
      {
        "duration": 9,
        "start_time": "2023-01-19T13:04:29.103Z"
      },
      {
        "duration": 6,
        "start_time": "2023-01-19T13:04:29.114Z"
      },
      {
        "duration": 4,
        "start_time": "2023-01-19T13:04:29.121Z"
      },
      {
        "duration": 789,
        "start_time": "2023-01-19T13:04:29.127Z"
      },
      {
        "duration": 784,
        "start_time": "2023-01-19T13:04:29.917Z"
      },
      {
        "duration": 762,
        "start_time": "2023-01-19T13:04:30.703Z"
      },
      {
        "duration": 4,
        "start_time": "2023-01-19T13:13:07.995Z"
      },
      {
        "duration": 6,
        "start_time": "2023-01-19T13:13:15.397Z"
      },
      {
        "duration": 6,
        "start_time": "2023-01-19T13:13:25.675Z"
      },
      {
        "duration": 100,
        "start_time": "2023-01-19T13:13:38.076Z"
      },
      {
        "duration": 6,
        "start_time": "2023-01-19T13:13:45.972Z"
      },
      {
        "duration": 7,
        "start_time": "2023-01-19T13:13:58.949Z"
      },
      {
        "duration": 8,
        "start_time": "2023-01-19T13:14:11.095Z"
      },
      {
        "duration": 6,
        "start_time": "2023-01-19T13:18:09.944Z"
      },
      {
        "duration": 6,
        "start_time": "2023-01-19T13:18:12.886Z"
      },
      {
        "duration": 8,
        "start_time": "2023-01-19T13:18:15.895Z"
      },
      {
        "duration": 7,
        "start_time": "2023-01-19T13:18:28.195Z"
      },
      {
        "duration": 8,
        "start_time": "2023-01-19T13:18:31.707Z"
      },
      {
        "duration": 10,
        "start_time": "2023-01-19T13:18:34.487Z"
      }
    ],
    "colab": {
      "provenance": []
    },
    "kernelspec": {
      "display_name": "Python 3 (ipykernel)",
      "language": "python",
      "name": "python3"
    },
    "language_info": {
      "codemirror_mode": {
        "name": "ipython",
        "version": 3
      },
      "file_extension": ".py",
      "mimetype": "text/x-python",
      "name": "python",
      "nbconvert_exporter": "python",
      "pygments_lexer": "ipython3",
      "version": "3.9.5"
    },
    "toc": {
      "base_numbering": 1,
      "nav_menu": {},
      "number_sections": true,
      "sideBar": true,
      "skip_h1_title": true,
      "title_cell": "Table of Contents",
      "title_sidebar": "Contents",
      "toc_cell": false,
      "toc_position": {},
      "toc_section_display": true,
      "toc_window_display": false
    }
  },
  "nbformat": 4,
  "nbformat_minor": 0
}
