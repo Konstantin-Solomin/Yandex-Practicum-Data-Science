{
  "cells": [
    {
      "cell_type": "code",
      "execution_count": null,
      "metadata": {
        "id": "-UQD7aaJznTB"
      },
      "outputs": [],
      "source": [
        "#pip install nona"
      ]
    },
    {
      "cell_type": "markdown",
      "metadata": {
        "id": "Qy1UF1VUznTC"
      },
      "source": [
        "Алгоритм на основе методов машинного обучения с прогнозированием по каждому столбцу с пропусками. [ссылка](https://habr.com/ru/post/709748/)"
      ]
    },
    {
      "cell_type": "code",
      "execution_count": null,
      "metadata": {
        "id": "PNdMv95bznTC"
      },
      "outputs": [],
      "source": [
        "#pip install catboost"
      ]
    },
    {
      "cell_type": "markdown",
      "metadata": {
        "id": "uhx9v2_PznTD"
      },
      "source": [
        "# Определение стоимости автомобилей"
      ]
    },
    {
      "cell_type": "markdown",
      "metadata": {
        "id": "SyX76kpqznTD"
      },
      "source": [
        "Сервис по продаже автомобилей с пробегом «Не бит, не крашен» разрабатывает приложение для привлечения новых клиентов. В нём можно быстро узнать рыночную стоимость своего автомобиля. В вашем распоряжении исторические данные: технические характеристики, комплектации и цены автомобилей. Вам нужно построить модель для определения стоимости. \n",
        "\n",
        "Заказчику важны:\n",
        "\n",
        "- качество предсказания;\n",
        "- скорость предсказания;\n",
        "- время обучения."
      ]
    },
    {
      "cell_type": "markdown",
      "metadata": {
        "id": "-JqHcPKLznTD"
      },
      "source": [
        "**Признаки**  \n",
        "\n",
        "DateCrawled — дата скачивания анкеты из базы - *судя по всему это дата когда данные попали к нам в руки, для исследования ценности не имеет*\n",
        "\n",
        "VehicleType — тип автомобильного кузова  \n",
        "\n",
        "RegistrationYear — год регистрации автомобиля - *может указать на раритетные и коллекционные авто, для прочего будет столбец возраста. Нужны ли данные о раритетных и коллекционных для обучения моделей? Сомнительно, могут только запутать*.  \n",
        "\n",
        "Gearbox — тип коробки передач  \n",
        "\n",
        "Power — мощность (л. с.)  \n",
        "\n",
        "Model — модель автомобиля  \n",
        "\n",
        "Kilometer — пробег (км)  \n",
        "\n",
        "RegistrationMonth — месяц регистрации автомобиля - *не наблюдаю значимость этой информации*  \n",
        "\n",
        "FuelType — тип топлива  \n",
        "\n",
        "Brand — марка автомобиля  \n",
        "\n",
        "Repaired — была машина в ремонте или нет  \n",
        "\n",
        "DateCreated — дата создания анкеты - *если не учитывать год регистрации, что скажет нам о возрасте авто, то дата создания анкеты имеет влияние на цену только годичными колебаниями цен, считаю лучше создать отдельный столбец с возрастом авто и удалить этот.* \n",
        "\n",
        "NumberOfPictures — количество фотографий автомобиля - *это может повлиять на скорость продажи, но не на ценность*  \n",
        "\n",
        "PostalCode — почтовый индекс владельца анкеты (пользователя) - *не наблюдаю значимость этой информации*  \n",
        "\n",
        "LastSeen — дата последней активности пользователя - *не наблюдаю значимость этой информации*  \n",
        "\n",
        "**Целевой признак**  \n",
        "\n",
        "Price — цена (евро)"
      ]
    },
    {
      "cell_type": "code",
      "execution_count": null,
      "metadata": {
        "id": "lAOZDjVDznTD"
      },
      "outputs": [],
      "source": [
        "import pandas as pd\n",
        "import matplotlib.pyplot as plt\n",
        "import numpy as np\n",
        "from sklearn.model_selection import (\n",
        "    train_test_split, RandomizedSearchCV,\n",
        "    GridSearchCV, cross_val_score) \n",
        "from sklearn.metrics import mean_squared_error\n",
        "from sklearn.linear_model import (\n",
        "    LinearRegression, Ridge)\n",
        "from sklearn.ensemble import RandomForestRegressor\n",
        "from catboost import CatBoostRegressor\n",
        "from sklearn.preprocessing import (\n",
        "    OneHotEncoder, OrdinalEncoder, StandardScaler)\n",
        "from nona.nona import nona"
      ]
    },
    {
      "cell_type": "code",
      "execution_count": null,
      "metadata": {
        "id": "_6tlZ6RBznTD"
      },
      "outputs": [],
      "source": [
        "RANDOM_STATE = 12345\n",
        "TEST_SIZE = 0.40\n",
        "TEST_SIZE_2 = 0.5\n",
        "N_JOBS = -1\n",
        "CV = 5"
      ]
    },
    {
      "cell_type": "code",
      "execution_count": null,
      "metadata": {
        "id": "4WNZ8iRrznTE"
      },
      "outputs": [],
      "source": [
        "plt.style.use('dark_background')"
      ]
    },
    {
      "cell_type": "markdown",
      "metadata": {
        "id": "n7DT3IpYznTE"
      },
      "source": [
        "### Функции"
      ]
    },
    {
      "cell_type": "code",
      "execution_count": null,
      "metadata": {
        "id": "l3ROJVA2znTE"
      },
      "outputs": [],
      "source": [
        "def encode(features_train, features_val, features_test):\n",
        "    ohe_features = features_train.select_dtypes(\n",
        "        include='object').columns.to_list()    \n",
        "    ohe_features.remove('model')\n",
        "    num_features = features_train.select_dtypes(\n",
        "        exclude='object').columns.to_list()\n",
        "    num_features.remove('repaired')    \n",
        "    \n",
        "    encoder_ohe = OneHotEncoder(drop='first', sparse=False)\n",
        "    encoder_ohe.fit(features_train[ohe_features])\n",
        "    try:\n",
        "        features_train[\n",
        "            encoder_ohe.get_feature_names()\n",
        "        ] = encoder_ohe.transform(features_train[ohe_features])\n",
        "    except:\n",
        "        features_train[\n",
        "            encoder_ohe.get_feature_names_out()\n",
        "        ] = encoder_ohe.transform(features_train[ohe_features])\n",
        "    features_train = features_train.drop(ohe_features, axis=1)\n",
        "    \n",
        "    scaler = StandardScaler()\n",
        "    features_train[num_features] = scaler.fit_transform(\n",
        "        features_train[num_features])    \n",
        "    \n",
        "    encoder_oe = OrdinalEncoder(\n",
        "        handle_unknown='use_encoded_value', unknown_value=-1)\n",
        "    encoder_oe.fit(features_train[['model']])\n",
        "    features_train['model'\n",
        "    ] = encoder_oe.transform(features_train[['model']])\n",
        "    try:    \n",
        "        features_val[\n",
        "            encoder_ohe.get_feature_names()\n",
        "        ] = encoder_ohe.transform(features_val[ohe_features])\n",
        "    except:\n",
        "        features_val[\n",
        "            encoder_ohe.get_feature_names_out()\n",
        "        ] = encoder_ohe.transform(features_val[ohe_features])\n",
        "    features_val = features_val.drop(ohe_features, axis=1)    \n",
        "    features_val[num_features] = scaler.transform(\n",
        "        features_val[num_features])\n",
        "    features_val['model'\n",
        "    ] = encoder_oe.transform(features_val[['model']])\n",
        "    try:    \n",
        "        features_test[\n",
        "            encoder_ohe.get_feature_names()\n",
        "        ] = encoder_ohe.transform(features_test[ohe_features])\n",
        "    except:\n",
        "        features_test[\n",
        "            encoder_ohe.get_feature_names_out()\n",
        "        ] = encoder_ohe.transform(features_test[ohe_features])\n",
        "    features_test = features_test.drop(ohe_features, axis=1)    \n",
        "    features_test[num_features] = scaler.transform(\n",
        "        features_test[num_features])\n",
        "    features_test['model'\n",
        "    ] = encoder_oe.transform(features_test[['model']])\n",
        "\n",
        "    return features_train, features_val, features_test"
      ]
    },
    {
      "cell_type": "markdown",
      "metadata": {
        "id": "xH8ed5BKznTF"
      },
      "source": [
        "## Подготовка данных"
      ]
    },
    {
      "cell_type": "code",
      "execution_count": null,
      "metadata": {
        "id": "ny7sfltpznTF"
      },
      "outputs": [],
      "source": [
        "try:\n",
        "    df = pd.read_csv(r'C:\\Users\\keyten\\Desktop\\Info\\Learning DS\\projects\\autos\\autos.csv')\n",
        "except:\n",
        "    df = pd.read_csv(r'https://code.s3.yandex.net/datasets/autos.csv')"
      ]
    },
    {
      "cell_type": "code",
      "execution_count": null,
      "metadata": {
        "id": "4cd5COx9znTF",
        "outputId": "ee0a39b8-26fd-4f98-ba71-7d05b756f2bc"
      },
      "outputs": [
        {
          "data": {
            "text/html": [
              "<div>\n",
              "<style scoped>\n",
              "    .dataframe tbody tr th:only-of-type {\n",
              "        vertical-align: middle;\n",
              "    }\n",
              "\n",
              "    .dataframe tbody tr th {\n",
              "        vertical-align: top;\n",
              "    }\n",
              "\n",
              "    .dataframe thead th {\n",
              "        text-align: right;\n",
              "    }\n",
              "</style>\n",
              "<table border=\"1\" class=\"dataframe\">\n",
              "  <thead>\n",
              "    <tr style=\"text-align: right;\">\n",
              "      <th></th>\n",
              "      <th>DateCrawled</th>\n",
              "      <th>Price</th>\n",
              "      <th>VehicleType</th>\n",
              "      <th>RegistrationYear</th>\n",
              "      <th>Gearbox</th>\n",
              "      <th>Power</th>\n",
              "      <th>Model</th>\n",
              "      <th>Kilometer</th>\n",
              "      <th>RegistrationMonth</th>\n",
              "      <th>FuelType</th>\n",
              "      <th>Brand</th>\n",
              "      <th>Repaired</th>\n",
              "      <th>DateCreated</th>\n",
              "      <th>NumberOfPictures</th>\n",
              "      <th>PostalCode</th>\n",
              "      <th>LastSeen</th>\n",
              "    </tr>\n",
              "  </thead>\n",
              "  <tbody>\n",
              "    <tr>\n",
              "      <th>0</th>\n",
              "      <td>2016-03-24 11:52:17</td>\n",
              "      <td>480</td>\n",
              "      <td>NaN</td>\n",
              "      <td>1993</td>\n",
              "      <td>manual</td>\n",
              "      <td>0</td>\n",
              "      <td>golf</td>\n",
              "      <td>150000</td>\n",
              "      <td>0</td>\n",
              "      <td>petrol</td>\n",
              "      <td>volkswagen</td>\n",
              "      <td>NaN</td>\n",
              "      <td>2016-03-24 00:00:00</td>\n",
              "      <td>0</td>\n",
              "      <td>70435</td>\n",
              "      <td>2016-04-07 03:16:57</td>\n",
              "    </tr>\n",
              "    <tr>\n",
              "      <th>1</th>\n",
              "      <td>2016-03-24 10:58:45</td>\n",
              "      <td>18300</td>\n",
              "      <td>coupe</td>\n",
              "      <td>2011</td>\n",
              "      <td>manual</td>\n",
              "      <td>190</td>\n",
              "      <td>NaN</td>\n",
              "      <td>125000</td>\n",
              "      <td>5</td>\n",
              "      <td>gasoline</td>\n",
              "      <td>audi</td>\n",
              "      <td>yes</td>\n",
              "      <td>2016-03-24 00:00:00</td>\n",
              "      <td>0</td>\n",
              "      <td>66954</td>\n",
              "      <td>2016-04-07 01:46:50</td>\n",
              "    </tr>\n",
              "    <tr>\n",
              "      <th>2</th>\n",
              "      <td>2016-03-14 12:52:21</td>\n",
              "      <td>9800</td>\n",
              "      <td>suv</td>\n",
              "      <td>2004</td>\n",
              "      <td>auto</td>\n",
              "      <td>163</td>\n",
              "      <td>grand</td>\n",
              "      <td>125000</td>\n",
              "      <td>8</td>\n",
              "      <td>gasoline</td>\n",
              "      <td>jeep</td>\n",
              "      <td>NaN</td>\n",
              "      <td>2016-03-14 00:00:00</td>\n",
              "      <td>0</td>\n",
              "      <td>90480</td>\n",
              "      <td>2016-04-05 12:47:46</td>\n",
              "    </tr>\n",
              "    <tr>\n",
              "      <th>3</th>\n",
              "      <td>2016-03-17 16:54:04</td>\n",
              "      <td>1500</td>\n",
              "      <td>small</td>\n",
              "      <td>2001</td>\n",
              "      <td>manual</td>\n",
              "      <td>75</td>\n",
              "      <td>golf</td>\n",
              "      <td>150000</td>\n",
              "      <td>6</td>\n",
              "      <td>petrol</td>\n",
              "      <td>volkswagen</td>\n",
              "      <td>no</td>\n",
              "      <td>2016-03-17 00:00:00</td>\n",
              "      <td>0</td>\n",
              "      <td>91074</td>\n",
              "      <td>2016-03-17 17:40:17</td>\n",
              "    </tr>\n",
              "    <tr>\n",
              "      <th>4</th>\n",
              "      <td>2016-03-31 17:25:20</td>\n",
              "      <td>3600</td>\n",
              "      <td>small</td>\n",
              "      <td>2008</td>\n",
              "      <td>manual</td>\n",
              "      <td>69</td>\n",
              "      <td>fabia</td>\n",
              "      <td>90000</td>\n",
              "      <td>7</td>\n",
              "      <td>gasoline</td>\n",
              "      <td>skoda</td>\n",
              "      <td>no</td>\n",
              "      <td>2016-03-31 00:00:00</td>\n",
              "      <td>0</td>\n",
              "      <td>60437</td>\n",
              "      <td>2016-04-06 10:17:21</td>\n",
              "    </tr>\n",
              "  </tbody>\n",
              "</table>\n",
              "</div>"
            ],
            "text/plain": [
              "           DateCrawled  Price VehicleType  RegistrationYear Gearbox  Power  \\\n",
              "0  2016-03-24 11:52:17    480         NaN              1993  manual      0   \n",
              "1  2016-03-24 10:58:45  18300       coupe              2011  manual    190   \n",
              "2  2016-03-14 12:52:21   9800         suv              2004    auto    163   \n",
              "3  2016-03-17 16:54:04   1500       small              2001  manual     75   \n",
              "4  2016-03-31 17:25:20   3600       small              2008  manual     69   \n",
              "\n",
              "   Model  Kilometer  RegistrationMonth  FuelType       Brand Repaired  \\\n",
              "0   golf     150000                  0    petrol  volkswagen      NaN   \n",
              "1    NaN     125000                  5  gasoline        audi      yes   \n",
              "2  grand     125000                  8  gasoline        jeep      NaN   \n",
              "3   golf     150000                  6    petrol  volkswagen       no   \n",
              "4  fabia      90000                  7  gasoline       skoda       no   \n",
              "\n",
              "           DateCreated  NumberOfPictures  PostalCode             LastSeen  \n",
              "0  2016-03-24 00:00:00                 0       70435  2016-04-07 03:16:57  \n",
              "1  2016-03-24 00:00:00                 0       66954  2016-04-07 01:46:50  \n",
              "2  2016-03-14 00:00:00                 0       90480  2016-04-05 12:47:46  \n",
              "3  2016-03-17 00:00:00                 0       91074  2016-03-17 17:40:17  \n",
              "4  2016-03-31 00:00:00                 0       60437  2016-04-06 10:17:21  "
            ]
          },
          "execution_count": 9,
          "metadata": {},
          "output_type": "execute_result"
        }
      ],
      "source": [
        "df.head()"
      ]
    },
    {
      "cell_type": "code",
      "execution_count": null,
      "metadata": {
        "id": "kOQOdXohznTF",
        "outputId": "585d9d34-7509-4536-db04-61cbfae760fc"
      },
      "outputs": [
        {
          "name": "stdout",
          "output_type": "stream",
          "text": [
            "<class 'pandas.core.frame.DataFrame'>\n",
            "RangeIndex: 354369 entries, 0 to 354368\n",
            "Data columns (total 16 columns):\n",
            " #   Column             Non-Null Count   Dtype \n",
            "---  ------             --------------   ----- \n",
            " 0   DateCrawled        354369 non-null  object\n",
            " 1   Price              354369 non-null  int64 \n",
            " 2   VehicleType        316879 non-null  object\n",
            " 3   RegistrationYear   354369 non-null  int64 \n",
            " 4   Gearbox            334536 non-null  object\n",
            " 5   Power              354369 non-null  int64 \n",
            " 6   Model              334664 non-null  object\n",
            " 7   Kilometer          354369 non-null  int64 \n",
            " 8   RegistrationMonth  354369 non-null  int64 \n",
            " 9   FuelType           321474 non-null  object\n",
            " 10  Brand              354369 non-null  object\n",
            " 11  Repaired           283215 non-null  object\n",
            " 12  DateCreated        354369 non-null  object\n",
            " 13  NumberOfPictures   354369 non-null  int64 \n",
            " 14  PostalCode         354369 non-null  int64 \n",
            " 15  LastSeen           354369 non-null  object\n",
            "dtypes: int64(7), object(9)\n",
            "memory usage: 43.3+ MB\n"
          ]
        }
      ],
      "source": [
        "df.info()"
      ]
    },
    {
      "cell_type": "markdown",
      "metadata": {
        "id": "0vNpl-13znTG"
      },
      "source": [
        "Присутствует много пропусков, бесполезные для задачи столбцы. Следует привести названия столбцов к подобающему виду и изменить тип столбца Repaired"
      ]
    },
    {
      "cell_type": "markdown",
      "metadata": {
        "id": "xnv5ADynznTG"
      },
      "source": [
        "### Создадим столбец с возрастом авто"
      ]
    },
    {
      "cell_type": "code",
      "execution_count": null,
      "metadata": {
        "id": "nypzhBBiznTG"
      },
      "outputs": [],
      "source": [
        "df['DateCreated'] = df['DateCreated'].map(lambda x: x[0:4]).astype(int)"
      ]
    },
    {
      "cell_type": "code",
      "execution_count": null,
      "metadata": {
        "id": "mzEU-TldznTG"
      },
      "outputs": [],
      "source": [
        "df['age'] = df['DateCreated']-df['RegistrationYear']"
      ]
    },
    {
      "cell_type": "code",
      "execution_count": null,
      "metadata": {
        "scrolled": true,
        "id": "7NdIWhIZznTG",
        "outputId": "a518aac5-9dc5-48f9-d9c0-517a96ef37eb"
      },
      "outputs": [
        {
          "data": {
            "text/html": [
              "<div>\n",
              "<style scoped>\n",
              "    .dataframe tbody tr th:only-of-type {\n",
              "        vertical-align: middle;\n",
              "    }\n",
              "\n",
              "    .dataframe tbody tr th {\n",
              "        vertical-align: top;\n",
              "    }\n",
              "\n",
              "    .dataframe thead th {\n",
              "        text-align: right;\n",
              "    }\n",
              "</style>\n",
              "<table border=\"1\" class=\"dataframe\">\n",
              "  <thead>\n",
              "    <tr style=\"text-align: right;\">\n",
              "      <th></th>\n",
              "      <th>DateCrawled</th>\n",
              "      <th>Price</th>\n",
              "      <th>VehicleType</th>\n",
              "      <th>RegistrationYear</th>\n",
              "      <th>Gearbox</th>\n",
              "      <th>Power</th>\n",
              "      <th>Model</th>\n",
              "      <th>Kilometer</th>\n",
              "      <th>RegistrationMonth</th>\n",
              "      <th>FuelType</th>\n",
              "      <th>Brand</th>\n",
              "      <th>Repaired</th>\n",
              "      <th>DateCreated</th>\n",
              "      <th>NumberOfPictures</th>\n",
              "      <th>PostalCode</th>\n",
              "      <th>LastSeen</th>\n",
              "      <th>age</th>\n",
              "    </tr>\n",
              "  </thead>\n",
              "  <tbody>\n",
              "    <tr>\n",
              "      <th>0</th>\n",
              "      <td>2016-03-24 11:52:17</td>\n",
              "      <td>480</td>\n",
              "      <td>NaN</td>\n",
              "      <td>1993</td>\n",
              "      <td>manual</td>\n",
              "      <td>0</td>\n",
              "      <td>golf</td>\n",
              "      <td>150000</td>\n",
              "      <td>0</td>\n",
              "      <td>petrol</td>\n",
              "      <td>volkswagen</td>\n",
              "      <td>NaN</td>\n",
              "      <td>2016</td>\n",
              "      <td>0</td>\n",
              "      <td>70435</td>\n",
              "      <td>2016-04-07 03:16:57</td>\n",
              "      <td>23</td>\n",
              "    </tr>\n",
              "    <tr>\n",
              "      <th>1</th>\n",
              "      <td>2016-03-24 10:58:45</td>\n",
              "      <td>18300</td>\n",
              "      <td>coupe</td>\n",
              "      <td>2011</td>\n",
              "      <td>manual</td>\n",
              "      <td>190</td>\n",
              "      <td>NaN</td>\n",
              "      <td>125000</td>\n",
              "      <td>5</td>\n",
              "      <td>gasoline</td>\n",
              "      <td>audi</td>\n",
              "      <td>yes</td>\n",
              "      <td>2016</td>\n",
              "      <td>0</td>\n",
              "      <td>66954</td>\n",
              "      <td>2016-04-07 01:46:50</td>\n",
              "      <td>5</td>\n",
              "    </tr>\n",
              "    <tr>\n",
              "      <th>2</th>\n",
              "      <td>2016-03-14 12:52:21</td>\n",
              "      <td>9800</td>\n",
              "      <td>suv</td>\n",
              "      <td>2004</td>\n",
              "      <td>auto</td>\n",
              "      <td>163</td>\n",
              "      <td>grand</td>\n",
              "      <td>125000</td>\n",
              "      <td>8</td>\n",
              "      <td>gasoline</td>\n",
              "      <td>jeep</td>\n",
              "      <td>NaN</td>\n",
              "      <td>2016</td>\n",
              "      <td>0</td>\n",
              "      <td>90480</td>\n",
              "      <td>2016-04-05 12:47:46</td>\n",
              "      <td>12</td>\n",
              "    </tr>\n",
              "  </tbody>\n",
              "</table>\n",
              "</div>"
            ],
            "text/plain": [
              "           DateCrawled  Price VehicleType  RegistrationYear Gearbox  Power  \\\n",
              "0  2016-03-24 11:52:17    480         NaN              1993  manual      0   \n",
              "1  2016-03-24 10:58:45  18300       coupe              2011  manual    190   \n",
              "2  2016-03-14 12:52:21   9800         suv              2004    auto    163   \n",
              "\n",
              "   Model  Kilometer  RegistrationMonth  FuelType       Brand Repaired  \\\n",
              "0   golf     150000                  0    petrol  volkswagen      NaN   \n",
              "1    NaN     125000                  5  gasoline        audi      yes   \n",
              "2  grand     125000                  8  gasoline        jeep      NaN   \n",
              "\n",
              "   DateCreated  NumberOfPictures  PostalCode             LastSeen  age  \n",
              "0         2016                 0       70435  2016-04-07 03:16:57   23  \n",
              "1         2016                 0       66954  2016-04-07 01:46:50    5  \n",
              "2         2016                 0       90480  2016-04-05 12:47:46   12  "
            ]
          },
          "execution_count": 13,
          "metadata": {},
          "output_type": "execute_result"
        }
      ],
      "source": [
        "df.head(3)"
      ]
    },
    {
      "cell_type": "markdown",
      "metadata": {
        "id": "bhAF-Da3znTG"
      },
      "source": [
        "Для борьбы с выбросами надо знать последний год регистрации"
      ]
    },
    {
      "cell_type": "code",
      "execution_count": null,
      "metadata": {
        "scrolled": true,
        "id": "6zlNfUhfznTH",
        "outputId": "64dbc532-88b0-4c66-c910-5e8f9737dab7"
      },
      "outputs": [
        {
          "data": {
            "text/plain": [
              "2016"
            ]
          },
          "execution_count": 14,
          "metadata": {},
          "output_type": "execute_result"
        }
      ],
      "source": [
        "df['DateCreated'].max()"
      ]
    },
    {
      "cell_type": "markdown",
      "metadata": {
        "id": "XCbZ-y-hznTH"
      },
      "source": [
        "### Удалим лишние столбцы"
      ]
    },
    {
      "cell_type": "code",
      "execution_count": null,
      "metadata": {
        "id": "ldSsGwKnznTH",
        "outputId": "ec0d0f09-ba82-4acd-c666-ea686341695d"
      },
      "outputs": [
        {
          "data": {
            "text/plain": [
              "Index(['DateCrawled', 'Price', 'VehicleType', 'RegistrationYear', 'Gearbox',\n",
              "       'Power', 'Model', 'Kilometer', 'RegistrationMonth', 'FuelType', 'Brand',\n",
              "       'Repaired', 'DateCreated', 'NumberOfPictures', 'PostalCode', 'LastSeen',\n",
              "       'age'],\n",
              "      dtype='object')"
            ]
          },
          "execution_count": 15,
          "metadata": {},
          "output_type": "execute_result"
        }
      ],
      "source": [
        "df.columns"
      ]
    },
    {
      "cell_type": "code",
      "execution_count": null,
      "metadata": {
        "id": "eL0S26pUznTH"
      },
      "outputs": [],
      "source": [
        "df = df.drop(columns=[\n",
        "    'DateCrawled', \n",
        "    'RegistrationMonth', \n",
        "    'DateCreated', \n",
        "    'NumberOfPictures', \n",
        "    'LastSeen',\n",
        "    'PostalCode'], axis=1)"
      ]
    },
    {
      "cell_type": "code",
      "execution_count": null,
      "metadata": {
        "id": "5d1B5J7WznTH",
        "outputId": "3b118c29-019f-4158-ac8b-af6092adae78"
      },
      "outputs": [
        {
          "data": {
            "text/plain": [
              "Index(['Price', 'VehicleType', 'RegistrationYear', 'Gearbox', 'Power', 'Model',\n",
              "       'Kilometer', 'FuelType', 'Brand', 'Repaired', 'age'],\n",
              "      dtype='object')"
            ]
          },
          "execution_count": 17,
          "metadata": {},
          "output_type": "execute_result"
        }
      ],
      "source": [
        "df.columns"
      ]
    },
    {
      "cell_type": "markdown",
      "metadata": {
        "id": "KN4vWKZyznTI"
      },
      "source": [
        "### Переименуем столбцы"
      ]
    },
    {
      "cell_type": "code",
      "execution_count": null,
      "metadata": {
        "id": "flygqi32znTI"
      },
      "outputs": [],
      "source": [
        "df = df.rename(columns={\n",
        "    'Price':'price', \n",
        "    'VehicleType':'vehicle_type', \n",
        "    'RegistrationYear': 'registration_year', \n",
        "    'Gearbox':'gearbox', \n",
        "    'Power':'power', \n",
        "    'Model':'model',\n",
        "    'Kilometer': 'kilometer', \n",
        "    'FuelType': 'fuel_type', \n",
        "    'Brand': 'brand', \n",
        "    'Repaired':'repaired',     \n",
        "    'age':'age'    \n",
        "})"
      ]
    },
    {
      "cell_type": "markdown",
      "metadata": {
        "id": "3BYAlN8xznTI"
      },
      "source": [
        "### Установим удобный порядок столбцов"
      ]
    },
    {
      "cell_type": "code",
      "execution_count": null,
      "metadata": {
        "id": "WvB0z7L1znTI"
      },
      "outputs": [],
      "source": [
        "df = df[['registration_year', \n",
        "         'age', \n",
        "         'brand', \n",
        "         'model', \n",
        "         'vehicle_type', \n",
        "         'fuel_type', \n",
        "         'gearbox', \n",
        "         'power',\n",
        "         'kilometer', \n",
        "         'repaired', \n",
        "         'price']]"
      ]
    },
    {
      "cell_type": "code",
      "execution_count": null,
      "metadata": {
        "id": "Phh-1XchznTJ",
        "outputId": "a8ba1d51-28a0-4681-f56d-9e6db4bc3016"
      },
      "outputs": [
        {
          "data": {
            "text/html": [
              "<div>\n",
              "<style scoped>\n",
              "    .dataframe tbody tr th:only-of-type {\n",
              "        vertical-align: middle;\n",
              "    }\n",
              "\n",
              "    .dataframe tbody tr th {\n",
              "        vertical-align: top;\n",
              "    }\n",
              "\n",
              "    .dataframe thead th {\n",
              "        text-align: right;\n",
              "    }\n",
              "</style>\n",
              "<table border=\"1\" class=\"dataframe\">\n",
              "  <thead>\n",
              "    <tr style=\"text-align: right;\">\n",
              "      <th></th>\n",
              "      <th>registration_year</th>\n",
              "      <th>age</th>\n",
              "      <th>brand</th>\n",
              "      <th>model</th>\n",
              "      <th>vehicle_type</th>\n",
              "      <th>fuel_type</th>\n",
              "      <th>gearbox</th>\n",
              "      <th>power</th>\n",
              "      <th>kilometer</th>\n",
              "      <th>repaired</th>\n",
              "      <th>price</th>\n",
              "    </tr>\n",
              "  </thead>\n",
              "  <tbody>\n",
              "    <tr>\n",
              "      <th>0</th>\n",
              "      <td>1993</td>\n",
              "      <td>23</td>\n",
              "      <td>volkswagen</td>\n",
              "      <td>golf</td>\n",
              "      <td>NaN</td>\n",
              "      <td>petrol</td>\n",
              "      <td>manual</td>\n",
              "      <td>0</td>\n",
              "      <td>150000</td>\n",
              "      <td>NaN</td>\n",
              "      <td>480</td>\n",
              "    </tr>\n",
              "    <tr>\n",
              "      <th>1</th>\n",
              "      <td>2011</td>\n",
              "      <td>5</td>\n",
              "      <td>audi</td>\n",
              "      <td>NaN</td>\n",
              "      <td>coupe</td>\n",
              "      <td>gasoline</td>\n",
              "      <td>manual</td>\n",
              "      <td>190</td>\n",
              "      <td>125000</td>\n",
              "      <td>yes</td>\n",
              "      <td>18300</td>\n",
              "    </tr>\n",
              "    <tr>\n",
              "      <th>2</th>\n",
              "      <td>2004</td>\n",
              "      <td>12</td>\n",
              "      <td>jeep</td>\n",
              "      <td>grand</td>\n",
              "      <td>suv</td>\n",
              "      <td>gasoline</td>\n",
              "      <td>auto</td>\n",
              "      <td>163</td>\n",
              "      <td>125000</td>\n",
              "      <td>NaN</td>\n",
              "      <td>9800</td>\n",
              "    </tr>\n",
              "    <tr>\n",
              "      <th>3</th>\n",
              "      <td>2001</td>\n",
              "      <td>15</td>\n",
              "      <td>volkswagen</td>\n",
              "      <td>golf</td>\n",
              "      <td>small</td>\n",
              "      <td>petrol</td>\n",
              "      <td>manual</td>\n",
              "      <td>75</td>\n",
              "      <td>150000</td>\n",
              "      <td>no</td>\n",
              "      <td>1500</td>\n",
              "    </tr>\n",
              "    <tr>\n",
              "      <th>4</th>\n",
              "      <td>2008</td>\n",
              "      <td>8</td>\n",
              "      <td>skoda</td>\n",
              "      <td>fabia</td>\n",
              "      <td>small</td>\n",
              "      <td>gasoline</td>\n",
              "      <td>manual</td>\n",
              "      <td>69</td>\n",
              "      <td>90000</td>\n",
              "      <td>no</td>\n",
              "      <td>3600</td>\n",
              "    </tr>\n",
              "  </tbody>\n",
              "</table>\n",
              "</div>"
            ],
            "text/plain": [
              "   registration_year  age       brand  model vehicle_type fuel_type gearbox  \\\n",
              "0               1993   23  volkswagen   golf          NaN    petrol  manual   \n",
              "1               2011    5        audi    NaN        coupe  gasoline  manual   \n",
              "2               2004   12        jeep  grand          suv  gasoline    auto   \n",
              "3               2001   15  volkswagen   golf        small    petrol  manual   \n",
              "4               2008    8       skoda  fabia        small  gasoline  manual   \n",
              "\n",
              "   power  kilometer repaired  price  \n",
              "0      0     150000      NaN    480  \n",
              "1    190     125000      yes  18300  \n",
              "2    163     125000      NaN   9800  \n",
              "3     75     150000       no   1500  \n",
              "4     69      90000       no   3600  "
            ]
          },
          "execution_count": 20,
          "metadata": {},
          "output_type": "execute_result"
        }
      ],
      "source": [
        "df.head()"
      ]
    },
    {
      "cell_type": "code",
      "execution_count": null,
      "metadata": {
        "scrolled": false,
        "id": "TzzJ3m0BznTJ",
        "outputId": "7d2ba6e0-cf73-43a4-8cfb-a86b6b71fb61"
      },
      "outputs": [
        {
          "name": "stdout",
          "output_type": "stream",
          "text": [
            "<class 'pandas.core.frame.DataFrame'>\n",
            "RangeIndex: 354369 entries, 0 to 354368\n",
            "Data columns (total 11 columns):\n",
            " #   Column             Non-Null Count   Dtype \n",
            "---  ------             --------------   ----- \n",
            " 0   registration_year  354369 non-null  int64 \n",
            " 1   age                354369 non-null  int64 \n",
            " 2   brand              354369 non-null  object\n",
            " 3   model              334664 non-null  object\n",
            " 4   vehicle_type       316879 non-null  object\n",
            " 5   fuel_type          321474 non-null  object\n",
            " 6   gearbox            334536 non-null  object\n",
            " 7   power              354369 non-null  int64 \n",
            " 8   kilometer          354369 non-null  int64 \n",
            " 9   repaired           283215 non-null  object\n",
            " 10  price              354369 non-null  int64 \n",
            "dtypes: int64(5), object(6)\n",
            "memory usage: 29.7+ MB\n"
          ]
        }
      ],
      "source": [
        "df.info()"
      ]
    },
    {
      "cell_type": "markdown",
      "metadata": {
        "id": "RevNAbcoznTJ"
      },
      "source": [
        "### Изменим формат столбца repaired"
      ]
    },
    {
      "cell_type": "code",
      "execution_count": null,
      "metadata": {
        "id": "pG5N05h-znTJ",
        "outputId": "bd824bea-3730-42de-91e2-7d1f17d09517"
      },
      "outputs": [
        {
          "data": {
            "text/html": [
              "<div>\n",
              "<style scoped>\n",
              "    .dataframe tbody tr th:only-of-type {\n",
              "        vertical-align: middle;\n",
              "    }\n",
              "\n",
              "    .dataframe tbody tr th {\n",
              "        vertical-align: top;\n",
              "    }\n",
              "\n",
              "    .dataframe thead th {\n",
              "        text-align: right;\n",
              "    }\n",
              "</style>\n",
              "<table border=\"1\" class=\"dataframe\">\n",
              "  <thead>\n",
              "    <tr style=\"text-align: right;\">\n",
              "      <th></th>\n",
              "      <th>registration_year</th>\n",
              "      <th>age</th>\n",
              "      <th>brand</th>\n",
              "      <th>model</th>\n",
              "      <th>vehicle_type</th>\n",
              "      <th>fuel_type</th>\n",
              "      <th>gearbox</th>\n",
              "      <th>power</th>\n",
              "      <th>kilometer</th>\n",
              "      <th>repaired</th>\n",
              "      <th>price</th>\n",
              "    </tr>\n",
              "  </thead>\n",
              "  <tbody>\n",
              "    <tr>\n",
              "      <th>0</th>\n",
              "      <td>1993</td>\n",
              "      <td>23</td>\n",
              "      <td>volkswagen</td>\n",
              "      <td>golf</td>\n",
              "      <td>NaN</td>\n",
              "      <td>petrol</td>\n",
              "      <td>manual</td>\n",
              "      <td>0</td>\n",
              "      <td>150000</td>\n",
              "      <td>NaN</td>\n",
              "      <td>480</td>\n",
              "    </tr>\n",
              "    <tr>\n",
              "      <th>1</th>\n",
              "      <td>2011</td>\n",
              "      <td>5</td>\n",
              "      <td>audi</td>\n",
              "      <td>NaN</td>\n",
              "      <td>coupe</td>\n",
              "      <td>gasoline</td>\n",
              "      <td>manual</td>\n",
              "      <td>190</td>\n",
              "      <td>125000</td>\n",
              "      <td>1.0</td>\n",
              "      <td>18300</td>\n",
              "    </tr>\n",
              "    <tr>\n",
              "      <th>2</th>\n",
              "      <td>2004</td>\n",
              "      <td>12</td>\n",
              "      <td>jeep</td>\n",
              "      <td>grand</td>\n",
              "      <td>suv</td>\n",
              "      <td>gasoline</td>\n",
              "      <td>auto</td>\n",
              "      <td>163</td>\n",
              "      <td>125000</td>\n",
              "      <td>NaN</td>\n",
              "      <td>9800</td>\n",
              "    </tr>\n",
              "    <tr>\n",
              "      <th>3</th>\n",
              "      <td>2001</td>\n",
              "      <td>15</td>\n",
              "      <td>volkswagen</td>\n",
              "      <td>golf</td>\n",
              "      <td>small</td>\n",
              "      <td>petrol</td>\n",
              "      <td>manual</td>\n",
              "      <td>75</td>\n",
              "      <td>150000</td>\n",
              "      <td>0.0</td>\n",
              "      <td>1500</td>\n",
              "    </tr>\n",
              "    <tr>\n",
              "      <th>4</th>\n",
              "      <td>2008</td>\n",
              "      <td>8</td>\n",
              "      <td>skoda</td>\n",
              "      <td>fabia</td>\n",
              "      <td>small</td>\n",
              "      <td>gasoline</td>\n",
              "      <td>manual</td>\n",
              "      <td>69</td>\n",
              "      <td>90000</td>\n",
              "      <td>0.0</td>\n",
              "      <td>3600</td>\n",
              "    </tr>\n",
              "  </tbody>\n",
              "</table>\n",
              "</div>"
            ],
            "text/plain": [
              "   registration_year  age       brand  model vehicle_type fuel_type gearbox  \\\n",
              "0               1993   23  volkswagen   golf          NaN    petrol  manual   \n",
              "1               2011    5        audi    NaN        coupe  gasoline  manual   \n",
              "2               2004   12        jeep  grand          suv  gasoline    auto   \n",
              "3               2001   15  volkswagen   golf        small    petrol  manual   \n",
              "4               2008    8       skoda  fabia        small  gasoline  manual   \n",
              "\n",
              "   power  kilometer  repaired  price  \n",
              "0      0     150000       NaN    480  \n",
              "1    190     125000       1.0  18300  \n",
              "2    163     125000       NaN   9800  \n",
              "3     75     150000       0.0   1500  \n",
              "4     69      90000       0.0   3600  "
            ]
          },
          "metadata": {},
          "output_type": "display_data"
        },
        {
          "name": "stdout",
          "output_type": "stream",
          "text": [
            "<class 'pandas.core.frame.DataFrame'>\n",
            "RangeIndex: 354369 entries, 0 to 354368\n",
            "Data columns (total 11 columns):\n",
            " #   Column             Non-Null Count   Dtype  \n",
            "---  ------             --------------   -----  \n",
            " 0   registration_year  354369 non-null  int64  \n",
            " 1   age                354369 non-null  int64  \n",
            " 2   brand              354369 non-null  object \n",
            " 3   model              334664 non-null  object \n",
            " 4   vehicle_type       316879 non-null  object \n",
            " 5   fuel_type          321474 non-null  object \n",
            " 6   gearbox            334536 non-null  object \n",
            " 7   power              354369 non-null  int64  \n",
            " 8   kilometer          354369 non-null  int64  \n",
            " 9   repaired           283215 non-null  float64\n",
            " 10  price              354369 non-null  int64  \n",
            "dtypes: float64(1), int64(5), object(5)\n",
            "memory usage: 29.7+ MB\n"
          ]
        }
      ],
      "source": [
        "df['repaired'] = df['repaired'].replace({'yes':1, 'no':0})\n",
        "df['repaired'] = df['repaired'].astype(float)\n",
        "display(df.head())\n",
        "df.info()"
      ]
    },
    {
      "cell_type": "markdown",
      "metadata": {
        "id": "-iDj8pxBznTJ"
      },
      "source": [
        "### Борьба с выбросами"
      ]
    },
    {
      "cell_type": "code",
      "execution_count": null,
      "metadata": {
        "id": "OF1DIrCYznTJ"
      },
      "outputs": [],
      "source": [
        "colls = ['registration_year', 'age', 'power', 'kilometer', 'price']"
      ]
    },
    {
      "cell_type": "code",
      "execution_count": null,
      "metadata": {
        "id": "orulqjRXznTK",
        "outputId": "ed2dfb8c-5937-4ab1-dbe6-f34922d74b8c"
      },
      "outputs": [
        {
          "name": "stdout",
          "output_type": "stream",
          "text": [
            "registration_year 151\n",
            "age 151\n",
            "power 712\n",
            "kilometer 13\n",
            "price 3731\n"
          ]
        }
      ],
      "source": [
        "for col in colls:\n",
        "    print(col, df[col].nunique())"
      ]
    },
    {
      "cell_type": "code",
      "execution_count": null,
      "metadata": {
        "id": "BaBgavi-znTK"
      },
      "outputs": [],
      "source": [
        "df = df[df['registration_year'] >= 1950]\n",
        "df = df[df['registration_year'] <= 2016]"
      ]
    },
    {
      "cell_type": "code",
      "execution_count": null,
      "metadata": {
        "id": "viziGkWxznTK"
      },
      "outputs": [],
      "source": [
        "df = df[df['power'] >= 50]\n",
        "df = df[df['power'] <= 500]"
      ]
    },
    {
      "cell_type": "code",
      "execution_count": null,
      "metadata": {
        "id": "ctA4HcM4znTK"
      },
      "outputs": [],
      "source": [
        "df = df[df['price'] >= 50]"
      ]
    },
    {
      "cell_type": "code",
      "execution_count": null,
      "metadata": {
        "scrolled": true,
        "id": "sup5urv8znTL",
        "outputId": "5d8ee7d0-8fd8-4526-a290-7c89f8c0e83c"
      },
      "outputs": [
        {
          "data": {
            "text/html": [
              "<div>\n",
              "<style scoped>\n",
              "    .dataframe tbody tr th:only-of-type {\n",
              "        vertical-align: middle;\n",
              "    }\n",
              "\n",
              "    .dataframe tbody tr th {\n",
              "        vertical-align: top;\n",
              "    }\n",
              "\n",
              "    .dataframe thead th {\n",
              "        text-align: right;\n",
              "    }\n",
              "</style>\n",
              "<table border=\"1\" class=\"dataframe\">\n",
              "  <thead>\n",
              "    <tr style=\"text-align: right;\">\n",
              "      <th></th>\n",
              "      <th>registration_year</th>\n",
              "      <th>age</th>\n",
              "      <th>brand</th>\n",
              "      <th>model</th>\n",
              "      <th>vehicle_type</th>\n",
              "      <th>fuel_type</th>\n",
              "      <th>gearbox</th>\n",
              "      <th>power</th>\n",
              "      <th>kilometer</th>\n",
              "      <th>repaired</th>\n",
              "      <th>price</th>\n",
              "    </tr>\n",
              "  </thead>\n",
              "  <tbody>\n",
              "    <tr>\n",
              "      <th>1515</th>\n",
              "      <td>2010</td>\n",
              "      <td>6</td>\n",
              "      <td>audi</td>\n",
              "      <td>a6</td>\n",
              "      <td>sedan</td>\n",
              "      <td>gasoline</td>\n",
              "      <td>auto</td>\n",
              "      <td>239</td>\n",
              "      <td>150000</td>\n",
              "      <td>0.0</td>\n",
              "      <td>20000</td>\n",
              "    </tr>\n",
              "    <tr>\n",
              "      <th>1586</th>\n",
              "      <td>2014</td>\n",
              "      <td>2</td>\n",
              "      <td>seat</td>\n",
              "      <td>leon</td>\n",
              "      <td>sedan</td>\n",
              "      <td>gasoline</td>\n",
              "      <td>auto</td>\n",
              "      <td>184</td>\n",
              "      <td>40000</td>\n",
              "      <td>0.0</td>\n",
              "      <td>20000</td>\n",
              "    </tr>\n",
              "    <tr>\n",
              "      <th>2128</th>\n",
              "      <td>2014</td>\n",
              "      <td>2</td>\n",
              "      <td>kia</td>\n",
              "      <td>ceed</td>\n",
              "      <td>sedan</td>\n",
              "      <td>petrol</td>\n",
              "      <td>manual</td>\n",
              "      <td>135</td>\n",
              "      <td>30000</td>\n",
              "      <td>0.0</td>\n",
              "      <td>20000</td>\n",
              "    </tr>\n",
              "    <tr>\n",
              "      <th>3728</th>\n",
              "      <td>2011</td>\n",
              "      <td>5</td>\n",
              "      <td>mercedes_benz</td>\n",
              "      <td>c_klasse</td>\n",
              "      <td>sedan</td>\n",
              "      <td>gasoline</td>\n",
              "      <td>auto</td>\n",
              "      <td>265</td>\n",
              "      <td>50000</td>\n",
              "      <td>0.0</td>\n",
              "      <td>20000</td>\n",
              "    </tr>\n",
              "    <tr>\n",
              "      <th>6286</th>\n",
              "      <td>2009</td>\n",
              "      <td>7</td>\n",
              "      <td>mercedes_benz</td>\n",
              "      <td>e_klasse</td>\n",
              "      <td>sedan</td>\n",
              "      <td>gasoline</td>\n",
              "      <td>auto</td>\n",
              "      <td>272</td>\n",
              "      <td>150000</td>\n",
              "      <td>0.0</td>\n",
              "      <td>20000</td>\n",
              "    </tr>\n",
              "    <tr>\n",
              "      <th>...</th>\n",
              "      <td>...</td>\n",
              "      <td>...</td>\n",
              "      <td>...</td>\n",
              "      <td>...</td>\n",
              "      <td>...</td>\n",
              "      <td>...</td>\n",
              "      <td>...</td>\n",
              "      <td>...</td>\n",
              "      <td>...</td>\n",
              "      <td>...</td>\n",
              "      <td>...</td>\n",
              "    </tr>\n",
              "    <tr>\n",
              "      <th>342186</th>\n",
              "      <td>2012</td>\n",
              "      <td>4</td>\n",
              "      <td>bmw</td>\n",
              "      <td>5er</td>\n",
              "      <td>sedan</td>\n",
              "      <td>gasoline</td>\n",
              "      <td>manual</td>\n",
              "      <td>258</td>\n",
              "      <td>125000</td>\n",
              "      <td>1.0</td>\n",
              "      <td>20000</td>\n",
              "    </tr>\n",
              "    <tr>\n",
              "      <th>342303</th>\n",
              "      <td>2013</td>\n",
              "      <td>3</td>\n",
              "      <td>opel</td>\n",
              "      <td>insignia</td>\n",
              "      <td>sedan</td>\n",
              "      <td>gasoline</td>\n",
              "      <td>manual</td>\n",
              "      <td>194</td>\n",
              "      <td>60000</td>\n",
              "      <td>0.0</td>\n",
              "      <td>20000</td>\n",
              "    </tr>\n",
              "    <tr>\n",
              "      <th>348208</th>\n",
              "      <td>2011</td>\n",
              "      <td>5</td>\n",
              "      <td>mitsubishi</td>\n",
              "      <td>lancer</td>\n",
              "      <td>sedan</td>\n",
              "      <td>petrol</td>\n",
              "      <td>auto</td>\n",
              "      <td>241</td>\n",
              "      <td>40000</td>\n",
              "      <td>0.0</td>\n",
              "      <td>20000</td>\n",
              "    </tr>\n",
              "    <tr>\n",
              "      <th>349230</th>\n",
              "      <td>2008</td>\n",
              "      <td>8</td>\n",
              "      <td>mercedes_benz</td>\n",
              "      <td>viano</td>\n",
              "      <td>bus</td>\n",
              "      <td>gasoline</td>\n",
              "      <td>auto</td>\n",
              "      <td>204</td>\n",
              "      <td>125000</td>\n",
              "      <td>0.0</td>\n",
              "      <td>20000</td>\n",
              "    </tr>\n",
              "    <tr>\n",
              "      <th>354045</th>\n",
              "      <td>2006</td>\n",
              "      <td>10</td>\n",
              "      <td>mercedes_benz</td>\n",
              "      <td>other</td>\n",
              "      <td>coupe</td>\n",
              "      <td>petrol</td>\n",
              "      <td>auto</td>\n",
              "      <td>476</td>\n",
              "      <td>125000</td>\n",
              "      <td>0.0</td>\n",
              "      <td>20000</td>\n",
              "    </tr>\n",
              "  </tbody>\n",
              "</table>\n",
              "<p>237 rows × 11 columns</p>\n",
              "</div>"
            ],
            "text/plain": [
              "        registration_year  age          brand     model vehicle_type  \\\n",
              "1515                 2010    6           audi        a6        sedan   \n",
              "1586                 2014    2           seat      leon        sedan   \n",
              "2128                 2014    2            kia      ceed        sedan   \n",
              "3728                 2011    5  mercedes_benz  c_klasse        sedan   \n",
              "6286                 2009    7  mercedes_benz  e_klasse        sedan   \n",
              "...                   ...  ...            ...       ...          ...   \n",
              "342186               2012    4            bmw       5er        sedan   \n",
              "342303               2013    3           opel  insignia        sedan   \n",
              "348208               2011    5     mitsubishi    lancer        sedan   \n",
              "349230               2008    8  mercedes_benz     viano          bus   \n",
              "354045               2006   10  mercedes_benz     other        coupe   \n",
              "\n",
              "       fuel_type gearbox  power  kilometer  repaired  price  \n",
              "1515    gasoline    auto    239     150000       0.0  20000  \n",
              "1586    gasoline    auto    184      40000       0.0  20000  \n",
              "2128      petrol  manual    135      30000       0.0  20000  \n",
              "3728    gasoline    auto    265      50000       0.0  20000  \n",
              "6286    gasoline    auto    272     150000       0.0  20000  \n",
              "...          ...     ...    ...        ...       ...    ...  \n",
              "342186  gasoline  manual    258     125000       1.0  20000  \n",
              "342303  gasoline  manual    194      60000       0.0  20000  \n",
              "348208    petrol    auto    241      40000       0.0  20000  \n",
              "349230  gasoline    auto    204     125000       0.0  20000  \n",
              "354045    petrol    auto    476     125000       0.0  20000  \n",
              "\n",
              "[237 rows x 11 columns]"
            ]
          },
          "execution_count": 28,
          "metadata": {},
          "output_type": "execute_result"
        }
      ],
      "source": [
        "df[df['price'] == 20000]"
      ]
    },
    {
      "cell_type": "markdown",
      "metadata": {
        "id": "IdDFHKSgznTL"
      },
      "source": [
        "Были обнаружены выбросы и принято решение удалить их вручную основываясь на соображениях разумности."
      ]
    },
    {
      "cell_type": "markdown",
      "metadata": {
        "id": "TCeJ_AxJznTL"
      },
      "source": [
        "### Борьба с пропусками"
      ]
    },
    {
      "cell_type": "code",
      "execution_count": null,
      "metadata": {
        "id": "_hy5Y5kbznTL",
        "outputId": "34495e7a-2462-4fb4-fdbf-54efe60fb8fc"
      },
      "outputs": [
        {
          "data": {
            "text/plain": [
              "registration_year        0\n",
              "age                      0\n",
              "brand                    0\n",
              "model                10545\n",
              "vehicle_type         10512\n",
              "fuel_type            14795\n",
              "gearbox               4924\n",
              "power                    0\n",
              "kilometer                0\n",
              "repaired             41266\n",
              "price                    0\n",
              "dtype: int64"
            ]
          },
          "execution_count": 29,
          "metadata": {},
          "output_type": "execute_result"
        }
      ],
      "source": [
        "df.isna().sum()"
      ]
    },
    {
      "cell_type": "code",
      "execution_count": null,
      "metadata": {
        "id": "52JXcoJSznTL"
      },
      "outputs": [],
      "source": [
        "colls = ['model', 'vehicle_type', 'fuel_type', 'gearbox', 'repaired']"
      ]
    },
    {
      "cell_type": "code",
      "execution_count": null,
      "metadata": {
        "scrolled": false,
        "id": "JQ9nySSBznTL",
        "outputId": "468dec7e-a8ff-4b67-ae89-aa8eedabda7d"
      },
      "outputs": [
        {
          "name": "stdout",
          "output_type": "stream",
          "text": [
            "Уникальные значения столбца model - 249:\n",
            "['100', '145', '147', '156', '159', '1_reihe', '1er', '200', '2_reihe', '300c', '3_reihe', '3er', '4_reihe', '500', '5_reihe', '5er', '601', '6_reihe', '6er', '7er', '80', '850', '90', '900', '9000', '911', 'a1', 'a2', 'a3', 'a4', 'a5', 'a6', 'a8', 'a_klasse', 'accord', 'agila', 'alhambra', 'almera', 'altea', 'amarok', 'antara', 'arosa', 'astra', 'auris', 'avensis', 'aveo', 'aygo', 'b_klasse', 'b_max', 'beetle', 'berlingo', 'bora', 'boxster', 'bravo', 'c1', 'c2', 'c3', 'c4', 'c5', 'c_klasse', 'c_max', 'c_reihe', 'caddy', 'calibra', 'captiva', 'carisma', 'carnival', 'cayenne', 'cc', 'ceed', 'charade', 'cherokee', 'citigo', 'civic', 'cl', 'clio', 'clk', 'clubman', 'colt', 'combo', 'cooper', 'cordoba', 'corolla', 'corsa', 'cr_reihe', 'croma', 'crossfire', 'cuore', 'cx_reihe', 'defender', 'delta', 'discovery', 'doblo', 'ducato', 'duster', 'e_klasse', 'elefantino', 'eos', 'escort', 'espace', 'exeo', 'fabia', 'fiesta', 'focus', 'forester', 'forfour', 'fortwo', 'fox', 'freelander', 'fusion', 'g_klasse', 'galant', 'galaxy', 'getz', 'gl', 'glk', 'golf', 'grand', 'i3', 'i_reihe', 'ibiza', 'impreza', 'insignia', 'jazz', 'jetta', 'jimny', 'juke', 'justy', 'ka', 'kadett', 'kaefer', 'kalina', 'kalos', 'kangoo', 'kappa', 'kuga', 'laguna', 'lancer', 'lanos', 'legacy', 'leon', 'lodgy', 'logan', 'lupo', 'lybra', 'm_klasse', 'm_reihe', 'materia', 'matiz', 'megane', 'meriva', 'micra', 'mii', 'modus', 'mondeo', 'move', 'musa', 'mustang', 'mx_reihe', 'nan', 'navara', 'niva', 'note', 'nubira', 'octavia', 'omega', 'one', 'other', 'outlander', 'pajero', 'panda', 'passat', 'phaeton', 'picanto', 'polo', 'primera', 'ptcruiser', 'punto', 'q3', 'q5', 'q7', 'qashqai', 'r19', 'range_rover', 'range_rover_evoque', 'range_rover_sport', 'rangerover', 'rav', 'rio', 'roadster', 'roomster', 'rx_reihe', 's60', 's_klasse', 's_max', 's_type', 'samara', 'sandero', 'santa', 'scenic', 'scirocco', 'seicento', 'serie_2', 'serie_3', 'sharan', 'signum', 'sirion', 'sl', 'slk', 'sorento', 'spark', 'spider', 'sportage', 'sprinter', 'stilo', 'superb', 'swift', 'terios', 'tigra', 'tiguan', 'toledo', 'touareg', 'touran', 'transit', 'transporter', 'tt', 'tucson', 'twingo', 'up', 'v40', 'v50', 'v60', 'v70', 'v_klasse', 'vectra', 'verso', 'viano', 'vito', 'vivaro', 'voyager', 'wrangler', 'x_reihe', 'x_trail', 'x_type', 'xc_reihe', 'yaris', 'yeti', 'ypsilon', 'z_reihe', 'zafira'] \n",
            "\n",
            "Уникальные значения столбца vehicle_type - 8:\n",
            "['bus', 'convertible', 'coupe', 'nan', 'other', 'sedan', 'small', 'suv', 'wagon'] \n",
            "\n",
            "Уникальные значения столбца fuel_type - 7:\n",
            "['cng', 'electric', 'gasoline', 'hybrid', 'lpg', 'nan', 'other', 'petrol'] \n",
            "\n",
            "Уникальные значения столбца gearbox - 2:\n",
            "['auto', 'manual', 'nan'] \n",
            "\n",
            "Уникальные значения столбца repaired - 2:\n",
            "['0.0', '1.0', 'nan'] \n",
            "\n"
          ]
        }
      ],
      "source": [
        "for col in colls:    \n",
        "    print(f'Уникальные значения столбца {col} - {df[col].nunique()}:')\n",
        "    print(sorted(df[col].astype(str).unique()), '\\n')"
      ]
    },
    {
      "cell_type": "code",
      "execution_count": null,
      "metadata": {
        "id": "hkRqedWAznTM"
      },
      "outputs": [],
      "source": [
        "colls=['brand', 'model', 'vehicle_type', 'fuel_type', 'gearbox']"
      ]
    },
    {
      "cell_type": "code",
      "execution_count": null,
      "metadata": {
        "id": "uzuVcy8hznTM"
      },
      "outputs": [],
      "source": [
        "encoder_oe = OrdinalEncoder()\n",
        "df[colls] = encoder_oe.fit_transform(df[colls])\n"
      ]
    },
    {
      "cell_type": "code",
      "execution_count": null,
      "metadata": {
        "id": "hC9phS3uznTM",
        "outputId": "6308e124-e2f2-4caa-db3c-a9286731f38f"
      },
      "outputs": [
        {
          "name": "stderr",
          "output_type": "stream",
          "text": [
            "100%|██████████| 11/11 [00:32<00:00,  2.99s/it]\n"
          ]
        }
      ],
      "source": [
        "nona(df)"
      ]
    },
    {
      "cell_type": "code",
      "execution_count": null,
      "metadata": {
        "id": "ej21LTIjznTM"
      },
      "outputs": [],
      "source": [
        "df[colls] = encoder_oe.inverse_transform(df[colls])"
      ]
    },
    {
      "cell_type": "code",
      "execution_count": null,
      "metadata": {
        "id": "lcSAYE85znTM",
        "outputId": "f82a0c05-d09a-4fa4-8eec-18340783c435"
      },
      "outputs": [
        {
          "data": {
            "text/plain": [
              "registration_year    0\n",
              "age                  0\n",
              "brand                0\n",
              "model                0\n",
              "vehicle_type         0\n",
              "fuel_type            0\n",
              "gearbox              0\n",
              "power                0\n",
              "kilometer            0\n",
              "repaired             0\n",
              "price                0\n",
              "dtype: int64"
            ]
          },
          "execution_count": 36,
          "metadata": {},
          "output_type": "execute_result"
        }
      ],
      "source": [
        "df.isna().sum()"
      ]
    },
    {
      "cell_type": "code",
      "execution_count": null,
      "metadata": {
        "scrolled": false,
        "id": "x8f8NxvAznTM",
        "outputId": "89f1c17a-aff9-406a-e270-fd03c5e7f701"
      },
      "outputs": [
        {
          "data": {
            "text/html": [
              "<div>\n",
              "<style scoped>\n",
              "    .dataframe tbody tr th:only-of-type {\n",
              "        vertical-align: middle;\n",
              "    }\n",
              "\n",
              "    .dataframe tbody tr th {\n",
              "        vertical-align: top;\n",
              "    }\n",
              "\n",
              "    .dataframe thead th {\n",
              "        text-align: right;\n",
              "    }\n",
              "</style>\n",
              "<table border=\"1\" class=\"dataframe\">\n",
              "  <thead>\n",
              "    <tr style=\"text-align: right;\">\n",
              "      <th></th>\n",
              "      <th>registration_year</th>\n",
              "      <th>age</th>\n",
              "      <th>brand</th>\n",
              "      <th>model</th>\n",
              "      <th>vehicle_type</th>\n",
              "      <th>fuel_type</th>\n",
              "      <th>gearbox</th>\n",
              "      <th>power</th>\n",
              "      <th>kilometer</th>\n",
              "      <th>repaired</th>\n",
              "      <th>price</th>\n",
              "    </tr>\n",
              "  </thead>\n",
              "  <tbody>\n",
              "    <tr>\n",
              "      <th>1</th>\n",
              "      <td>2011</td>\n",
              "      <td>5</td>\n",
              "      <td>audi</td>\n",
              "      <td>captiva</td>\n",
              "      <td>coupe</td>\n",
              "      <td>gasoline</td>\n",
              "      <td>manual</td>\n",
              "      <td>190</td>\n",
              "      <td>125000</td>\n",
              "      <td>1.0</td>\n",
              "      <td>18300</td>\n",
              "    </tr>\n",
              "    <tr>\n",
              "      <th>2</th>\n",
              "      <td>2004</td>\n",
              "      <td>12</td>\n",
              "      <td>jeep</td>\n",
              "      <td>grand</td>\n",
              "      <td>suv</td>\n",
              "      <td>gasoline</td>\n",
              "      <td>auto</td>\n",
              "      <td>163</td>\n",
              "      <td>125000</td>\n",
              "      <td>0.0</td>\n",
              "      <td>9800</td>\n",
              "    </tr>\n",
              "    <tr>\n",
              "      <th>3</th>\n",
              "      <td>2001</td>\n",
              "      <td>15</td>\n",
              "      <td>volkswagen</td>\n",
              "      <td>golf</td>\n",
              "      <td>small</td>\n",
              "      <td>petrol</td>\n",
              "      <td>manual</td>\n",
              "      <td>75</td>\n",
              "      <td>150000</td>\n",
              "      <td>0.0</td>\n",
              "      <td>1500</td>\n",
              "    </tr>\n",
              "    <tr>\n",
              "      <th>4</th>\n",
              "      <td>2008</td>\n",
              "      <td>8</td>\n",
              "      <td>skoda</td>\n",
              "      <td>fabia</td>\n",
              "      <td>small</td>\n",
              "      <td>gasoline</td>\n",
              "      <td>manual</td>\n",
              "      <td>69</td>\n",
              "      <td>90000</td>\n",
              "      <td>0.0</td>\n",
              "      <td>3600</td>\n",
              "    </tr>\n",
              "    <tr>\n",
              "      <th>5</th>\n",
              "      <td>1995</td>\n",
              "      <td>21</td>\n",
              "      <td>bmw</td>\n",
              "      <td>3er</td>\n",
              "      <td>sedan</td>\n",
              "      <td>petrol</td>\n",
              "      <td>manual</td>\n",
              "      <td>102</td>\n",
              "      <td>150000</td>\n",
              "      <td>1.0</td>\n",
              "      <td>650</td>\n",
              "    </tr>\n",
              "    <tr>\n",
              "      <th>...</th>\n",
              "      <td>...</td>\n",
              "      <td>...</td>\n",
              "      <td>...</td>\n",
              "      <td>...</td>\n",
              "      <td>...</td>\n",
              "      <td>...</td>\n",
              "      <td>...</td>\n",
              "      <td>...</td>\n",
              "      <td>...</td>\n",
              "      <td>...</td>\n",
              "      <td>...</td>\n",
              "    </tr>\n",
              "    <tr>\n",
              "      <th>354361</th>\n",
              "      <td>2016</td>\n",
              "      <td>0</td>\n",
              "      <td>alfa_romeo</td>\n",
              "      <td>159</td>\n",
              "      <td>sedan</td>\n",
              "      <td>petrol</td>\n",
              "      <td>auto</td>\n",
              "      <td>150</td>\n",
              "      <td>150000</td>\n",
              "      <td>0.0</td>\n",
              "      <td>5250</td>\n",
              "    </tr>\n",
              "    <tr>\n",
              "      <th>354362</th>\n",
              "      <td>2004</td>\n",
              "      <td>12</td>\n",
              "      <td>seat</td>\n",
              "      <td>leon</td>\n",
              "      <td>sedan</td>\n",
              "      <td>petrol</td>\n",
              "      <td>manual</td>\n",
              "      <td>225</td>\n",
              "      <td>150000</td>\n",
              "      <td>1.0</td>\n",
              "      <td>3200</td>\n",
              "    </tr>\n",
              "    <tr>\n",
              "      <th>354366</th>\n",
              "      <td>2000</td>\n",
              "      <td>16</td>\n",
              "      <td>smart</td>\n",
              "      <td>fortwo</td>\n",
              "      <td>convertible</td>\n",
              "      <td>petrol</td>\n",
              "      <td>auto</td>\n",
              "      <td>101</td>\n",
              "      <td>125000</td>\n",
              "      <td>0.0</td>\n",
              "      <td>1199</td>\n",
              "    </tr>\n",
              "    <tr>\n",
              "      <th>354367</th>\n",
              "      <td>1996</td>\n",
              "      <td>20</td>\n",
              "      <td>volkswagen</td>\n",
              "      <td>transporter</td>\n",
              "      <td>bus</td>\n",
              "      <td>gasoline</td>\n",
              "      <td>manual</td>\n",
              "      <td>102</td>\n",
              "      <td>150000</td>\n",
              "      <td>0.0</td>\n",
              "      <td>9200</td>\n",
              "    </tr>\n",
              "    <tr>\n",
              "      <th>354368</th>\n",
              "      <td>2002</td>\n",
              "      <td>14</td>\n",
              "      <td>volkswagen</td>\n",
              "      <td>golf</td>\n",
              "      <td>wagon</td>\n",
              "      <td>gasoline</td>\n",
              "      <td>manual</td>\n",
              "      <td>100</td>\n",
              "      <td>150000</td>\n",
              "      <td>0.0</td>\n",
              "      <td>3400</td>\n",
              "    </tr>\n",
              "  </tbody>\n",
              "</table>\n",
              "<p>290258 rows × 11 columns</p>\n",
              "</div>"
            ],
            "text/plain": [
              "        registration_year  age       brand        model vehicle_type  \\\n",
              "1                    2011    5        audi      captiva        coupe   \n",
              "2                    2004   12        jeep        grand          suv   \n",
              "3                    2001   15  volkswagen         golf        small   \n",
              "4                    2008    8       skoda        fabia        small   \n",
              "5                    1995   21         bmw          3er        sedan   \n",
              "...                   ...  ...         ...          ...          ...   \n",
              "354361               2016    0  alfa_romeo          159        sedan   \n",
              "354362               2004   12        seat         leon        sedan   \n",
              "354366               2000   16       smart       fortwo  convertible   \n",
              "354367               1996   20  volkswagen  transporter          bus   \n",
              "354368               2002   14  volkswagen         golf        wagon   \n",
              "\n",
              "       fuel_type gearbox  power  kilometer  repaired  price  \n",
              "1       gasoline  manual    190     125000       1.0  18300  \n",
              "2       gasoline    auto    163     125000       0.0   9800  \n",
              "3         petrol  manual     75     150000       0.0   1500  \n",
              "4       gasoline  manual     69      90000       0.0   3600  \n",
              "5         petrol  manual    102     150000       1.0    650  \n",
              "...          ...     ...    ...        ...       ...    ...  \n",
              "354361    petrol    auto    150     150000       0.0   5250  \n",
              "354362    petrol  manual    225     150000       1.0   3200  \n",
              "354366    petrol    auto    101     125000       0.0   1199  \n",
              "354367  gasoline  manual    102     150000       0.0   9200  \n",
              "354368  gasoline  manual    100     150000       0.0   3400  \n",
              "\n",
              "[290258 rows x 11 columns]"
            ]
          },
          "execution_count": 37,
          "metadata": {},
          "output_type": "execute_result"
        }
      ],
      "source": [
        "df"
      ]
    },
    {
      "cell_type": "code",
      "execution_count": null,
      "metadata": {
        "id": "SRXzF31wznTN"
      },
      "outputs": [],
      "source": [
        "df['repaired'] = df['repaired'].astype(int)"
      ]
    },
    {
      "cell_type": "markdown",
      "metadata": {
        "id": "9X1HM039znTN"
      },
      "source": [
        "Пропуски были восстановлены используя алгоритм nona. При этом картинка графиков плотности не изменилась."
      ]
    },
    {
      "cell_type": "markdown",
      "metadata": {
        "id": "qqTWtUO2znTN"
      },
      "source": [
        "### Осмотр результатов проведенной работы"
      ]
    },
    {
      "cell_type": "code",
      "execution_count": null,
      "metadata": {
        "id": "8Mj6hDdWznTN",
        "outputId": "0e421ca5-7c0d-444a-b5e3-1ffe12c58b94"
      },
      "outputs": [
        {
          "data": {
            "image/png": "[encoded data removed]",
            "text/plain": [
              "<Figure size 1500x1200 with 6 Axes>"
            ]
          },
          "metadata": {},
          "output_type": "display_data"
        }
      ],
      "source": [
        "df.hist(figsize=(15,12), bins=20);"
      ]
    },
    {
      "cell_type": "code",
      "execution_count": null,
      "metadata": {
        "id": "2NcVj4xRznTN",
        "outputId": "e5518b24-7b88-4316-c4c0-e98888a57e5d"
      },
      "outputs": [
        {
          "name": "stdout",
          "output_type": "stream",
          "text": [
            "<class 'pandas.core.frame.DataFrame'>\n",
            "Int64Index: 290258 entries, 1 to 354368\n",
            "Data columns (total 11 columns):\n",
            " #   Column             Non-Null Count   Dtype \n",
            "---  ------             --------------   ----- \n",
            " 0   registration_year  290258 non-null  int64 \n",
            " 1   age                290258 non-null  int64 \n",
            " 2   brand              290258 non-null  object\n",
            " 3   model              290258 non-null  object\n",
            " 4   vehicle_type       290258 non-null  object\n",
            " 5   fuel_type          290258 non-null  object\n",
            " 6   gearbox            290258 non-null  object\n",
            " 7   power              290258 non-null  int64 \n",
            " 8   kilometer          290258 non-null  int64 \n",
            " 9   repaired           290258 non-null  int32 \n",
            " 10  price              290258 non-null  int64 \n",
            "dtypes: int32(1), int64(5), object(5)\n",
            "memory usage: 33.5+ MB\n"
          ]
        }
      ],
      "source": [
        "df.info()"
      ]
    },
    {
      "cell_type": "code",
      "execution_count": null,
      "metadata": {
        "scrolled": true,
        "id": "9D6tLkdeznTO",
        "outputId": "9054f802-d21d-4087-b041-6b1c25370e8c"
      },
      "outputs": [
        {
          "name": "stdout",
          "output_type": "stream",
          "text": [
            "Столбец registration_year\n",
            "count    290258.000000\n",
            "mean       2002.980879\n",
            "std           6.293555\n",
            "min        1950.000000\n",
            "25%        1999.000000\n",
            "50%        2003.000000\n",
            "75%        2007.000000\n",
            "max        2016.000000\n",
            "Name: registration_year, dtype: float64\n",
            "\n",
            "Столбец age\n",
            "count    290258.000000\n",
            "mean         13.019042\n",
            "std           6.293571\n",
            "min           0.000000\n",
            "25%           9.000000\n",
            "50%          13.000000\n",
            "75%          17.000000\n",
            "max          66.000000\n",
            "Name: age, dtype: float64\n",
            "\n",
            "Столбец brand\n",
            "count         290258\n",
            "unique            40\n",
            "top       volkswagen\n",
            "freq           62663\n",
            "Name: brand, dtype: object\n",
            "\n",
            "Столбец model\n",
            "count     290258\n",
            "unique       249\n",
            "top         golf\n",
            "freq       24913\n",
            "Name: model, dtype: object\n",
            "\n",
            "Столбец vehicle_type\n",
            "count     290258\n",
            "unique         8\n",
            "top        sedan\n",
            "freq       88927\n",
            "Name: vehicle_type, dtype: object\n",
            "\n",
            "Столбец fuel_type\n",
            "count     290258\n",
            "unique         7\n",
            "top       petrol\n",
            "freq      196948\n",
            "Name: fuel_type, dtype: object\n",
            "\n",
            "Столбец gearbox\n",
            "count     290258\n",
            "unique         2\n",
            "top       manual\n",
            "freq      232243\n",
            "Name: gearbox, dtype: object\n",
            "\n",
            "Столбец power\n",
            "count    290258.000000\n",
            "mean        122.012658\n",
            "std          52.848174\n",
            "min          50.000000\n",
            "25%          80.000000\n",
            "50%         115.000000\n",
            "75%         150.000000\n",
            "max         500.000000\n",
            "Name: power, dtype: float64\n",
            "\n",
            "Столбец kilometer\n",
            "count    290258.000000\n",
            "mean     128492.823626\n",
            "std       36536.570289\n",
            "min        5000.000000\n",
            "25%      125000.000000\n",
            "50%      150000.000000\n",
            "75%      150000.000000\n",
            "max      150000.000000\n",
            "Name: kilometer, dtype: float64\n",
            "\n",
            "Столбец repaired\n",
            "count    290258.000000\n",
            "mean          0.096280\n",
            "std           0.294975\n",
            "min           0.000000\n",
            "25%           0.000000\n",
            "50%           0.000000\n",
            "75%           0.000000\n",
            "max           1.000000\n",
            "Name: repaired, dtype: float64\n",
            "\n",
            "Столбец price\n",
            "count    290258.000000\n",
            "mean       4920.989657\n",
            "std        4618.877254\n",
            "min          50.000000\n",
            "25%        1400.000000\n",
            "50%        3250.000000\n",
            "75%        7000.000000\n",
            "max       20000.000000\n",
            "Name: price, dtype: float64\n",
            "\n"
          ]
        }
      ],
      "source": [
        "for col in df.columns:\n",
        "    print(f'Столбец {col}', '\\n', df[col].describe(), '\\n', sep='')"
      ]
    },
    {
      "cell_type": "markdown",
      "metadata": {
        "id": "zUqf3ht5znTO"
      },
      "source": [
        "Данные были изучены и приведены в подходящий для обучения моделей вид. Лишние столбцы удалены, выбросы удалены, пропуски восстановлены."
      ]
    },
    {
      "cell_type": "markdown",
      "metadata": {
        "id": "rTmoVkQbznTO"
      },
      "source": [
        "### Кодирование признаков"
      ]
    },
    {
      "cell_type": "code",
      "execution_count": null,
      "metadata": {
        "id": "JZL_vAN4znTO"
      },
      "outputs": [],
      "source": [
        "features_train, features_pack,\\\n",
        "target_train, target_pack = train_test_split(\n",
        "    df.drop(['price'], axis=1), df['price'],\n",
        "    test_size=TEST_SIZE, random_state=RANDOM_STATE)"
      ]
    },
    {
      "cell_type": "code",
      "execution_count": null,
      "metadata": {
        "id": "KfAMbQfEznTO"
      },
      "outputs": [],
      "source": [
        "features_val, features_test,\\\n",
        "target_val, target_test = train_test_split(\n",
        "    features_pack, target_pack,\n",
        "    test_size=TEST_SIZE_2, random_state=RANDOM_STATE)"
      ]
    },
    {
      "cell_type": "code",
      "execution_count": null,
      "metadata": {
        "id": "f7FpxFhqznTO",
        "outputId": "f4bcf62b-e48e-4d57-f5ac-1b92642adfec"
      },
      "outputs": [
        {
          "name": "stdout",
          "output_type": "stream",
          "text": [
            "features_train (174154, 10)\n",
            "features_val (58052, 10)\n",
            "features_test (58052, 10)\n"
          ]
        }
      ],
      "source": [
        "print('features_train', features_train.shape)\n",
        "print('features_val', features_val.shape)\n",
        "print('features_test', features_test.shape)"
      ]
    },
    {
      "cell_type": "code",
      "execution_count": null,
      "metadata": {
        "id": "3UWb4jajznTP",
        "outputId": "86308172-7e76-460b-f035-e822538f47d2"
      },
      "outputs": [
        {
          "name": "stderr",
          "output_type": "stream",
          "text": [
            "C:\\Users\\keyten\\Anaconda3\\envs\\practicum\\lib\\site-packages\\sklearn\\utils\\deprecation.py:87: FutureWarning: Function get_feature_names is deprecated; get_feature_names is deprecated in 1.0 and will be removed in 1.2. Please use get_feature_names_out instead.\n",
            "  warnings.warn(msg, category=FutureWarning)\n",
            "C:\\Users\\keyten\\Anaconda3\\envs\\practicum\\lib\\site-packages\\sklearn\\utils\\deprecation.py:87: FutureWarning: Function get_feature_names is deprecated; get_feature_names is deprecated in 1.0 and will be removed in 1.2. Please use get_feature_names_out instead.\n",
            "  warnings.warn(msg, category=FutureWarning)\n",
            "C:\\Users\\keyten\\Anaconda3\\envs\\practicum\\lib\\site-packages\\sklearn\\utils\\deprecation.py:87: FutureWarning: Function get_feature_names is deprecated; get_feature_names is deprecated in 1.0 and will be removed in 1.2. Please use get_feature_names_out instead.\n",
            "  warnings.warn(msg, category=FutureWarning)\n"
          ]
        }
      ],
      "source": [
        "features_train, features_val, features_test = encode(features_train, features_val, features_test)"
      ]
    },
    {
      "cell_type": "markdown",
      "metadata": {
        "id": "OgghEeQiznTP"
      },
      "source": [
        "Было решено применить масштабирование для всех числовых столбцов кроме repaired, порядковое кодирование для столбца model(так как много уникальных значений) и прямое кодирование для остальных не числовых столбцов. "
      ]
    },
    {
      "cell_type": "markdown",
      "metadata": {
        "id": "6u_C9xjmznTQ"
      },
      "source": [
        "## Обучение моделей"
      ]
    },
    {
      "cell_type": "markdown",
      "metadata": {
        "id": "8CfH_xOWznTQ"
      },
      "source": [
        "Будут обучаться модели:  \n",
        " - линейная регрессия - LinearRegression  \n",
        " - гребневая регрессия - Ridge  \n",
        " - ансамбль решающих деревьев - RandomForestRegressor  \n",
        " - градиентный бустинг - CatBoostRegressor  \n",
        "   \n",
        "Будет исследоваться их точность, время обучения, время работы."
      ]
    },
    {
      "cell_type": "code",
      "execution_count": null,
      "metadata": {
        "id": "87UTVChPznTQ",
        "outputId": "82460f4a-7d24-453b-c4df-3557c335ce73"
      },
      "outputs": [
        {
          "name": "stdout",
          "output_type": "stream",
          "text": [
            "RMSE = 2747.2002706547\n",
            "CPU times: total: 3.07 s\n",
            "Wall time: 1.37 s\n"
          ]
        }
      ],
      "source": [
        "%%time\n",
        "model_l = LinearRegression()\n",
        "model_l.fit(features_train, target_train)\n",
        "pred_l = model_l.predict(features_val)\n",
        "print(\"RMSE =\", mean_squared_error(target_val, pred_l) ** 0.5)"
      ]
    },
    {
      "cell_type": "code",
      "execution_count": null,
      "metadata": {
        "id": "kBesZTGJznTQ",
        "outputId": "8eba5374-08b1-4ccf-990e-80f735fe6d02"
      },
      "outputs": [
        {
          "name": "stdout",
          "output_type": "stream",
          "text": [
            "RMSE = 2739.3640422174944\n",
            "CPU times: total: 11.7 s\n",
            "Wall time: 5.56 s\n"
          ]
        }
      ],
      "source": [
        "%%time\n",
        "model_l = LinearRegression()\n",
        "rmse_cross_val_l = (cross_val_score(model_l, \n",
        "                                   features_train, \n",
        "                                   target_train,\n",
        "                                  cv=CV,\n",
        "                                  scoring='neg_mean_squared_error').\n",
        "                    mean() * -1) ** 0.5\n",
        "print(\"RMSE =\", rmse_cross_val_l)"
      ]
    },
    {
      "cell_type": "code",
      "execution_count": null,
      "metadata": {
        "scrolled": true,
        "id": "W-5sOmGzznTQ",
        "outputId": "919a68e6-5473-465e-c2e0-5d5fedb77e14"
      },
      "outputs": [
        {
          "name": "stdout",
          "output_type": "stream",
          "text": [
            "best solver auto\n",
            "RMSE = 2739.3566127105155\n",
            "CPU times: total: 6min 6s\n",
            "Wall time: 5min 51s\n"
          ]
        },
        {
          "name": "stderr",
          "output_type": "stream",
          "text": [
            "C:\\Users\\keyten\\Anaconda3\\envs\\practicum\\lib\\site-packages\\sklearn\\model_selection\\_validation.py:378: FitFailedWarning: \n",
            "5 fits failed out of a total of 40.\n",
            "The score on these train-test partitions for these parameters will be set to nan.\n",
            "If these failures are not expected, you can try to debug them by setting error_score='raise'.\n",
            "\n",
            "Below are more details about the failures:\n",
            "--------------------------------------------------------------------------------\n",
            "5 fits failed with the following error:\n",
            "Traceback (most recent call last):\n",
            "  File \"C:\\Users\\keyten\\Anaconda3\\envs\\practicum\\lib\\site-packages\\sklearn\\model_selection\\_validation.py\", line 686, in _fit_and_score\n",
            "    estimator.fit(X_train, y_train, **fit_params)\n",
            "  File \"C:\\Users\\keyten\\Anaconda3\\envs\\practicum\\lib\\site-packages\\sklearn\\linear_model\\_ridge.py\", line 1130, in fit\n",
            "    return super().fit(X, y, sample_weight=sample_weight)\n",
            "  File \"C:\\Users\\keyten\\Anaconda3\\envs\\practicum\\lib\\site-packages\\sklearn\\linear_model\\_ridge.py\", line 806, in fit\n",
            "    raise ValueError(\n",
            "ValueError: 'lbfgs' solver can be used only when positive=True. Please use another solver.\n",
            "\n",
            "  warnings.warn(some_fits_failed_message, FitFailedWarning)\n",
            "C:\\Users\\keyten\\Anaconda3\\envs\\practicum\\lib\\site-packages\\sklearn\\model_selection\\_search.py:953: UserWarning: One or more of the test scores are non-finite: [-7504074.65160083 -7504074.65160083 -7504074.65160083 -7941767.28837865\n",
            " -7512183.13158831 -7506469.15144013 -7508060.31697905               nan]\n",
            "  warnings.warn(\n"
          ]
        }
      ],
      "source": [
        "%%time\n",
        "model_r = Ridge(random_state=RANDOM_STATE)\n",
        "grid_params = [{'solver':['auto', 'svd', 'cholesky', 'lsqr', 'sparse_cg', 'sag', 'saga', 'lbfgs']}]\n",
        "grid_model_r = GridSearchCV(model_r, \n",
        "    grid_params, \n",
        "    scoring='neg_mean_squared_error')\n",
        "grid_model_r.fit(features_train, target_train)\n",
        "print('best solver', grid_model_r.best_params_['solver'])\n",
        "print(\"RMSE =\", (grid_model_r.best_score_*-1)**0.5)"
      ]
    },
    {
      "cell_type": "code",
      "execution_count": null,
      "metadata": {
        "scrolled": true,
        "id": "HUja2X3oznTR",
        "outputId": "79d31f64-7492-409f-bcf0-b5a00bee5d6e"
      },
      "outputs": [
        {
          "name": "stdout",
          "output_type": "stream",
          "text": [
            "best params {'max_depth': 20, 'n_estimators': 100}\n",
            "RMSE = 1590.681810564274\n",
            "CPU times: total: 6min 33s\n",
            "Wall time: 57min 43s\n"
          ]
        }
      ],
      "source": [
        "%%time\n",
        "model_f = RandomForestRegressor(random_state=RANDOM_STATE, n_jobs=N_JOBS)\n",
        "grid_params = [{'n_estimators':np.arange(50, 101, 10), 'max_depth':np.arange(10,30,5)}]\n",
        "grid_model_f = GridSearchCV(model_f, \n",
        "    grid_params, \n",
        "    scoring='neg_mean_squared_error')\n",
        "grid_model_f.fit(features_train, target_train)\n",
        "print('best params', grid_model_f.best_params_)\n",
        "print(\"RMSE =\", (grid_model_f.best_score_*-1)**0.5)"
      ]
    },
    {
      "cell_type": "code",
      "execution_count": null,
      "metadata": {
        "id": "kaui4MUMznTR",
        "outputId": "a79f2ddd-526a-4416-f792-4d7dc01a38ae"
      },
      "outputs": [
        {
          "name": "stdout",
          "output_type": "stream",
          "text": [
            "Learning rate set to 0.092522\n",
            "0:\tlearn: 4336.7481079\ttotal: 82.1ms\tremaining: 1m 21s\n",
            "1:\tlearn: 4086.3177003\ttotal: 103ms\tremaining: 51.2s\n",
            "2:\tlearn: 3861.9681893\ttotal: 121ms\tremaining: 40.3s\n",
            "3:\tlearn: 3665.9043341\ttotal: 140ms\tremaining: 34.8s\n",
            "4:\tlearn: 3487.3153978\ttotal: 156ms\tremaining: 31.1s\n",
            "5:\tlearn: 3334.0330723\ttotal: 177ms\tremaining: 29.2s\n",
            "6:\tlearn: 3192.7887867\ttotal: 198ms\tremaining: 28.1s\n",
            "7:\tlearn: 3065.4498110\ttotal: 217ms\tremaining: 26.9s\n",
            "8:\tlearn: 2953.7423214\ttotal: 235ms\tremaining: 25.9s\n",
            "9:\tlearn: 2858.2163864\ttotal: 254ms\tremaining: 25.1s\n",
            "10:\tlearn: 2770.5830855\ttotal: 272ms\tremaining: 24.5s\n",
            "11:\tlearn: 2693.8886882\ttotal: 292ms\tremaining: 24s\n",
            "12:\tlearn: 2625.5702241\ttotal: 309ms\tremaining: 23.5s\n",
            "13:\tlearn: 2566.8232112\ttotal: 326ms\tremaining: 23s\n",
            "14:\tlearn: 2513.2242901\ttotal: 342ms\tremaining: 22.5s\n",
            "15:\tlearn: 2464.6709785\ttotal: 360ms\tremaining: 22.1s\n",
            "16:\tlearn: 2420.5979150\ttotal: 380ms\tremaining: 22s\n",
            "17:\tlearn: 2385.2513521\ttotal: 397ms\tremaining: 21.7s\n",
            "18:\tlearn: 2350.2560309\ttotal: 414ms\tremaining: 21.4s\n",
            "19:\tlearn: 2317.6533706\ttotal: 430ms\tremaining: 21.1s\n",
            "20:\tlearn: 2289.8474586\ttotal: 445ms\tremaining: 20.7s\n",
            "21:\tlearn: 2259.0572771\ttotal: 461ms\tremaining: 20.5s\n",
            "22:\tlearn: 2233.3473701\ttotal: 477ms\tremaining: 20.3s\n",
            "23:\tlearn: 2211.9480625\ttotal: 494ms\tremaining: 20.1s\n",
            "24:\tlearn: 2184.4542378\ttotal: 509ms\tremaining: 19.9s\n",
            "25:\tlearn: 2165.5991193\ttotal: 524ms\tremaining: 19.6s\n",
            "26:\tlearn: 2143.8355490\ttotal: 540ms\tremaining: 19.5s\n",
            "27:\tlearn: 2127.5747504\ttotal: 555ms\tremaining: 19.3s\n",
            "28:\tlearn: 2111.5974670\ttotal: 571ms\tremaining: 19.1s\n",
            "29:\tlearn: 2095.2404683\ttotal: 589ms\tremaining: 19s\n",
            "30:\tlearn: 2081.3363009\ttotal: 605ms\tremaining: 18.9s\n",
            "31:\tlearn: 2066.0345285\ttotal: 621ms\tremaining: 18.8s\n",
            "32:\tlearn: 2053.8649788\ttotal: 636ms\tremaining: 18.6s\n",
            "33:\tlearn: 2043.1458357\ttotal: 651ms\tremaining: 18.5s\n",
            "34:\tlearn: 2033.6332008\ttotal: 667ms\tremaining: 18.4s\n",
            "35:\tlearn: 2021.0867112\ttotal: 683ms\tremaining: 18.3s\n",
            "36:\tlearn: 2013.2960210\ttotal: 698ms\tremaining: 18.2s\n",
            "37:\tlearn: 2004.9837027\ttotal: 715ms\tremaining: 18.1s\n",
            "38:\tlearn: 1996.4624438\ttotal: 730ms\tremaining: 18s\n",
            "39:\tlearn: 1984.2226225\ttotal: 746ms\tremaining: 17.9s\n",
            "40:\tlearn: 1976.5869388\ttotal: 761ms\tremaining: 17.8s\n",
            "41:\tlearn: 1969.6571820\ttotal: 777ms\tremaining: 17.7s\n",
            "42:\tlearn: 1963.6547065\ttotal: 792ms\tremaining: 17.6s\n",
            "43:\tlearn: 1955.4625593\ttotal: 808ms\tremaining: 17.6s\n",
            "44:\tlearn: 1948.3898619\ttotal: 823ms\tremaining: 17.5s\n",
            "45:\tlearn: 1942.6169543\ttotal: 838ms\tremaining: 17.4s\n",
            "46:\tlearn: 1936.9744771\ttotal: 852ms\tremaining: 17.3s\n",
            "47:\tlearn: 1932.9874417\ttotal: 867ms\tremaining: 17.2s\n",
            "48:\tlearn: 1926.7636497\ttotal: 883ms\tremaining: 17.1s\n",
            "49:\tlearn: 1921.5781497\ttotal: 899ms\tremaining: 17.1s\n",
            "50:\tlearn: 1914.7761847\ttotal: 917ms\tremaining: 17.1s\n",
            "51:\tlearn: 1909.4151476\ttotal: 933ms\tremaining: 17s\n",
            "52:\tlearn: 1906.0508509\ttotal: 948ms\tremaining: 16.9s\n",
            "53:\tlearn: 1901.9363375\ttotal: 963ms\tremaining: 16.9s\n",
            "54:\tlearn: 1897.1140593\ttotal: 978ms\tremaining: 16.8s\n",
            "55:\tlearn: 1892.1076968\ttotal: 996ms\tremaining: 16.8s\n",
            "56:\tlearn: 1888.0709999\ttotal: 1.01s\tremaining: 16.7s\n",
            "57:\tlearn: 1884.8848311\ttotal: 1.03s\tremaining: 16.7s\n",
            "58:\tlearn: 1881.4286667\ttotal: 1.04s\tremaining: 16.6s\n",
            "59:\tlearn: 1877.7853442\ttotal: 1.06s\tremaining: 16.5s\n",
            "60:\tlearn: 1874.2486348\ttotal: 1.07s\tremaining: 16.5s\n",
            "61:\tlearn: 1869.7634529\ttotal: 1.08s\tremaining: 16.4s\n",
            "62:\tlearn: 1865.9602447\ttotal: 1.1s\tremaining: 16.4s\n",
            "63:\tlearn: 1861.3418077\ttotal: 1.12s\tremaining: 16.4s\n",
            "64:\tlearn: 1859.2299759\ttotal: 1.13s\tremaining: 16.3s\n",
            "65:\tlearn: 1855.7634513\ttotal: 1.15s\tremaining: 16.3s\n",
            "66:\tlearn: 1851.0286663\ttotal: 1.17s\tremaining: 16.2s\n",
            "67:\tlearn: 1848.9265817\ttotal: 1.18s\tremaining: 16.2s\n",
            "68:\tlearn: 1847.0386650\ttotal: 1.19s\tremaining: 16.1s\n",
            "69:\tlearn: 1843.8997232\ttotal: 1.21s\tremaining: 16.1s\n",
            "70:\tlearn: 1841.5745902\ttotal: 1.23s\tremaining: 16s\n",
            "71:\tlearn: 1839.7525833\ttotal: 1.24s\tremaining: 16s\n",
            "72:\tlearn: 1837.1722841\ttotal: 1.26s\tremaining: 16s\n",
            "73:\tlearn: 1834.7633781\ttotal: 1.27s\tremaining: 15.9s\n",
            "74:\tlearn: 1832.8223323\ttotal: 1.28s\tremaining: 15.9s\n",
            "75:\tlearn: 1830.3299186\ttotal: 1.3s\tremaining: 15.8s\n",
            "76:\tlearn: 1827.8187127\ttotal: 1.31s\tremaining: 15.8s\n",
            "77:\tlearn: 1825.2648347\ttotal: 1.33s\tremaining: 15.8s\n",
            "78:\tlearn: 1822.9644244\ttotal: 1.35s\tremaining: 15.7s\n",
            "79:\tlearn: 1821.1978568\ttotal: 1.36s\tremaining: 15.7s\n",
            "80:\tlearn: 1818.9740430\ttotal: 1.38s\tremaining: 15.6s\n",
            "81:\tlearn: 1816.9144696\ttotal: 1.4s\tremaining: 15.7s\n",
            "82:\tlearn: 1815.0936205\ttotal: 1.42s\tremaining: 15.7s\n",
            "83:\tlearn: 1813.2157307\ttotal: 1.43s\tremaining: 15.6s\n",
            "84:\tlearn: 1810.8609589\ttotal: 1.45s\tremaining: 15.6s\n",
            "85:\tlearn: 1809.1448068\ttotal: 1.46s\tremaining: 15.5s\n",
            "86:\tlearn: 1807.4005951\ttotal: 1.48s\tremaining: 15.5s\n",
            "87:\tlearn: 1805.8007437\ttotal: 1.49s\tremaining: 15.5s\n",
            "88:\tlearn: 1804.0295889\ttotal: 1.51s\tremaining: 15.5s\n",
            "89:\tlearn: 1802.5869008\ttotal: 1.53s\tremaining: 15.5s\n",
            "90:\tlearn: 1801.4245252\ttotal: 1.54s\tremaining: 15.4s\n",
            "91:\tlearn: 1800.0160120\ttotal: 1.56s\tremaining: 15.4s\n",
            "92:\tlearn: 1797.9261907\ttotal: 1.57s\tremaining: 15.4s\n",
            "93:\tlearn: 1794.9489291\ttotal: 1.59s\tremaining: 15.3s\n",
            "94:\tlearn: 1793.1387967\ttotal: 1.61s\tremaining: 15.3s\n",
            "95:\tlearn: 1791.4177654\ttotal: 1.63s\tremaining: 15.3s\n",
            "96:\tlearn: 1790.0008729\ttotal: 1.65s\tremaining: 15.3s\n",
            "97:\tlearn: 1787.9168039\ttotal: 1.67s\tremaining: 15.3s\n",
            "98:\tlearn: 1786.6652624\ttotal: 1.68s\tremaining: 15.3s\n",
            "99:\tlearn: 1785.3982621\ttotal: 1.7s\tremaining: 15.3s\n",
            "100:\tlearn: 1783.8816215\ttotal: 1.71s\tremaining: 15.3s\n",
            "101:\tlearn: 1782.3222101\ttotal: 1.74s\tremaining: 15.3s\n",
            "102:\tlearn: 1781.1102843\ttotal: 1.75s\tremaining: 15.2s\n",
            "103:\tlearn: 1779.9412105\ttotal: 1.77s\tremaining: 15.2s\n",
            "104:\tlearn: 1778.5312387\ttotal: 1.78s\tremaining: 15.2s\n",
            "105:\tlearn: 1776.8070794\ttotal: 1.8s\tremaining: 15.2s\n",
            "106:\tlearn: 1775.1071031\ttotal: 1.82s\tremaining: 15.2s\n",
            "107:\tlearn: 1773.8920903\ttotal: 1.83s\tremaining: 15.1s\n",
            "108:\tlearn: 1772.6418664\ttotal: 1.85s\tremaining: 15.1s\n",
            "109:\tlearn: 1771.2109950\ttotal: 1.87s\tremaining: 15.1s\n",
            "110:\tlearn: 1769.8962337\ttotal: 1.88s\tremaining: 15.1s\n",
            "111:\tlearn: 1769.1376361\ttotal: 1.9s\tremaining: 15.1s\n",
            "112:\tlearn: 1767.9586665\ttotal: 1.91s\tremaining: 15s\n",
            "113:\tlearn: 1766.9554415\ttotal: 1.93s\tremaining: 15s\n",
            "114:\tlearn: 1766.0040217\ttotal: 1.94s\tremaining: 15s\n",
            "115:\tlearn: 1764.4220481\ttotal: 1.96s\tremaining: 15s\n",
            "116:\tlearn: 1762.8089016\ttotal: 1.98s\tremaining: 14.9s\n",
            "117:\tlearn: 1761.7943895\ttotal: 1.99s\tremaining: 14.9s\n",
            "118:\tlearn: 1759.9404865\ttotal: 2.01s\tremaining: 14.9s\n",
            "119:\tlearn: 1758.5523341\ttotal: 2.02s\tremaining: 14.8s\n",
            "120:\tlearn: 1757.2781415\ttotal: 2.04s\tremaining: 14.8s\n",
            "121:\tlearn: 1756.1751723\ttotal: 2.06s\tremaining: 14.8s\n",
            "122:\tlearn: 1755.1508496\ttotal: 2.07s\tremaining: 14.8s\n",
            "123:\tlearn: 1754.5350288\ttotal: 2.08s\tremaining: 14.7s\n",
            "124:\tlearn: 1753.2516176\ttotal: 2.1s\tremaining: 14.7s\n",
            "125:\tlearn: 1751.7059447\ttotal: 2.11s\tremaining: 14.7s\n",
            "126:\tlearn: 1750.7150412\ttotal: 2.13s\tremaining: 14.6s\n",
            "127:\tlearn: 1749.7442016\ttotal: 2.14s\tremaining: 14.6s\n",
            "128:\tlearn: 1748.5870858\ttotal: 2.16s\tremaining: 14.6s\n",
            "129:\tlearn: 1747.2007819\ttotal: 2.17s\tremaining: 14.6s\n",
            "130:\tlearn: 1746.6107800\ttotal: 2.19s\tremaining: 14.5s\n",
            "131:\tlearn: 1745.4719489\ttotal: 2.2s\tremaining: 14.5s\n",
            "132:\tlearn: 1744.0511873\ttotal: 2.22s\tremaining: 14.5s\n",
            "133:\tlearn: 1742.8351192\ttotal: 2.23s\tremaining: 14.4s\n",
            "134:\tlearn: 1741.7453346\ttotal: 2.25s\tremaining: 14.4s\n",
            "135:\tlearn: 1741.0457221\ttotal: 2.27s\tremaining: 14.4s\n",
            "136:\tlearn: 1740.3030565\ttotal: 2.28s\tremaining: 14.4s\n",
            "137:\tlearn: 1739.4735763\ttotal: 2.29s\tremaining: 14.3s\n",
            "138:\tlearn: 1738.6280536\ttotal: 2.31s\tremaining: 14.3s\n",
            "139:\tlearn: 1737.8457708\ttotal: 2.32s\tremaining: 14.3s\n",
            "140:\tlearn: 1736.9227474\ttotal: 2.34s\tremaining: 14.3s\n",
            "141:\tlearn: 1735.0294926\ttotal: 2.36s\tremaining: 14.2s\n",
            "142:\tlearn: 1733.6273454\ttotal: 2.37s\tremaining: 14.2s\n",
            "143:\tlearn: 1732.4208570\ttotal: 2.39s\tremaining: 14.2s\n",
            "144:\tlearn: 1731.4572790\ttotal: 2.4s\tremaining: 14.2s\n",
            "145:\tlearn: 1730.5021436\ttotal: 2.42s\tremaining: 14.2s\n",
            "146:\tlearn: 1729.0794087\ttotal: 2.44s\tremaining: 14.1s\n",
            "147:\tlearn: 1728.1381096\ttotal: 2.45s\tremaining: 14.1s\n",
            "148:\tlearn: 1727.2825282\ttotal: 2.47s\tremaining: 14.1s\n",
            "149:\tlearn: 1726.0841321\ttotal: 2.48s\tremaining: 14.1s\n",
            "150:\tlearn: 1725.0538386\ttotal: 2.5s\tremaining: 14s\n",
            "151:\tlearn: 1724.2079269\ttotal: 2.51s\tremaining: 14s\n",
            "152:\tlearn: 1723.5266186\ttotal: 2.53s\tremaining: 14s\n",
            "153:\tlearn: 1722.8199491\ttotal: 2.54s\tremaining: 14s\n",
            "154:\tlearn: 1721.8105837\ttotal: 2.56s\tremaining: 13.9s\n",
            "155:\tlearn: 1721.1816990\ttotal: 2.57s\tremaining: 13.9s\n",
            "156:\tlearn: 1720.2660282\ttotal: 2.59s\tremaining: 13.9s\n",
            "157:\tlearn: 1719.5209034\ttotal: 2.6s\tremaining: 13.9s\n",
            "158:\tlearn: 1718.0456086\ttotal: 2.62s\tremaining: 13.8s\n",
            "159:\tlearn: 1717.4087538\ttotal: 2.63s\tremaining: 13.8s\n",
            "160:\tlearn: 1716.5900354\ttotal: 2.64s\tremaining: 13.8s\n",
            "161:\tlearn: 1715.1437123\ttotal: 2.66s\tremaining: 13.8s\n",
            "162:\tlearn: 1714.4937641\ttotal: 2.68s\tremaining: 13.7s\n",
            "163:\tlearn: 1713.8226315\ttotal: 2.69s\tremaining: 13.7s\n",
            "164:\tlearn: 1713.2176750\ttotal: 2.71s\tremaining: 13.7s\n",
            "165:\tlearn: 1712.2415878\ttotal: 2.72s\tremaining: 13.7s\n",
            "166:\tlearn: 1711.1879449\ttotal: 2.74s\tremaining: 13.7s\n",
            "167:\tlearn: 1710.5438836\ttotal: 2.75s\tremaining: 13.6s\n",
            "168:\tlearn: 1709.0656429\ttotal: 2.77s\tremaining: 13.6s\n",
            "169:\tlearn: 1708.1530805\ttotal: 2.79s\tremaining: 13.6s\n",
            "170:\tlearn: 1707.5827588\ttotal: 2.8s\tremaining: 13.6s\n",
            "171:\tlearn: 1706.5824058\ttotal: 2.82s\tremaining: 13.6s\n",
            "172:\tlearn: 1705.1651267\ttotal: 2.83s\tremaining: 13.5s\n",
            "173:\tlearn: 1704.4377962\ttotal: 2.85s\tremaining: 13.5s\n",
            "174:\tlearn: 1703.9967013\ttotal: 2.86s\tremaining: 13.5s\n",
            "175:\tlearn: 1703.3943838\ttotal: 2.88s\tremaining: 13.5s\n",
            "176:\tlearn: 1702.8617116\ttotal: 2.89s\tremaining: 13.4s\n",
            "177:\tlearn: 1701.6371368\ttotal: 2.9s\tremaining: 13.4s\n",
            "178:\tlearn: 1700.9638626\ttotal: 2.92s\tremaining: 13.4s\n",
            "179:\tlearn: 1699.8966201\ttotal: 2.93s\tremaining: 13.4s\n",
            "180:\tlearn: 1698.9368561\ttotal: 2.95s\tremaining: 13.3s\n",
            "181:\tlearn: 1697.9895833\ttotal: 2.97s\tremaining: 13.3s\n",
            "182:\tlearn: 1697.3029169\ttotal: 2.98s\tremaining: 13.3s\n",
            "183:\tlearn: 1696.7252616\ttotal: 3s\tremaining: 13.3s\n",
            "184:\tlearn: 1695.5449341\ttotal: 3.02s\tremaining: 13.3s\n",
            "185:\tlearn: 1694.8936822\ttotal: 3.04s\tremaining: 13.3s\n",
            "186:\tlearn: 1694.3828378\ttotal: 3.06s\tremaining: 13.3s\n",
            "187:\tlearn: 1693.8915346\ttotal: 3.08s\tremaining: 13.3s\n",
            "188:\tlearn: 1693.4061715\ttotal: 3.1s\tremaining: 13.3s\n",
            "189:\tlearn: 1692.5347848\ttotal: 3.11s\tremaining: 13.3s\n",
            "190:\tlearn: 1692.0999140\ttotal: 3.13s\tremaining: 13.3s\n",
            "191:\tlearn: 1691.2718669\ttotal: 3.15s\tremaining: 13.3s\n",
            "192:\tlearn: 1690.4237665\ttotal: 3.17s\tremaining: 13.2s\n",
            "193:\tlearn: 1689.6795928\ttotal: 3.19s\tremaining: 13.2s\n",
            "194:\tlearn: 1688.8234433\ttotal: 3.21s\tremaining: 13.2s\n",
            "195:\tlearn: 1688.3512393\ttotal: 3.22s\tremaining: 13.2s\n",
            "196:\tlearn: 1687.5165097\ttotal: 3.24s\tremaining: 13.2s\n",
            "197:\tlearn: 1686.8045756\ttotal: 3.25s\tremaining: 13.2s\n",
            "198:\tlearn: 1686.1322048\ttotal: 3.27s\tremaining: 13.2s\n",
            "199:\tlearn: 1685.7205987\ttotal: 3.28s\tremaining: 13.1s\n",
            "200:\tlearn: 1685.1567628\ttotal: 3.3s\tremaining: 13.1s\n",
            "201:\tlearn: 1684.4240786\ttotal: 3.31s\tremaining: 13.1s\n",
            "202:\tlearn: 1683.8120735\ttotal: 3.33s\tremaining: 13.1s\n",
            "203:\tlearn: 1683.4547100\ttotal: 3.34s\tremaining: 13s\n",
            "204:\tlearn: 1682.9895431\ttotal: 3.36s\tremaining: 13s\n",
            "205:\tlearn: 1682.2470277\ttotal: 3.37s\tremaining: 13s\n",
            "206:\tlearn: 1681.5765471\ttotal: 3.39s\tremaining: 13s\n",
            "207:\tlearn: 1680.9941264\ttotal: 3.4s\tremaining: 13s\n",
            "208:\tlearn: 1680.1331286\ttotal: 3.42s\tremaining: 12.9s\n",
            "209:\tlearn: 1679.7536465\ttotal: 3.43s\tremaining: 12.9s\n",
            "210:\tlearn: 1679.2750979\ttotal: 3.45s\tremaining: 12.9s\n",
            "211:\tlearn: 1678.5741705\ttotal: 3.46s\tremaining: 12.9s\n",
            "212:\tlearn: 1677.9060383\ttotal: 3.47s\tremaining: 12.8s\n",
            "213:\tlearn: 1677.3183317\ttotal: 3.49s\tremaining: 12.8s\n",
            "214:\tlearn: 1676.6580170\ttotal: 3.5s\tremaining: 12.8s\n",
            "215:\tlearn: 1676.0831338\ttotal: 3.52s\tremaining: 12.8s\n",
            "216:\tlearn: 1675.1687430\ttotal: 3.53s\tremaining: 12.8s\n",
            "217:\tlearn: 1674.5471596\ttotal: 3.55s\tremaining: 12.7s\n",
            "218:\tlearn: 1674.1528345\ttotal: 3.59s\tremaining: 12.8s\n",
            "219:\tlearn: 1673.7486791\ttotal: 3.62s\tremaining: 12.8s\n",
            "220:\tlearn: 1673.2156068\ttotal: 3.66s\tremaining: 12.9s\n",
            "221:\tlearn: 1672.8678107\ttotal: 3.69s\tremaining: 12.9s\n",
            "222:\tlearn: 1672.3250422\ttotal: 3.73s\tremaining: 13s\n",
            "223:\tlearn: 1671.7478352\ttotal: 3.77s\tremaining: 13.1s\n",
            "224:\tlearn: 1671.2878280\ttotal: 3.81s\tremaining: 13.1s\n",
            "225:\tlearn: 1670.6149441\ttotal: 3.85s\tremaining: 13.2s\n",
            "226:\tlearn: 1670.3038874\ttotal: 3.88s\tremaining: 13.2s\n",
            "227:\tlearn: 1669.8116744\ttotal: 3.9s\tremaining: 13.2s\n",
            "228:\tlearn: 1669.3154899\ttotal: 3.92s\tremaining: 13.2s\n",
            "229:\tlearn: 1668.4894561\ttotal: 3.93s\tremaining: 13.2s\n",
            "230:\tlearn: 1668.0771488\ttotal: 3.95s\tremaining: 13.1s\n",
            "231:\tlearn: 1667.4178001\ttotal: 3.96s\tremaining: 13.1s\n",
            "232:\tlearn: 1667.1545037\ttotal: 3.97s\tremaining: 13.1s\n",
            "233:\tlearn: 1666.7316930\ttotal: 3.99s\tremaining: 13.1s\n",
            "234:\tlearn: 1666.3361588\ttotal: 4s\tremaining: 13s\n",
            "235:\tlearn: 1665.2414684\ttotal: 4.01s\tremaining: 13s\n",
            "236:\tlearn: 1664.8895843\ttotal: 4.03s\tremaining: 13s\n",
            "237:\tlearn: 1664.1979672\ttotal: 4.05s\tremaining: 13s\n",
            "238:\tlearn: 1663.6884124\ttotal: 4.06s\tremaining: 12.9s\n",
            "239:\tlearn: 1663.0647817\ttotal: 4.08s\tremaining: 12.9s\n",
            "240:\tlearn: 1662.6203146\ttotal: 4.09s\tremaining: 12.9s\n",
            "241:\tlearn: 1662.1386189\ttotal: 4.11s\tremaining: 12.9s\n",
            "242:\tlearn: 1661.6363939\ttotal: 4.12s\tremaining: 12.8s\n",
            "243:\tlearn: 1661.2187520\ttotal: 4.13s\tremaining: 12.8s\n",
            "244:\tlearn: 1660.8431101\ttotal: 4.15s\tremaining: 12.8s\n",
            "245:\tlearn: 1660.2676152\ttotal: 4.16s\tremaining: 12.8s\n",
            "246:\tlearn: 1659.4184107\ttotal: 4.18s\tremaining: 12.7s\n",
            "247:\tlearn: 1658.9913227\ttotal: 4.19s\tremaining: 12.7s\n",
            "248:\tlearn: 1658.6026068\ttotal: 4.21s\tremaining: 12.7s\n",
            "249:\tlearn: 1658.1074766\ttotal: 4.22s\tremaining: 12.7s\n",
            "250:\tlearn: 1657.5750924\ttotal: 4.23s\tremaining: 12.6s\n",
            "251:\tlearn: 1657.0129354\ttotal: 4.25s\tremaining: 12.6s\n",
            "252:\tlearn: 1656.6275473\ttotal: 4.26s\tremaining: 12.6s\n",
            "253:\tlearn: 1656.2886685\ttotal: 4.28s\tremaining: 12.6s\n",
            "254:\tlearn: 1655.6390792\ttotal: 4.29s\tremaining: 12.5s\n",
            "255:\tlearn: 1655.0166378\ttotal: 4.31s\tremaining: 12.5s\n",
            "256:\tlearn: 1654.7520815\ttotal: 4.32s\tremaining: 12.5s\n",
            "257:\tlearn: 1654.2307863\ttotal: 4.34s\tremaining: 12.5s\n",
            "258:\tlearn: 1653.9737330\ttotal: 4.35s\tremaining: 12.5s\n",
            "259:\tlearn: 1653.5816007\ttotal: 4.37s\tremaining: 12.4s\n",
            "260:\tlearn: 1652.6951010\ttotal: 4.38s\tremaining: 12.4s\n",
            "261:\tlearn: 1652.4116006\ttotal: 4.4s\tremaining: 12.4s\n",
            "262:\tlearn: 1652.0360040\ttotal: 4.41s\tremaining: 12.4s\n",
            "263:\tlearn: 1651.5861373\ttotal: 4.43s\tremaining: 12.3s\n",
            "264:\tlearn: 1651.0307603\ttotal: 4.44s\tremaining: 12.3s\n",
            "265:\tlearn: 1650.3530818\ttotal: 4.46s\tremaining: 12.3s\n",
            "266:\tlearn: 1649.8722540\ttotal: 4.47s\tremaining: 12.3s\n",
            "267:\tlearn: 1649.6183883\ttotal: 4.49s\tremaining: 12.3s\n",
            "268:\tlearn: 1649.2504718\ttotal: 4.5s\tremaining: 12.2s\n",
            "269:\tlearn: 1649.0020678\ttotal: 4.51s\tremaining: 12.2s\n",
            "270:\tlearn: 1648.7270855\ttotal: 4.53s\tremaining: 12.2s\n",
            "271:\tlearn: 1648.1248842\ttotal: 4.54s\tremaining: 12.2s\n",
            "272:\tlearn: 1647.6420235\ttotal: 4.56s\tremaining: 12.1s\n",
            "273:\tlearn: 1647.1210753\ttotal: 4.57s\tremaining: 12.1s\n",
            "274:\tlearn: 1646.8887313\ttotal: 4.59s\tremaining: 12.1s\n",
            "275:\tlearn: 1646.1029596\ttotal: 4.6s\tremaining: 12.1s\n",
            "276:\tlearn: 1645.7576418\ttotal: 4.62s\tremaining: 12.1s\n",
            "277:\tlearn: 1645.4980253\ttotal: 4.63s\tremaining: 12s\n",
            "278:\tlearn: 1645.1044466\ttotal: 4.65s\tremaining: 12s\n",
            "279:\tlearn: 1644.7809466\ttotal: 4.66s\tremaining: 12s\n",
            "280:\tlearn: 1644.4115567\ttotal: 4.68s\tremaining: 12s\n",
            "281:\tlearn: 1644.1404820\ttotal: 4.69s\tremaining: 11.9s\n",
            "282:\tlearn: 1643.7471125\ttotal: 4.71s\tremaining: 11.9s\n",
            "283:\tlearn: 1643.2860000\ttotal: 4.72s\tremaining: 11.9s\n",
            "284:\tlearn: 1642.5720336\ttotal: 4.74s\tremaining: 11.9s\n",
            "285:\tlearn: 1642.2205586\ttotal: 4.75s\tremaining: 11.9s\n",
            "286:\tlearn: 1641.9771425\ttotal: 4.76s\tremaining: 11.8s\n",
            "287:\tlearn: 1641.6171638\ttotal: 4.78s\tremaining: 11.8s\n",
            "288:\tlearn: 1641.3326748\ttotal: 4.79s\tremaining: 11.8s\n",
            "289:\tlearn: 1640.8767947\ttotal: 4.81s\tremaining: 11.8s\n",
            "290:\tlearn: 1640.6723790\ttotal: 4.82s\tremaining: 11.8s\n",
            "291:\tlearn: 1640.2020543\ttotal: 4.84s\tremaining: 11.7s\n",
            "292:\tlearn: 1639.8431267\ttotal: 4.85s\tremaining: 11.7s\n",
            "293:\tlearn: 1639.5485174\ttotal: 4.87s\tremaining: 11.7s\n",
            "294:\tlearn: 1639.1048003\ttotal: 4.88s\tremaining: 11.7s\n",
            "295:\tlearn: 1638.3980277\ttotal: 4.9s\tremaining: 11.6s\n",
            "296:\tlearn: 1637.9416453\ttotal: 4.91s\tremaining: 11.6s\n",
            "297:\tlearn: 1637.5546061\ttotal: 4.93s\tremaining: 11.6s\n",
            "298:\tlearn: 1637.2525236\ttotal: 4.94s\tremaining: 11.6s\n",
            "299:\tlearn: 1636.7925393\ttotal: 4.95s\tremaining: 11.6s\n",
            "300:\tlearn: 1636.4701439\ttotal: 4.97s\tremaining: 11.5s\n",
            "301:\tlearn: 1636.1328912\ttotal: 4.98s\tremaining: 11.5s\n",
            "302:\tlearn: 1635.5541669\ttotal: 5s\tremaining: 11.5s\n",
            "303:\tlearn: 1635.0688747\ttotal: 5.01s\tremaining: 11.5s\n",
            "304:\tlearn: 1634.7126457\ttotal: 5.03s\tremaining: 11.5s\n",
            "305:\tlearn: 1634.4951424\ttotal: 5.04s\tremaining: 11.4s\n",
            "306:\tlearn: 1634.1951783\ttotal: 5.06s\tremaining: 11.4s\n",
            "307:\tlearn: 1633.9551723\ttotal: 5.07s\tremaining: 11.4s\n",
            "308:\tlearn: 1633.6335638\ttotal: 5.09s\tremaining: 11.4s\n",
            "309:\tlearn: 1632.9492231\ttotal: 5.1s\tremaining: 11.4s\n",
            "310:\tlearn: 1632.3714702\ttotal: 5.12s\tremaining: 11.3s\n",
            "311:\tlearn: 1631.9153846\ttotal: 5.13s\tremaining: 11.3s\n",
            "312:\tlearn: 1631.6679038\ttotal: 5.15s\tremaining: 11.3s\n",
            "313:\tlearn: 1631.3883989\ttotal: 5.16s\tremaining: 11.3s\n",
            "314:\tlearn: 1631.0950238\ttotal: 5.17s\tremaining: 11.3s\n",
            "315:\tlearn: 1630.7739374\ttotal: 5.19s\tremaining: 11.2s\n",
            "316:\tlearn: 1630.4247941\ttotal: 5.2s\tremaining: 11.2s\n",
            "317:\tlearn: 1630.0971883\ttotal: 5.22s\tremaining: 11.2s\n",
            "318:\tlearn: 1629.8281306\ttotal: 5.23s\tremaining: 11.2s\n",
            "319:\tlearn: 1629.3147360\ttotal: 5.25s\tremaining: 11.1s\n",
            "320:\tlearn: 1628.9670880\ttotal: 5.26s\tremaining: 11.1s\n",
            "321:\tlearn: 1628.7117619\ttotal: 5.27s\tremaining: 11.1s\n",
            "322:\tlearn: 1628.3496785\ttotal: 5.29s\tremaining: 11.1s\n",
            "323:\tlearn: 1628.1230347\ttotal: 5.3s\tremaining: 11.1s\n",
            "324:\tlearn: 1627.7410222\ttotal: 5.32s\tremaining: 11s\n",
            "325:\tlearn: 1627.3266954\ttotal: 5.33s\tremaining: 11s\n",
            "326:\tlearn: 1626.7733116\ttotal: 5.35s\tremaining: 11s\n",
            "327:\tlearn: 1626.5339227\ttotal: 5.36s\tremaining: 11s\n",
            "328:\tlearn: 1626.3472936\ttotal: 5.38s\tremaining: 11s\n",
            "329:\tlearn: 1626.1362734\ttotal: 5.39s\tremaining: 10.9s\n",
            "330:\tlearn: 1625.8393743\ttotal: 5.41s\tremaining: 10.9s\n",
            "331:\tlearn: 1625.6372790\ttotal: 5.42s\tremaining: 10.9s\n",
            "332:\tlearn: 1625.2124609\ttotal: 5.43s\tremaining: 10.9s\n",
            "333:\tlearn: 1624.9053053\ttotal: 5.45s\tremaining: 10.9s\n",
            "334:\tlearn: 1624.4882953\ttotal: 5.46s\tremaining: 10.8s\n",
            "335:\tlearn: 1624.2018647\ttotal: 5.48s\tremaining: 10.8s\n",
            "336:\tlearn: 1623.8578680\ttotal: 5.49s\tremaining: 10.8s\n",
            "337:\tlearn: 1623.4392882\ttotal: 5.51s\tremaining: 10.8s\n",
            "338:\tlearn: 1623.1226414\ttotal: 5.52s\tremaining: 10.8s\n",
            "339:\tlearn: 1622.9256196\ttotal: 5.54s\tremaining: 10.8s\n",
            "340:\tlearn: 1622.7162839\ttotal: 5.55s\tremaining: 10.7s\n",
            "341:\tlearn: 1622.4963273\ttotal: 5.57s\tremaining: 10.7s\n",
            "342:\tlearn: 1622.1791680\ttotal: 5.58s\tremaining: 10.7s\n",
            "343:\tlearn: 1621.7743401\ttotal: 5.6s\tremaining: 10.7s\n",
            "344:\tlearn: 1621.5433778\ttotal: 5.61s\tremaining: 10.7s\n",
            "345:\tlearn: 1621.1416093\ttotal: 5.63s\tremaining: 10.6s\n",
            "346:\tlearn: 1620.7602245\ttotal: 5.64s\tremaining: 10.6s\n",
            "347:\tlearn: 1620.2513049\ttotal: 5.66s\tremaining: 10.6s\n",
            "348:\tlearn: 1619.8661998\ttotal: 5.67s\tremaining: 10.6s\n",
            "349:\tlearn: 1619.5429750\ttotal: 5.68s\tremaining: 10.6s\n",
            "350:\tlearn: 1619.3980103\ttotal: 5.7s\tremaining: 10.5s\n",
            "351:\tlearn: 1619.0925136\ttotal: 5.71s\tremaining: 10.5s\n",
            "352:\tlearn: 1618.7055113\ttotal: 5.73s\tremaining: 10.5s\n",
            "353:\tlearn: 1618.2813269\ttotal: 5.74s\tremaining: 10.5s\n",
            "354:\tlearn: 1618.0859827\ttotal: 5.76s\tremaining: 10.5s\n",
            "355:\tlearn: 1617.7083112\ttotal: 5.77s\tremaining: 10.4s\n",
            "356:\tlearn: 1617.4774164\ttotal: 5.78s\tremaining: 10.4s\n",
            "357:\tlearn: 1617.1652004\ttotal: 5.8s\tremaining: 10.4s\n",
            "358:\tlearn: 1616.9291696\ttotal: 5.81s\tremaining: 10.4s\n",
            "359:\tlearn: 1616.6261848\ttotal: 5.83s\tremaining: 10.4s\n",
            "360:\tlearn: 1616.1253881\ttotal: 5.84s\tremaining: 10.3s\n",
            "361:\tlearn: 1615.7696976\ttotal: 5.86s\tremaining: 10.3s\n",
            "362:\tlearn: 1615.5252620\ttotal: 5.87s\tremaining: 10.3s\n",
            "363:\tlearn: 1615.2893529\ttotal: 5.89s\tremaining: 10.3s\n",
            "364:\tlearn: 1614.8018200\ttotal: 5.9s\tremaining: 10.3s\n",
            "365:\tlearn: 1614.3117035\ttotal: 5.92s\tremaining: 10.2s\n",
            "366:\tlearn: 1613.9930925\ttotal: 5.93s\tremaining: 10.2s\n",
            "367:\tlearn: 1613.6597466\ttotal: 5.95s\tremaining: 10.2s\n",
            "368:\tlearn: 1613.4982145\ttotal: 5.96s\tremaining: 10.2s\n",
            "369:\tlearn: 1613.1080802\ttotal: 5.97s\tremaining: 10.2s\n",
            "370:\tlearn: 1612.8723699\ttotal: 5.99s\tremaining: 10.1s\n",
            "371:\tlearn: 1612.6114834\ttotal: 6s\tremaining: 10.1s\n",
            "372:\tlearn: 1612.3006747\ttotal: 6.01s\tremaining: 10.1s\n",
            "373:\tlearn: 1611.9218935\ttotal: 6.03s\tremaining: 10.1s\n",
            "374:\tlearn: 1611.6030816\ttotal: 6.04s\tremaining: 10.1s\n",
            "375:\tlearn: 1611.1526658\ttotal: 6.06s\tremaining: 10.1s\n",
            "376:\tlearn: 1610.7015043\ttotal: 6.07s\tremaining: 10s\n",
            "377:\tlearn: 1610.4246998\ttotal: 6.09s\tremaining: 10s\n",
            "378:\tlearn: 1610.1058477\ttotal: 6.1s\tremaining: 10s\n",
            "379:\tlearn: 1609.7988890\ttotal: 6.12s\tremaining: 9.98s\n",
            "380:\tlearn: 1609.5336111\ttotal: 6.13s\tremaining: 9.96s\n",
            "381:\tlearn: 1609.2061469\ttotal: 6.15s\tremaining: 9.95s\n",
            "382:\tlearn: 1608.9971941\ttotal: 6.16s\tremaining: 9.93s\n",
            "383:\tlearn: 1608.6727643\ttotal: 6.18s\tremaining: 9.91s\n",
            "384:\tlearn: 1608.2483189\ttotal: 6.19s\tremaining: 9.89s\n",
            "385:\tlearn: 1607.9504827\ttotal: 6.21s\tremaining: 9.87s\n",
            "386:\tlearn: 1607.6506949\ttotal: 6.22s\tremaining: 9.86s\n",
            "387:\tlearn: 1607.2000832\ttotal: 6.24s\tremaining: 9.84s\n",
            "388:\tlearn: 1606.9831345\ttotal: 6.25s\tremaining: 9.82s\n",
            "389:\tlearn: 1606.6745351\ttotal: 6.27s\tremaining: 9.81s\n",
            "390:\tlearn: 1606.4160854\ttotal: 6.29s\tremaining: 9.79s\n",
            "391:\tlearn: 1606.1167573\ttotal: 6.3s\tremaining: 9.77s\n",
            "392:\tlearn: 1605.9526528\ttotal: 6.31s\tremaining: 9.75s\n",
            "393:\tlearn: 1605.6595461\ttotal: 6.33s\tremaining: 9.73s\n",
            "394:\tlearn: 1605.3313167\ttotal: 6.34s\tremaining: 9.72s\n",
            "395:\tlearn: 1605.1050748\ttotal: 6.36s\tremaining: 9.7s\n",
            "396:\tlearn: 1604.7633771\ttotal: 6.38s\tremaining: 9.68s\n",
            "397:\tlearn: 1604.5210452\ttotal: 6.39s\tremaining: 9.66s\n",
            "398:\tlearn: 1604.2263069\ttotal: 6.4s\tremaining: 9.65s\n",
            "399:\tlearn: 1604.0323700\ttotal: 6.42s\tremaining: 9.63s\n",
            "400:\tlearn: 1603.7329029\ttotal: 6.43s\tremaining: 9.61s\n",
            "401:\tlearn: 1603.2538091\ttotal: 6.45s\tremaining: 9.59s\n",
            "402:\tlearn: 1602.9103059\ttotal: 6.46s\tremaining: 9.57s\n",
            "403:\tlearn: 1602.6882608\ttotal: 6.47s\tremaining: 9.55s\n",
            "404:\tlearn: 1602.3071942\ttotal: 6.49s\tremaining: 9.54s\n",
            "405:\tlearn: 1601.7884913\ttotal: 6.51s\tremaining: 9.52s\n",
            "406:\tlearn: 1601.4189573\ttotal: 6.52s\tremaining: 9.5s\n",
            "407:\tlearn: 1601.1833351\ttotal: 6.54s\tremaining: 9.48s\n",
            "408:\tlearn: 1601.0022831\ttotal: 6.55s\tremaining: 9.46s\n",
            "409:\tlearn: 1600.7596655\ttotal: 6.57s\tremaining: 9.45s\n",
            "410:\tlearn: 1600.3131117\ttotal: 6.58s\tremaining: 9.43s\n",
            "411:\tlearn: 1600.0064118\ttotal: 6.59s\tremaining: 9.41s\n",
            "412:\tlearn: 1599.7329176\ttotal: 6.61s\tremaining: 9.39s\n",
            "413:\tlearn: 1599.4330796\ttotal: 6.62s\tremaining: 9.38s\n",
            "414:\tlearn: 1599.1674434\ttotal: 6.64s\tremaining: 9.36s\n",
            "415:\tlearn: 1598.8640186\ttotal: 6.65s\tremaining: 9.34s\n",
            "416:\tlearn: 1598.4643290\ttotal: 6.67s\tremaining: 9.32s\n",
            "417:\tlearn: 1598.2299870\ttotal: 6.68s\tremaining: 9.3s\n",
            "418:\tlearn: 1597.9921676\ttotal: 6.7s\tremaining: 9.29s\n",
            "419:\tlearn: 1597.7456823\ttotal: 6.71s\tremaining: 9.27s\n",
            "420:\tlearn: 1597.6029929\ttotal: 6.73s\tremaining: 9.26s\n",
            "421:\tlearn: 1597.4022284\ttotal: 6.74s\tremaining: 9.24s\n",
            "422:\tlearn: 1597.1771828\ttotal: 6.76s\tremaining: 9.22s\n",
            "423:\tlearn: 1596.7873906\ttotal: 6.77s\tremaining: 9.2s\n",
            "424:\tlearn: 1596.5171492\ttotal: 6.79s\tremaining: 9.18s\n",
            "425:\tlearn: 1596.3822317\ttotal: 6.8s\tremaining: 9.16s\n",
            "426:\tlearn: 1596.0760257\ttotal: 6.82s\tremaining: 9.15s\n",
            "427:\tlearn: 1595.8444739\ttotal: 6.83s\tremaining: 9.13s\n",
            "428:\tlearn: 1595.5254763\ttotal: 6.84s\tremaining: 9.11s\n",
            "429:\tlearn: 1595.0839700\ttotal: 6.86s\tremaining: 9.09s\n",
            "430:\tlearn: 1594.8420928\ttotal: 6.87s\tremaining: 9.07s\n",
            "431:\tlearn: 1594.4554881\ttotal: 6.89s\tremaining: 9.06s\n",
            "432:\tlearn: 1594.2456713\ttotal: 6.9s\tremaining: 9.04s\n",
            "433:\tlearn: 1593.9219760\ttotal: 6.92s\tremaining: 9.02s\n",
            "434:\tlearn: 1593.5986663\ttotal: 6.93s\tremaining: 9.01s\n",
            "435:\tlearn: 1593.3751466\ttotal: 6.95s\tremaining: 8.99s\n",
            "436:\tlearn: 1593.0707458\ttotal: 6.96s\tremaining: 8.97s\n",
            "437:\tlearn: 1592.6686867\ttotal: 6.98s\tremaining: 8.95s\n",
            "438:\tlearn: 1592.3751795\ttotal: 6.99s\tremaining: 8.93s\n",
            "439:\tlearn: 1592.1155817\ttotal: 7.01s\tremaining: 8.92s\n",
            "440:\tlearn: 1591.8990010\ttotal: 7.02s\tremaining: 8.9s\n",
            "441:\tlearn: 1591.6784220\ttotal: 7.04s\tremaining: 8.88s\n",
            "442:\tlearn: 1591.3889888\ttotal: 7.05s\tremaining: 8.86s\n",
            "443:\tlearn: 1591.1579971\ttotal: 7.06s\tremaining: 8.84s\n",
            "444:\tlearn: 1590.8350439\ttotal: 7.08s\tremaining: 8.83s\n",
            "445:\tlearn: 1590.6435245\ttotal: 7.09s\tremaining: 8.81s\n",
            "446:\tlearn: 1590.5225782\ttotal: 7.11s\tremaining: 8.79s\n",
            "447:\tlearn: 1590.2761042\ttotal: 7.12s\tremaining: 8.78s\n",
            "448:\tlearn: 1589.8562348\ttotal: 7.14s\tremaining: 8.76s\n",
            "449:\tlearn: 1589.6341081\ttotal: 7.15s\tremaining: 8.74s\n",
            "450:\tlearn: 1589.4689588\ttotal: 7.17s\tremaining: 8.72s\n",
            "451:\tlearn: 1589.1842474\ttotal: 7.18s\tremaining: 8.71s\n",
            "452:\tlearn: 1588.8398259\ttotal: 7.2s\tremaining: 8.69s\n",
            "453:\tlearn: 1588.7028965\ttotal: 7.21s\tremaining: 8.67s\n",
            "454:\tlearn: 1588.3462729\ttotal: 7.23s\tremaining: 8.66s\n",
            "455:\tlearn: 1588.1309470\ttotal: 7.24s\tremaining: 8.64s\n",
            "456:\tlearn: 1587.9495607\ttotal: 7.26s\tremaining: 8.62s\n",
            "457:\tlearn: 1587.8027834\ttotal: 7.27s\tremaining: 8.61s\n",
            "458:\tlearn: 1587.6153495\ttotal: 7.29s\tremaining: 8.59s\n",
            "459:\tlearn: 1587.2459919\ttotal: 7.3s\tremaining: 8.57s\n",
            "460:\tlearn: 1586.8867639\ttotal: 7.32s\tremaining: 8.55s\n",
            "461:\tlearn: 1586.7243912\ttotal: 7.33s\tremaining: 8.54s\n",
            "462:\tlearn: 1586.5166301\ttotal: 7.35s\tremaining: 8.52s\n",
            "463:\tlearn: 1586.1954836\ttotal: 7.36s\tremaining: 8.5s\n",
            "464:\tlearn: 1585.9479243\ttotal: 7.38s\tremaining: 8.48s\n",
            "465:\tlearn: 1585.6530387\ttotal: 7.39s\tremaining: 8.47s\n",
            "466:\tlearn: 1585.3478374\ttotal: 7.4s\tremaining: 8.45s\n",
            "467:\tlearn: 1585.0022800\ttotal: 7.42s\tremaining: 8.43s\n",
            "468:\tlearn: 1584.7900528\ttotal: 7.43s\tremaining: 8.41s\n",
            "469:\tlearn: 1584.4456820\ttotal: 7.45s\tremaining: 8.4s\n",
            "470:\tlearn: 1584.2185383\ttotal: 7.46s\tremaining: 8.38s\n",
            "471:\tlearn: 1584.0085275\ttotal: 7.47s\tremaining: 8.36s\n",
            "472:\tlearn: 1583.6438459\ttotal: 7.49s\tremaining: 8.34s\n",
            "473:\tlearn: 1583.3594850\ttotal: 7.5s\tremaining: 8.33s\n",
            "474:\tlearn: 1583.1240818\ttotal: 7.52s\tremaining: 8.31s\n",
            "475:\tlearn: 1582.9653188\ttotal: 7.53s\tremaining: 8.29s\n",
            "476:\tlearn: 1582.8611622\ttotal: 7.54s\tremaining: 8.27s\n",
            "477:\tlearn: 1582.5262410\ttotal: 7.56s\tremaining: 8.25s\n",
            "478:\tlearn: 1582.2768374\ttotal: 7.57s\tremaining: 8.24s\n",
            "479:\tlearn: 1582.0924186\ttotal: 7.59s\tremaining: 8.22s\n",
            "480:\tlearn: 1581.8177291\ttotal: 7.6s\tremaining: 8.2s\n",
            "481:\tlearn: 1581.4694753\ttotal: 7.62s\tremaining: 8.18s\n",
            "482:\tlearn: 1581.1513768\ttotal: 7.63s\tremaining: 8.17s\n",
            "483:\tlearn: 1580.9220708\ttotal: 7.64s\tremaining: 8.15s\n",
            "484:\tlearn: 1580.7552480\ttotal: 7.66s\tremaining: 8.13s\n",
            "485:\tlearn: 1580.5551438\ttotal: 7.67s\tremaining: 8.11s\n",
            "486:\tlearn: 1580.2207461\ttotal: 7.69s\tremaining: 8.1s\n",
            "487:\tlearn: 1580.1101270\ttotal: 7.7s\tremaining: 8.08s\n",
            "488:\tlearn: 1579.9748010\ttotal: 7.71s\tremaining: 8.06s\n",
            "489:\tlearn: 1579.7994056\ttotal: 7.73s\tremaining: 8.04s\n",
            "490:\tlearn: 1579.5151082\ttotal: 7.74s\tremaining: 8.03s\n",
            "491:\tlearn: 1579.3298718\ttotal: 7.76s\tremaining: 8.01s\n",
            "492:\tlearn: 1579.1840306\ttotal: 7.77s\tremaining: 7.99s\n",
            "493:\tlearn: 1579.0226507\ttotal: 7.78s\tremaining: 7.97s\n",
            "494:\tlearn: 1578.8084291\ttotal: 7.8s\tremaining: 7.96s\n",
            "495:\tlearn: 1578.6373486\ttotal: 7.81s\tremaining: 7.94s\n",
            "496:\tlearn: 1578.3308453\ttotal: 7.83s\tremaining: 7.92s\n",
            "497:\tlearn: 1578.0365738\ttotal: 7.84s\tremaining: 7.91s\n",
            "498:\tlearn: 1577.8597372\ttotal: 7.86s\tremaining: 7.89s\n",
            "499:\tlearn: 1577.6671837\ttotal: 7.87s\tremaining: 7.87s\n",
            "500:\tlearn: 1577.4493273\ttotal: 7.88s\tremaining: 7.85s\n",
            "501:\tlearn: 1577.2104841\ttotal: 7.9s\tremaining: 7.84s\n",
            "502:\tlearn: 1576.9965931\ttotal: 7.91s\tremaining: 7.82s\n",
            "503:\tlearn: 1576.7541019\ttotal: 7.93s\tremaining: 7.8s\n",
            "504:\tlearn: 1576.4494885\ttotal: 7.94s\tremaining: 7.78s\n",
            "505:\tlearn: 1576.2648259\ttotal: 7.96s\tremaining: 7.77s\n",
            "506:\tlearn: 1575.9353597\ttotal: 7.97s\tremaining: 7.75s\n",
            "507:\tlearn: 1575.7891042\ttotal: 7.98s\tremaining: 7.73s\n",
            "508:\tlearn: 1575.5968644\ttotal: 8s\tremaining: 7.72s\n",
            "509:\tlearn: 1575.4427596\ttotal: 8.01s\tremaining: 7.7s\n",
            "510:\tlearn: 1575.2074621\ttotal: 8.03s\tremaining: 7.68s\n",
            "511:\tlearn: 1575.0080206\ttotal: 8.04s\tremaining: 7.67s\n",
            "512:\tlearn: 1574.8332662\ttotal: 8.06s\tremaining: 7.65s\n",
            "513:\tlearn: 1574.5754281\ttotal: 8.07s\tremaining: 7.63s\n",
            "514:\tlearn: 1574.4326060\ttotal: 8.09s\tremaining: 7.62s\n",
            "515:\tlearn: 1574.1564269\ttotal: 8.1s\tremaining: 7.6s\n",
            "516:\tlearn: 1574.0136746\ttotal: 8.11s\tremaining: 7.58s\n",
            "517:\tlearn: 1573.7662891\ttotal: 8.13s\tremaining: 7.56s\n",
            "518:\tlearn: 1573.4960992\ttotal: 8.14s\tremaining: 7.55s\n",
            "519:\tlearn: 1573.2170188\ttotal: 8.16s\tremaining: 7.53s\n",
            "520:\tlearn: 1573.0028556\ttotal: 8.17s\tremaining: 7.51s\n",
            "521:\tlearn: 1572.8206057\ttotal: 8.19s\tremaining: 7.5s\n",
            "522:\tlearn: 1572.6594357\ttotal: 8.2s\tremaining: 7.48s\n",
            "523:\tlearn: 1572.2902274\ttotal: 8.22s\tremaining: 7.47s\n",
            "524:\tlearn: 1572.1184318\ttotal: 8.23s\tremaining: 7.45s\n",
            "525:\tlearn: 1571.9633498\ttotal: 8.25s\tremaining: 7.43s\n",
            "526:\tlearn: 1571.6514405\ttotal: 8.26s\tremaining: 7.41s\n",
            "527:\tlearn: 1571.5016369\ttotal: 8.27s\tremaining: 7.39s\n",
            "528:\tlearn: 1571.3377969\ttotal: 8.29s\tremaining: 7.38s\n",
            "529:\tlearn: 1571.2078719\ttotal: 8.3s\tremaining: 7.36s\n",
            "530:\tlearn: 1571.0211958\ttotal: 8.32s\tremaining: 7.34s\n",
            "531:\tlearn: 1570.8733752\ttotal: 8.33s\tremaining: 7.33s\n",
            "532:\tlearn: 1570.7109439\ttotal: 8.34s\tremaining: 7.31s\n",
            "533:\tlearn: 1570.4530277\ttotal: 8.36s\tremaining: 7.29s\n",
            "534:\tlearn: 1570.2158584\ttotal: 8.38s\tremaining: 7.28s\n",
            "535:\tlearn: 1570.0219523\ttotal: 8.39s\tremaining: 7.26s\n",
            "536:\tlearn: 1569.8082821\ttotal: 8.4s\tremaining: 7.25s\n",
            "537:\tlearn: 1569.5197777\ttotal: 8.42s\tremaining: 7.23s\n",
            "538:\tlearn: 1569.3409615\ttotal: 8.44s\tremaining: 7.21s\n",
            "539:\tlearn: 1569.0450823\ttotal: 8.45s\tremaining: 7.2s\n",
            "540:\tlearn: 1568.8808121\ttotal: 8.46s\tremaining: 7.18s\n",
            "541:\tlearn: 1568.7368958\ttotal: 8.48s\tremaining: 7.16s\n",
            "542:\tlearn: 1568.5536828\ttotal: 8.49s\tremaining: 7.14s\n",
            "543:\tlearn: 1568.3520807\ttotal: 8.5s\tremaining: 7.13s\n",
            "544:\tlearn: 1568.0851294\ttotal: 8.52s\tremaining: 7.11s\n",
            "545:\tlearn: 1567.9472344\ttotal: 8.53s\tremaining: 7.09s\n",
            "546:\tlearn: 1567.6821776\ttotal: 8.55s\tremaining: 7.08s\n",
            "547:\tlearn: 1567.5710778\ttotal: 8.56s\tremaining: 7.06s\n",
            "548:\tlearn: 1567.4803362\ttotal: 8.57s\tremaining: 7.04s\n",
            "549:\tlearn: 1567.3337471\ttotal: 8.59s\tremaining: 7.03s\n",
            "550:\tlearn: 1567.0869204\ttotal: 8.6s\tremaining: 7.01s\n",
            "551:\tlearn: 1566.8435648\ttotal: 8.62s\tremaining: 6.99s\n",
            "552:\tlearn: 1566.6950493\ttotal: 8.63s\tremaining: 6.97s\n",
            "553:\tlearn: 1566.4201475\ttotal: 8.64s\tremaining: 6.96s\n",
            "554:\tlearn: 1566.2624233\ttotal: 8.66s\tremaining: 6.94s\n",
            "555:\tlearn: 1566.1118410\ttotal: 8.68s\tremaining: 6.93s\n",
            "556:\tlearn: 1565.8961676\ttotal: 8.69s\tremaining: 6.91s\n",
            "557:\tlearn: 1565.6664902\ttotal: 8.71s\tremaining: 6.9s\n",
            "558:\tlearn: 1565.5037405\ttotal: 8.72s\tremaining: 6.88s\n",
            "559:\tlearn: 1565.3457989\ttotal: 8.73s\tremaining: 6.86s\n",
            "560:\tlearn: 1565.1626020\ttotal: 8.75s\tremaining: 6.85s\n",
            "561:\tlearn: 1564.8868067\ttotal: 8.77s\tremaining: 6.83s\n",
            "562:\tlearn: 1564.7608895\ttotal: 8.78s\tremaining: 6.82s\n",
            "563:\tlearn: 1564.6204342\ttotal: 8.79s\tremaining: 6.8s\n",
            "564:\tlearn: 1564.4262057\ttotal: 8.81s\tremaining: 6.78s\n",
            "565:\tlearn: 1564.2758383\ttotal: 8.82s\tremaining: 6.76s\n",
            "566:\tlearn: 1563.9884343\ttotal: 8.84s\tremaining: 6.75s\n",
            "567:\tlearn: 1563.6612363\ttotal: 8.85s\tremaining: 6.73s\n",
            "568:\tlearn: 1563.4172115\ttotal: 8.87s\tremaining: 6.72s\n",
            "569:\tlearn: 1563.2462873\ttotal: 8.88s\tremaining: 6.7s\n",
            "570:\tlearn: 1563.0434553\ttotal: 8.9s\tremaining: 6.68s\n",
            "571:\tlearn: 1562.8264750\ttotal: 8.91s\tremaining: 6.67s\n",
            "572:\tlearn: 1562.5264360\ttotal: 8.93s\tremaining: 6.65s\n",
            "573:\tlearn: 1562.3561608\ttotal: 8.94s\tremaining: 6.64s\n",
            "574:\tlearn: 1562.0737583\ttotal: 8.96s\tremaining: 6.62s\n",
            "575:\tlearn: 1561.8430860\ttotal: 8.97s\tremaining: 6.61s\n",
            "576:\tlearn: 1561.5715960\ttotal: 8.99s\tremaining: 6.59s\n",
            "577:\tlearn: 1561.3829308\ttotal: 9.01s\tremaining: 6.57s\n",
            "578:\tlearn: 1561.2340143\ttotal: 9.02s\tremaining: 6.56s\n",
            "579:\tlearn: 1561.1043964\ttotal: 9.03s\tremaining: 6.54s\n",
            "580:\tlearn: 1560.9574146\ttotal: 9.05s\tremaining: 6.52s\n",
            "581:\tlearn: 1560.7833460\ttotal: 9.06s\tremaining: 6.51s\n",
            "582:\tlearn: 1560.4875831\ttotal: 9.08s\tremaining: 6.49s\n",
            "583:\tlearn: 1560.2297673\ttotal: 9.09s\tremaining: 6.47s\n",
            "584:\tlearn: 1559.9764098\ttotal: 9.1s\tremaining: 6.46s\n",
            "585:\tlearn: 1559.8340177\ttotal: 9.12s\tremaining: 6.44s\n",
            "586:\tlearn: 1559.6519109\ttotal: 9.13s\tremaining: 6.42s\n",
            "587:\tlearn: 1559.4474124\ttotal: 9.15s\tremaining: 6.41s\n",
            "588:\tlearn: 1559.2559619\ttotal: 9.16s\tremaining: 6.39s\n",
            "589:\tlearn: 1559.0455405\ttotal: 9.18s\tremaining: 6.38s\n",
            "590:\tlearn: 1558.8360097\ttotal: 9.19s\tremaining: 6.36s\n",
            "591:\tlearn: 1558.6241975\ttotal: 9.2s\tremaining: 6.34s\n",
            "592:\tlearn: 1558.4850642\ttotal: 9.22s\tremaining: 6.33s\n",
            "593:\tlearn: 1558.2696929\ttotal: 9.23s\tremaining: 6.31s\n",
            "594:\tlearn: 1558.0359269\ttotal: 9.25s\tremaining: 6.29s\n",
            "595:\tlearn: 1557.9843281\ttotal: 9.26s\tremaining: 6.28s\n",
            "596:\tlearn: 1557.8292304\ttotal: 9.27s\tremaining: 6.26s\n",
            "597:\tlearn: 1557.6200318\ttotal: 9.29s\tremaining: 6.25s\n",
            "598:\tlearn: 1557.4736197\ttotal: 9.3s\tremaining: 6.23s\n",
            "599:\tlearn: 1557.3029583\ttotal: 9.32s\tremaining: 6.21s\n",
            "600:\tlearn: 1557.0363115\ttotal: 9.33s\tremaining: 6.2s\n",
            "601:\tlearn: 1556.8667881\ttotal: 9.35s\tremaining: 6.18s\n",
            "602:\tlearn: 1556.7384303\ttotal: 9.36s\tremaining: 6.16s\n",
            "603:\tlearn: 1556.5567309\ttotal: 9.37s\tremaining: 6.14s\n",
            "604:\tlearn: 1556.3941831\ttotal: 9.39s\tremaining: 6.13s\n",
            "605:\tlearn: 1556.2681418\ttotal: 9.4s\tremaining: 6.11s\n",
            "606:\tlearn: 1556.1075277\ttotal: 9.42s\tremaining: 6.1s\n",
            "607:\tlearn: 1555.8556249\ttotal: 9.43s\tremaining: 6.08s\n",
            "608:\tlearn: 1555.6618975\ttotal: 9.44s\tremaining: 6.06s\n",
            "609:\tlearn: 1555.4220362\ttotal: 9.46s\tremaining: 6.05s\n",
            "610:\tlearn: 1555.3390112\ttotal: 9.47s\tremaining: 6.03s\n",
            "611:\tlearn: 1555.1481416\ttotal: 9.49s\tremaining: 6.02s\n",
            "612:\tlearn: 1554.9775323\ttotal: 9.5s\tremaining: 6s\n",
            "613:\tlearn: 1554.7992458\ttotal: 9.52s\tremaining: 5.98s\n",
            "614:\tlearn: 1554.7000558\ttotal: 9.53s\tremaining: 5.97s\n",
            "615:\tlearn: 1554.4839268\ttotal: 9.55s\tremaining: 5.95s\n",
            "616:\tlearn: 1554.2470512\ttotal: 9.56s\tremaining: 5.93s\n",
            "617:\tlearn: 1554.1379934\ttotal: 9.57s\tremaining: 5.92s\n",
            "618:\tlearn: 1554.0031696\ttotal: 9.59s\tremaining: 5.9s\n",
            "619:\tlearn: 1553.8924063\ttotal: 9.6s\tremaining: 5.89s\n",
            "620:\tlearn: 1553.7219379\ttotal: 9.62s\tremaining: 5.87s\n",
            "621:\tlearn: 1553.5960046\ttotal: 9.63s\tremaining: 5.85s\n",
            "622:\tlearn: 1553.4451039\ttotal: 9.64s\tremaining: 5.84s\n",
            "623:\tlearn: 1553.3287451\ttotal: 9.66s\tremaining: 5.82s\n",
            "624:\tlearn: 1553.2217721\ttotal: 9.67s\tremaining: 5.8s\n",
            "625:\tlearn: 1553.0689401\ttotal: 9.69s\tremaining: 5.79s\n",
            "626:\tlearn: 1552.9344124\ttotal: 9.7s\tremaining: 5.77s\n",
            "627:\tlearn: 1552.7806062\ttotal: 9.71s\tremaining: 5.75s\n",
            "628:\tlearn: 1552.5852002\ttotal: 9.73s\tremaining: 5.74s\n",
            "629:\tlearn: 1552.3284623\ttotal: 9.74s\tremaining: 5.72s\n",
            "630:\tlearn: 1552.1747987\ttotal: 9.76s\tremaining: 5.71s\n",
            "631:\tlearn: 1552.0149621\ttotal: 9.77s\tremaining: 5.69s\n",
            "632:\tlearn: 1551.8984040\ttotal: 9.79s\tremaining: 5.67s\n",
            "633:\tlearn: 1551.6227207\ttotal: 9.8s\tremaining: 5.66s\n",
            "634:\tlearn: 1551.4655731\ttotal: 9.81s\tremaining: 5.64s\n",
            "635:\tlearn: 1551.3077882\ttotal: 9.83s\tremaining: 5.63s\n",
            "636:\tlearn: 1551.0555067\ttotal: 9.85s\tremaining: 5.61s\n",
            "637:\tlearn: 1550.9294283\ttotal: 9.86s\tremaining: 5.59s\n",
            "638:\tlearn: 1550.7164376\ttotal: 9.87s\tremaining: 5.58s\n",
            "639:\tlearn: 1550.6119568\ttotal: 9.89s\tremaining: 5.56s\n",
            "640:\tlearn: 1550.4809577\ttotal: 9.9s\tremaining: 5.55s\n",
            "641:\tlearn: 1550.3206502\ttotal: 9.92s\tremaining: 5.53s\n",
            "642:\tlearn: 1550.1738267\ttotal: 9.93s\tremaining: 5.51s\n",
            "643:\tlearn: 1550.0522473\ttotal: 9.94s\tremaining: 5.5s\n",
            "644:\tlearn: 1549.9366457\ttotal: 9.96s\tremaining: 5.48s\n",
            "645:\tlearn: 1549.7529826\ttotal: 9.97s\tremaining: 5.46s\n",
            "646:\tlearn: 1549.6118856\ttotal: 9.99s\tremaining: 5.45s\n",
            "647:\tlearn: 1549.4267387\ttotal: 10s\tremaining: 5.43s\n",
            "648:\tlearn: 1549.2216095\ttotal: 10s\tremaining: 5.42s\n",
            "649:\tlearn: 1549.0994503\ttotal: 10s\tremaining: 5.4s\n",
            "650:\tlearn: 1548.9142412\ttotal: 10s\tremaining: 5.39s\n",
            "651:\tlearn: 1548.7711666\ttotal: 10.1s\tremaining: 5.37s\n",
            "652:\tlearn: 1548.6615300\ttotal: 10.1s\tremaining: 5.35s\n",
            "653:\tlearn: 1548.5561513\ttotal: 10.1s\tremaining: 5.34s\n",
            "654:\tlearn: 1548.4174549\ttotal: 10.1s\tremaining: 5.32s\n",
            "655:\tlearn: 1548.2748558\ttotal: 10.1s\tremaining: 5.3s\n",
            "656:\tlearn: 1548.0709911\ttotal: 10.1s\tremaining: 5.29s\n",
            "657:\tlearn: 1547.8538131\ttotal: 10.1s\tremaining: 5.27s\n",
            "658:\tlearn: 1547.7601938\ttotal: 10.2s\tremaining: 5.26s\n",
            "659:\tlearn: 1547.5485726\ttotal: 10.2s\tremaining: 5.24s\n",
            "660:\tlearn: 1547.4448264\ttotal: 10.2s\tremaining: 5.23s\n",
            "661:\tlearn: 1547.2829514\ttotal: 10.2s\tremaining: 5.21s\n",
            "662:\tlearn: 1547.1578031\ttotal: 10.2s\tremaining: 5.2s\n",
            "663:\tlearn: 1547.0127721\ttotal: 10.2s\tremaining: 5.18s\n",
            "664:\tlearn: 1546.7939298\ttotal: 10.2s\tremaining: 5.16s\n",
            "665:\tlearn: 1546.6115784\ttotal: 10.3s\tremaining: 5.15s\n",
            "666:\tlearn: 1546.3769060\ttotal: 10.3s\tremaining: 5.13s\n",
            "667:\tlearn: 1546.2769416\ttotal: 10.3s\tremaining: 5.12s\n",
            "668:\tlearn: 1546.1454681\ttotal: 10.3s\tremaining: 5.1s\n",
            "669:\tlearn: 1545.9467362\ttotal: 10.3s\tremaining: 5.09s\n",
            "670:\tlearn: 1545.7462219\ttotal: 10.3s\tremaining: 5.07s\n",
            "671:\tlearn: 1545.6277009\ttotal: 10.4s\tremaining: 5.05s\n",
            "672:\tlearn: 1545.3687864\ttotal: 10.4s\tremaining: 5.04s\n",
            "673:\tlearn: 1545.2301076\ttotal: 10.4s\tremaining: 5.02s\n",
            "674:\tlearn: 1545.1347916\ttotal: 10.4s\tremaining: 5.01s\n",
            "675:\tlearn: 1545.0119232\ttotal: 10.4s\tremaining: 4.99s\n",
            "676:\tlearn: 1544.8605928\ttotal: 10.4s\tremaining: 4.97s\n",
            "677:\tlearn: 1544.7086046\ttotal: 10.4s\tremaining: 4.96s\n",
            "678:\tlearn: 1544.4850424\ttotal: 10.5s\tremaining: 4.94s\n",
            "679:\tlearn: 1544.3600214\ttotal: 10.5s\tremaining: 4.93s\n",
            "680:\tlearn: 1544.1359236\ttotal: 10.5s\tremaining: 4.91s\n",
            "681:\tlearn: 1543.9569628\ttotal: 10.5s\tremaining: 4.9s\n",
            "682:\tlearn: 1543.8023887\ttotal: 10.5s\tremaining: 4.88s\n",
            "683:\tlearn: 1543.6352744\ttotal: 10.5s\tremaining: 4.86s\n",
            "684:\tlearn: 1543.4758126\ttotal: 10.5s\tremaining: 4.85s\n",
            "685:\tlearn: 1543.3653823\ttotal: 10.6s\tremaining: 4.83s\n",
            "686:\tlearn: 1543.2575076\ttotal: 10.6s\tremaining: 4.82s\n",
            "687:\tlearn: 1543.1292964\ttotal: 10.6s\tremaining: 4.8s\n",
            "688:\tlearn: 1542.9576289\ttotal: 10.6s\tremaining: 4.79s\n",
            "689:\tlearn: 1542.8052201\ttotal: 10.6s\tremaining: 4.77s\n",
            "690:\tlearn: 1542.6974138\ttotal: 10.6s\tremaining: 4.76s\n",
            "691:\tlearn: 1542.5950940\ttotal: 10.7s\tremaining: 4.74s\n",
            "692:\tlearn: 1542.2847520\ttotal: 10.7s\tremaining: 4.73s\n",
            "693:\tlearn: 1542.1382173\ttotal: 10.7s\tremaining: 4.72s\n",
            "694:\tlearn: 1541.8674666\ttotal: 10.7s\tremaining: 4.7s\n",
            "695:\tlearn: 1541.5001414\ttotal: 10.7s\tremaining: 4.69s\n",
            "696:\tlearn: 1541.3674515\ttotal: 10.8s\tremaining: 4.67s\n",
            "697:\tlearn: 1541.1767822\ttotal: 10.8s\tremaining: 4.66s\n",
            "698:\tlearn: 1540.9207955\ttotal: 10.8s\tremaining: 4.65s\n",
            "699:\tlearn: 1540.8043260\ttotal: 10.8s\tremaining: 4.63s\n",
            "700:\tlearn: 1540.7127908\ttotal: 10.8s\tremaining: 4.62s\n",
            "701:\tlearn: 1540.5398835\ttotal: 10.8s\tremaining: 4.61s\n",
            "702:\tlearn: 1540.4044382\ttotal: 10.9s\tremaining: 4.59s\n",
            "703:\tlearn: 1540.2194946\ttotal: 10.9s\tremaining: 4.58s\n",
            "704:\tlearn: 1540.0138599\ttotal: 10.9s\tremaining: 4.56s\n",
            "705:\tlearn: 1539.8824417\ttotal: 10.9s\tremaining: 4.55s\n",
            "706:\tlearn: 1539.7325869\ttotal: 10.9s\tremaining: 4.53s\n",
            "707:\tlearn: 1539.5400028\ttotal: 11s\tremaining: 4.52s\n",
            "708:\tlearn: 1539.4513059\ttotal: 11s\tremaining: 4.51s\n",
            "709:\tlearn: 1539.2973872\ttotal: 11s\tremaining: 4.49s\n",
            "710:\tlearn: 1539.0583666\ttotal: 11s\tremaining: 4.48s\n",
            "711:\tlearn: 1538.7134608\ttotal: 11s\tremaining: 4.46s\n",
            "712:\tlearn: 1538.4072950\ttotal: 11.1s\tremaining: 4.45s\n",
            "713:\tlearn: 1538.1713713\ttotal: 11.1s\tremaining: 4.43s\n",
            "714:\tlearn: 1538.0444239\ttotal: 11.1s\tremaining: 4.42s\n",
            "715:\tlearn: 1537.9350619\ttotal: 11.1s\tremaining: 4.41s\n",
            "716:\tlearn: 1537.7629470\ttotal: 11.1s\tremaining: 4.39s\n",
            "717:\tlearn: 1537.6554308\ttotal: 11.1s\tremaining: 4.38s\n",
            "718:\tlearn: 1537.4530163\ttotal: 11.2s\tremaining: 4.36s\n",
            "719:\tlearn: 1537.3251688\ttotal: 11.2s\tremaining: 4.35s\n",
            "720:\tlearn: 1537.1324240\ttotal: 11.2s\tremaining: 4.33s\n",
            "721:\tlearn: 1536.9721095\ttotal: 11.2s\tremaining: 4.32s\n",
            "722:\tlearn: 1536.7245087\ttotal: 11.2s\tremaining: 4.31s\n",
            "723:\tlearn: 1536.5745760\ttotal: 11.3s\tremaining: 4.29s\n",
            "724:\tlearn: 1536.4657246\ttotal: 11.3s\tremaining: 4.28s\n",
            "725:\tlearn: 1536.3682659\ttotal: 11.3s\tremaining: 4.27s\n",
            "726:\tlearn: 1536.2106177\ttotal: 11.3s\tremaining: 4.25s\n",
            "727:\tlearn: 1536.1557798\ttotal: 11.3s\tremaining: 4.24s\n",
            "728:\tlearn: 1536.0376872\ttotal: 11.3s\tremaining: 4.22s\n",
            "729:\tlearn: 1535.9675464\ttotal: 11.4s\tremaining: 4.2s\n",
            "730:\tlearn: 1535.8032199\ttotal: 11.4s\tremaining: 4.19s\n",
            "731:\tlearn: 1535.7087861\ttotal: 11.4s\tremaining: 4.17s\n",
            "732:\tlearn: 1535.5737164\ttotal: 11.4s\tremaining: 4.15s\n",
            "733:\tlearn: 1535.4324343\ttotal: 11.4s\tremaining: 4.14s\n",
            "734:\tlearn: 1535.2783735\ttotal: 11.4s\tremaining: 4.12s\n",
            "735:\tlearn: 1535.1458716\ttotal: 11.5s\tremaining: 4.11s\n",
            "736:\tlearn: 1535.0217397\ttotal: 11.5s\tremaining: 4.09s\n",
            "737:\tlearn: 1534.9244965\ttotal: 11.5s\tremaining: 4.08s\n",
            "738:\tlearn: 1534.8245364\ttotal: 11.5s\tremaining: 4.06s\n",
            "739:\tlearn: 1534.6903419\ttotal: 11.5s\tremaining: 4.04s\n",
            "740:\tlearn: 1534.5348553\ttotal: 11.5s\tremaining: 4.03s\n",
            "741:\tlearn: 1534.3712207\ttotal: 11.5s\tremaining: 4.01s\n",
            "742:\tlearn: 1534.2311226\ttotal: 11.6s\tremaining: 4s\n",
            "743:\tlearn: 1534.1227565\ttotal: 11.6s\tremaining: 3.98s\n",
            "744:\tlearn: 1533.9275496\ttotal: 11.6s\tremaining: 3.96s\n",
            "745:\tlearn: 1533.7081633\ttotal: 11.6s\tremaining: 3.95s\n",
            "746:\tlearn: 1533.5537472\ttotal: 11.6s\tremaining: 3.93s\n",
            "747:\tlearn: 1533.4374254\ttotal: 11.6s\tremaining: 3.92s\n",
            "748:\tlearn: 1533.3130216\ttotal: 11.6s\tremaining: 3.9s\n",
            "749:\tlearn: 1533.0956739\ttotal: 11.7s\tremaining: 3.88s\n",
            "750:\tlearn: 1532.9609538\ttotal: 11.7s\tremaining: 3.87s\n",
            "751:\tlearn: 1532.7563348\ttotal: 11.7s\tremaining: 3.85s\n",
            "752:\tlearn: 1532.6461973\ttotal: 11.7s\tremaining: 3.84s\n",
            "753:\tlearn: 1532.5161557\ttotal: 11.7s\tremaining: 3.82s\n",
            "754:\tlearn: 1532.3908226\ttotal: 11.7s\tremaining: 3.81s\n",
            "755:\tlearn: 1532.2081068\ttotal: 11.7s\tremaining: 3.79s\n",
            "756:\tlearn: 1532.0630610\ttotal: 11.8s\tremaining: 3.77s\n",
            "757:\tlearn: 1531.8322742\ttotal: 11.8s\tremaining: 3.76s\n",
            "758:\tlearn: 1531.5858808\ttotal: 11.8s\tremaining: 3.74s\n",
            "759:\tlearn: 1531.4778723\ttotal: 11.8s\tremaining: 3.73s\n",
            "760:\tlearn: 1531.2713118\ttotal: 11.8s\tremaining: 3.71s\n",
            "761:\tlearn: 1531.1112519\ttotal: 11.8s\tremaining: 3.69s\n",
            "762:\tlearn: 1531.0381960\ttotal: 11.8s\tremaining: 3.68s\n",
            "763:\tlearn: 1530.7846708\ttotal: 11.9s\tremaining: 3.66s\n",
            "764:\tlearn: 1530.6363443\ttotal: 11.9s\tremaining: 3.65s\n",
            "765:\tlearn: 1530.5508317\ttotal: 11.9s\tremaining: 3.63s\n",
            "766:\tlearn: 1530.3859882\ttotal: 11.9s\tremaining: 3.61s\n",
            "767:\tlearn: 1530.1012556\ttotal: 11.9s\tremaining: 3.6s\n",
            "768:\tlearn: 1529.9139013\ttotal: 11.9s\tremaining: 3.58s\n",
            "769:\tlearn: 1529.7926712\ttotal: 11.9s\tremaining: 3.57s\n",
            "770:\tlearn: 1529.5021776\ttotal: 12s\tremaining: 3.55s\n",
            "771:\tlearn: 1529.2894119\ttotal: 12s\tremaining: 3.54s\n",
            "772:\tlearn: 1529.1206817\ttotal: 12s\tremaining: 3.52s\n",
            "773:\tlearn: 1528.9875487\ttotal: 12s\tremaining: 3.5s\n",
            "774:\tlearn: 1528.8533325\ttotal: 12s\tremaining: 3.49s\n",
            "775:\tlearn: 1528.7836132\ttotal: 12s\tremaining: 3.47s\n",
            "776:\tlearn: 1528.6045089\ttotal: 12s\tremaining: 3.46s\n",
            "777:\tlearn: 1528.3980242\ttotal: 12.1s\tremaining: 3.44s\n",
            "778:\tlearn: 1528.2353714\ttotal: 12.1s\tremaining: 3.42s\n",
            "779:\tlearn: 1528.1085684\ttotal: 12.1s\tremaining: 3.41s\n",
            "780:\tlearn: 1528.0229945\ttotal: 12.1s\tremaining: 3.39s\n",
            "781:\tlearn: 1527.8728712\ttotal: 12.1s\tremaining: 3.38s\n",
            "782:\tlearn: 1527.7241669\ttotal: 12.1s\tremaining: 3.36s\n",
            "783:\tlearn: 1527.5769346\ttotal: 12.1s\tremaining: 3.35s\n",
            "784:\tlearn: 1527.4502649\ttotal: 12.2s\tremaining: 3.33s\n",
            "785:\tlearn: 1527.2901596\ttotal: 12.2s\tremaining: 3.31s\n",
            "786:\tlearn: 1527.1498670\ttotal: 12.2s\tremaining: 3.3s\n",
            "787:\tlearn: 1527.1028229\ttotal: 12.2s\tremaining: 3.28s\n",
            "788:\tlearn: 1526.9407994\ttotal: 12.2s\tremaining: 3.27s\n",
            "789:\tlearn: 1526.8010932\ttotal: 12.2s\tremaining: 3.25s\n",
            "790:\tlearn: 1526.6983168\ttotal: 12.2s\tremaining: 3.23s\n",
            "791:\tlearn: 1526.5613835\ttotal: 12.3s\tremaining: 3.22s\n",
            "792:\tlearn: 1526.4147875\ttotal: 12.3s\tremaining: 3.2s\n",
            "793:\tlearn: 1526.3312807\ttotal: 12.3s\tremaining: 3.19s\n",
            "794:\tlearn: 1526.2366956\ttotal: 12.3s\tremaining: 3.17s\n",
            "795:\tlearn: 1525.9259914\ttotal: 12.3s\tremaining: 3.16s\n",
            "796:\tlearn: 1525.8204823\ttotal: 12.3s\tremaining: 3.14s\n",
            "797:\tlearn: 1525.6862395\ttotal: 12.3s\tremaining: 3.12s\n",
            "798:\tlearn: 1525.4691691\ttotal: 12.4s\tremaining: 3.11s\n",
            "799:\tlearn: 1525.3498024\ttotal: 12.4s\tremaining: 3.09s\n",
            "800:\tlearn: 1525.2498414\ttotal: 12.4s\tremaining: 3.08s\n",
            "801:\tlearn: 1525.0491659\ttotal: 12.4s\tremaining: 3.06s\n",
            "802:\tlearn: 1524.9353026\ttotal: 12.4s\tremaining: 3.04s\n",
            "803:\tlearn: 1524.6775380\ttotal: 12.4s\tremaining: 3.03s\n",
            "804:\tlearn: 1524.5920755\ttotal: 12.4s\tremaining: 3.01s\n",
            "805:\tlearn: 1524.5030849\ttotal: 12.5s\tremaining: 3s\n",
            "806:\tlearn: 1524.4298115\ttotal: 12.5s\tremaining: 2.98s\n",
            "807:\tlearn: 1524.3112017\ttotal: 12.5s\tremaining: 2.97s\n",
            "808:\tlearn: 1524.2133140\ttotal: 12.5s\tremaining: 2.95s\n",
            "809:\tlearn: 1524.1568968\ttotal: 12.5s\tremaining: 2.94s\n",
            "810:\tlearn: 1523.8870903\ttotal: 12.5s\tremaining: 2.92s\n",
            "811:\tlearn: 1523.7971708\ttotal: 12.5s\tremaining: 2.9s\n",
            "812:\tlearn: 1523.6131860\ttotal: 12.6s\tremaining: 2.89s\n",
            "813:\tlearn: 1523.5085781\ttotal: 12.6s\tremaining: 2.87s\n",
            "814:\tlearn: 1523.2346069\ttotal: 12.6s\tremaining: 2.86s\n",
            "815:\tlearn: 1523.0873202\ttotal: 12.6s\tremaining: 2.84s\n",
            "816:\tlearn: 1522.9436223\ttotal: 12.6s\tremaining: 2.83s\n",
            "817:\tlearn: 1522.8787400\ttotal: 12.6s\tremaining: 2.81s\n",
            "818:\tlearn: 1522.7803956\ttotal: 12.6s\tremaining: 2.79s\n",
            "819:\tlearn: 1522.6738523\ttotal: 12.7s\tremaining: 2.78s\n",
            "820:\tlearn: 1522.5392963\ttotal: 12.7s\tremaining: 2.76s\n",
            "821:\tlearn: 1522.3999088\ttotal: 12.7s\tremaining: 2.75s\n",
            "822:\tlearn: 1522.2135675\ttotal: 12.7s\tremaining: 2.73s\n",
            "823:\tlearn: 1521.9912749\ttotal: 12.7s\tremaining: 2.72s\n",
            "824:\tlearn: 1521.7979294\ttotal: 12.7s\tremaining: 2.7s\n",
            "825:\tlearn: 1521.6895823\ttotal: 12.7s\tremaining: 2.68s\n",
            "826:\tlearn: 1521.5145080\ttotal: 12.8s\tremaining: 2.67s\n",
            "827:\tlearn: 1521.4595881\ttotal: 12.8s\tremaining: 2.65s\n",
            "828:\tlearn: 1521.3694266\ttotal: 12.8s\tremaining: 2.64s\n",
            "829:\tlearn: 1521.1781887\ttotal: 12.8s\tremaining: 2.62s\n",
            "830:\tlearn: 1521.0789366\ttotal: 12.8s\tremaining: 2.61s\n",
            "831:\tlearn: 1521.0263377\ttotal: 12.8s\tremaining: 2.59s\n",
            "832:\tlearn: 1520.9124266\ttotal: 12.8s\tremaining: 2.58s\n",
            "833:\tlearn: 1520.8499959\ttotal: 12.9s\tremaining: 2.56s\n",
            "834:\tlearn: 1520.7265065\ttotal: 12.9s\tremaining: 2.54s\n",
            "835:\tlearn: 1520.6478035\ttotal: 12.9s\tremaining: 2.53s\n",
            "836:\tlearn: 1520.5530608\ttotal: 12.9s\tremaining: 2.51s\n",
            "837:\tlearn: 1520.4329087\ttotal: 12.9s\tremaining: 2.5s\n",
            "838:\tlearn: 1520.3461607\ttotal: 12.9s\tremaining: 2.48s\n",
            "839:\tlearn: 1520.2362058\ttotal: 12.9s\tremaining: 2.46s\n",
            "840:\tlearn: 1520.1125011\ttotal: 13s\tremaining: 2.45s\n",
            "841:\tlearn: 1519.9355941\ttotal: 13s\tremaining: 2.43s\n",
            "842:\tlearn: 1519.7668112\ttotal: 13s\tremaining: 2.42s\n",
            "843:\tlearn: 1519.6762827\ttotal: 13s\tremaining: 2.4s\n",
            "844:\tlearn: 1519.4671781\ttotal: 13s\tremaining: 2.39s\n",
            "845:\tlearn: 1519.3836672\ttotal: 13s\tremaining: 2.37s\n",
            "846:\tlearn: 1519.1984657\ttotal: 13s\tremaining: 2.36s\n",
            "847:\tlearn: 1519.0921911\ttotal: 13.1s\tremaining: 2.34s\n",
            "848:\tlearn: 1518.9977950\ttotal: 13.1s\tremaining: 2.32s\n",
            "849:\tlearn: 1518.8611440\ttotal: 13.1s\tremaining: 2.31s\n",
            "850:\tlearn: 1518.7773749\ttotal: 13.1s\tremaining: 2.29s\n",
            "851:\tlearn: 1518.6356244\ttotal: 13.1s\tremaining: 2.28s\n",
            "852:\tlearn: 1518.5353145\ttotal: 13.1s\tremaining: 2.26s\n",
            "853:\tlearn: 1518.4814312\ttotal: 13.1s\tremaining: 2.25s\n",
            "854:\tlearn: 1518.3153147\ttotal: 13.2s\tremaining: 2.23s\n",
            "855:\tlearn: 1518.1820598\ttotal: 13.2s\tremaining: 2.21s\n",
            "856:\tlearn: 1518.1452825\ttotal: 13.2s\tremaining: 2.2s\n",
            "857:\tlearn: 1518.0244352\ttotal: 13.2s\tremaining: 2.18s\n",
            "858:\tlearn: 1517.9603942\ttotal: 13.2s\tremaining: 2.17s\n",
            "859:\tlearn: 1517.8355187\ttotal: 13.2s\tremaining: 2.15s\n",
            "860:\tlearn: 1517.7149269\ttotal: 13.2s\tremaining: 2.14s\n",
            "861:\tlearn: 1517.5563662\ttotal: 13.3s\tremaining: 2.12s\n",
            "862:\tlearn: 1517.4346333\ttotal: 13.3s\tremaining: 2.11s\n",
            "863:\tlearn: 1517.3482991\ttotal: 13.3s\tremaining: 2.09s\n",
            "864:\tlearn: 1517.1765953\ttotal: 13.3s\tremaining: 2.08s\n",
            "865:\tlearn: 1516.9766963\ttotal: 13.3s\tremaining: 2.06s\n",
            "866:\tlearn: 1516.8781576\ttotal: 13.3s\tremaining: 2.04s\n",
            "867:\tlearn: 1516.7966665\ttotal: 13.3s\tremaining: 2.03s\n",
            "868:\tlearn: 1516.5471212\ttotal: 13.4s\tremaining: 2.01s\n",
            "869:\tlearn: 1516.3170472\ttotal: 13.4s\tremaining: 2s\n",
            "870:\tlearn: 1516.2017783\ttotal: 13.4s\tremaining: 1.98s\n",
            "871:\tlearn: 1516.0381623\ttotal: 13.4s\tremaining: 1.97s\n",
            "872:\tlearn: 1515.8225893\ttotal: 13.4s\tremaining: 1.95s\n",
            "873:\tlearn: 1515.7070545\ttotal: 13.4s\tremaining: 1.94s\n",
            "874:\tlearn: 1515.6322241\ttotal: 13.4s\tremaining: 1.92s\n",
            "875:\tlearn: 1515.5335277\ttotal: 13.5s\tremaining: 1.91s\n",
            "876:\tlearn: 1515.3890681\ttotal: 13.5s\tremaining: 1.89s\n",
            "877:\tlearn: 1515.2262601\ttotal: 13.5s\tremaining: 1.87s\n",
            "878:\tlearn: 1515.1550628\ttotal: 13.5s\tremaining: 1.86s\n",
            "879:\tlearn: 1515.0610467\ttotal: 13.5s\tremaining: 1.84s\n",
            "880:\tlearn: 1514.9304996\ttotal: 13.5s\tremaining: 1.83s\n",
            "881:\tlearn: 1514.8158325\ttotal: 13.6s\tremaining: 1.81s\n",
            "882:\tlearn: 1514.6772978\ttotal: 13.6s\tremaining: 1.8s\n",
            "883:\tlearn: 1514.5987431\ttotal: 13.6s\tremaining: 1.78s\n",
            "884:\tlearn: 1514.4954084\ttotal: 13.6s\tremaining: 1.77s\n",
            "885:\tlearn: 1514.3268378\ttotal: 13.6s\tremaining: 1.75s\n",
            "886:\tlearn: 1514.2151004\ttotal: 13.6s\tremaining: 1.74s\n",
            "887:\tlearn: 1514.0805095\ttotal: 13.6s\tremaining: 1.72s\n",
            "888:\tlearn: 1513.9848737\ttotal: 13.7s\tremaining: 1.7s\n",
            "889:\tlearn: 1513.8889684\ttotal: 13.7s\tremaining: 1.69s\n",
            "890:\tlearn: 1513.8142200\ttotal: 13.7s\tremaining: 1.67s\n",
            "891:\tlearn: 1513.6855804\ttotal: 13.7s\tremaining: 1.66s\n",
            "892:\tlearn: 1513.5470150\ttotal: 13.7s\tremaining: 1.64s\n",
            "893:\tlearn: 1513.4489452\ttotal: 13.7s\tremaining: 1.63s\n",
            "894:\tlearn: 1513.3018005\ttotal: 13.7s\tremaining: 1.61s\n",
            "895:\tlearn: 1513.2122565\ttotal: 13.8s\tremaining: 1.6s\n",
            "896:\tlearn: 1513.1119540\ttotal: 13.8s\tremaining: 1.58s\n",
            "897:\tlearn: 1512.9872362\ttotal: 13.8s\tremaining: 1.56s\n",
            "898:\tlearn: 1512.8921653\ttotal: 13.8s\tremaining: 1.55s\n",
            "899:\tlearn: 1512.7549601\ttotal: 13.8s\tremaining: 1.53s\n",
            "900:\tlearn: 1512.5717596\ttotal: 13.8s\tremaining: 1.52s\n",
            "901:\tlearn: 1512.4522746\ttotal: 13.8s\tremaining: 1.5s\n",
            "902:\tlearn: 1512.3476620\ttotal: 13.9s\tremaining: 1.49s\n",
            "903:\tlearn: 1512.2882554\ttotal: 13.9s\tremaining: 1.47s\n",
            "904:\tlearn: 1512.1760489\ttotal: 13.9s\tremaining: 1.46s\n",
            "905:\tlearn: 1512.0702378\ttotal: 13.9s\tremaining: 1.44s\n",
            "906:\tlearn: 1511.8703000\ttotal: 13.9s\tremaining: 1.43s\n",
            "907:\tlearn: 1511.7825198\ttotal: 13.9s\tremaining: 1.41s\n",
            "908:\tlearn: 1511.6271015\ttotal: 13.9s\tremaining: 1.4s\n",
            "909:\tlearn: 1511.4456441\ttotal: 14s\tremaining: 1.38s\n",
            "910:\tlearn: 1511.3961266\ttotal: 14s\tremaining: 1.36s\n",
            "911:\tlearn: 1511.3159220\ttotal: 14s\tremaining: 1.35s\n",
            "912:\tlearn: 1511.2300670\ttotal: 14s\tremaining: 1.33s\n",
            "913:\tlearn: 1511.1308889\ttotal: 14s\tremaining: 1.32s\n",
            "914:\tlearn: 1510.9361638\ttotal: 14s\tremaining: 1.3s\n",
            "915:\tlearn: 1510.8758028\ttotal: 14s\tremaining: 1.29s\n",
            "916:\tlearn: 1510.8042054\ttotal: 14s\tremaining: 1.27s\n",
            "917:\tlearn: 1510.7363433\ttotal: 14.1s\tremaining: 1.26s\n",
            "918:\tlearn: 1510.5040970\ttotal: 14.1s\tremaining: 1.24s\n",
            "919:\tlearn: 1510.4121519\ttotal: 14.1s\tremaining: 1.23s\n",
            "920:\tlearn: 1510.2968099\ttotal: 14.1s\tremaining: 1.21s\n",
            "921:\tlearn: 1510.1262301\ttotal: 14.1s\tremaining: 1.19s\n",
            "922:\tlearn: 1510.0611916\ttotal: 14.1s\tremaining: 1.18s\n",
            "923:\tlearn: 1509.9832161\ttotal: 14.1s\tremaining: 1.16s\n",
            "924:\tlearn: 1509.8884733\ttotal: 14.2s\tremaining: 1.15s\n",
            "925:\tlearn: 1509.7931605\ttotal: 14.2s\tremaining: 1.13s\n",
            "926:\tlearn: 1509.6148937\ttotal: 14.2s\tremaining: 1.12s\n",
            "927:\tlearn: 1509.4240165\ttotal: 14.2s\tremaining: 1.1s\n",
            "928:\tlearn: 1509.2891906\ttotal: 14.2s\tremaining: 1.09s\n",
            "929:\tlearn: 1509.1938632\ttotal: 14.2s\tremaining: 1.07s\n",
            "930:\tlearn: 1509.0882162\ttotal: 14.3s\tremaining: 1.06s\n",
            "931:\tlearn: 1508.9696453\ttotal: 14.3s\tremaining: 1.04s\n",
            "932:\tlearn: 1508.8165043\ttotal: 14.3s\tremaining: 1.02s\n",
            "933:\tlearn: 1508.7075161\ttotal: 14.3s\tremaining: 1.01s\n",
            "934:\tlearn: 1508.6092273\ttotal: 14.3s\tremaining: 995ms\n",
            "935:\tlearn: 1508.5252568\ttotal: 14.3s\tremaining: 979ms\n",
            "936:\tlearn: 1508.4918561\ttotal: 14.3s\tremaining: 964ms\n",
            "937:\tlearn: 1508.3640637\ttotal: 14.4s\tremaining: 949ms\n",
            "938:\tlearn: 1508.2812568\ttotal: 14.4s\tremaining: 933ms\n",
            "939:\tlearn: 1508.0805694\ttotal: 14.4s\tremaining: 918ms\n",
            "940:\tlearn: 1507.9850722\ttotal: 14.4s\tremaining: 902ms\n",
            "941:\tlearn: 1507.9542812\ttotal: 14.4s\tremaining: 887ms\n",
            "942:\tlearn: 1507.9065378\ttotal: 14.4s\tremaining: 872ms\n",
            "943:\tlearn: 1507.7113573\ttotal: 14.4s\tremaining: 856ms\n",
            "944:\tlearn: 1507.5079899\ttotal: 14.4s\tremaining: 841ms\n",
            "945:\tlearn: 1507.3000042\ttotal: 14.5s\tremaining: 826ms\n",
            "946:\tlearn: 1507.0602339\ttotal: 14.5s\tremaining: 810ms\n",
            "947:\tlearn: 1506.9615701\ttotal: 14.5s\tremaining: 795ms\n",
            "948:\tlearn: 1506.8797369\ttotal: 14.5s\tremaining: 780ms\n",
            "949:\tlearn: 1506.7876232\ttotal: 14.5s\tremaining: 764ms\n",
            "950:\tlearn: 1506.6679345\ttotal: 14.5s\tremaining: 749ms\n",
            "951:\tlearn: 1506.5404366\ttotal: 14.5s\tremaining: 734ms\n",
            "952:\tlearn: 1506.4953184\ttotal: 14.6s\tremaining: 718ms\n",
            "953:\tlearn: 1506.4215858\ttotal: 14.6s\tremaining: 703ms\n",
            "954:\tlearn: 1506.2930422\ttotal: 14.6s\tremaining: 687ms\n",
            "955:\tlearn: 1506.2100811\ttotal: 14.6s\tremaining: 672ms\n",
            "956:\tlearn: 1506.1199598\ttotal: 14.6s\tremaining: 657ms\n",
            "957:\tlearn: 1505.9866520\ttotal: 14.6s\tremaining: 642ms\n",
            "958:\tlearn: 1505.8881343\ttotal: 14.6s\tremaining: 626ms\n",
            "959:\tlearn: 1505.7443673\ttotal: 14.7s\tremaining: 611ms\n",
            "960:\tlearn: 1505.6635916\ttotal: 14.7s\tremaining: 596ms\n",
            "961:\tlearn: 1505.5841159\ttotal: 14.7s\tremaining: 580ms\n",
            "962:\tlearn: 1505.4959531\ttotal: 14.7s\tremaining: 565ms\n",
            "963:\tlearn: 1505.3997898\ttotal: 14.7s\tremaining: 550ms\n",
            "964:\tlearn: 1505.2634829\ttotal: 14.7s\tremaining: 534ms\n",
            "965:\tlearn: 1505.1751662\ttotal: 14.7s\tremaining: 519ms\n",
            "966:\tlearn: 1505.0563308\ttotal: 14.8s\tremaining: 504ms\n",
            "967:\tlearn: 1505.0100565\ttotal: 14.8s\tremaining: 488ms\n",
            "968:\tlearn: 1504.9337031\ttotal: 14.8s\tremaining: 473ms\n",
            "969:\tlearn: 1504.7658226\ttotal: 14.8s\tremaining: 458ms\n",
            "970:\tlearn: 1504.6234866\ttotal: 14.8s\tremaining: 443ms\n",
            "971:\tlearn: 1504.5221999\ttotal: 14.8s\tremaining: 427ms\n",
            "972:\tlearn: 1504.4236743\ttotal: 14.8s\tremaining: 412ms\n",
            "973:\tlearn: 1504.3839480\ttotal: 14.9s\tremaining: 397ms\n",
            "974:\tlearn: 1504.2928557\ttotal: 14.9s\tremaining: 381ms\n",
            "975:\tlearn: 1504.1562840\ttotal: 14.9s\tremaining: 366ms\n",
            "976:\tlearn: 1503.9375956\ttotal: 14.9s\tremaining: 351ms\n",
            "977:\tlearn: 1503.8441413\ttotal: 14.9s\tremaining: 336ms\n",
            "978:\tlearn: 1503.7712909\ttotal: 14.9s\tremaining: 320ms\n",
            "979:\tlearn: 1503.4807974\ttotal: 14.9s\tremaining: 305ms\n",
            "980:\tlearn: 1503.3400493\ttotal: 15s\tremaining: 290ms\n",
            "981:\tlearn: 1503.2890025\ttotal: 15s\tremaining: 275ms\n",
            "982:\tlearn: 1503.1197835\ttotal: 15s\tremaining: 259ms\n",
            "983:\tlearn: 1503.0031902\ttotal: 15s\tremaining: 244ms\n",
            "984:\tlearn: 1502.9115280\ttotal: 15s\tremaining: 229ms\n",
            "985:\tlearn: 1502.8085907\ttotal: 15s\tremaining: 213ms\n",
            "986:\tlearn: 1502.6737938\ttotal: 15s\tremaining: 198ms\n",
            "987:\tlearn: 1502.5699236\ttotal: 15.1s\tremaining: 183ms\n",
            "988:\tlearn: 1502.4950652\ttotal: 15.1s\tremaining: 168ms\n",
            "989:\tlearn: 1502.4141379\ttotal: 15.1s\tremaining: 152ms\n",
            "990:\tlearn: 1502.2776262\ttotal: 15.1s\tremaining: 137ms\n",
            "991:\tlearn: 1502.2187861\ttotal: 15.1s\tremaining: 122ms\n",
            "992:\tlearn: 1502.1264637\ttotal: 15.1s\tremaining: 107ms\n",
            "993:\tlearn: 1501.9730685\ttotal: 15.1s\tremaining: 91.4ms\n",
            "994:\tlearn: 1501.8175801\ttotal: 15.2s\tremaining: 76.2ms\n",
            "995:\tlearn: 1501.7040320\ttotal: 15.2s\tremaining: 60.9ms\n",
            "996:\tlearn: 1501.6419576\ttotal: 15.2s\tremaining: 45.7ms\n",
            "997:\tlearn: 1501.4861091\ttotal: 15.2s\tremaining: 30.5ms\n",
            "998:\tlearn: 1501.4145305\ttotal: 15.2s\tremaining: 15.2ms\n",
            "999:\tlearn: 1501.3302538\ttotal: 15.2s\tremaining: 0us\n",
            "RMSE = 1576.720096332746\n",
            "CPU times: total: 52.5 s\n",
            "Wall time: 15.7 s\n"
          ]
        }
      ],
      "source": [
        "%%time\n",
        "model_c = CatBoostRegressor()\n",
        "model_c.fit(features_train, target_train)\n",
        "pred_c = model_c.predict(features_val)\n",
        "print(\"RMSE =\", mean_squared_error(target_val, pred_c) ** 0.5)"
      ]
    },
    {
      "cell_type": "markdown",
      "metadata": {
        "id": "2DPSDQ9_znTR"
      },
      "source": [
        "|Модель|Время поиска|RMSE|\n",
        "|:-|:-|:-|\n",
        "|LinearRegression|7.32 сек|2741 EUR|\n",
        "|Ridge|6 мин 33 сек|2741 EUR|\n",
        "|RandomForestRegressor|1 ч 31 мин 19 сек|1567 EUR|\n",
        "|CatBoostRegressor| - |1569 EUR|"
      ]
    },
    {
      "cell_type": "markdown",
      "metadata": {
        "id": "R6xVcUlnznTR"
      },
      "source": [
        "RandomForestRegressor и CatBoostRegressor показали лучший RMSE."
      ]
    },
    {
      "cell_type": "markdown",
      "metadata": {
        "id": "Wqc0lszSznTS"
      },
      "source": [
        "## Анализ моделей"
      ]
    },
    {
      "cell_type": "code",
      "execution_count": null,
      "metadata": {
        "id": "45iNHy4iznTS",
        "outputId": "091e7c5b-095f-4905-bcbf-7442eafa0b8e"
      },
      "outputs": [
        {
          "name": "stdout",
          "output_type": "stream",
          "text": [
            "CPU times: total: 3min 18s\n",
            "Wall time: 52.4 s\n"
          ]
        },
        {
          "data": {
            "text/html": [
              "<style>#sk-container-id-1 {color: black;background-color: white;}#sk-container-id-1 pre{padding: 0;}#sk-container-id-1 div.sk-toggleable {background-color: white;}#sk-container-id-1 label.sk-toggleable__label {cursor: pointer;display: block;width: 100%;margin-bottom: 0;padding: 0.3em;box-sizing: border-box;text-align: center;}#sk-container-id-1 label.sk-toggleable__label-arrow:before {content: \"▸\";float: left;margin-right: 0.25em;color: #696969;}#sk-container-id-1 label.sk-toggleable__label-arrow:hover:before {color: black;}#sk-container-id-1 div.sk-estimator:hover label.sk-toggleable__label-arrow:before {color: black;}#sk-container-id-1 div.sk-toggleable__content {max-height: 0;max-width: 0;overflow: hidden;text-align: left;background-color: #f0f8ff;}#sk-container-id-1 div.sk-toggleable__content pre {margin: 0.2em;color: black;border-radius: 0.25em;background-color: #f0f8ff;}#sk-container-id-1 input.sk-toggleable__control:checked~div.sk-toggleable__content {max-height: 200px;max-width: 100%;overflow: auto;}#sk-container-id-1 input.sk-toggleable__control:checked~label.sk-toggleable__label-arrow:before {content: \"▾\";}#sk-container-id-1 div.sk-estimator input.sk-toggleable__control:checked~label.sk-toggleable__label {background-color: #d4ebff;}#sk-container-id-1 div.sk-label input.sk-toggleable__control:checked~label.sk-toggleable__label {background-color: #d4ebff;}#sk-container-id-1 input.sk-hidden--visually {border: 0;clip: rect(1px 1px 1px 1px);clip: rect(1px, 1px, 1px, 1px);height: 1px;margin: -1px;overflow: hidden;padding: 0;position: absolute;width: 1px;}#sk-container-id-1 div.sk-estimator {font-family: monospace;background-color: #f0f8ff;border: 1px dotted black;border-radius: 0.25em;box-sizing: border-box;margin-bottom: 0.5em;}#sk-container-id-1 div.sk-estimator:hover {background-color: #d4ebff;}#sk-container-id-1 div.sk-parallel-item::after {content: \"\";width: 100%;border-bottom: 1px solid gray;flex-grow: 1;}#sk-container-id-1 div.sk-label:hover label.sk-toggleable__label {background-color: #d4ebff;}#sk-container-id-1 div.sk-serial::before {content: \"\";position: absolute;border-left: 1px solid gray;box-sizing: border-box;top: 0;bottom: 0;left: 50%;z-index: 0;}#sk-container-id-1 div.sk-serial {display: flex;flex-direction: column;align-items: center;background-color: white;padding-right: 0.2em;padding-left: 0.2em;position: relative;}#sk-container-id-1 div.sk-item {position: relative;z-index: 1;}#sk-container-id-1 div.sk-parallel {display: flex;align-items: stretch;justify-content: center;background-color: white;position: relative;}#sk-container-id-1 div.sk-item::before, #sk-container-id-1 div.sk-parallel-item::before {content: \"\";position: absolute;border-left: 1px solid gray;box-sizing: border-box;top: 0;bottom: 0;left: 50%;z-index: -1;}#sk-container-id-1 div.sk-parallel-item {display: flex;flex-direction: column;z-index: 1;position: relative;background-color: white;}#sk-container-id-1 div.sk-parallel-item:first-child::after {align-self: flex-end;width: 50%;}#sk-container-id-1 div.sk-parallel-item:last-child::after {align-self: flex-start;width: 50%;}#sk-container-id-1 div.sk-parallel-item:only-child::after {width: 0;}#sk-container-id-1 div.sk-dashed-wrapped {border: 1px dashed gray;margin: 0 0.4em 0.5em 0.4em;box-sizing: border-box;padding-bottom: 0.4em;background-color: white;}#sk-container-id-1 div.sk-label label {font-family: monospace;font-weight: bold;display: inline-block;line-height: 1.2em;}#sk-container-id-1 div.sk-label-container {text-align: center;}#sk-container-id-1 div.sk-container {/* jupyter's `normalize.less` sets `[hidden] { display: none; }` but bootstrap.min.css set `[hidden] { display: none !important; }` so we also need the `!important` here to be able to override the default hidden behavior on the sphinx rendered scikit-learn.org. See: https://github.com/scikit-learn/scikit-learn/issues/21755 */display: inline-block !important;position: relative;}#sk-container-id-1 div.sk-text-repr-fallback {display: none;}</style><div id=\"sk-container-id-1\" class=\"sk-top-container\"><div class=\"sk-text-repr-fallback\"><pre>RandomForestRegressor(max_depth=25, n_jobs=-1, random_state=12345)</pre><b>In a Jupyter environment, please rerun this cell to show the HTML representation or trust the notebook. <br />On GitHub, the HTML representation is unable to render, please try loading this page with nbviewer.org.</b></div><div class=\"sk-container\" hidden><div class=\"sk-item\"><div class=\"sk-estimator sk-toggleable\"><input class=\"sk-toggleable__control sk-hidden--visually\" id=\"sk-estimator-id-1\" type=\"checkbox\" checked><label for=\"sk-estimator-id-1\" class=\"sk-toggleable__label sk-toggleable__label-arrow\">RandomForestRegressor</label><div class=\"sk-toggleable__content\"><pre>RandomForestRegressor(max_depth=25, n_jobs=-1, random_state=12345)</pre></div></div></div></div></div>"
            ],
            "text/plain": [
              "RandomForestRegressor(max_depth=25, n_jobs=-1, random_state=12345)"
            ]
          },
          "execution_count": 51,
          "metadata": {},
          "output_type": "execute_result"
        }
      ],
      "source": [
        "%%time\n",
        "model_f = RandomForestRegressor(random_state=RANDOM_STATE,\n",
        "                                n_jobs=N_JOBS, max_depth=25, n_estimators=100)\n",
        "model_f.fit(features_train, target_train)"
      ]
    },
    {
      "cell_type": "code",
      "execution_count": null,
      "metadata": {
        "id": "pZH8BheWznTS",
        "outputId": "e165e285-4786-4675-8770-291b044b273e"
      },
      "outputs": [
        {
          "name": "stdout",
          "output_type": "stream",
          "text": [
            "RMSE = 1563.478786629162\n",
            "CPU times: total: 3.21 s\n",
            "Wall time: 880 ms\n"
          ]
        }
      ],
      "source": [
        "%%time\n",
        "pred_f = model_f.predict(features_val)\n",
        "print(\"RMSE =\", mean_squared_error(target_val, pred_f) ** 0.5)"
      ]
    },
    {
      "cell_type": "code",
      "execution_count": null,
      "metadata": {
        "id": "fmeoceARznTS",
        "outputId": "c77015b1-4adb-4ce9-a77f-2c29d09ac781"
      },
      "outputs": [
        {
          "name": "stdout",
          "output_type": "stream",
          "text": [
            "RMSE = 1576.720096332746\n",
            "CPU times: total: 78 ms\n",
            "Wall time: 27 ms\n"
          ]
        }
      ],
      "source": [
        "%%time\n",
        "pred_c = model_c.predict(features_val)\n",
        "print(\"RMSE =\", mean_squared_error(target_val, pred_c) ** 0.5)"
      ]
    },
    {
      "cell_type": "markdown",
      "metadata": {
        "id": "jQoQZ2BXznTS"
      },
      "source": [
        "|Модель|Время обучения|Время предсказания|RMSE|\n",
        "|:-|:-|:-|:-|\n",
        "|RandomForestRegressor|1 мин 15 сек|1.3 сек|1542 EUR|\n",
        "|CatBoostRegressor|20.3 сек|58 мс|1569 EUR|"
      ]
    },
    {
      "cell_type": "markdown",
      "metadata": {
        "id": "Hr6z29s_znTS"
      },
      "source": [
        "Считаю использование RandomForestRegressor лучшим решением. Хоть он и работает дольше чем CatBoostRegressor, но точность выше, а время предсказания 1 сек не достаточно много чтобы отказаться от этой модели."
      ]
    },
    {
      "cell_type": "markdown",
      "metadata": {
        "id": "zUoxwCORznTT"
      },
      "source": [
        "## Тестирование лучшей модели"
      ]
    },
    {
      "cell_type": "code",
      "execution_count": null,
      "metadata": {
        "id": "cwbhBhk2znTT",
        "outputId": "bd5ebd34-186e-473a-f805-ea1454b31f9a"
      },
      "outputs": [
        {
          "name": "stdout",
          "output_type": "stream",
          "text": [
            "RMSE = 1571.8832129920056\n"
          ]
        }
      ],
      "source": [
        "pred_f = model_f.predict(features_test)\n",
        "print(\"RMSE =\", mean_squared_error(target_test, pred_f) ** 0.5)"
      ]
    },
    {
      "cell_type": "markdown",
      "metadata": {
        "id": "j5i3sA40znTT"
      },
      "source": [
        "Предложенная модель показала удовлетворительные результы метрики RMSE на тестовой выборке. Таким образом предлагаю эту модель для дальнейшего определения стоимости автомобилей."
      ]
    }
  ],
  "metadata": {
    "kernelspec": {
      "display_name": "Python 3 (ipykernel)",
      "language": "python",
      "name": "python3"
    },
    "language_info": {
      "codemirror_mode": {
        "name": "ipython",
        "version": 3
      },
      "file_extension": ".py",
      "mimetype": "text/x-python",
      "name": "python",
      "nbconvert_exporter": "python",
      "pygments_lexer": "ipython3",
      "version": "3.8.16"
    },
    "toc": {
      "base_numbering": 1,
      "nav_menu": {},
      "number_sections": true,
      "sideBar": true,
      "skip_h1_title": true,
      "title_cell": "Table of Contents",
      "title_sidebar": "Contents",
      "toc_cell": false,
      "toc_position": {},
      "toc_section_display": true,
      "toc_window_display": false
    },
    "colab": {
      "provenance": []
    }
  },
  "nbformat": 4,
  "nbformat_minor": 0
}
