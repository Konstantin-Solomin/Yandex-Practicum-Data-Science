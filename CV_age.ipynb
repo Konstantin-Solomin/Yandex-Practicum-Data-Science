{
 "cells": [
  {
   "cell_type": "code",
   "execution_count": 9,
   "id": "7408b303",
   "metadata": {},
   "outputs": [],
   "source": [
    "import numpy as np\n",
    "import pandas as pd\n",
    "from tensorflow.keras.models import Sequential\n",
    "from tensorflow.keras.layers import Dense, GlobalAveragePooling2D\n",
    "from tensorflow.keras.optimizers import Adam\n",
    "from tensorflow.keras.preprocessing.image import ImageDataGenerator\n",
    "from tensorflow.keras.applications.resnet import ResNet50"
   ]
  },
  {
   "cell_type": "code",
   "execution_count": 4,
   "id": "378e948f",
   "metadata": {},
   "outputs": [],
   "source": [
    "def load_train(path):\n",
    "    labels = pd.read_csv(path+'/labels.csv')\n",
    "    \n",
    "    train_datagen = ImageDataGenerator(rescale=1./255,\n",
    "                                      validation_split = 0.25,\n",
    "                                      rotation_range=45,\n",
    "                                      horizontal_flip=True)\n",
    "    \n",
    "    train_datagen_flow = train_datagen.flow_from_dataframe(dataframe=labels,\n",
    "                                                           directory = path+'/final_files',\n",
    "                                                           x_col='file_name',\n",
    "                                                           y_col='real_age',\n",
    "                                                           target_size=(224, 224),\n",
    "                                                           batch_size=32,\n",
    "                                                           class_mode='raw',\n",
    "                                                           subset='training',\n",
    "                                                           seed=42)\n",
    "    return train_datagen_flow "
   ]
  },
  {
   "cell_type": "code",
   "execution_count": 5,
   "id": "a2a4e504",
   "metadata": {},
   "outputs": [],
   "source": [
    "def load_test(path):\n",
    "    labels = pd.read_csv(path+'/labels.csv')\n",
    "    \n",
    "    test_datagen = ImageDataGenerator(rescale=1./255,\n",
    "                                      validation_split = 0.25)\n",
    "    \n",
    "    test_datagen_flow = test_datagen.flow_from_dataframe(dataframe=labels,\n",
    "                                                         directory = path+'/final_files',\n",
    "                                                         x_col='file_name',\n",
    "                                                         y_col='real_age',\n",
    "                                                         target_size=(224, 224),\n",
    "                                                         batch_size=32,\n",
    "                                                         class_mode='raw',\n",
    "                                                         subset='validation',\n",
    "                                                         seed=42)\n",
    "    return test_datagen_flow"
   ]
  },
  {
   "cell_type": "code",
   "execution_count": 6,
   "id": "597d3810",
   "metadata": {},
   "outputs": [],
   "source": [
    "def create_model(input_shape):\n",
    "    optimizer = Adam(lr=0.00001)\n",
    "    \n",
    "    backbone = ResNet50(input_shape=input_shape,\n",
    "                        weights='imagenet',\n",
    "                        include_top=False)     \n",
    "    \n",
    "    model = Sequential()\n",
    "    model.add(backbone)\n",
    "    model.add(GlobalAveragePooling2D())\n",
    "    model.add(Dense(1, activation='relu')) \n",
    "    model.compile(optimizer=optimizer,\n",
    "                  loss='mean_squared_error',\n",
    "                  metrics=['mae'])\n",
    "    return model"
   ]
  },
  {
   "cell_type": "code",
   "execution_count": 7,
   "id": "abc6daf1",
   "metadata": {},
   "outputs": [],
   "source": [
    "def train_model(model, train_data,\n",
    "                test_data, batch_size=None, epochs=50,\n",
    "                steps_per_epoch=None, validation_steps=None):\n",
    "    \n",
    "    if steps_per_epoch is None:\n",
    "        steps_per_epoch = len(train_data)\n",
    "    if validation_steps is None:\n",
    "        validation_steps = len(test_data)\n",
    "        \n",
    "    model.fit(train_data,    \n",
    "              validation_data=test_data,\n",
    "              batch_size=batch_size, \n",
    "              epochs=epochs,\n",
    "              steps_per_epoch=steps_per_epoch,\n",
    "              validation_steps=validation_steps,\n",
    "              verbose=2)\n",
    "    return model "
   ]
  }
 ],
 "metadata": {
  "kernelspec": {
   "display_name": "Python 3 (ipykernel)",
   "language": "python",
   "name": "python3"
  },
  "language_info": {
   "codemirror_mode": {
    "name": "ipython",
    "version": 3
   },
   "file_extension": ".py",
   "mimetype": "text/x-python",
   "name": "python",
   "nbconvert_exporter": "python",
   "pygments_lexer": "ipython3",
   "version": "3.8.16"
  }
 },
 "nbformat": 4,
 "nbformat_minor": 5
}
